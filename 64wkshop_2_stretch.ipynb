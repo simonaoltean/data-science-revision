{
 "cells": [
  {
   "cell_type": "markdown",
   "metadata": {
    "id": "NPK5h-sE8V4K"
   },
   "source": [
    "## Exercise 6: Recursive change\n",
    "\n",
    "Write the greedy change making algorithm using recursion"
   ]
  },
  {
   "cell_type": "code",
   "execution_count": null,
   "metadata": {
    "colab": {
     "base_uri": "https://localhost:8080/",
     "height": 373
    },
    "executionInfo": {
     "elapsed": 24785,
     "status": "error",
     "timestamp": 1605147607055,
     "user": {
      "displayName": "Javad Khataei",
      "photoUrl": "https://lh3.googleusercontent.com/a-/AOh14Gj4OOPiD15D3oyUyLayCOaELp_6Bn0vwX5kdych=s64",
      "userId": "01623733572031019100"
     },
     "user_tz": 300
    },
    "id": "0ajlg4eI8V4L",
    "outputId": "7ae4612c-2519-438f-e685-1b3af1006190"
   },
   "outputs": [],
   "source": [
    "# exercise 6\n"
   ]
  },
  {
   "cell_type": "markdown",
   "metadata": {
    "id": "OlZeCDcs8V4P"
   },
   "source": [
    "## Exercise 7: Dynamic Programming Change making\n",
    "\n",
    "The greedy algorithm doesn't work if you have  coin denominations other than [25,10,5,1]. Write a solution that works for any coin denominations to the change making problem using dynamic programming.\n",
    "\n",
    "**Hint:** Start with making change for one cent and systematically work its way up to the amount of change we require. This guarantees us that at each step of the algorithm we already know the minimum number of coins needed to make change for any smaller amount. Keep a memoized table of results for each step working up to the amount of change you need to generate."
   ]
  },
  {
   "cell_type": "code",
   "execution_count": null,
   "metadata": {
    "id": "ImZjPpni8V4R"
   },
   "outputs": [],
   "source": [
    "# exercise 7\n"
   ]
  }
 ],
 "metadata": {
  "colab": {
   "name": "workshop knapsack.ipynb",
   "provenance": []
  },
  "kernelspec": {
   "display_name": "Python 3 (ipykernel)",
   "language": "python",
   "name": "python3"
  },
  "language_info": {
   "codemirror_mode": {
    "name": "ipython",
    "version": 3
   },
   "file_extension": ".py",
   "mimetype": "text/x-python",
   "name": "python",
   "nbconvert_exporter": "python",
   "pygments_lexer": "ipython3",
   "version": "3.9.7"
  }
 },
 "nbformat": 4,
 "nbformat_minor": 1
}
