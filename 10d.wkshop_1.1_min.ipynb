{
 "cells": [
  {
   "cell_type": "markdown",
   "metadata": {
    "id": "UXL9hpom_zZ_"
   },
   "source": [
    "# Fundamentals: Python Intro\n",
    "\n",
    "## Warm Up\n",
    "\n",
    "In the cell below, import numpy and name it 'np' and create a list with the python data types that you learned about in the pre-lecture. Name the list \"types\".\n",
    "Ex.\n",
    "\n",
    "```\n",
    "import ... as ...\n",
    "types = [...]\n",
    "```"
   ]
  },
  {
   "cell_type": "code",
   "execution_count": 44,
   "metadata": {},
   "outputs": [],
   "source": [
    "# import numpy and create the list here\n",
    "\n",
    "import numpy as np\n",
    "types = [\"0\", 2.5, 3, True, [\"Five\",\"Four\"]]"
   ]
  },
  {
   "cell_type": "code",
   "execution_count": 45,
   "metadata": {
    "id": "r7yDtDnwARh_"
   },
   "outputs": [
    {
     "name": "stdout",
     "output_type": "stream",
     "text": [
      "0\n",
      "[True, ['Five', 'Four']]\n"
     ]
    }
   ],
   "source": [
    "# Warmup 1: Call the first element in types and slice the last 2 elements. Print both results.\n",
    "print(types[0])\n",
    "print(types[-2:])"
   ]
  },
  {
   "cell_type": "code",
   "execution_count": 46,
   "metadata": {
    "id": "966SjVwbDEq0"
   },
   "outputs": [
    {
     "data": {
      "text/plain": [
       "0.625"
      ]
     },
     "execution_count": 46,
     "metadata": {},
     "output_type": "execute_result"
    }
   ],
   "source": [
    "# Warmup 2: Divide by 4, the second element in \"types\". \n",
    "types[1]/4"
   ]
  },
  {
   "cell_type": "markdown",
   "metadata": {
    "id": "rVDgBSgQ9QZz"
   },
   "source": [
    "In this text cell, explain why or why not the code was able to execute. (Your explanation does _not_ need to be very detailed.)\n",
    "\n",
    "The code was able to execute because the data type of 2.5 was float, which supports division."
   ]
  },
  {
   "cell_type": "markdown",
   "metadata": {
    "id": "TJ1OKy5fDVd1"
   },
   "source": [
    "## Exercise 1: Creating Data Containers\n",
    "\n",
    "Create a list, a set, a tuple and an array. \n",
    "\n",
    "- The list (in order) should have\n",
    "  - any 2 numbers as integers\n",
    "  - any 2 numbers as floating point numbers\n",
    "  - 2 of your favourite music artists as strings\n",
    "  - 6 elements total. Name this list **'First'** and print it. \n",
    "- The Set (in order) should have\n",
    "  - 1 even number less than 20\n",
    "  - 3 of the first letters of the alphabet as strings in seperate entries.\n",
    "  - 4 elements total. Name this set **'Second'** and print it.\n",
    "- The Tuple (in order) should have\n",
    "  - 6 negative numbers.\n",
    "  - 6 elements total. Name this Tuple **'Third'** and print it.\n",
    "- The array (in order) should have\n",
    "  - the same 6 elements as the tuple but these numbers should be positive.\n",
    "  - 6 elements total. Name this array **'Fourth'** and print it."
   ]
  },
  {
   "cell_type": "code",
   "execution_count": 47,
   "metadata": {
    "id": "rhW-sun-HwFI"
   },
   "outputs": [
    {
     "name": "stdout",
     "output_type": "stream",
     "text": [
      "[4, 66, 3.6, 5.0, 'Hana', 'KLOUD']\n"
     ]
    }
   ],
   "source": [
    "# The list\n",
    "First = [4, 66, 3.6, 5., \"Hana\", \"KLOUD\"]\n",
    "print(First)"
   ]
  },
  {
   "cell_type": "code",
   "execution_count": 48,
   "metadata": {
    "id": "1yKK4z0rHwSA"
   },
   "outputs": [
    {
     "name": "stdout",
     "output_type": "stream",
     "text": [
      "{'c', 12, 'a', 'b'}\n"
     ]
    }
   ],
   "source": [
    "# The set\n",
    "Second = {12, \"a\", \"b\", \"c\"}\n",
    "print(Second)"
   ]
  },
  {
   "cell_type": "code",
   "execution_count": 49,
   "metadata": {},
   "outputs": [
    {
     "name": "stdout",
     "output_type": "stream",
     "text": [
      "(-1, -3, -5, -4, -44, -22.4)\n"
     ]
    }
   ],
   "source": [
    "# The tuple\n",
    "Third = (-1, -3, -5, -4, -44, -22.4)\n",
    "print(Third)"
   ]
  },
  {
   "cell_type": "code",
   "execution_count": 50,
   "metadata": {},
   "outputs": [
    {
     "name": "stdout",
     "output_type": "stream",
     "text": [
      "[ 1.   3.   5.   4.  44.  22.4]\n"
     ]
    }
   ],
   "source": [
    "# The array\n",
    "Fourth = np.array([1, 3, 5, 4, 44, 22.4])\n",
    "print(Fourth)"
   ]
  },
  {
   "cell_type": "code",
   "execution_count": 51,
   "metadata": {
    "id": "PmeI6k0DLIPD"
   },
   "outputs": [
    {
     "name": "stdout",
     "output_type": "stream",
     "text": [
      "66.0\n"
     ]
    }
   ],
   "source": [
    "# Add the second element of 'First', and the last elements of 'Third' and 'Fourth'. Print the result.\n",
    "print(First[1] + Third[-1] + Fourth[-1])"
   ]
  },
  {
   "cell_type": "code",
   "execution_count": 52,
   "metadata": {
    "id": "Iw6KZ_oxLvJK"
   },
   "outputs": [
    {
     "name": "stdout",
     "output_type": "stream",
     "text": [
      "[4, 66, 3.6, 5.0, 'Hana', 'KLOUD', [4.0, 44.0, 22.4]]\n"
     ]
    }
   ],
   "source": [
    "# Slice the last 3 elements of 'Fourth' and append them to the list 'First'. Print the result.\n",
    "z = list(Fourth[-3:])\n",
    "First.append(z)\n",
    "print(First)"
   ]
  },
  {
   "cell_type": "markdown",
   "metadata": {
    "id": "RX55PeiwNNz7"
   },
   "source": [
    "## Exercise 2: A Dictionary\n",
    "\n",
    "Create a dictionary with the following keys, 'Name', 'Year', 'Music' and 'Food'. The values associated with each key (in order) should be your name, the current year, you favourite genre of music and one of your favourite foods. Name the dictionary 'Me' and print it. "
   ]
  },
  {
   "cell_type": "code",
   "execution_count": 53,
   "metadata": {
    "id": "TLD8x4OaPhNI"
   },
   "outputs": [
    {
     "name": "stdout",
     "output_type": "stream",
     "text": [
      "{'Name': 'Simona', 'Year': '2022', 'Music': 'Techno', 'Food': 'Pasta'}\n"
     ]
    }
   ],
   "source": [
    "# your dictionary here\n",
    "Me = {'Name': 'Simona', 'Year': '2022', 'Music': 'Techno', 'Food': 'Pasta'}\n",
    "print(Me)"
   ]
  },
  {
   "cell_type": "code",
   "execution_count": 54,
   "metadata": {
    "id": "So_1ge7KPhkP"
   },
   "outputs": [
    {
     "name": "stdout",
     "output_type": "stream",
     "text": [
      "{'Name': 'Simona', 'Year': '2022', 'Music': 'Techno', 'Food': 'Sushi'}\n"
     ]
    }
   ],
   "source": [
    "# Replace the value associated with 'Food' to another one of your favourite foods. Print the updated dictionary.\n",
    "Me['Food']='Sushi'\n",
    "print(Me)"
   ]
  },
  {
   "cell_type": "markdown",
   "metadata": {
    "id": "PHorHCyjC3F9"
   },
   "source": [
    "## Exercise 3: An \"original\" List\n",
    "\n",
    "- Create a list with entries 1, 3, 2, 1, 5, 3, 5, 1, 4 and name it 'original'.\n",
    "- Create another list called 'unique' that only contains unique numbers from original.\n",
    "\n",
    "Example:\n",
    "\n",
    "```\n",
    "Input\n",
    "[1, 2, 3, 1]\n",
    "\n",
    "Output\n",
    "[1, 2, 3]\n",
    "```\n",
    "**Hint:** Think about the properties of a set from lecture.\n"
   ]
  },
  {
   "cell_type": "code",
   "execution_count": 55,
   "metadata": {
    "id": "cPWYXHe1C1hX"
   },
   "outputs": [
    {
     "name": "stdout",
     "output_type": "stream",
     "text": [
      "[1, 3, 2, 1, 5, 3, 5, 1, 4]\n"
     ]
    }
   ],
   "source": [
    "# List 1\n",
    "original = [1, 3, 2, 1, 5, 3, 5, 1, 4]\n",
    "print(original)"
   ]
  },
  {
   "cell_type": "code",
   "execution_count": 56,
   "metadata": {},
   "outputs": [
    {
     "name": "stdout",
     "output_type": "stream",
     "text": [
      "[1, 2, 3, 4, 5]\n"
     ]
    }
   ],
   "source": [
    "# List 2\n",
    "unique = list(set(original))\n",
    "print(unique)"
   ]
  },
  {
   "cell_type": "markdown",
   "metadata": {
    "id": "_cVTBnphH84j"
   },
   "source": [
    "## Exercise 4: Do the Math!\n",
    "\n",
    "Call the last element of the array \"Fourth\" that you created above. Raise this element to the second power and add it to the second element of the list \"First\"."
   ]
  },
  {
   "cell_type": "code",
   "execution_count": 57,
   "metadata": {
    "id": "Ik8NnTQ9VSeD"
   },
   "outputs": [
    {
     "data": {
      "text/plain": [
       "567.76"
      ]
     },
     "execution_count": 57,
     "metadata": {},
     "output_type": "execute_result"
    }
   ],
   "source": [
    "# do the math here...\n",
    "Fourth[-1] ** 2 + First[1]"
   ]
  },
  {
   "cell_type": "code",
   "execution_count": 58,
   "metadata": {
    "id": "4HOSQvJDVTEE"
   },
   "outputs": [
    {
     "data": {
      "text/plain": [
       "-70.4"
      ]
     },
     "execution_count": 58,
     "metadata": {},
     "output_type": "execute_result"
    }
   ],
   "source": [
    "# Add the last three elements of \"Third\". \n",
    "sum(Third[-3:])"
   ]
  },
  {
   "cell_type": "markdown",
   "metadata": {
    "id": "lXS3i_GRVmk5"
   },
   "source": [
    "## Exercise 5: Conversion\n",
    "\n",
    "- Convert the tuple, \"Third\" to an array.\n",
    "- Double all the elements in \"Third\"\n",
    "- Add the elements in this array to the elements in \"Fourth\".\n",
    "\n",
    "To do this, use only 1 arithmetic statement. Store this result as \"Fifth\" and print it.\n",
    "\n",
    "**Hint** Answer should look like this. \n",
    "\n",
    "```\n",
    "Fifth = 2*___(____) + _____\n",
    "print (Fifth)\n",
    "```"
   ]
  },
  {
   "cell_type": "code",
   "execution_count": 59,
   "metadata": {
    "id": "5T35jbY3YL04"
   },
   "outputs": [
    {
     "name": "stdout",
     "output_type": "stream",
     "text": [
      "[ -1.   -3.   -5.   -4.  -44.  -22.4]\n"
     ]
    }
   ],
   "source": [
    "# conversion here\n",
    "Fifth = 2 * np.array(list(Third)) + Fourth\n",
    "print(Fifth)"
   ]
  },
  {
   "cell_type": "markdown",
   "metadata": {
    "id": "afaH5uSsJFeD"
   },
   "source": [
    "## Exercise 6: Conditionals\n",
    "\n",
    "Convert \"Fifth\" to a tuple and use a print statement to see if Fifth is equal to \"Third\"."
   ]
  },
  {
   "cell_type": "code",
   "execution_count": 60,
   "metadata": {
    "id": "x_9YDynWaAUz"
   },
   "outputs": [
    {
     "name": "stdout",
     "output_type": "stream",
     "text": [
      "True\n"
     ]
    }
   ],
   "source": [
    "# conditionals here\n",
    "Fifth = tuple(Fifth)\n",
    "print(Fifth == Third)"
   ]
  }
 ],
 "metadata": {
  "colab": {
   "collapsed_sections": [],
   "name": "Workshop_Data_Types.ipynb",
   "provenance": []
  },
  "kernelspec": {
   "display_name": "Python 3 (ipykernel)",
   "language": "python",
   "name": "python3"
  },
  "language_info": {
   "codemirror_mode": {
    "name": "ipython",
    "version": 3
   },
   "file_extension": ".py",
   "mimetype": "text/x-python",
   "name": "python",
   "nbconvert_exporter": "python",
   "pygments_lexer": "ipython3",
   "version": "3.9.13"
  },
  "metadata": {
   "interpreter": {
    "hash": "b8bdd4e700647ba2b08c59e5df8b7da1dcf50a218bcd4c1bcd9b3dc92e8788e5"
   }
  }
 },
 "nbformat": 4,
 "nbformat_minor": 1
}
