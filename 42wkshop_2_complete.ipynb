{
 "cells": [
  {
   "cell_type": "markdown",
   "metadata": {},
   "source": [
    "## Exercise 1: Recipe Database\n",
    "\n",
    "### 1.1 \n",
    "\n",
    "Load the JSON recipes database provided in the data folder. (It has been zipped to save space.)\n",
    "\n",
    "How many of the recipes are for breakfast food? \n",
    "\n",
    "Hint: The `description` would contain the work \"breakfast\"."
   ]
  },
  {
   "cell_type": "code",
   "execution_count": 1,
   "metadata": {},
   "outputs": [
    {
     "name": "stdout",
     "output_type": "stream",
     "text": [
      "There are 3442 breakfast recipes out of 173278 recipes.\n"
     ]
    },
    {
     "data": {
      "text/plain": [
       "3442"
      ]
     },
     "execution_count": 1,
     "metadata": {},
     "output_type": "execute_result"
    }
   ],
   "source": [
    "# exercise 1.1\n",
    "\n",
    "import pandas as pd\n",
    "recipes = pd.read_json(\"C:/Users/Simona/Desktop/Data Analysis/concordia-bootcamp/ds-data-visualization-P2-main/ds-data-visualization-P2-main/data/recipes/recipe.json\", compression='infer', lines = True) \n",
    "# - please read-up on the params. It will be important for future workshops\n",
    "\n",
    "recipes_nonnan = recipes.dropna(subset='description')\n",
    "print(f\"There are {len(recipes_nonnan[recipes_nonnan['description'].str.contains('breakfast')])} breakfast recipes out of {len(recipes)} recipes.\")\n",
    "\n",
    "len(recipes_nonnan[recipes_nonnan['description'].str.contains('breakfast')])"
   ]
  },
  {
   "cell_type": "markdown",
   "metadata": {},
   "source": [
    "### 1.2 A simple recipe recommender\n",
    "\n",
    "Let's build a recipe recommender: given a list of basic ingredients, find a recipe that uses all those ingredients.\n",
    "\n",
    "Here is the list of ingredients that can be asked for:\n",
    "\n",
    "```\n",
    "['salt', 'pepper', 'oregano', 'sage', 'parsley',\n",
    " 'rosemary', 'tarragon', 'thyme', 'paprika', 'cumin']\n",
    "```\n",
    "\n",
    "**Hint:** Build a new column for each of the ingredients that indicates whether that ingredient is in the recipe.\n",
    "\n",
    "#### Example\n",
    "\n",
    "```\n",
    "recommend_ingredients([\"parsley\", \"paprika\", \"tarragon\"], df)\n",
    "\n",
    "result: \n",
    "# The rows where these 3 ingredients are in the recipe\n",
    "[2069, 74964, 93768, 113926, 137686, 140530, 158475, 158486, 163175, 165243]\n",
    "```"
   ]
  },
  {
   "cell_type": "code",
   "execution_count": 2,
   "metadata": {},
   "outputs": [
    {
     "data": {
      "text/plain": [
       "Index(['_id', 'name', 'ingredients', 'url', 'image', 'ts', 'cookTime',\n",
       "       'source', 'recipeYield', 'datePublished', 'prepTime', 'description',\n",
       "       'totalTime', 'creator', 'recipeCategory', 'dateModified',\n",
       "       'recipeInstructions'],\n",
       "      dtype='object')"
      ]
     },
     "execution_count": 2,
     "metadata": {},
     "output_type": "execute_result"
    }
   ],
   "source": [
    "recipes.columns"
   ]
  },
  {
   "cell_type": "code",
   "execution_count": 3,
   "metadata": {},
   "outputs": [
    {
     "data": {
      "text/html": [
       "<div>\n",
       "<style scoped>\n",
       "    .dataframe tbody tr th:only-of-type {\n",
       "        vertical-align: middle;\n",
       "    }\n",
       "\n",
       "    .dataframe tbody tr th {\n",
       "        vertical-align: top;\n",
       "    }\n",
       "\n",
       "    .dataframe thead th {\n",
       "        text-align: right;\n",
       "    }\n",
       "</style>\n",
       "<table border=\"1\" class=\"dataframe\">\n",
       "  <thead>\n",
       "    <tr style=\"text-align: right;\">\n",
       "      <th></th>\n",
       "      <th>_id</th>\n",
       "      <th>name</th>\n",
       "      <th>ingredients</th>\n",
       "      <th>url</th>\n",
       "      <th>image</th>\n",
       "      <th>ts</th>\n",
       "      <th>cookTime</th>\n",
       "      <th>source</th>\n",
       "      <th>recipeYield</th>\n",
       "      <th>datePublished</th>\n",
       "      <th>prepTime</th>\n",
       "      <th>description</th>\n",
       "      <th>totalTime</th>\n",
       "      <th>creator</th>\n",
       "      <th>recipeCategory</th>\n",
       "      <th>dateModified</th>\n",
       "      <th>recipeInstructions</th>\n",
       "    </tr>\n",
       "  </thead>\n",
       "  <tbody>\n",
       "    <tr>\n",
       "      <th>25224</th>\n",
       "      <td>{'$oid': '5161351596cc620d26155ee5'}</td>\n",
       "      <td>Chicken, Broccolini, Tomato, &amp;amp;  Artichoke ...</td>\n",
       "      <td>2 whole 2 whole\\n3 Tablespoons 3 Tablespoons\\n...</td>\n",
       "      <td>http://tastykitchen.com/recipes/main-courses/c...</td>\n",
       "      <td>http://static.tastykitchen.com/recipes/files/2...</td>\n",
       "      <td>{'$date': 1365325077917}</td>\n",
       "      <td>PT12M</td>\n",
       "      <td>tastykitchen</td>\n",
       "      <td>4</td>\n",
       "      <td>2012-08-28</td>\n",
       "      <td>PT10M</td>\n",
       "      <td>What a great way to inhale, I mean incorporate...</td>\n",
       "      <td>NaN</td>\n",
       "      <td>NaN</td>\n",
       "      <td>NaN</td>\n",
       "      <td>NaN</td>\n",
       "      <td>NaN</td>\n",
       "    </tr>\n",
       "    <tr>\n",
       "      <th>26122</th>\n",
       "      <td>{'$oid': '51613bd296cc620d26156267'}</td>\n",
       "      <td>Bracioli (Stuffed Round Steak)</td>\n",
       "      <td>4 pieces 4 pieces\\n4 Tablespoons 4 Tablespoons...</td>\n",
       "      <td>http://tastykitchen.com/recipes/main-courses/b...</td>\n",
       "      <td>http://static.tastykitchen.com/recipes/files/2...</td>\n",
       "      <td>{'$date': 1365326802646}</td>\n",
       "      <td>PT2H</td>\n",
       "      <td>tastykitchen</td>\n",
       "      <td>3</td>\n",
       "      <td>2010-09-16</td>\n",
       "      <td>PT5M</td>\n",
       "      <td>This recipe is a piece of my childhood, taken ...</td>\n",
       "      <td>NaN</td>\n",
       "      <td>NaN</td>\n",
       "      <td>NaN</td>\n",
       "      <td>NaN</td>\n",
       "      <td>NaN</td>\n",
       "    </tr>\n",
       "    <tr>\n",
       "      <th>147156</th>\n",
       "      <td>{'$oid': '51ff32d196cc62205dfbbae2'}</td>\n",
       "      <td>Blender Mayonnaise</td>\n",
       "      <td>\\n\\n\\n\\n\\n</td>\n",
       "      <td>http://www.epicurious.com/recipes/food/views/B...</td>\n",
       "      <td>http://www.epicurious.com/images/recipesmenus/...</td>\n",
       "      <td>{'$date': 1375679185014}</td>\n",
       "      <td>NaN</td>\n",
       "      <td>epicurious</td>\n",
       "      <td>Makes about 1 cup</td>\n",
       "      <td>None</td>\n",
       "      <td>NaN</td>\n",
       "      <td>NaN</td>\n",
       "      <td>NaN</td>\n",
       "      <td>NaN</td>\n",
       "      <td>NaN</td>\n",
       "      <td>NaN</td>\n",
       "      <td>NaN</td>\n",
       "    </tr>\n",
       "  </tbody>\n",
       "</table>\n",
       "</div>"
      ],
      "text/plain": [
       "                                         _id  \\\n",
       "25224   {'$oid': '5161351596cc620d26155ee5'}   \n",
       "26122   {'$oid': '51613bd296cc620d26156267'}   \n",
       "147156  {'$oid': '51ff32d196cc62205dfbbae2'}   \n",
       "\n",
       "                                                     name  \\\n",
       "25224   Chicken, Broccolini, Tomato, &amp;  Artichoke ...   \n",
       "26122                      Bracioli (Stuffed Round Steak)   \n",
       "147156                                 Blender Mayonnaise   \n",
       "\n",
       "                                              ingredients  \\\n",
       "25224   2 whole 2 whole\\n3 Tablespoons 3 Tablespoons\\n...   \n",
       "26122   4 pieces 4 pieces\\n4 Tablespoons 4 Tablespoons...   \n",
       "147156                                         \\n\\n\\n\\n\\n   \n",
       "\n",
       "                                                      url  \\\n",
       "25224   http://tastykitchen.com/recipes/main-courses/c...   \n",
       "26122   http://tastykitchen.com/recipes/main-courses/b...   \n",
       "147156  http://www.epicurious.com/recipes/food/views/B...   \n",
       "\n",
       "                                                    image  \\\n",
       "25224   http://static.tastykitchen.com/recipes/files/2...   \n",
       "26122   http://static.tastykitchen.com/recipes/files/2...   \n",
       "147156  http://www.epicurious.com/images/recipesmenus/...   \n",
       "\n",
       "                              ts cookTime        source        recipeYield  \\\n",
       "25224   {'$date': 1365325077917}    PT12M  tastykitchen                  4   \n",
       "26122   {'$date': 1365326802646}     PT2H  tastykitchen                  3   \n",
       "147156  {'$date': 1375679185014}      NaN    epicurious  Makes about 1 cup   \n",
       "\n",
       "       datePublished prepTime  \\\n",
       "25224     2012-08-28    PT10M   \n",
       "26122     2010-09-16     PT5M   \n",
       "147156          None      NaN   \n",
       "\n",
       "                                              description totalTime creator  \\\n",
       "25224   What a great way to inhale, I mean incorporate...       NaN     NaN   \n",
       "26122   This recipe is a piece of my childhood, taken ...       NaN     NaN   \n",
       "147156                                                NaN       NaN     NaN   \n",
       "\n",
       "       recipeCategory dateModified recipeInstructions  \n",
       "25224             NaN          NaN                NaN  \n",
       "26122             NaN          NaN                NaN  \n",
       "147156            NaN          NaN                NaN  "
      ]
     },
     "execution_count": 3,
     "metadata": {},
     "output_type": "execute_result"
    }
   ],
   "source": [
    "recipes.sample(3)"
   ]
  },
  {
   "cell_type": "code",
   "execution_count": 4,
   "metadata": {},
   "outputs": [
    {
     "name": "stdout",
     "output_type": "stream",
     "text": [
      "The rows where these 3 ingredients are in the recipe:\n",
      "[2069, 74964, 93768, 113926, 137686, 140530, 158475, 158486, 163175, 165243]\n",
      "The rows where these 6 ingredients are in the recipe:\n",
      "[103293, 122613, 126285, 127279]\n",
      "The rows where these 7 ingredients are in the recipe:\n",
      "[142515]\n"
     ]
    }
   ],
   "source": [
    "# exercise 1.2\n",
    "\n",
    "def recommend_ingredients(ings):\n",
    "    recipes_ing = recipes.dropna(subset='ingredients')\n",
    "    for ingredient in ings:\n",
    "        recipes_ing[ingredient] = recipes_ing['ingredients'].str.contains(ingredient)\n",
    "        recipes_ing = recipes_ing[recipes_ing[ingredient]==True]\n",
    "    return print(f\"The rows where these {len(ings)} ingredients are in the recipe:\\n{recipes_ing.index.tolist()}\")\n",
    "\n",
    "recommend_ingredients([\"parsley\", \"paprika\", \"tarragon\"])\n",
    "recommend_ingredients(['salt', 'pepper', 'oregano', 'sage', 'parsley','paprika'])\n",
    "recommend_ingredients(['salt', 'pepper', 'oregano', 'sage', 'parsley','rosemary', 'tarragon'])"
   ]
  },
  {
   "cell_type": "markdown",
   "metadata": {},
   "source": [
    "## Exercise 2: Movies!\n",
    "\n",
    "Look at this [Movies Dataset](https://www.kaggle.com/rounakbanik/the-movies-dataset) on Kaggle. Download it and use it for this question. \n",
    "\n",
    "The dataset is made up of several tables. The tables have common columns (`id` and `movie_id`) around which you can use to merge and join tables.\n",
    "\n",
    "Your task is to find **The best director** in terms of average ratings of his movies. This can be from the `ratings` or `ratings_small` table, or simply the vote average in the `metadata` table. The director can be found in the `cast` table.\n",
    "\n",
    "**💪You will have to use all of your skills to get this done, between using groupbys and merging multiple tables together.**"
   ]
  },
  {
   "cell_type": "code",
   "execution_count": 5,
   "metadata": {},
   "outputs": [],
   "source": [
    "# exercise 2\n",
    "\n",
    "# Use Pandas to assign CSV to each of the DataFrames. Will make it easier to organize your data\n",
    "\n",
    "metadata_df = pd.read_csv(\"C:/Users/Simona/Desktop/Data Analysis/concordia-bootcamp/ds-data-visualization-P2-main/ds-data-visualization-P2-main/data/archive/movies_metadata.csv\", low_memory=False)\n",
    "credits_df = pd.read_csv(\"C:/Users/Simona/Desktop/Data Analysis/concordia-bootcamp/ds-data-visualization-P2-main/ds-data-visualization-P2-main/data/archive/credits.csv\")\n",
    "ratings_small_df = pd.read_csv(\"C:/Users/Simona/Desktop/Data Analysis/concordia-bootcamp/ds-data-visualization-P2-main/ds-data-visualization-P2-main/data/archive/ratings_small.csv\")\n",
    "ratings_df = pd.read_csv(\"C:/Users/Simona/Desktop/Data Analysis/concordia-bootcamp/ds-data-visualization-P2-main/ds-data-visualization-P2-main/data/archive/ratings.csv\")"
   ]
  },
  {
   "cell_type": "code",
   "execution_count": 6,
   "metadata": {},
   "outputs": [
    {
     "name": "stdout",
     "output_type": "stream",
     "text": [
      "Metadata: ['adult', 'belongs_to_collection', 'budget', 'genres', 'homepage', 'id', 'imdb_id', 'original_language', 'original_title', 'overview', 'popularity', 'poster_path', 'production_companies', 'production_countries', 'release_date', 'revenue', 'runtime', 'spoken_languages', 'status', 'tagline', 'title', 'video', 'vote_average', 'vote_count'], \n",
      "\n",
      "Credits ['cast', 'crew', 'id'], \n",
      "\n",
      "Ratings small ['userId', 'movieId', 'rating', 'timestamp'], \n",
      "\n",
      "Ratings ['userId', 'movieId', 'rating', 'timestamp']\n"
     ]
    }
   ],
   "source": [
    "print(f\"Metadata: {list(metadata_df.columns)}, \\n\\nCredits {list(credits_df.columns)}, \\n\\nRatings small {list(ratings_small_df.columns)}, \\n\\nRatings {list(ratings_df.columns)}\")"
   ]
  },
  {
   "cell_type": "code",
   "execution_count": 7,
   "metadata": {},
   "outputs": [
    {
     "name": "stdout",
     "output_type": "stream",
     "text": [
      "credits_df 45476\n",
      "metadata_df 45466\n",
      "ratings_small_df 100004\n",
      "ratings_df 26024289\n"
     ]
    }
   ],
   "source": [
    "import ast\n",
    "\n",
    "print(f\"credits_df {len(credits_df)}\")\n",
    "print(f\"metadata_df {len(metadata_df)}\")\n",
    "print(f\"ratings_small_df {len(ratings_small_df)}\")\n",
    "print(f\"ratings_df {len(ratings_df)}\")"
   ]
  },
  {
   "cell_type": "code",
   "execution_count": 149,
   "metadata": {},
   "outputs": [
    {
     "name": "stderr",
     "output_type": "stream",
     "text": [
      "C:\\Users\\Simona\\AppData\\Local\\Temp\\ipykernel_9624\\1989623659.py:2: SettingWithCopyWarning: \n",
      "A value is trying to be set on a copy of a slice from a DataFrame.\n",
      "Try using .loc[row_indexer,col_indexer] = value instead\n",
      "\n",
      "See the caveats in the documentation: https://pandas.pydata.org/pandas-docs/stable/user_guide/indexing.html#returning-a-view-versus-a-copy\n",
      "  high_metadata_df['id'] = pd.to_numeric(high_metadata_df['id'])\n"
     ]
    },
    {
     "data": {
      "text/html": [
       "<div>\n",
       "<style scoped>\n",
       "    .dataframe tbody tr th:only-of-type {\n",
       "        vertical-align: middle;\n",
       "    }\n",
       "\n",
       "    .dataframe tbody tr th {\n",
       "        vertical-align: top;\n",
       "    }\n",
       "\n",
       "    .dataframe thead th {\n",
       "        text-align: right;\n",
       "    }\n",
       "</style>\n",
       "<table border=\"1\" class=\"dataframe\">\n",
       "  <thead>\n",
       "    <tr style=\"text-align: right;\">\n",
       "      <th></th>\n",
       "      <th>id</th>\n",
       "      <th>vote_average</th>\n",
       "    </tr>\n",
       "  </thead>\n",
       "  <tbody>\n",
       "    <tr>\n",
       "      <th>186</th>\n",
       "      <td>58372</td>\n",
       "      <td>10.0</td>\n",
       "    </tr>\n",
       "    <tr>\n",
       "      <th>394</th>\n",
       "      <td>278939</td>\n",
       "      <td>10.0</td>\n",
       "    </tr>\n",
       "    <tr>\n",
       "      <th>706</th>\n",
       "      <td>73183</td>\n",
       "      <td>10.0</td>\n",
       "    </tr>\n",
       "    <tr>\n",
       "      <th>738</th>\n",
       "      <td>255546</td>\n",
       "      <td>10.0</td>\n",
       "    </tr>\n",
       "    <tr>\n",
       "      <th>1634</th>\n",
       "      <td>64562</td>\n",
       "      <td>10.0</td>\n",
       "    </tr>\n",
       "    <tr>\n",
       "      <th>...</th>\n",
       "      <td>...</td>\n",
       "      <td>...</td>\n",
       "    </tr>\n",
       "    <tr>\n",
       "      <th>45047</th>\n",
       "      <td>405446</td>\n",
       "      <td>10.0</td>\n",
       "    </tr>\n",
       "    <tr>\n",
       "      <th>45198</th>\n",
       "      <td>412669</td>\n",
       "      <td>10.0</td>\n",
       "    </tr>\n",
       "    <tr>\n",
       "      <th>45251</th>\n",
       "      <td>28469</td>\n",
       "      <td>10.0</td>\n",
       "    </tr>\n",
       "    <tr>\n",
       "      <th>45362</th>\n",
       "      <td>173874</td>\n",
       "      <td>10.0</td>\n",
       "    </tr>\n",
       "    <tr>\n",
       "      <th>45371</th>\n",
       "      <td>460135</td>\n",
       "      <td>10.0</td>\n",
       "    </tr>\n",
       "  </tbody>\n",
       "</table>\n",
       "<p>190 rows × 2 columns</p>\n",
       "</div>"
      ],
      "text/plain": [
       "           id  vote_average\n",
       "186     58372          10.0\n",
       "394    278939          10.0\n",
       "706     73183          10.0\n",
       "738    255546          10.0\n",
       "1634    64562          10.0\n",
       "...       ...           ...\n",
       "45047  405446          10.0\n",
       "45198  412669          10.0\n",
       "45251   28469          10.0\n",
       "45362  173874          10.0\n",
       "45371  460135          10.0\n",
       "\n",
       "[190 rows x 2 columns]"
      ]
     },
     "execution_count": 149,
     "metadata": {},
     "output_type": "execute_result"
    }
   ],
   "source": [
    "high_metadata_df = metadata_df[metadata_df['vote_average']==metadata_df['vote_average'].max()]\n",
    "high_metadata_df['id'] = pd.to_numeric(high_metadata_df['id'])\n",
    "high_metadata_df = high_metadata_df[['id','vote_average']]\n",
    "high_metadata_df"
   ]
  },
  {
   "cell_type": "code",
   "execution_count": 150,
   "metadata": {},
   "outputs": [
    {
     "data": {
      "text/html": [
       "<div>\n",
       "<style scoped>\n",
       "    .dataframe tbody tr th:only-of-type {\n",
       "        vertical-align: middle;\n",
       "    }\n",
       "\n",
       "    .dataframe tbody tr th {\n",
       "        vertical-align: top;\n",
       "    }\n",
       "\n",
       "    .dataframe thead th {\n",
       "        text-align: right;\n",
       "    }\n",
       "</style>\n",
       "<table border=\"1\" class=\"dataframe\">\n",
       "  <thead>\n",
       "    <tr style=\"text-align: right;\">\n",
       "      <th></th>\n",
       "      <th>id</th>\n",
       "      <th>rating</th>\n",
       "    </tr>\n",
       "  </thead>\n",
       "  <tbody>\n",
       "    <tr>\n",
       "      <th>50</th>\n",
       "      <td>53</td>\n",
       "      <td>5.0</td>\n",
       "    </tr>\n",
       "    <tr>\n",
       "      <th>161</th>\n",
       "      <td>183</td>\n",
       "      <td>5.0</td>\n",
       "    </tr>\n",
       "    <tr>\n",
       "      <th>269</th>\n",
       "      <td>301</td>\n",
       "      <td>5.0</td>\n",
       "    </tr>\n",
       "    <tr>\n",
       "      <th>277</th>\n",
       "      <td>309</td>\n",
       "      <td>5.0</td>\n",
       "    </tr>\n",
       "    <tr>\n",
       "      <th>501</th>\n",
       "      <td>559</td>\n",
       "      <td>5.0</td>\n",
       "    </tr>\n",
       "    <tr>\n",
       "      <th>...</th>\n",
       "      <td>...</td>\n",
       "      <td>...</td>\n",
       "    </tr>\n",
       "    <tr>\n",
       "      <th>9027</th>\n",
       "      <td>156025</td>\n",
       "      <td>5.0</td>\n",
       "    </tr>\n",
       "    <tr>\n",
       "      <th>9053</th>\n",
       "      <td>160590</td>\n",
       "      <td>5.0</td>\n",
       "    </tr>\n",
       "    <tr>\n",
       "      <th>9061</th>\n",
       "      <td>161944</td>\n",
       "      <td>5.0</td>\n",
       "    </tr>\n",
       "    <tr>\n",
       "      <th>9063</th>\n",
       "      <td>162542</td>\n",
       "      <td>5.0</td>\n",
       "    </tr>\n",
       "    <tr>\n",
       "      <th>9065</th>\n",
       "      <td>163949</td>\n",
       "      <td>5.0</td>\n",
       "    </tr>\n",
       "  </tbody>\n",
       "</table>\n",
       "<p>315 rows × 2 columns</p>\n",
       "</div>"
      ],
      "text/plain": [
       "          id  rating\n",
       "50        53     5.0\n",
       "161      183     5.0\n",
       "269      301     5.0\n",
       "277      309     5.0\n",
       "501      559     5.0\n",
       "...      ...     ...\n",
       "9027  156025     5.0\n",
       "9053  160590     5.0\n",
       "9061  161944     5.0\n",
       "9063  162542     5.0\n",
       "9065  163949     5.0\n",
       "\n",
       "[315 rows x 2 columns]"
      ]
     },
     "execution_count": 150,
     "metadata": {},
     "output_type": "execute_result"
    }
   ],
   "source": [
    "new_ratings_small_df = ratings_small_df.groupby('movieId', as_index=False).mean()\n",
    "high_ratings_small_df = new_ratings_small_df[new_ratings_small_df['rating']==new_ratings_small_df['rating'].max()]\n",
    "high_ratings_small_df = high_ratings_small_df.rename({'movieId':'id'}, axis=1)\n",
    "high_ratings_small_df['id'] = pd.to_numeric(high_ratings_small_df['id'])\n",
    "high_ratings_small_df = high_ratings_small_df[['id','rating']]\n",
    "high_ratings_small_df"
   ]
  },
  {
   "cell_type": "code",
   "execution_count": 151,
   "metadata": {},
   "outputs": [
    {
     "data": {
      "text/html": [
       "<div>\n",
       "<style scoped>\n",
       "    .dataframe tbody tr th:only-of-type {\n",
       "        vertical-align: middle;\n",
       "    }\n",
       "\n",
       "    .dataframe tbody tr th {\n",
       "        vertical-align: top;\n",
       "    }\n",
       "\n",
       "    .dataframe thead th {\n",
       "        text-align: right;\n",
       "    }\n",
       "</style>\n",
       "<table border=\"1\" class=\"dataframe\">\n",
       "  <thead>\n",
       "    <tr style=\"text-align: right;\">\n",
       "      <th></th>\n",
       "      <th>id</th>\n",
       "      <th>rating</th>\n",
       "    </tr>\n",
       "  </thead>\n",
       "  <tbody>\n",
       "    <tr>\n",
       "      <th>9320</th>\n",
       "      <td>27396</td>\n",
       "      <td>5.0</td>\n",
       "    </tr>\n",
       "    <tr>\n",
       "      <th>9568</th>\n",
       "      <td>27914</td>\n",
       "      <td>5.0</td>\n",
       "    </tr>\n",
       "    <tr>\n",
       "      <th>13479</th>\n",
       "      <td>66389</td>\n",
       "      <td>5.0</td>\n",
       "    </tr>\n",
       "    <tr>\n",
       "      <th>18102</th>\n",
       "      <td>90464</td>\n",
       "      <td>5.0</td>\n",
       "    </tr>\n",
       "    <tr>\n",
       "      <th>18697</th>\n",
       "      <td>92783</td>\n",
       "      <td>5.0</td>\n",
       "    </tr>\n",
       "    <tr>\n",
       "      <th>...</th>\n",
       "      <td>...</td>\n",
       "      <td>...</td>\n",
       "    </tr>\n",
       "    <tr>\n",
       "      <th>44879</th>\n",
       "      <td>175733</td>\n",
       "      <td>5.0</td>\n",
       "    </tr>\n",
       "    <tr>\n",
       "      <th>44881</th>\n",
       "      <td>175737</td>\n",
       "      <td>5.0</td>\n",
       "    </tr>\n",
       "    <tr>\n",
       "      <th>45039</th>\n",
       "      <td>176095</td>\n",
       "      <td>5.0</td>\n",
       "    </tr>\n",
       "    <tr>\n",
       "      <th>45090</th>\n",
       "      <td>176217</td>\n",
       "      <td>5.0</td>\n",
       "    </tr>\n",
       "    <tr>\n",
       "      <th>45112</th>\n",
       "      <td>176271</td>\n",
       "      <td>5.0</td>\n",
       "    </tr>\n",
       "  </tbody>\n",
       "</table>\n",
       "<p>365 rows × 2 columns</p>\n",
       "</div>"
      ],
      "text/plain": [
       "           id  rating\n",
       "9320    27396     5.0\n",
       "9568    27914     5.0\n",
       "13479   66389     5.0\n",
       "18102   90464     5.0\n",
       "18697   92783     5.0\n",
       "...       ...     ...\n",
       "44879  175733     5.0\n",
       "44881  175737     5.0\n",
       "45039  176095     5.0\n",
       "45090  176217     5.0\n",
       "45112  176271     5.0\n",
       "\n",
       "[365 rows x 2 columns]"
      ]
     },
     "execution_count": 151,
     "metadata": {},
     "output_type": "execute_result"
    }
   ],
   "source": [
    "new_ratings_df = ratings_df.groupby('movieId', as_index=False).mean()\n",
    "high_ratings_df = new_ratings_df[new_ratings_df['rating']==new_ratings_df['rating'].max()]\n",
    "high_ratings_df = high_ratings_df.rename({'movieId':'id'}, axis=1)\n",
    "high_ratings_df['id'] = pd.to_numeric(high_ratings_df['id'])\n",
    "high_ratings_df = high_ratings_df[['id','rating']]\n",
    "high_ratings_df"
   ]
  },
  {
   "cell_type": "code",
   "execution_count": 152,
   "metadata": {},
   "outputs": [
    {
     "data": {
      "text/html": [
       "<div>\n",
       "<style scoped>\n",
       "    .dataframe tbody tr th:only-of-type {\n",
       "        vertical-align: middle;\n",
       "    }\n",
       "\n",
       "    .dataframe tbody tr th {\n",
       "        vertical-align: top;\n",
       "    }\n",
       "\n",
       "    .dataframe thead th {\n",
       "        text-align: right;\n",
       "    }\n",
       "</style>\n",
       "<table border=\"1\" class=\"dataframe\">\n",
       "  <thead>\n",
       "    <tr style=\"text-align: right;\">\n",
       "      <th></th>\n",
       "      <th>id</th>\n",
       "      <th>rating_x</th>\n",
       "      <th>rating_y</th>\n",
       "    </tr>\n",
       "  </thead>\n",
       "  <tbody>\n",
       "    <tr>\n",
       "      <th>0</th>\n",
       "      <td>161944</td>\n",
       "      <td>5.0</td>\n",
       "      <td>5.0</td>\n",
       "    </tr>\n",
       "  </tbody>\n",
       "</table>\n",
       "</div>"
      ],
      "text/plain": [
       "       id  rating_x  rating_y\n",
       "0  161944       5.0       5.0"
      ]
     },
     "execution_count": 152,
     "metadata": {},
     "output_type": "execute_result"
    }
   ],
   "source": [
    "high_ratings_movies = pd.merge(high_ratings_df, high_ratings_small_df, on = 'id')\n",
    "high_ratings_movies"
   ]
  },
  {
   "cell_type": "code",
   "execution_count": 153,
   "metadata": {},
   "outputs": [
    {
     "data": {
      "text/html": [
       "<div>\n",
       "<style scoped>\n",
       "    .dataframe tbody tr th:only-of-type {\n",
       "        vertical-align: middle;\n",
       "    }\n",
       "\n",
       "    .dataframe tbody tr th {\n",
       "        vertical-align: top;\n",
       "    }\n",
       "\n",
       "    .dataframe thead th {\n",
       "        text-align: right;\n",
       "    }\n",
       "</style>\n",
       "<table border=\"1\" class=\"dataframe\">\n",
       "  <thead>\n",
       "    <tr style=\"text-align: right;\">\n",
       "      <th></th>\n",
       "      <th>id</th>\n",
       "      <th>vote_average</th>\n",
       "      <th>rating</th>\n",
       "    </tr>\n",
       "  </thead>\n",
       "  <tbody>\n",
       "  </tbody>\n",
       "</table>\n",
       "</div>"
      ],
      "text/plain": [
       "Empty DataFrame\n",
       "Columns: [id, vote_average, rating]\n",
       "Index: []"
      ]
     },
     "execution_count": 153,
     "metadata": {},
     "output_type": "execute_result"
    }
   ],
   "source": [
    "high_ratings_movies2 = pd.merge(high_metadata_df, high_ratings_df, on = 'id')\n",
    "high_ratings_movies2"
   ]
  },
  {
   "cell_type": "code",
   "execution_count": 154,
   "metadata": {},
   "outputs": [
    {
     "data": {
      "text/html": [
       "<div>\n",
       "<style scoped>\n",
       "    .dataframe tbody tr th:only-of-type {\n",
       "        vertical-align: middle;\n",
       "    }\n",
       "\n",
       "    .dataframe tbody tr th {\n",
       "        vertical-align: top;\n",
       "    }\n",
       "\n",
       "    .dataframe thead th {\n",
       "        text-align: right;\n",
       "    }\n",
       "</style>\n",
       "<table border=\"1\" class=\"dataframe\">\n",
       "  <thead>\n",
       "    <tr style=\"text-align: right;\">\n",
       "      <th></th>\n",
       "      <th>id</th>\n",
       "      <th>vote_average</th>\n",
       "      <th>rating</th>\n",
       "    </tr>\n",
       "  </thead>\n",
       "  <tbody>\n",
       "  </tbody>\n",
       "</table>\n",
       "</div>"
      ],
      "text/plain": [
       "Empty DataFrame\n",
       "Columns: [id, vote_average, rating]\n",
       "Index: []"
      ]
     },
     "execution_count": 154,
     "metadata": {},
     "output_type": "execute_result"
    }
   ],
   "source": [
    "high_ratings_movies2 = pd.merge(high_metadata_df, high_ratings_small_df, on = 'id')\n",
    "high_ratings_movies2"
   ]
  },
  {
   "cell_type": "code",
   "execution_count": 156,
   "metadata": {},
   "outputs": [],
   "source": [
    "def best_directors(df):\n",
    "    director = []\n",
    "    for i in df['id']:\n",
    "        for value in credits_df['crew'][credits_df['id']==i]:\n",
    "            ini_list = value\n",
    "            res_list = ast.literal_eval(ini_list)\n",
    "            for dictionary in res_list:\n",
    "                if dictionary['job'] == 'Director':\n",
    "                    x = dictionary['name']\n",
    "                    y = dictionary['id']\n",
    "                    director.append(x)\n",
    "    return director"
   ]
  },
  {
   "cell_type": "code",
   "execution_count": 157,
   "metadata": {},
   "outputs": [
    {
     "data": {
      "text/plain": [
       "[]"
      ]
     },
     "execution_count": 157,
     "metadata": {},
     "output_type": "execute_result"
    }
   ],
   "source": [
    "best_directors(high_ratings_movies)"
   ]
  },
  {
   "cell_type": "code",
   "execution_count": 158,
   "metadata": {},
   "outputs": [
    {
     "name": "stdout",
     "output_type": "stream",
     "text": [
      "195 17 90\n"
     ]
    }
   ],
   "source": [
    "metadata_directors = best_directors(high_metadata_df)\n",
    "ratings_directors = best_directors(high_ratings_df)\n",
    "small_ratings_directors = best_directors(high_ratings_small_df)\n",
    "print(len(metadata_directors), len(ratings_directors), len(small_ratings_directors))"
   ]
  },
  {
   "cell_type": "code",
   "execution_count": 159,
   "metadata": {},
   "outputs": [
    {
     "data": {
      "text/plain": [
       "['Stanley Donen', 'Stanley Donen']"
      ]
     },
     "execution_count": 159,
     "metadata": {},
     "output_type": "execute_result"
    }
   ],
   "source": [
    "common_directors = []\n",
    "for director in ratings_directors:\n",
    "    if director in metadata_directors:\n",
    "        common_directors.append(director)\n",
    "for director in ratings_directors:\n",
    "    if director in small_ratings_directors:\n",
    "        common_directors.append(director)\n",
    "\n",
    "for director in metadata_directors:\n",
    "    if director in small_ratings_directors:\n",
    "        common_directors.append(director)\n",
    "for director in metadata_directors:\n",
    "    if director in ratings_directors:\n",
    "        common_directors.append(director)\n",
    "\n",
    "for director in small_ratings_directors:\n",
    "    if director in ratings_directors:\n",
    "        common_directors.append(director)\n",
    "for director in small_ratings_directors:\n",
    "    if director in metadata_directors:\n",
    "        common_directors.append(director)\n",
    "        \n",
    "common_directors"
   ]
  },
  {
   "cell_type": "code",
   "execution_count": 160,
   "metadata": {},
   "outputs": [],
   "source": [
    "def movie_director(director):\n",
    "    movie_id = []\n",
    "    for value in credits_df['crew']:\n",
    "            ini_list = value\n",
    "            res_list = ast.literal_eval(ini_list)\n",
    "            for dictionary in res_list:\n",
    "                if dictionary['name'] == director:\n",
    "                    y = dictionary['id']\n",
    "                    movie_id.append(y)\n",
    "                    movie = value\n",
    "    return credits_df[credits_df['crew']==movie]"
   ]
  },
  {
   "cell_type": "code",
   "execution_count": 161,
   "metadata": {},
   "outputs": [],
   "source": [
    "best_movie = movie_director(common_directors[1])"
   ]
  },
  {
   "cell_type": "code",
   "execution_count": 162,
   "metadata": {},
   "outputs": [
    {
     "data": {
      "text/html": [
       "<div>\n",
       "<style scoped>\n",
       "    .dataframe tbody tr th:only-of-type {\n",
       "        vertical-align: middle;\n",
       "    }\n",
       "\n",
       "    .dataframe tbody tr th {\n",
       "        vertical-align: top;\n",
       "    }\n",
       "\n",
       "    .dataframe thead th {\n",
       "        text-align: right;\n",
       "    }\n",
       "</style>\n",
       "<table border=\"1\" class=\"dataframe\">\n",
       "  <thead>\n",
       "    <tr style=\"text-align: right;\">\n",
       "      <th></th>\n",
       "      <th>cast</th>\n",
       "      <th>crew</th>\n",
       "      <th>id</th>\n",
       "    </tr>\n",
       "  </thead>\n",
       "  <tbody>\n",
       "    <tr>\n",
       "      <th>42231</th>\n",
       "      <td>[{'cast_id': 2, 'character': 'Alex', 'credit_i...</td>\n",
       "      <td>[{'credit_id': '52fe47ef9251416c750aa5dd', 'de...</td>\n",
       "      <td>19761</td>\n",
       "    </tr>\n",
       "  </tbody>\n",
       "</table>\n",
       "</div>"
      ],
      "text/plain": [
       "                                                    cast  \\\n",
       "42231  [{'cast_id': 2, 'character': 'Alex', 'credit_i...   \n",
       "\n",
       "                                                    crew     id  \n",
       "42231  [{'credit_id': '52fe47ef9251416c750aa5dd', 'de...  19761  "
      ]
     },
     "execution_count": 162,
     "metadata": {},
     "output_type": "execute_result"
    }
   ],
   "source": [
    "best_movie"
   ]
  },
  {
   "cell_type": "code",
   "execution_count": 167,
   "metadata": {},
   "outputs": [
    {
     "data": {
      "text/plain": [
       "['Stanley Donen']"
      ]
     },
     "execution_count": 167,
     "metadata": {},
     "output_type": "execute_result"
    }
   ],
   "source": [
    "best_directors(best_movie)"
   ]
  },
  {
   "cell_type": "code",
   "execution_count": 169,
   "metadata": {},
   "outputs": [
    {
     "name": "stdout",
     "output_type": "stream",
     "text": [
      "The best director is Stanley Donen.\n"
     ]
    }
   ],
   "source": [
    "print(f\"The best director is {best_directors(best_movie)[0]}.\")"
   ]
  },
  {
   "cell_type": "code",
   "execution_count": null,
   "metadata": {},
   "outputs": [],
   "source": []
  }
 ],
 "metadata": {
  "kernelspec": {
   "display_name": "Python 3 (ipykernel)",
   "language": "python",
   "name": "python3"
  },
  "language_info": {
   "codemirror_mode": {
    "name": "ipython",
    "version": 3
   },
   "file_extension": ".py",
   "mimetype": "text/x-python",
   "name": "python",
   "nbconvert_exporter": "python",
   "pygments_lexer": "ipython3",
   "version": "3.9.13"
  }
 },
 "nbformat": 4,
 "nbformat_minor": 4
}
