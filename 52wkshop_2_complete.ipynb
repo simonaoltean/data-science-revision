{
 "cells": [
  {
   "cell_type": "markdown",
   "id": "e1cf91c0",
   "metadata": {},
   "source": [
    "## Exercise 1: Linked Lists\n",
    "\n",
    "Unlike a regular array, a [Linked List](https://en.wikipedia.org/wiki/Linked_list) is a container where inserting a new element somewhere in the middle is $O(1)$. \n",
    "\n",
    "For a regular array inserting an element in the middle is $O(N)$, because we need to \"shift back\" all the elements after it. In practice, we might also have to allocate new memory to fit in the element.\n",
    "\n",
    "A linked list is a series of elements, `Node(value, next)` which work as follows:\n",
    "\n",
    "- The `value` field is the element value -- python object at that place in the list (like elements in a python `list`)\n",
    "- The `next` field points to the next element in the linked list. In python holding a reference to the element does this (the same way a python list holds references to objects)\n",
    "\n",
    "Implement the `Node` Class as described above then initialize a list with 5 elements `(3 -> 'cat' -> 'dog' -> 55 -> 56)`"
   ]
  },
  {
   "cell_type": "code",
   "execution_count": 100,
   "id": "4f29c025",
   "metadata": {},
   "outputs": [],
   "source": [
    "# exercise 1\n",
    "\n",
    "class Node:\n",
    "    def __init__(self, value):\n",
    "        self.value = value\n",
    "        self.next = None\n",
    "    \n",
    "    def __repr__(self):\n",
    "        return str(self.value)\n",
    "        \n",
    "class Linked_list:\n",
    "    def __init__(self):\n",
    "        self.head = None\n",
    "        \n",
    "    def print_list(self):\n",
    "        current = self.head\n",
    "        to_print = []\n",
    "        while current:\n",
    "            to_print.append(str(current.value))\n",
    "            current = current.next\n",
    "        to_print.append('None')\n",
    "        return \" -> \".join(to_print)"
   ]
  },
  {
   "cell_type": "code",
   "execution_count": 101,
   "id": "e563e397",
   "metadata": {},
   "outputs": [
    {
     "data": {
      "text/plain": [
       "'3 -> cat -> dog -> 55 -> 56 -> None'"
      ]
     },
     "execution_count": 101,
     "metadata": {},
     "output_type": "execute_result"
    }
   ],
   "source": [
    "my_list = Linked_list()\n",
    "node1 = Node(3)\n",
    "my_list.head = node1\n",
    "node2 = Node('cat')\n",
    "node3 = Node('dog')\n",
    "node4 = Node(55)\n",
    "node5 = Node(56)\n",
    "node1.next = node2\n",
    "node2.next = node3\n",
    "node3.next = node4\n",
    "node4.next = node5\n",
    "my_list.print_list()"
   ]
  },
  {
   "cell_type": "markdown",
   "id": "0717b471",
   "metadata": {},
   "source": [
    "## Exercise 2: Reversing a linked list\n",
    "\n",
    "Write a $O(N)$ function `reverse_ll` that reverses all the pointers in a linked list:\n",
    "\n",
    "```\n",
    "(a -> b -> c) ⇒ (c -> b -> a)\n",
    "```\n",
    "\n",
    "Note: You don't have to reverse their order in the python tuple/list if that's where you're holding them. Just reverse their `Node` pointers to each other"
   ]
  },
  {
   "cell_type": "code",
   "execution_count": 108,
   "id": "ca8455fc",
   "metadata": {},
   "outputs": [],
   "source": [
    "# exercise 2\n",
    "\n",
    "class Linked_list:\n",
    "    def __init__(self):\n",
    "        self.head = None\n",
    "        \n",
    "    def print_list(self):\n",
    "        current = self.head\n",
    "        to_print = []\n",
    "        while current:\n",
    "            to_print.append(str(current.value))\n",
    "            current = current.next\n",
    "        to_print.append('None')\n",
    "        return \" -> \".join(to_print)\n",
    "    \n",
    "    def reverse_11(self):\n",
    "        prev = None\n",
    "        current = self.head\n",
    "        while current:\n",
    "            next = current.next\n",
    "            current.next = prev\n",
    "            prev = current\n",
    "            current = next\n",
    "        self.head = prev"
   ]
  },
  {
   "cell_type": "code",
   "execution_count": null,
   "id": "2db0fa66",
   "metadata": {},
   "outputs": [],
   "source": []
  },
  {
   "cell_type": "code",
   "execution_count": 109,
   "id": "ac53b047",
   "metadata": {},
   "outputs": [
    {
     "data": {
      "text/plain": [
       "'56 -> 55 -> dog -> cat -> 3 -> None'"
      ]
     },
     "execution_count": 109,
     "metadata": {},
     "output_type": "execute_result"
    }
   ],
   "source": [
    "my_list = Linked_list()\n",
    "node1 = Node(3)\n",
    "my_list.head = node1\n",
    "node2 = Node('cat')\n",
    "node3 = Node('dog')\n",
    "node4 = Node(55)\n",
    "node5 = Node(56)\n",
    "node1.next = node2\n",
    "node2.next = node3\n",
    "node3.next = node4\n",
    "node4.next = node5\n",
    "my_list.reverse_11()\n",
    "my_list.print_list()"
   ]
  },
  {
   "cell_type": "code",
   "execution_count": null,
   "id": "c6ed73c2",
   "metadata": {},
   "outputs": [],
   "source": []
  }
 ],
 "metadata": {
  "kernelspec": {
   "display_name": "Python 3 (ipykernel)",
   "language": "python",
   "name": "python3"
  },
  "language_info": {
   "codemirror_mode": {
    "name": "ipython",
    "version": 3
   },
   "file_extension": ".py",
   "mimetype": "text/x-python",
   "name": "python",
   "nbconvert_exporter": "python",
   "pygments_lexer": "ipython3",
   "version": "3.9.13"
  }
 },
 "nbformat": 4,
 "nbformat_minor": 5
}
