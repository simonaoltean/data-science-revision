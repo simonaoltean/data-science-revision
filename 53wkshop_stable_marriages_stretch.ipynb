{
 "cells": [
  {
   "cell_type": "markdown",
   "metadata": {
    "id": "S-Xd3LLIcLBw"
   },
   "source": [
    "# Algorithms - Stable Mariages\n"
   ]
  },
  {
   "cell_type": "markdown",
   "metadata": {},
   "source": [
    "# Stable Mariages\n",
    "\n",
    "For this workshop we'll implement a version of the **Nobel Prize-winning algorithm** for the stable marriage problem. It's called the [Gale-Shapley](https://en.wikipedia.org/wiki/Gale%E2%80%93Shapley_algorithm) algorithm AKA the \"Deferred Acceptance\" algorithm.\n",
    "\n",
    "The Gale Shapley algorithm solves what's called the **Stable Marriage** Problem. Here is the problem framed as marrying men and women: \n",
    "\n",
    "> Given $n$ men and $n$ women, where each person has ranked all members of the opposite sex in order of preference, marry the men and women together such that there are no two people of opposite sex who would both rather have each other than their current partners. When there are no such pairs of people, the set of marriages is deemed stable.\n",
    "\n",
    "This little model however is generally applied to more than marrying men and women. For example, it's the algorithm used to match newly graduated doctors with hospitals, and a variation on it matches kidney patients with organ donors in our hospital system.\n",
    "\n",
    "The algorithmic question is, given lists of preferences as input, can we find a stable marriage? Can we even guarantee a stable marriage will exist for any set of preferences? The answer to both questions is yes, and it uses an algorithm called deferred acceptance.\n",
    "\n",
    "Here is an informal description of the algorithm. It goes in rounds. In each round, each man “proposes” to the highest-preferred woman that has not yet rejected him. On the other side, each woman holds a reference to a man at all times. If a woman gets new proposals in a round, she immediately rejects every proposer except her most preferred, but does not accept that proposal. She “defers” the acceptance of the proposal until the very end.\n",
    "\n",
    "![](Gale-Shapley.gif)\n",
    "\n",
    "# Your Task\n",
    "\n",
    "Build a solution `gale_shapley(men, women) -> dict` Where the input is a list of suitors and a list of Suiteds with every one in these lists holding their lists of preferences. The output is a dictionary `suitor -> suited`\n",
    "\n",
    "Here is a possible way to design a solution:\n",
    "\n",
    "# A useful resource: [link](https://jeremykun.com/2014/04/02/stable-marriages-and-designing-markets/)\n",
    "\n",
    "### Man Class\n",
    "\n",
    "The `Man(id, preference_list)` class holds the following attributes:\n",
    "\n",
    "- Its own ID (an `int`)\n",
    "\n",
    "- A list or array of IDs, which are ordered. So `preference_list[0]` is prefered to `preference_list[1]` and so on\n",
    "\n",
    "- A method `Suitor.preference()` which points to its current possible reference. It should start by pointing at `preference_list[0]` and every time the Suitor gets rejected in the algorithm, this should point to the next preference.\n",
    "\n",
    "### Woman Class\n",
    "\n",
    "The `Woman(id, preference_list)` class holds the following attributes:\n",
    "\n",
    "- Its own ID (an `int`)\n",
    "\n",
    "- A list or array of IDs, which are ordered. So `preference_list[0]` is prefered to `preference_list[1]` and so on\n",
    "\n",
    "- A set of current suitors\n",
    "\n",
    "- A method `Suited.reject()` which returns all current suitors except the most preferred one\n",
    "\n",
    "### The Stable Mariage Algorithm\n",
    "\n",
    "Takes in a list of men and women, loops over suitors trying to find a match until there aren't any unassigned suitors left. Here is the pseudocode for the algorithm:\n",
    "\n",
    "```\n",
    "algorithm stable_matching\n",
    "    Initialize all m ∈ M and w ∈ W to free\n",
    "    while ∃ free man m who still has a woman w to propose to do\n",
    "        w := first woman on m's list to whom m has not yet proposed\n",
    "        if w is free then\n",
    "            (m, w) become engaged\n",
    "        else some pair (m', w) already exists\n",
    "            if w prefers m to m' then\n",
    "                m' becomes free\n",
    "                (m, w) become engaged \n",
    "            else\n",
    "                (m', w) remain engaged\n",
    "            end if\n",
    "        end if\n",
    "    repeat\n",
    "```\n",
    "\n",
    "\n",
    "Here is some example code of a solution working:\n",
    "\n",
    "```\n",
    "men = [\n",
    "    Man(id=0, preference_list=[0,1,2,3]),\n",
    "    Man(id=1, preference_list=[2,3,0,1]),\n",
    "    Man(id=2, preference_list=[1,0,3,2]),\n",
    "    Man(id=3, preference_list=[3,2,1,0]),\n",
    "]\n",
    "\n",
    "women = [\n",
    "    Woman(id=0, preference_list=[0,1,2,3]),\n",
    "    Woman(id=1, preference_list=[2,3,0,1]),\n",
    "    Woman(id=2, preference_list=[1,0,3,2]),\n",
    "    Woman(id=3, preference_list=[3,2,1,0]),\n",
    "]\n",
    "\n",
    "stable_marriage(men, women)\n",
    "```\n",
    "\n",
    "output:\n",
    "\n",
    "```\n",
    "{0: 0, \n",
    " 2: 1, \n",
    " 1: 2, \n",
    " 3: 3}\n",
    "```"
   ]
  },
  {
   "cell_type": "code",
   "execution_count": 43,
   "metadata": {
    "id": "U-Adr8UyBJMd"
   },
   "outputs": [],
   "source": [
    "# man class\n"
   ]
  },
  {
   "cell_type": "code",
   "execution_count": 44,
   "metadata": {
    "id": "l3uFiRW6Xv9q"
   },
   "outputs": [],
   "source": [
    "# woman class\n"
   ]
  },
  {
   "cell_type": "code",
   "execution_count": 45,
   "metadata": {
    "id": "UqPA73atXwAJ"
   },
   "outputs": [],
   "source": [
    "# stable_marriage\n"
   ]
  },
  {
   "cell_type": "code",
   "execution_count": 1,
   "metadata": {
    "id": "MGl-Jwl-XwCn",
    "outputId": "7e020842-8c46-42b5-9701-89bb5058e59c"
   },
   "outputs": [],
   "source": [
    "# summary\n"
   ]
  }
 ],
 "metadata": {
  "colab": {
   "collapsed_sections": [],
   "name": "Workshop Stable Mariages.ipynb",
   "provenance": []
  },
  "kernelspec": {
   "display_name": "Python 3 (ipykernel)",
   "language": "python",
   "name": "python3"
  },
  "language_info": {
   "codemirror_mode": {
    "name": "ipython",
    "version": 3
   },
   "file_extension": ".py",
   "mimetype": "text/x-python",
   "name": "python",
   "nbconvert_exporter": "python",
   "pygments_lexer": "ipython3",
   "version": "3.8.12"
  }
 },
 "nbformat": 4,
 "nbformat_minor": 4
}
