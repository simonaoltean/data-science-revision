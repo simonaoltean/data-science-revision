{
 "cells": [
  {
   "cell_type": "markdown",
   "metadata": {
    "id": "R4HEXrrhIgH8"
   },
   "source": [
    "# Math as a Tool\n",
    "\n",
    "## Calculus\n",
    "\n",
    "Calculus is the mathematics that describes infinitesimal change."
   ]
  },
  {
   "cell_type": "markdown",
   "metadata": {
    "id": "fuDq7xwB4QOk"
   },
   "source": [
    "### Differential Calculus \n",
    "\n",
    "Differential Calculus is the mathematics behind how a change in one variable changes an output. Going back to the example of the car speedometer, speed is a measure of a change in distance over a change in time:\n",
    "\n",
    "$$V = \\frac{ds}{dt}$$\n",
    "\n",
    "**NOTE:** The `d` symbol above stands for \"delta\". This is a term oten used in math and physics to describe change.\n",
    "\n",
    "Another way of phrasing this is to say that speed is the **derivative** of distance with respect to time. Derivatives are powerful tool that not only tell you how a function changes, but can also tell you the value of a variable for which a function reaches a maximum or minimum value as the derivative will be equal to 0. The slope of a line is another example of a derivative as it is the change in y over the change in x.\n",
    "\n",
    "Formally, the equation for the derivative of a Function is written as:\n",
    "\n",
    "$$f'(x) = \\lim_{h \\to 0} \\frac{f(x + h) - f(x)}{h}$$\n",
    "\n",
    "Here is an example of a visualization to determine the maximum/minimum of a function."
   ]
  },
  {
   "cell_type": "code",
   "execution_count": 1,
   "metadata": {
    "executionInfo": {
     "elapsed": 349,
     "status": "ok",
     "timestamp": 1612786005177,
     "user": {
      "displayName": "Usama Bari",
      "photoUrl": "https://lh3.googleusercontent.com/a-/AOh14Gi63QYmB0IpHlTGDpnIp177mO5UfCMQzxIj0VkiwQ=s64",
      "userId": "15037366419685538600"
     },
     "user_tz": 300
    },
    "id": "SwhprlX7IgH_"
   },
   "outputs": [
    {
     "data": {
      "image/png": "[encoded data removed]",
      "text/plain": [
       "<Figure size 432x288 with 2 Axes>"
      ]
     },
     "metadata": {
      "needs_background": "light"
     },
     "output_type": "display_data"
    },
    {
     "data": {
      "text/plain": [
       "<Figure size 2160x1440 with 0 Axes>"
      ]
     },
     "metadata": {},
     "output_type": "display_data"
    }
   ],
   "source": [
    "# Don't worry about the package imports for now.\n",
    "%matplotlib inline\n",
    "import numpy as np\n",
    "import matplotlib.pyplot as plt\n",
    "\n",
    "# Here, I define a function in python where f(x) = 9 - (x-3)^2\n",
    "def f(x):\n",
    "    return 9 - (x-3)**2\n",
    "\n",
    "# Here, I define the derivative function as f' or fprime.\n",
    "def fprime(x):\n",
    "    h = 1e-5\n",
    "    return (f(x+h) - f(x))/h \n",
    "\n",
    "x = np.linspace(-3,9,19)\n",
    "\n",
    "fig, axs = plt.subplots(2)\n",
    "plt.figure(figsize=(30,20))\n",
    "fig.suptitle('Plots of the function f(x) and its derivative, fprime(x)')\n",
    "axs[0].plot(x, f(x))\n",
    "axs[1].plot(x, fprime(x));"
   ]
  },
  {
   "cell_type": "markdown",
   "metadata": {
    "id": "GcmhiegeCg92"
   },
   "source": [
    "At the value of x = 3, our function f(x), reaches its maximum value of 9 whereas our derivative hits a value of 0 at x = 3. We will be using derivatives a good amount when we start talking about reducing error in our models."
   ]
  },
  {
   "cell_type": "markdown",
   "metadata": {},
   "source": [
    "### Integral Calculus\n",
    "\n",
    "Integral Calculus is the opposite of differentiation. Rather than the slope of a curve, the integral is the area underneath the curve. You can think of an integral as a measure of accumulated change, i.e. the end result of a large number of changes to some quantity of interest that have built up over time (or along some dimension more generally) and whether those changes are positive or negative.\n",
    "\n",
    "Going back to the Speedometer example, if we were to integrate the function for speed over some interval of time, we would get the **Total** distance the car covered in that amount of time.\n",
    "\n",
    "While there are many ways to calculate an integral, I will use a [Riemann Sum](https://en.wikipedia.org/wiki/Riemann_sum#:~:text=In%20mathematics%2C%20a%20Riemann%20sum,of%20curves%20and%20other%20approximations) to represent an integral.\n",
    "\n",
    " $$\\int_a^b f(x) dx \\approx \\lim_{n \\to \\infty} \\sum_{i=1}^n f(x_i)*\\Delta x $$  \n",
    "\n",
    " $$\\Delta x = \\frac{b-a}{n} $$\n",
    "\n",
    " $$x_i = a + i \\Delta x$$\n",
    "\n",
    "There isn't a clear cut way to get the area under a curve. This approximation tries to fit an \"n\" number of rectangles under a curve and gets the sum of the individual rectangles. The more rectangles used, the more accurate the integral. Here is a picture visually showing how the integral becomes more accurate as the number of rectangles goes up.\n",
    "\n",
    "![Riemann sum rectangles](../assets/riemann-sum-rectangles.png)\n",
    "\n",
    "Integrals will be key in understanding probability and probability functions."
   ]
  },
  {
   "cell_type": "markdown",
   "metadata": {
    "id": "vvSDNP9aOkoj"
   },
   "source": [
    "## Linear Algebra\n",
    "\n",
    "Linear algebra is a branch of math that deals with solving linear equations in the following form by using matrices and vectors.\n",
    "\n",
    "$$a_1x_1 + a_2x_2+a_3x_3+...+a_nx_n = b$$\n",
    "\n",
    "$$\\begin{bmatrix} 1 & 0 & 0 \\\\ 0 & 1 & 0 \\\\ 0 & 0 & 1 \\end{bmatrix} \\begin{bmatrix} a \\\\ b \\\\ c \\end{bmatrix} = \\begin {bmatrix} A\\\\ B\\\\ C \\end{bmatrix} $$\n",
    "\n",
    "### Example\n",
    "\n",
    "Solve the following system of equations for values of a, b and c.\n",
    "\n",
    "```\n",
    "2a + b + 2c = 20\n",
    "a + 5b + 3c = 38\n",
    "4a + b + 2c = 26\n",
    "```\n",
    "\n",
    "$$\\begin{bmatrix} 2 & 1 & 2 \\\\ 1 & 5 & 3 \\\\ 4 & 1 & 2 \\end{bmatrix} \\begin{bmatrix} a \\\\ b \\\\ c \\end{bmatrix} = \\begin {bmatrix} 20\\\\ 38\\\\ 26 \\end{bmatrix} $$\n",
    "\n",
    "This is how it is done in Python:"
   ]
  },
  {
   "cell_type": "code",
   "execution_count": 2,
   "metadata": {
    "id": "bkmubPWtuW9V"
   },
   "outputs": [
    {
     "data": {
      "text/plain": [
       "array([3., 4., 5.])"
      ]
     },
     "execution_count": 2,
     "metadata": {},
     "output_type": "execute_result"
    }
   ],
   "source": [
    "# We use numpy to solve the matrix version of our system of equations\n",
    "import numpy as np\n",
    "\n",
    "Matrix = np.array([[2,1,2],[1,5,3],[4,1,2]])\n",
    "Solutions = np.array([20,38,26])\n",
    "x = np.linalg.solve(Matrix, Solutions)\n",
    "x"
   ]
  },
  {
   "cell_type": "code",
   "execution_count": 3,
   "metadata": {},
   "outputs": [
    {
     "data": {
      "text/plain": [
       "True"
      ]
     },
     "execution_count": 3,
     "metadata": {},
     "output_type": "execute_result"
    }
   ],
   "source": [
    "np.allclose(np.dot(Matrix,x),Solutions)"
   ]
  },
  {
   "cell_type": "markdown",
   "metadata": {},
   "source": [
    "## Statistics\n",
    "\n",
    "### Mean (Example)\n",
    "\n",
    "Given a set of numbers, (1, 0, 4, 5, 6, 8, 10, 6) we can calculate the average as:\n",
    "\n",
    "$$\\mu = \\frac {1+0+4+5+6+8+10+6}{8} = 5$$"
   ]
  },
  {
   "cell_type": "markdown",
   "metadata": {},
   "source": [
    "### Median (Example)\n",
    "\n",
    "To find the median of this set `(1,4,3,5,8)`, we must first reorder it in ascending order: `(1,3,4,5,8)` and then we can see that the middle value, the median, is 4. \n",
    "\n",
    "Another way to represent the median is by saying that it is the number at which 50% of the total numbers in the set are equal to or less than it."
   ]
  },
  {
   "cell_type": "markdown",
   "metadata": {},
   "source": [
    "### Variance & Standard Deviation\n",
    "\n",
    "[Variance](https://en.wikipedia.org/wiki/Variance) and [Standard Deviation](https://en.wikipedia.org/wiki/Standard_deviation) are measures of the spread of the set of numbers from the mean. \n",
    "\n",
    "The variance can be calculated as:\n",
    "\n",
    "$$var = \\sigma^2 = \\frac {\\sum_{i=1}^n (x_i - \\mu)^2}{n}$$\n",
    "\n",
    "The Standard Deviation is the square root of the variance. _The mean and standard deviation are very susceptible to outliers in your data._"
   ]
  },
  {
   "cell_type": "markdown",
   "metadata": {
    "id": "vaZ6HhGLpaYu"
   },
   "source": [
    "### Interquartile Range (Example)\n",
    "\n",
    "Given an ordered set of data, (2,4,4,5,6,7,8) the number 4 is the first quartile, 5 is the second quartile and 7 is the third quartile. Here is a visual representation:\n",
    "\n",
    "![image.png](../assets/interquartile-range-1.png)\n",
    "\n",
    "The median and interquartile range are represented in boxplots:\n",
    "\n",
    "![image.png](../assets/interquartile-range-2.png)"
   ]
  },
  {
   "cell_type": "markdown",
   "metadata": {
    "id": "aqS5MgUPleeP"
   },
   "source": [
    "## Exercises\n",
    "\n",
    "### Exercise 1\n",
    "\n",
    "Solve the following system of equations for a, b and c using the matrix method we saw above. _You can use the same code, and adjust the numbers that are in the matrix._\n",
    "\n",
    "```\n",
    "2a + 3b + 4c = 8\n",
    "3a + 4b + 3c = 11\n",
    "1a + 1b + 2c = 3\n",
    "```\n",
    "\n",
    "Use the code block below."
   ]
  },
  {
   "cell_type": "code",
   "execution_count": 4,
   "metadata": {
    "id": "KIX-0esizCjs"
   },
   "outputs": [
    {
     "data": {
      "text/plain": [
       "array([1., 2., 0.])"
      ]
     },
     "execution_count": 4,
     "metadata": {},
     "output_type": "execute_result"
    }
   ],
   "source": [
    "# exercise 1\n",
    "\n",
    "Matrix = np.array([[2,3,4],[3,4,3],[1,1,2]])\n",
    "Solutions = np.array([8,11,3])\n",
    "x = np.linalg.solve(Matrix, Solutions)\n",
    "x"
   ]
  },
  {
   "cell_type": "markdown",
   "metadata": {
    "id": "Ilizawr1mg8Q"
   },
   "source": [
    "### Exercise 2\n",
    "\n",
    "Compute the mean and variance of the following set of numbers and identify the 2nd quartile.\n",
    "\n",
    "**Hints** \n",
    "\n",
    "- Uncomment the `print` command to see the set of numbers.\n",
    "- Use the numpy functions for mean and variance to compute them, `set.mean()` and `set.var()`."
   ]
  },
  {
   "cell_type": "code",
   "execution_count": 5,
   "metadata": {
    "id": "2j-mbtx5zCjw"
   },
   "outputs": [
    {
     "name": "stdout",
     "output_type": "stream",
     "text": [
      "[ 0.  1.  2.  3.  4.  5.  6.  7.  8.  9. 10.]\n",
      "5.0\n",
      "10.0\n"
     ]
    }
   ],
   "source": [
    "# exercise 2\n",
    "Numbers = np.linspace(0,10,11)\n",
    "\n",
    "# print(Numbers)\n",
    "print(Numbers)\n",
    "\n",
    "# Hint: use the numpy functions for mean and variance to compute them: set.mean() and set.var()\n",
    "print(Numbers.mean())\n",
    "print(Numbers.var())"
   ]
  },
  {
   "cell_type": "markdown",
   "metadata": {
    "id": "oIGbOnQWo4pX"
   },
   "source": [
    "### Exercise 3\n",
    "\n",
    "Give me the value of x for which the function, f(x) = x^2-4x + 5 is at a minimum using its derivative. "
   ]
  },
  {
   "cell_type": "code",
   "execution_count": 6,
   "metadata": {
    "id": "1GHsn25gocOB"
   },
   "outputs": [],
   "source": [
    "# exercise 3\n",
    "\n",
    "def f(x):\n",
    "    return x**2 - 4*x + 5"
   ]
  },
  {
   "cell_type": "code",
   "execution_count": 7,
   "metadata": {},
   "outputs": [
    {
     "name": "stdout",
     "output_type": "stream",
     "text": [
      "[-1.         -0.83333333 -0.66666667 -0.5        -0.33333333 -0.16666667\n",
      "  0.          0.16666667  0.33333333  0.5         0.66666667  0.83333333\n",
      "  1.          1.16666667  1.33333333  1.5         1.66666667  1.83333333\n",
      "  2.          2.16666667  2.33333333  2.5         2.66666667  2.83333333\n",
      "  3.        ]\n",
      "\n",
      "\n",
      "[-5.99999000e+00 -5.66665667e+00 -5.33332333e+00 -4.99999000e+00\n",
      " -4.66665667e+00 -4.33332333e+00 -3.99999000e+00 -3.66665667e+00\n",
      " -3.33332333e+00 -2.99999000e+00 -2.66665667e+00 -2.33332333e+00\n",
      " -1.99999000e+00 -1.66665667e+00 -1.33332333e+00 -9.99990000e-01\n",
      " -6.66656667e-01 -3.33323333e-01  1.00000008e-05  3.33343333e-01\n",
      "  6.66676667e-01  1.00001000e+00  1.33334333e+00  1.66667667e+00\n",
      "  2.00001000e+00]\n",
      "\n",
      "The value of x is: 2.0\n"
     ]
    }
   ],
   "source": [
    "# exercise 3 continued\n",
    "\n",
    "X = np.linspace(-1,3,25)\n",
    "print(X)\n",
    "print(f'\\n\\n{fprime(X)}')\n",
    "\n",
    "for i in range(len(fprime(X))):\n",
    "    if abs(fprime(X)[i]) < 0.01 and abs(fprime(X)[i]) > 0:\n",
    "        print(f\"\\nThe value of x is: {X[i]}\")\n",
    "        #print(fprime(X)[i])"
   ]
  },
  {
   "cell_type": "code",
   "execution_count": null,
   "metadata": {},
   "outputs": [],
   "source": []
  }
 ],
 "metadata": {
  "colab": {
   "collapsed_sections": [],
   "name": "1.4_Math_Intro_Lecture.ipynb",
   "provenance": [
    {
     "file_id": "1OHh8d9sFTm3TojPNLakbMPBW5oc8AQFF",
     "timestamp": 1612785969661
    }
   ]
  },
  "kernelspec": {
   "display_name": "Python 3 (ipykernel)",
   "language": "python",
   "name": "python3"
  },
  "language_info": {
   "codemirror_mode": {
    "name": "ipython",
    "version": 3
   },
   "file_extension": ".py",
   "mimetype": "text/x-python",
   "name": "python",
   "nbconvert_exporter": "python",
   "pygments_lexer": "ipython3",
   "version": "3.9.13"
  },
  "metadata": {
   "interpreter": {
    "hash": "63fd5069d213b44bf678585dea6b12cceca9941eaf7f819626cde1f2670de90d"
   }
  }
 },
 "nbformat": 4,
 "nbformat_minor": 4
}
