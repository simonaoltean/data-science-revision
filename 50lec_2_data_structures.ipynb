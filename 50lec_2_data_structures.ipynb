{
 "cells": [
  {
   "cell_type": "markdown",
   "id": "9c8eb83f",
   "metadata": {},
   "source": [
    "# Data Structures"
   ]
  },
  {
   "cell_type": "markdown",
   "id": "9753047a",
   "metadata": {},
   "source": [
    "**Data Structures** are important for implementing algorithms efficiently. \n",
    "\n",
    "A data structure is a logical way to organize and operate on data. \n",
    "\n",
    "In python, we can use classes to implement a data structure. **Queues**, **Stacks**, **Hash-tables** are common data structures used extensively in algorithms dealing with searching and sorting problems."
   ]
  },
  {
   "cell_type": "markdown",
   "id": "b8ab6aec",
   "metadata": {},
   "source": [
    "## Queue\n",
    "\n",
    "The queue is our first encounter with what computer scientists call a data structure. The queue acts like a list, but has one main rule called *First In/First Out*\n",
    "\n",
    "This means the following rules apply:\n",
    "\n",
    "- You can only ever add data to a queue one object at a time\n",
    "\n",
    "- If you remove an object it has to be the one at the front of the queue (the one added the earliest). i.e. `.pop(0)`"
   ]
  },
  {
   "cell_type": "code",
   "execution_count": null,
   "id": "400cf44e",
   "metadata": {},
   "outputs": [],
   "source": [
    "# Queue is similar to a line in a store, where the first item is dequeued.\n",
    "# Front is the element being dequeued, rear is where an element is queued.\n",
    "# First arrived, first served (dequeued), joining a queue at the back (rear)."
   ]
  },
  {
   "cell_type": "code",
   "execution_count": 1,
   "id": "52778279",
   "metadata": {},
   "outputs": [],
   "source": [
    "class Queue:\n",
    "    def __init__(self):\n",
    "        self.elements = []\n",
    "\n",
    "    def enqueue(self, data):\n",
    "        self.elements.append(data)\n",
    "        return data\n",
    "\n",
    "    def dequeue(self):\n",
    "        return self.elements.pop(0)\n",
    "\n",
    "    def rear(self):\n",
    "        return self.elements[-1]\n",
    "\n",
    "    def front(self):\n",
    "        return self.elements[0]\n",
    "\n",
    "    def is_empty(self):\n",
    "        return len(self.elements) == 0\n",
    "    \n",
    "    def info(self):\n",
    "        return self.elements\n"
   ]
  },
  {
   "cell_type": "code",
   "execution_count": 2,
   "id": "1d1f57e9",
   "metadata": {},
   "outputs": [
    {
     "name": "stdout",
     "output_type": "stream",
     "text": [
      "True\n",
      "[5, 2, 9]\n",
      "5\n",
      "9\n",
      "False\n"
     ]
    }
   ],
   "source": [
    "q = Queue()\n",
    "print(q.is_empty())\n",
    "q.enqueue(5)\n",
    "q.enqueue(2)\n",
    "q.enqueue(9)\n",
    "print(q.info())\n",
    "print(q.front())\n",
    "print(q.rear())\n",
    "print(q.is_empty())"
   ]
  },
  {
   "cell_type": "code",
   "execution_count": 3,
   "id": "b777187c",
   "metadata": {},
   "outputs": [
    {
     "name": "stdout",
     "output_type": "stream",
     "text": [
      "[2, 9]\n"
     ]
    }
   ],
   "source": [
    "q.dequeue()\n",
    "print(q.info())"
   ]
  },
  {
   "cell_type": "code",
   "execution_count": 6,
   "id": "a651a7aa",
   "metadata": {},
   "outputs": [
    {
     "data": {
      "text/plain": [
       "['a', 'b', 'c']"
      ]
     },
     "execution_count": 6,
     "metadata": {},
     "output_type": "execute_result"
    }
   ],
   "source": [
    "# simple queue\n",
    "my_queue1=[]\n",
    "my_queue1.append(\"a\")\n",
    "my_queue1.append(\"b\")\n",
    "my_queue1.append(\"c\")\n",
    "my_queue1"
   ]
  },
  {
   "cell_type": "code",
   "execution_count": 7,
   "id": "de1523a2",
   "metadata": {},
   "outputs": [
    {
     "data": {
      "text/plain": [
       "'a'"
      ]
     },
     "execution_count": 7,
     "metadata": {},
     "output_type": "execute_result"
    }
   ],
   "source": [
    "# my_queue1.pop() #This doesn't do what we want (acts like a stack)\n",
    "my_queue1.pop(0) #This does, we need to define the item to pop."
   ]
  },
  {
   "cell_type": "code",
   "execution_count": 9,
   "id": "9d03fc2b",
   "metadata": {},
   "outputs": [],
   "source": [
    "from collections import deque\n",
    "my_queue2=deque() #This has the same methods as a queue"
   ]
  },
  {
   "cell_type": "markdown",
   "id": "22a70566",
   "metadata": {},
   "source": [
    "## Stack\n",
    "\n",
    "The stack is the inverse of the Queue data structure, it's a *Last In/First Out* model\n",
    "\n",
    "So when removing from a stack, we remove the most recently added element instead. i.e. `.pop(-1)` rather than *0*\n",
    "\n"
   ]
  },
  {
   "cell_type": "code",
   "execution_count": 5,
   "id": "3b4fd69f",
   "metadata": {},
   "outputs": [],
   "source": [
    "# Stacks are used for recursive problem\n",
    "# Stacks are like a pile of plates where the last item is retrived first\n",
    "# Pop method removes the last element from the list\n",
    "# dir(deque()), use dir to find methods\n",
    "\n",
    "from collections import deque\n",
    "method2 = deque()"
   ]
  },
  {
   "cell_type": "code",
   "execution_count": 4,
   "id": "5f379a40",
   "metadata": {},
   "outputs": [],
   "source": [
    "class Stack: \n",
    "    def __init__(self): \n",
    "        self.elements = [] \n",
    "    \n",
    "    def push(self, data): \n",
    "        self.elements.append(data) \n",
    "        return data \n",
    "    \n",
    "    def pop(self): \n",
    "        return self.elements.pop() \n",
    "        \n",
    "    def peek(self): \n",
    "        return self.elements[-1] \n",
    "        \n",
    "    def is_empty(self): \n",
    "        return len(self.elements) == 0\n",
    "    \n",
    "    def info(self):\n",
    "        return self.elements"
   ]
  },
  {
   "cell_type": "markdown",
   "id": "595f391f",
   "metadata": {},
   "source": [
    "Class exercise:\n",
    "\n",
    "Create a stack and populate it with a few elements."
   ]
  },
  {
   "cell_type": "code",
   "execution_count": 10,
   "id": "7aaddcd0",
   "metadata": {},
   "outputs": [
    {
     "data": {
      "text/plain": [
       "True"
      ]
     },
     "execution_count": 10,
     "metadata": {},
     "output_type": "execute_result"
    }
   ],
   "source": [
    "#Class exercise:\n",
    "\n",
    "stack = Stack()\n",
    "stack.is_empty()"
   ]
  },
  {
   "cell_type": "markdown",
   "id": "8ad9c7e5",
   "metadata": {},
   "source": [
    "## Hash Tables - Making search faster O(1)"
   ]
  },
  {
   "cell_type": "markdown",
   "id": "f60d44c6",
   "metadata": {},
   "source": [
    "The Hash table data structure stores elements in key-value pairs where\n",
    "\n",
    "**Key:** unique integer that is used for indexing the values\n",
    "\n",
    "**Value:**  data that are associated with keys.\n",
    "\n",
    "**Hashing (Hash Function)**\n",
    "\n",
    "**Hashing** is a technique of mapping a large set of arbitrary data(value) to tabular indexes(keys) using a hash function. The hash function maps the value to a key (an index in the hash table) using some computation. Then, the value is stored using the key in the hash table. [More info here](https://www.cs.hmc.edu/~geoff/classes/hmc.cs070.200101/homework10/hashfuncs.html)\n",
    "\n",
    "Search algorithms that use **hashing** consist of two separate parts. The first step is to compute a hash function that transforms the value into a key index. Ideally, different values would map to different keys. This ideal is generally beyond our reach, so we have to face the possibility that two or more different values may hash to the same index. Thus, the second part of a hashing search is a collision-resolution process that deals with this situation.\n",
    "\n",
    "On an average, the insertion, deletion and searching operations using hash tables runs in *O(1)* time which is much faster compared to searching in arrays\n",
    "\n",
    "Python data structures like sets and dictionaries are implemented using hash table technologies. \n",
    "\n",
    "The running time complexities of various operations in different Python dictionaries can be found in [here](https://wiki.python.org/moin/TimeComplexity)"
   ]
  },
  {
   "cell_type": "code",
   "execution_count": 11,
   "id": "1eae63f5",
   "metadata": {},
   "outputs": [
    {
     "data": {
      "text/plain": [
       "{'Emp1': '001', 'Emp2': '002'}"
      ]
     },
     "execution_count": 11,
     "metadata": {},
     "output_type": "execute_result"
    }
   ],
   "source": [
    "# Stores key and value separately, stores the value with another key (index)\n",
    "# Ascii code takes the string in separate characters and converts it into a \n",
    "# number more than 10\n",
    "# A hash table is pretty much a dictionary\n",
    "\n",
    "my_dict={'Emp1':'001','Emp2':'002'}\n",
    "my_dict"
   ]
  },
  {
   "cell_type": "code",
   "execution_count": 12,
   "id": "c56a35d4",
   "metadata": {},
   "outputs": [
    {
     "data": {
      "text/plain": [
       "dict"
      ]
     },
     "execution_count": 12,
     "metadata": {},
     "output_type": "execute_result"
    }
   ],
   "source": [
    "type(my_dict)"
   ]
  },
  {
   "cell_type": "code",
   "execution_count": 21,
   "id": "623d06dc",
   "metadata": {},
   "outputs": [],
   "source": [
    "# Only one method to give an index, there are more...\n",
    "\n",
    "def get_hash(key):\n",
    "    a=0\n",
    "    for char in key:\n",
    "        a = a+ord(char)\n",
    "    return a%10"
   ]
  },
  {
   "cell_type": "code",
   "execution_count": 22,
   "id": "b2e9d2e3",
   "metadata": {},
   "outputs": [
    {
     "data": {
      "text/plain": [
       "112"
      ]
     },
     "execution_count": 22,
     "metadata": {},
     "output_type": "execute_result"
    }
   ],
   "source": [
    "# Gives ascii value for str\n",
    "ord('p')"
   ]
  },
  {
   "cell_type": "code",
   "execution_count": 23,
   "id": "0342c7ca",
   "metadata": {},
   "outputs": [
    {
     "data": {
      "text/plain": [
       "9"
      ]
     },
     "execution_count": 23,
     "metadata": {},
     "output_type": "execute_result"
    }
   ],
   "source": [
    "get_hash('Emp1')"
   ]
  },
  {
   "cell_type": "code",
   "execution_count": 24,
   "id": "85d79dd9",
   "metadata": {},
   "outputs": [
    {
     "data": {
      "text/plain": [
       "0"
      ]
     },
     "execution_count": 24,
     "metadata": {},
     "output_type": "execute_result"
    }
   ],
   "source": [
    "get_hash('Emp2')"
   ]
  },
  {
   "cell_type": "code",
   "execution_count": 53,
   "id": "584013fc",
   "metadata": {},
   "outputs": [],
   "source": [
    "class Hashtable:\n",
    "    def __init__(self):\n",
    "        self.Max = 50\n",
    "        self.arr = [None for i in range(self.Max)] # Used as a memory\n",
    "    \n",
    "    def get_hash(self, key):\n",
    "        a=0\n",
    "        for char in key: # gets hash index for key\n",
    "            a = a+ord(char)\n",
    "        return a%10\n",
    "    \n",
    "    def add_ele(self, key, value): # Stores value at hash(key) position in arr\n",
    "        a = self.get_hash(key)\n",
    "        self.arr[a] = value\n",
    "    \n",
    "    def get_ele(self, key): # Same as getitem function, gets value at hash key\n",
    "        a = self.get_hash(key)\n",
    "        return self.arr[a]"
   ]
  },
  {
   "cell_type": "code",
   "execution_count": 48,
   "id": "d90872f5",
   "metadata": {},
   "outputs": [],
   "source": [
    "my_dict=Hashtable()"
   ]
  },
  {
   "cell_type": "code",
   "execution_count": 49,
   "id": "5edbf1e6",
   "metadata": {},
   "outputs": [
    {
     "data": {
      "text/plain": [
       "9"
      ]
     },
     "execution_count": 49,
     "metadata": {},
     "output_type": "execute_result"
    }
   ],
   "source": [
    "my_dict.get_hash('Emp1')"
   ]
  },
  {
   "cell_type": "code",
   "execution_count": 50,
   "id": "c66c15ac",
   "metadata": {},
   "outputs": [],
   "source": [
    "my_dict.add_ele('Emp1', 100)\n",
    "my_dict.add_ele('Emp2', 200)\n",
    "my_dict.add_ele('Emp3', 300)\n",
    "my_dict.add_ele('Emp4', 400)\n",
    "my_dict.add_ele('Emp5', 500)"
   ]
  },
  {
   "cell_type": "code",
   "execution_count": 52,
   "id": "fac3302d",
   "metadata": {},
   "outputs": [
    {
     "data": {
      "text/plain": [
       "100"
      ]
     },
     "execution_count": 52,
     "metadata": {},
     "output_type": "execute_result"
    }
   ],
   "source": [
    "my_dict.get_ele('Emp1')"
   ]
  },
  {
   "cell_type": "code",
   "execution_count": 51,
   "id": "c35b2643",
   "metadata": {},
   "outputs": [
    {
     "data": {
      "text/plain": [
       "[200,\n",
       " 300,\n",
       " 400,\n",
       " 500,\n",
       " None,\n",
       " None,\n",
       " None,\n",
       " None,\n",
       " None,\n",
       " 100,\n",
       " None,\n",
       " None,\n",
       " None,\n",
       " None,\n",
       " None,\n",
       " None,\n",
       " None,\n",
       " None,\n",
       " None,\n",
       " None,\n",
       " None,\n",
       " None,\n",
       " None,\n",
       " None,\n",
       " None,\n",
       " None,\n",
       " None,\n",
       " None,\n",
       " None,\n",
       " None,\n",
       " None,\n",
       " None,\n",
       " None,\n",
       " None,\n",
       " None,\n",
       " None,\n",
       " None,\n",
       " None,\n",
       " None,\n",
       " None,\n",
       " None,\n",
       " None,\n",
       " None,\n",
       " None,\n",
       " None,\n",
       " None,\n",
       " None,\n",
       " None,\n",
       " None,\n",
       " None]"
      ]
     },
     "execution_count": 51,
     "metadata": {},
     "output_type": "execute_result"
    }
   ],
   "source": [
    "my_dict.arr"
   ]
  },
  {
   "cell_type": "code",
   "execution_count": null,
   "id": "a9efd1f2",
   "metadata": {},
   "outputs": [],
   "source": [
    "# Linked list\n",
    "# Linear data structure, not stored in continuous\n",
    "# Each item is linked to next one\n",
    "# Contains Value, Next (Node)\n",
    "# Next is the reference to the next node (pointer)\n",
    "# The last element (tail) is Null\n",
    "# Double linked list also links element to previous element (Node)\n",
    "# Circular list is where the last Node links back to the firt element (loop)"
   ]
  }
 ],
 "metadata": {
  "kernelspec": {
   "display_name": "Python 3 (ipykernel)",
   "language": "python",
   "name": "python3"
  },
  "language_info": {
   "codemirror_mode": {
    "name": "ipython",
    "version": 3
   },
   "file_extension": ".py",
   "mimetype": "text/x-python",
   "name": "python",
   "nbconvert_exporter": "python",
   "pygments_lexer": "ipython3",
   "version": "3.9.13"
  }
 },
 "nbformat": 4,
 "nbformat_minor": 5
}
