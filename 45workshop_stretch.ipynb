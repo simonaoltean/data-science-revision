{
 "cells": [
  {
   "cell_type": "markdown",
   "metadata": {},
   "source": [
    "# Ex. 1 Holiday Anomalies Plot\n",
    "\n",
    "\n",
    "Reproduce *as best you can* the first of the 3 figures from Andrew Gelman's blog post (your plot may have small differences)\n",
    "\n",
    "![](../data/births_gp100.png)\n",
    "\n",
    "**1.3.1:** Reproduce the births line in a plot. Hint: Make the x axis a `pd.datetime` object\n",
    "\n",
    "**1.3.2:** Reproduce the `smoothed` line. Hint: use a rolling window average\n",
    "\n",
    "**1.3.3:** Reproduce the entire figure with the mean line as a horizontal. You can make the y axis total births instead of a % deviation from mean axis (they'll look the same anyway)"
   ]
  },
  {
   "cell_type": "code",
   "execution_count": null,
   "metadata": {},
   "outputs": [],
   "source": [
    "#ex 1"
   ]
  },
  {
   "cell_type": "code",
   "execution_count": null,
   "metadata": {},
   "outputs": [],
   "source": []
  }
 ],
 "metadata": {
  "kernelspec": {
   "display_name": "Python 3 (ipykernel)",
   "language": "python",
   "name": "python3"
  },
  "language_info": {
   "codemirror_mode": {
    "name": "ipython",
    "version": 3
   },
   "file_extension": ".py",
   "mimetype": "text/x-python",
   "name": "python",
   "nbconvert_exporter": "python",
   "pygments_lexer": "ipython3",
   "version": "3.9.12"
  }
 },
 "nbformat": 4,
 "nbformat_minor": 4
}
