{
 "cells": [
  {
   "cell_type": "markdown",
   "metadata": {
    "id": "28X8KDs0wXN8"
   },
   "source": [
    "# Programming Questions\n",
    "\n",
    "## Exercice 1: Two Sum\n",
    "\n",
    "Given an array of integers \"nums\" and an integer \"target\", return indices of the two numbers such that they add up to \"target\".\n",
    "\n",
    "You may assume that each input would have exactly one solution, and you may not use the same element twice.\n",
    "\n",
    "```\n",
    "Input: nums = [2,7,11,15], target = 9\n",
    "Output: [0,1]\n",
    "Output: Because nums[0] + nums[1] == 9, we return [0, 1]\n",
    "```"
   ]
  },
  {
   "cell_type": "code",
   "execution_count": 12,
   "metadata": {},
   "outputs": [
    {
     "data": {
      "text/plain": [
       "[0, 1]"
      ]
     },
     "execution_count": 12,
     "metadata": {},
     "output_type": "execute_result"
    }
   ],
   "source": [
    "# exercise 1\n",
    "import numpy as np\n",
    "\n",
    "def two_sum(nums, target):\n",
    "    for i in range(len(nums)):\n",
    "        for j in range(i+1,len(nums)):\n",
    "            if nums[i]+nums[j]==target:\n",
    "                index=i,j\n",
    "                index=list(index)\n",
    "    return index\n",
    "    \n",
    "numbers = np.array([2,7,11,15])\n",
    "two_sum(numbers, 9)"
   ]
  },
  {
   "cell_type": "code",
   "execution_count": 13,
   "metadata": {},
   "outputs": [
    {
     "data": {
      "text/plain": [
       "[1, 3]"
      ]
     },
     "execution_count": 13,
     "metadata": {},
     "output_type": "execute_result"
    }
   ],
   "source": [
    "numbers = np.array([15,7,11,2])\n",
    "two_sum(numbers, 9)"
   ]
  },
  {
   "cell_type": "markdown",
   "metadata": {
    "id": "mPaOugWs_P8m"
   },
   "source": [
    "## Exercise 2: Longest Substring Without Repeating Characters\n",
    "\n",
    "Given a string s, find the length of the longest substring without repeating characters.\n",
    "\n",
    "```\n",
    "Input: s = \"abcabcbb\"\n",
    "Output: 3\n",
    "Explanation: The answer is \"abc\", with the length of 3.\n",
    "```"
   ]
  },
  {
   "cell_type": "code",
   "execution_count": 18,
   "metadata": {},
   "outputs": [
    {
     "data": {
      "text/plain": [
       "3"
      ]
     },
     "execution_count": 18,
     "metadata": {},
     "output_type": "execute_result"
    }
   ],
   "source": [
    "# exercise 2\n",
    "\n",
    "def longest_str(x):\n",
    "    sub_str = \"\"\n",
    "    for i in range(len(x)):\n",
    "        for j in range(i+1,len(x)):\n",
    "            if x[i] not in sub_str:\n",
    "                sub_str += x[i]\n",
    "            elif x[i] in sub_str:\n",
    "                break\n",
    "    return len(sub_str)\n",
    "\n",
    "longest_str(\"abcabcbb\")"
   ]
  },
  {
   "cell_type": "code",
   "execution_count": 25,
   "metadata": {},
   "outputs": [
    {
     "data": {
      "text/plain": [
       "6"
      ]
     },
     "execution_count": 25,
     "metadata": {},
     "output_type": "execute_result"
    }
   ],
   "source": [
    "longest_str(\"abcabcdefbb\")"
   ]
  },
  {
   "cell_type": "markdown",
   "metadata": {
    "id": "UzJciXjaA9Ag"
   },
   "source": [
    "## Exercise 3: Reverse Integer\n",
    "\n",
    "Given an integer, x, return x with its digits reversed.\n",
    "\n",
    "```\n",
    "Input: x = 132\n",
    "Output: 231 \n",
    "```"
   ]
  },
  {
   "cell_type": "code",
   "execution_count": 4,
   "metadata": {
    "colab": {
     "base_uri": "https://localhost:8080/"
    },
    "executionInfo": {
     "elapsed": 585,
     "status": "ok",
     "timestamp": 1612887780174,
     "user": {
      "displayName": "Usama Bari",
      "photoUrl": "https://lh3.googleusercontent.com/a-/AOh14Gi63QYmB0IpHlTGDpnIp177mO5UfCMQzxIj0VkiwQ=s64",
      "userId": "15037366419685538600"
     },
     "user_tz": 300
    },
    "id": "UOpve41VASi6",
    "outputId": "2edda1bc-59a9-4acc-c912-5be47e3950a1"
   },
   "outputs": [],
   "source": [
    "# exercise 3\n",
    "\n",
    "def reverse_(x):\n",
    "    y = str(x)\n",
    "    reverse = y[::-1]\n",
    "    return reverse"
   ]
  },
  {
   "cell_type": "code",
   "execution_count": 5,
   "metadata": {},
   "outputs": [
    {
     "data": {
      "text/plain": [
       "'321'"
      ]
     },
     "execution_count": 5,
     "metadata": {},
     "output_type": "execute_result"
    }
   ],
   "source": [
    "b = 123\n",
    "reverse_(b)"
   ]
  },
  {
   "cell_type": "code",
   "execution_count": null,
   "metadata": {},
   "outputs": [],
   "source": []
  }
 ],
 "metadata": {
  "colab": {
   "name": "1.4_02_Probability_Lecture.ipynb",
   "provenance": [
    {
     "file_id": "1uyjx4qPYJjxsSBFMg_ximeETeiIZmUe-",
     "timestamp": 1612861881515
    }
   ]
  },
  "file_extension": ".py",
  "kernelspec": {
   "display_name": "Python 3 (ipykernel)",
   "language": "python",
   "name": "python3"
  },
  "language_info": {
   "codemirror_mode": {
    "name": "ipython",
    "version": 3
   },
   "file_extension": ".py",
   "mimetype": "text/x-python",
   "name": "python",
   "nbconvert_exporter": "python",
   "pygments_lexer": "ipython3",
   "version": "3.9.12"
  },
  "mimetype": "text/x-python",
  "name": "python",
  "npconvert_exporter": "python",
  "pygments_lexer": "ipython3",
  "version": 3
 },
 "nbformat": 4,
 "nbformat_minor": 1
}
