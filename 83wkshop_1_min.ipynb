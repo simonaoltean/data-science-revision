{
 "cells": [
  {
   "cell_type": "markdown",
   "metadata": {
    "id": "GRp7uVKiP1wb"
   },
   "source": [
    "# Regression - GLMs\n",
    "\n",
    "\n",
    "## Exercise 1: Counting Poissons\n",
    "\n",
    "The `data/fish.csv` is a data set of camping trips taken by 250 groups of people.\n",
    "\n",
    "- The campers may or may not have done some fishing during their trip.\n",
    "- If a group did some fishing, they would have caught zero or mor fish.\n",
    "- We want to estimate not only how many fish were caught (if there was fishing done by a camping group), but also the probability that the camping group caught any fish at all.\n",
    "\n",
    "Here's info on the columns:\n",
    "\n",
    "- **FISH_COUNT:** The number of fish that were caught. This will be our dependent variable y.\n",
    "- **LIVE_BAIT:** A binary variable indicating whether live bait was used.\n",
    "- **CAMPER:** Whether the fishing group used a camper van.\n",
    "- **PERSONS:** Total number of people in the fishing group. Note that in some groups, none of them may have fished.\n",
    "- **CHILDREN:** The number of children in the camping group.\n",
    "\n",
    "Your task is to predict the number of fish caught (`FISH_COUNT`) by a camping group based on the values of `LIVE_BAIT`, `CAMPER`, `PERSONS` and `CHILDREN` variables.\n",
    "\n",
    "Use what we learned on count variables and zero-inflated datasets to achieve the best model you can.\n",
    "\n",
    "Interpret the models you used to give an analysis of each feature's effect on the predicted fish caught.\n",
    "\n",
    "**N.B.** Please appreciate the effort we went through to find a fish dataset for a count problem pun. 😛"
   ]
  },
  {
   "cell_type": "code",
   "execution_count": 46,
   "metadata": {
    "id": "Pngy5v6mP1wc",
    "outputId": "40133490-03f9-4679-807a-0b24af31090f"
   },
   "outputs": [
    {
     "data": {
      "text/html": [
       "<div>\n",
       "<style scoped>\n",
       "    .dataframe tbody tr th:only-of-type {\n",
       "        vertical-align: middle;\n",
       "    }\n",
       "\n",
       "    .dataframe tbody tr th {\n",
       "        vertical-align: top;\n",
       "    }\n",
       "\n",
       "    .dataframe thead th {\n",
       "        text-align: right;\n",
       "    }\n",
       "</style>\n",
       "<table border=\"1\" class=\"dataframe\">\n",
       "  <thead>\n",
       "    <tr style=\"text-align: right;\">\n",
       "      <th></th>\n",
       "      <th>LIVE_BAIT</th>\n",
       "      <th>CAMPER</th>\n",
       "      <th>PERSONS</th>\n",
       "      <th>CHILDREN</th>\n",
       "      <th>FISH_COUNT</th>\n",
       "    </tr>\n",
       "  </thead>\n",
       "  <tbody>\n",
       "    <tr>\n",
       "      <th>count</th>\n",
       "      <td>250.000000</td>\n",
       "      <td>250.000000</td>\n",
       "      <td>250.00000</td>\n",
       "      <td>250.000000</td>\n",
       "      <td>250.000000</td>\n",
       "    </tr>\n",
       "    <tr>\n",
       "      <th>mean</th>\n",
       "      <td>0.864000</td>\n",
       "      <td>0.588000</td>\n",
       "      <td>2.52800</td>\n",
       "      <td>0.684000</td>\n",
       "      <td>3.296000</td>\n",
       "    </tr>\n",
       "    <tr>\n",
       "      <th>std</th>\n",
       "      <td>0.343476</td>\n",
       "      <td>0.493182</td>\n",
       "      <td>1.11273</td>\n",
       "      <td>0.850315</td>\n",
       "      <td>11.635028</td>\n",
       "    </tr>\n",
       "    <tr>\n",
       "      <th>min</th>\n",
       "      <td>0.000000</td>\n",
       "      <td>0.000000</td>\n",
       "      <td>1.00000</td>\n",
       "      <td>0.000000</td>\n",
       "      <td>0.000000</td>\n",
       "    </tr>\n",
       "    <tr>\n",
       "      <th>25%</th>\n",
       "      <td>1.000000</td>\n",
       "      <td>0.000000</td>\n",
       "      <td>2.00000</td>\n",
       "      <td>0.000000</td>\n",
       "      <td>0.000000</td>\n",
       "    </tr>\n",
       "    <tr>\n",
       "      <th>50%</th>\n",
       "      <td>1.000000</td>\n",
       "      <td>1.000000</td>\n",
       "      <td>2.00000</td>\n",
       "      <td>0.000000</td>\n",
       "      <td>0.000000</td>\n",
       "    </tr>\n",
       "    <tr>\n",
       "      <th>75%</th>\n",
       "      <td>1.000000</td>\n",
       "      <td>1.000000</td>\n",
       "      <td>4.00000</td>\n",
       "      <td>1.000000</td>\n",
       "      <td>2.000000</td>\n",
       "    </tr>\n",
       "    <tr>\n",
       "      <th>max</th>\n",
       "      <td>1.000000</td>\n",
       "      <td>1.000000</td>\n",
       "      <td>4.00000</td>\n",
       "      <td>3.000000</td>\n",
       "      <td>149.000000</td>\n",
       "    </tr>\n",
       "  </tbody>\n",
       "</table>\n",
       "</div>"
      ],
      "text/plain": [
       "        LIVE_BAIT      CAMPER    PERSONS    CHILDREN  FISH_COUNT\n",
       "count  250.000000  250.000000  250.00000  250.000000  250.000000\n",
       "mean     0.864000    0.588000    2.52800    0.684000    3.296000\n",
       "std      0.343476    0.493182    1.11273    0.850315   11.635028\n",
       "min      0.000000    0.000000    1.00000    0.000000    0.000000\n",
       "25%      1.000000    0.000000    2.00000    0.000000    0.000000\n",
       "50%      1.000000    1.000000    2.00000    0.000000    0.000000\n",
       "75%      1.000000    1.000000    4.00000    1.000000    2.000000\n",
       "max      1.000000    1.000000    4.00000    3.000000  149.000000"
      ]
     },
     "execution_count": 46,
     "metadata": {},
     "output_type": "execute_result"
    }
   ],
   "source": [
    "# exercise 1\n",
    "\n",
    "import pandas as pd\n",
    "import statsmodels.api as sm\n",
    "import matplotlib.pyplot as plt\n",
    "import numpy as np\n",
    "\n",
    "fish = pd.read_csv(\"../data/fish.csv\")\n",
    "df = fish.copy()\n",
    "df.describe()"
   ]
  },
  {
   "cell_type": "code",
   "execution_count": 47,
   "metadata": {},
   "outputs": [
    {
     "name": "stdout",
     "output_type": "stream",
     "text": [
      "Optimization terminated successfully.\n",
      "         Current function value: 2.943385\n",
      "         Iterations: 20\n",
      "         Function evaluations: 22\n",
      "         Gradient evaluations: 22\n"
     ]
    },
    {
     "name": "stderr",
     "output_type": "stream",
     "text": [
      "C:\\Users\\Simona\\anaconda3\\lib\\site-packages\\statsmodels\\base\\model.py:604: ConvergenceWarning: Maximum Likelihood optimization failed to converge. Check mle_retvals\n",
      "  warnings.warn(\"Maximum Likelihood optimization failed to \"\n"
     ]
    },
    {
     "data": {
      "text/html": [
       "<table class=\"simpletable\">\n",
       "<caption>ZeroInflatedPoisson Regression Results</caption>\n",
       "<tr>\n",
       "  <th>Dep. Variable:</th>       <td>FISH_COUNT</td>      <th>  No. Observations:  </th>   <td>   250</td>  \n",
       "</tr>\n",
       "<tr>\n",
       "  <th>Model:</th>           <td>ZeroInflatedPoisson</td> <th>  Df Residuals:      </th>   <td>   245</td>  \n",
       "</tr>\n",
       "<tr>\n",
       "  <th>Method:</th>                  <td>MLE</td>         <th>  Df Model:          </th>   <td>     4</td>  \n",
       "</tr>\n",
       "<tr>\n",
       "  <th>Date:</th>             <td>Mon, 19 Dec 2022</td>   <th>  Pseudo R-squ.:     </th>   <td>0.3471</td>  \n",
       "</tr>\n",
       "<tr>\n",
       "  <th>Time:</th>                 <td>10:19:48</td>       <th>  Log-Likelihood:    </th>  <td> -735.85</td> \n",
       "</tr>\n",
       "<tr>\n",
       "  <th>converged:</th>              <td>True</td>         <th>  LL-Null:           </th>  <td> -1127.0</td> \n",
       "</tr>\n",
       "<tr>\n",
       "  <th>Covariance Type:</th>      <td>nonrobust</td>      <th>  LLR p-value:       </th> <td>5.101e-168</td>\n",
       "</tr>\n",
       "</table>\n",
       "<table class=\"simpletable\">\n",
       "<tr>\n",
       "        <td></td>           <th>coef</th>     <th>std err</th>      <th>z</th>      <th>P>|z|</th>  <th>[0.025</th>    <th>0.975]</th>  \n",
       "</tr>\n",
       "<tr>\n",
       "  <th>inflate_const</th> <td>   -0.4805</td> <td>    0.177</td> <td>   -2.720</td> <td> 0.007</td> <td>   -0.827</td> <td>   -0.134</td>\n",
       "</tr>\n",
       "<tr>\n",
       "  <th>const</th>         <td>   -2.5327</td> <td>    0.278</td> <td>   -9.099</td> <td> 0.000</td> <td>   -3.078</td> <td>   -1.987</td>\n",
       "</tr>\n",
       "<tr>\n",
       "  <th>LIVE_BAIT</th>     <td>    1.7086</td> <td>    0.242</td> <td>    7.073</td> <td> 0.000</td> <td>    1.235</td> <td>    2.182</td>\n",
       "</tr>\n",
       "<tr>\n",
       "  <th>CAMPER</th>        <td>    0.6745</td> <td>    0.094</td> <td>    7.191</td> <td> 0.000</td> <td>    0.491</td> <td>    0.858</td>\n",
       "</tr>\n",
       "<tr>\n",
       "  <th>PERSONS</th>       <td>    0.8752</td> <td>    0.043</td> <td>   20.447</td> <td> 0.000</td> <td>    0.791</td> <td>    0.959</td>\n",
       "</tr>\n",
       "<tr>\n",
       "  <th>CHILDREN</th>      <td>   -1.3957</td> <td>    0.090</td> <td>  -15.582</td> <td> 0.000</td> <td>   -1.571</td> <td>   -1.220</td>\n",
       "</tr>\n",
       "</table>"
      ],
      "text/plain": [
       "<class 'statsmodels.iolib.summary.Summary'>\n",
       "\"\"\"\n",
       "                     ZeroInflatedPoisson Regression Results                    \n",
       "===============================================================================\n",
       "Dep. Variable:              FISH_COUNT   No. Observations:                  250\n",
       "Model:             ZeroInflatedPoisson   Df Residuals:                      245\n",
       "Method:                            MLE   Df Model:                            4\n",
       "Date:                 Mon, 19 Dec 2022   Pseudo R-squ.:                  0.3471\n",
       "Time:                         10:19:48   Log-Likelihood:                -735.85\n",
       "converged:                        True   LL-Null:                       -1127.0\n",
       "Covariance Type:             nonrobust   LLR p-value:                5.101e-168\n",
       "=================================================================================\n",
       "                    coef    std err          z      P>|z|      [0.025      0.975]\n",
       "---------------------------------------------------------------------------------\n",
       "inflate_const    -0.4805      0.177     -2.720      0.007      -0.827      -0.134\n",
       "const            -2.5327      0.278     -9.099      0.000      -3.078      -1.987\n",
       "LIVE_BAIT         1.7086      0.242      7.073      0.000       1.235       2.182\n",
       "CAMPER            0.6745      0.094      7.191      0.000       0.491       0.858\n",
       "PERSONS           0.8752      0.043     20.447      0.000       0.791       0.959\n",
       "CHILDREN         -1.3957      0.090    -15.582      0.000      -1.571      -1.220\n",
       "=================================================================================\n",
       "\"\"\""
      ]
     },
     "execution_count": 47,
     "metadata": {},
     "output_type": "execute_result"
    }
   ],
   "source": [
    "y = df['FISH_COUNT']\n",
    "X = df.drop('FISH_COUNT',axis=1)\n",
    "X = sm.add_constant(X)\n",
    "est = sm.ZeroInflatedPoisson(y,X).fit()\n",
    "est.summary()"
   ]
  },
  {
   "cell_type": "code",
   "execution_count": 48,
   "metadata": {},
   "outputs": [],
   "source": [
    "def reg_plot_on_ax(feature, ax):\n",
    "\n",
    "    X = df.drop('FISH_COUNT',axis=1)\n",
    "    X = sm.add_constant(X)\n",
    "    features = list(X.columns)\n",
    "    \n",
    "    means_list = []\n",
    "    input_df = {'const':1.0}\n",
    "    for i in range(len(features)):\n",
    "        means_list.append(X[features[i]].mean())\n",
    "    for j in range(len(features)):\n",
    "        input_df[features[j]]=means_list[j]\n",
    "    input_df = pd.DataFrame(input_df,index = range(250))\n",
    "\n",
    "    min_feature = df[feature].min()\n",
    "    max_feature = df[feature].max()\n",
    "    ticks = (max_feature-min_feature)/250\n",
    "    n=min_feature\n",
    "    for i in range(len(input_df[feature])):\n",
    "        input_df[feature].iloc[i] = n\n",
    "        n += ticks\n",
    "        \n",
    "    features = list(df.columns)\n",
    "    for i in range(len(features)):\n",
    "        if features[i]==feature:\n",
    "            index = i+1\n",
    "    \n",
    "    y = df['FISH_COUNT']\n",
    "    X = np.squeeze(np.asarray(X))\n",
    "    y = np.squeeze(np.asarray(y))\n",
    "    est = sm.ZeroInflatedPoisson(y,X).fit()\n",
    "    \n",
    "    Xfit = input_df\n",
    "    yfit = est.predict(Xfit)\n",
    "    Xfit = np.squeeze(np.asarray(Xfit))\n",
    "    \n",
    "    title_name = {'LIVE_BAIT':'Live Bait','CAMPER':feature.capitalize(),'PERSONS':feature.capitalize()\n",
    "                  ,'CHILDREN':feature.capitalize()}\n",
    "    \n",
    "    ax.scatter(X[:,index],y, color='blue', alpha=0.3, s=35 , marker='<')\n",
    "    ax.plot(Xfit[:,index],yfit, c='magenta')\n",
    "    ax.set_title(f'Fish Count by {title_name[feature]}')\n",
    "    ax.set_ylabel('Fish Count')\n",
    "    ax.set_xlabel('Persons')\n",
    "#     ax.set_xticks([1.0,2.0,3.0,4.0])\n",
    "#     fig.show()"
   ]
  },
  {
   "cell_type": "code",
   "execution_count": 49,
   "metadata": {
    "scrolled": false
   },
   "outputs": [
    {
     "name": "stderr",
     "output_type": "stream",
     "text": [
      "C:\\Users\\Simona\\anaconda3\\lib\\site-packages\\statsmodels\\base\\model.py:604: ConvergenceWarning: Maximum Likelihood optimization failed to converge. Check mle_retvals\n",
      "  warnings.warn(\"Maximum Likelihood optimization failed to \"\n",
      "C:\\Users\\Simona\\anaconda3\\lib\\site-packages\\statsmodels\\base\\model.py:604: ConvergenceWarning: Maximum Likelihood optimization failed to converge. Check mle_retvals\n",
      "  warnings.warn(\"Maximum Likelihood optimization failed to \"\n",
      "C:\\Users\\Simona\\anaconda3\\lib\\site-packages\\statsmodels\\base\\model.py:604: ConvergenceWarning: Maximum Likelihood optimization failed to converge. Check mle_retvals\n",
      "  warnings.warn(\"Maximum Likelihood optimization failed to \"\n",
      "C:\\Users\\Simona\\anaconda3\\lib\\site-packages\\statsmodels\\base\\model.py:604: ConvergenceWarning: Maximum Likelihood optimization failed to converge. Check mle_retvals\n",
      "  warnings.warn(\"Maximum Likelihood optimization failed to \"\n"
     ]
    },
    {
     "name": "stdout",
     "output_type": "stream",
     "text": [
      "Optimization terminated successfully.\n",
      "         Current function value: 2.943385\n",
      "         Iterations: 20\n",
      "         Function evaluations: 22\n",
      "         Gradient evaluations: 22\n",
      "Optimization terminated successfully.\n",
      "         Current function value: 2.943385\n",
      "         Iterations: 20\n",
      "         Function evaluations: 22\n",
      "         Gradient evaluations: 22\n",
      "Optimization terminated successfully.\n",
      "         Current function value: 2.943385\n",
      "         Iterations: 20\n",
      "         Function evaluations: 22\n",
      "         Gradient evaluations: 22\n",
      "Optimization terminated successfully.\n",
      "         Current function value: 2.943385\n",
      "         Iterations: 20\n",
      "         Function evaluations: 22\n",
      "         Gradient evaluations: 22\n"
     ]
    },
    {
     "data": {
      "image/png": "[encoded data removed]",
      "text/plain": [
       "<Figure size 1050x850 with 4 Axes>"
      ]
     },
     "metadata": {},
     "output_type": "display_data"
    }
   ],
   "source": [
    "fig, ((ax1,ax2),(ax3,ax4)) = plt.subplots(2,2,figsize=(10.5,8.5))\n",
    "reg_plot_on_ax('LIVE_BAIT',ax1)\n",
    "reg_plot_on_ax('CAMPER',ax2)\n",
    "reg_plot_on_ax('PERSONS',ax3)\n",
    "reg_plot_on_ax('CHILDREN',ax4)\n",
    "fig.tight_layout()"
   ]
  },
  {
   "cell_type": "code",
   "execution_count": 64,
   "metadata": {},
   "outputs": [
    {
     "name": "stdout",
     "output_type": "stream",
     "text": [
      "LIVE_BAIT 1.7086\n",
      "CAMPER    0.6745\n",
      "PERSONS   0.8752\n",
      "CHILDREN -1.3957\n",
      "\n",
      "The model gives us some information on the relationship between each feature and the number of fish caught. \n",
      "In the case of whether live bait was used, it seems that when live bait is used (1) as opposed to not used (0), \n",
      "there are a higher number of fish caught with that live bait, the model's coefficient being positive (1.7086). \n",
      "The relationship between whether the fishing group used a camper van and the fish count is a positive one, the \n",
      "the coefficient between those two variables being positive and of 0.6745. As for the number of people in the, \n",
      "fishing group, the fish count seems to increase with the value of that feature, the coefficient being 0.8752 and \n",
      "positive. This shows that the higher the number of people in the group, the higher the fish count tends to be. \n",
      "However, the number of children in the camping group seems to have a negative relationship with the fish count \n",
      "the coefficient being -1.3957 and indicating that the number of fish caught decreases with the number of children.\n"
     ]
    }
   ],
   "source": [
    "print(\"LIVE_BAIT 1.7086\",\n",
    "      \"CAMPER    0.6745\",\n",
    "      \"PERSONS   0.8752\",\n",
    "      \"CHILDREN -1.3957\",\n",
    "      sep=\"\\n\")\n",
    "print(\"\\nThe model gives us some information on the relationship between each feature and the number of fish caught.\",\n",
    "      \"\\nIn the case of whether live bait was used, it seems that when live bait is used (1) as opposed to not used (0),\",\n",
    "      \"\\nthere are a higher number of fish caught with that live bait, the model's coefficient being positive (1.7086).\",\n",
    "      \"\\nThe relationship between whether the fishing group used a camper van and the fish count is a positive one, the\",\n",
    "      \"\\nthe coefficient between those two variables being positive and of 0.6745. As for the number of people in the,\",\n",
    "      \"\\nfishing group, the fish count seems to increase with the value of that feature, the coefficient being 0.8752 and\",\n",
    "      \"\\npositive. This shows that the higher the number of people in the group, the higher the fish count tends to be.\",\n",
    "      \"\\nHowever, the number of children in the camping group seems to have a negative relationship with the fish count\", \n",
    "      \"\\nthe coefficient being -1.3957 and indicating that the number of fish caught decreases with the number of children.\")"
   ]
  },
  {
   "cell_type": "code",
   "execution_count": null,
   "metadata": {},
   "outputs": [],
   "source": []
  }
 ],
 "metadata": {
  "colab": {
   "name": "workshop.ipynb",
   "provenance": [],
   "toc_visible": true
  },
  "file_extension": ".py",
  "interpreter": {
   "hash": "aee8b7b246df8f9039afb4144a1f6fd8d2ca17a180786b69acc140d282b71a49"
  },
  "kernelspec": {
   "display_name": "Python 3 (ipykernel)",
   "language": "python",
   "name": "python3"
  },
  "language_info": {
   "codemirror_mode": {
    "name": "ipython",
    "version": 3
   },
   "file_extension": ".py",
   "mimetype": "text/x-python",
   "name": "python",
   "nbconvert_exporter": "python",
   "pygments_lexer": "ipython3",
   "version": "3.9.13"
  },
  "mimetype": "text/x-python",
  "name": "python",
  "npconvert_exporter": "python",
  "pygments_lexer": "ipython3",
  "version": 3
 },
 "nbformat": 4,
 "nbformat_minor": 1
}
