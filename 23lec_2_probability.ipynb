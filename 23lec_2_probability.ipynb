{
 "cells": [
  {
   "cell_type": "markdown",
   "metadata": {
    "id": "BkXOX5boybF7"
   },
   "source": [
    "# Intro to Probability\n",
    "\n",
    "## Terminology\n",
    "\n",
    "_What do these terms mean?_\n",
    "\n",
    "- Experiment\n",
    "- sample space\n",
    "- event\n",
    "- uniform distribution"
   ]
  },
  {
   "cell_type": "markdown",
   "metadata": {},
   "source": [
    "### Sample space\n",
    "\n",
    "All possible outcomes of an experiment form a set known as the sample space, which we’ll usually call $S$ in our formulas. For example, when a six-sided die is rolled once, the sample space is `{1, 2, 3, 4, 5, 6}`. \n",
    "\n",
    "### Event \n",
    "An event is a set of outcomes that we want to calculate the probability of and that form a subset of the sample space. For example, we might want to know the probability of a particular outcome, like rolling a 3, or the probability of a set of multiple outcomes, such as rolling an even number (either 2, 4, or 6). We’ll use the letter E in our formulas to stand for an event."
   ]
  },
  {
   "cell_type": "markdown",
   "metadata": {},
   "source": [
    "### Uniform distribution\n",
    "\n",
    "If each outcome in the sample space is equally likely to occur, we say the outcomes come from the **uniform distribution** (we'll see other distributions later on).\n",
    "\n",
    "In this case the probability of an event, $P(E)$, occurring is calculated using the following formula:\n",
    "\n",
    "$$P(E) = \\dfrac{|E|}{|S|}$$\n",
    "\n",
    "Remember that $|x|$ is the *cardinality* of a set $x$ in math, which is equivalent to `len(x)` in python.\n",
    "\n",
    "In code:"
   ]
  },
  {
   "cell_type": "code",
   "execution_count": 1,
   "metadata": {
    "executionInfo": {
     "elapsed": 278,
     "status": "ok",
     "timestamp": 1612883499018,
     "user": {
      "displayName": "Usama Bari",
      "photoUrl": "https://lh3.googleusercontent.com/a-/AOh14Gi63QYmB0IpHlTGDpnIp177mO5UfCMQzxIj0VkiwQ=s64",
      "userId": "15037366419685538600"
     },
     "user_tz": 300
    },
    "id": "psHfiJJPybF9"
   },
   "outputs": [],
   "source": [
    "def probability(event,space):\n",
    "    return len(event)/len(space)"
   ]
  },
  {
   "cell_type": "markdown",
   "metadata": {
    "id": "VYeAtrTNybGB"
   },
   "source": [
    "So for the probability of rolling a number on a dice is:"
   ]
  },
  {
   "cell_type": "code",
   "execution_count": 2,
   "metadata": {
    "colab": {
     "base_uri": "https://localhost:8080/"
    },
    "executionInfo": {
     "elapsed": 341,
     "status": "ok",
     "timestamp": 1612883500208,
     "user": {
      "displayName": "Usama Bari",
      "photoUrl": "https://lh3.googleusercontent.com/a-/AOh14Gi63QYmB0IpHlTGDpnIp177mO5UfCMQzxIj0VkiwQ=s64",
      "userId": "15037366419685538600"
     },
     "user_tz": 300
    },
    "id": "AwLBUu0qybGB",
    "outputId": "db5123ce-977f-477a-b28e-7158659fa37d"
   },
   "outputs": [
    {
     "data": {
      "text/plain": [
       "0.16666666666666666"
      ]
     },
     "execution_count": 2,
     "metadata": {},
     "output_type": "execute_result"
    }
   ],
   "source": [
    "outcomes = [1,2,3,4,5,6]\n",
    "\n",
    "probability([1],outcomes)"
   ]
  },
  {
   "cell_type": "markdown",
   "metadata": {
    "id": "ufVocWRtybGF"
   },
   "source": [
    "## Probability of multiple events\n",
    "\n",
    "The probability of ONE OF multiple events is the sum of the probabilities of each occurance.\n",
    "\n",
    "$$P(E) = \\dfrac{|E_1| + |E_2|}{|S|}$$\n",
    "\n",
    "So for the probability of a number being greater than 4 **or** being even, then the probability is: "
   ]
  },
  {
   "cell_type": "code",
   "execution_count": 3,
   "metadata": {
    "colab": {
     "base_uri": "https://localhost:8080/"
    },
    "executionInfo": {
     "elapsed": 384,
     "status": "ok",
     "timestamp": 1612883560217,
     "user": {
      "displayName": "Usama Bari",
      "photoUrl": "https://lh3.googleusercontent.com/a-/AOh14Gi63QYmB0IpHlTGDpnIp177mO5UfCMQzxIj0VkiwQ=s64",
      "userId": "15037366419685538600"
     },
     "user_tz": 300
    },
    "id": "nLFQC44JybGG",
    "outputId": "2a8a911d-23ad-4b82-8198-1c56b77f6def"
   },
   "outputs": [
    {
     "name": "stdout",
     "output_type": "stream",
     "text": [
      "[2, 4, 5, 6]\n"
     ]
    }
   ],
   "source": [
    "event = []\n",
    "for i in outcomes:\n",
    "    if i > 4 or i % 2 == 0:\n",
    "        event.append(i)\n",
    "print(event)\n",
    "\n"
   ]
  },
  {
   "cell_type": "code",
   "execution_count": 4,
   "metadata": {},
   "outputs": [
    {
     "data": {
      "text/plain": [
       "0.6666666666666666"
      ]
     },
     "execution_count": 4,
     "metadata": {},
     "output_type": "execute_result"
    }
   ],
   "source": [
    "probability(event,outcomes)"
   ]
  },
  {
   "cell_type": "markdown",
   "metadata": {
    "id": "1kPLbrrYybGL"
   },
   "source": [
    "The probability of ALL OF multiple events is the probability of the intersection of the possible events\n",
    "\n",
    "$$P(E) = \\dfrac{|E_1 \\cap E_2|}{|S|}$$\n",
    "\n",
    "## Generating Random Numbers\n",
    "\n",
    "Both `random` and `numpy.random` can generate random numbers for us. A random number generator is often called a **RNG**"
   ]
  },
  {
   "cell_type": "code",
   "execution_count": 5,
   "metadata": {
    "colab": {
     "base_uri": "https://localhost:8080/"
    },
    "executionInfo": {
     "elapsed": 306,
     "status": "ok",
     "timestamp": 1612884245919,
     "user": {
      "displayName": "Usama Bari",
      "photoUrl": "https://lh3.googleusercontent.com/a-/AOh14Gi63QYmB0IpHlTGDpnIp177mO5UfCMQzxIj0VkiwQ=s64",
      "userId": "15037366419685538600"
     },
     "user_tz": 300
    },
    "id": "mpVoWKlQybGL",
    "outputId": "cca393c2-98a1-4bc4-a182-7e7f8944f20d"
   },
   "outputs": [
    {
     "name": "stdout",
     "output_type": "stream",
     "text": [
      "[5 3 3 3]\n"
     ]
    }
   ],
   "source": [
    "import numpy as np \n",
    "import random\n",
    "\n",
    "print(np.random.randint(1,6,4))"
   ]
  },
  {
   "cell_type": "markdown",
   "metadata": {
    "id": "99EfQ5QPfM-y"
   },
   "source": [
    "## Probability of Successive Independent Events\n",
    "\n",
    "The probability of two independents events occuring at the same time (or successively) is simply the product of each of the events occuring.\n",
    "\n",
    "Example:\n",
    "\n",
    "The probability of flipping heads on a fair coin and rolling a 3 on a fair dice can be written as:\n",
    "\n",
    "$$P(Getting Heads + Rolling 3) = P(Getting Heads) * P(Rolling 3)$$"
   ]
  },
  {
   "cell_type": "code",
   "execution_count": 6,
   "metadata": {
    "colab": {
     "base_uri": "https://localhost:8080/"
    },
    "executionInfo": {
     "elapsed": 440,
     "status": "ok",
     "timestamp": 1612884409087,
     "user": {
      "displayName": "Usama Bari",
      "photoUrl": "https://lh3.googleusercontent.com/a-/AOh14Gi63QYmB0IpHlTGDpnIp177mO5UfCMQzxIj0VkiwQ=s64",
      "userId": "15037366419685538600"
     },
     "user_tz": 300
    },
    "id": "NzIwBVchybGO",
    "outputId": "3a37ed27-6291-4239-db66-5abc47cbb8d9"
   },
   "outputs": [
    {
     "name": "stdout",
     "output_type": "stream",
     "text": [
      "0.08333333333333333\n"
     ]
    }
   ],
   "source": [
    "gethead_and_3 = probability(['H'],['H','T'])*probability([3],[1,2,3,4,5,6])\n",
    "\n",
    "print(gethead_and_3)"
   ]
  },
  {
   "cell_type": "markdown",
   "metadata": {
    "id": "jTWpz1O4hOCj"
   },
   "source": [
    "## Conditional Probability\n",
    "\n",
    "So far, we have taken a look at probabilities that weren't conditioned on an event occuring before it.\n",
    "\n",
    "For example: The probability of flipping two heads is going to be different from the probability of flipping 2 heads given that the first coin toss was heads.\n",
    "\n",
    "$$P(Two Heads) = P(Heads)*P(Heads)$$\n",
    "$$P(Two Heads|First Toss  Was  Heads) = P(Heads)$$\n",
    "\n",
    "#Law of Total Probability\n",
    "Drawing on Conditional Proabilities, the Law of Total Probability states that the probability of an event occuring can be written as:\n",
    "\n",
    "$$P(A) = P(B)P(A|B) + P(C)P(A|C)....$$\n",
    "\n",
    "Going back to the example, if you're wondering why $P(Two Heads|First Toss  Was  Heads) = P(Heads)$, we draw on Bayes theorem which gives us an equation for conditional Probability.\n",
    "\n",
    "$$P(A|B) = \\frac{P(B|A) * P (A)}{P(B)}$$\n",
    "\n",
    "---\n",
    "\n",
    "To see an application of conditional probability, watch this Youtube video on the [Monty Hall Problem](https://www.youtube.com/embed/4Lb-6rxZxx0)."
   ]
  },
  {
   "cell_type": "markdown",
   "metadata": {
    "id": "28X8KDs0wXN8"
   },
   "source": [
    "## Activity!\n",
    "\n",
    "_this exercise is also in the workshop._\n",
    "\n",
    "### Two Sum\n",
    "\n",
    "Given an array of integers \"nums\" and an integer \"target\", return indices of the two numbers such that they add up to \"target\".\n",
    "\n",
    "You may assume that each input would have exactly one solution, and you may not use the same element twice.\n",
    "\n",
    "```\n",
    "Input: nums = [2,7,11,15], target = 9\n",
    "Output: [0,1]\n",
    "Output: Because nums[0] + nums[1] == 9, we return [0, 1]\n",
    "```"
   ]
  },
  {
   "cell_type": "code",
   "execution_count": null,
   "metadata": {
    "colab": {
     "base_uri": "https://localhost:8080/"
    },
    "executionInfo": {
     "elapsed": 348,
     "status": "ok",
     "timestamp": 1612886125292,
     "user": {
      "displayName": "Usama Bari",
      "photoUrl": "https://lh3.googleusercontent.com/a-/AOh14Gi63QYmB0IpHlTGDpnIp177mO5UfCMQzxIj0VkiwQ=s64",
      "userId": "15037366419685538600"
     },
     "user_tz": 300
    },
    "id": "UJhQ-0PBvOqQ",
    "outputId": "9fa9c044-5fe2-451b-b6e1-d101bc89342c"
   },
   "outputs": [],
   "source": []
  },
  {
   "cell_type": "code",
   "execution_count": null,
   "metadata": {},
   "outputs": [],
   "source": []
  }
 ],
 "metadata": {
  "colab": {
   "name": "1.4_02_Probability_Lecture.ipynb",
   "provenance": [
    {
     "file_id": "1uyjx4qPYJjxsSBFMg_ximeETeiIZmUe-",
     "timestamp": 1612861881515
    }
   ]
  },
  "file_extension": ".py",
  "kernelspec": {
   "display_name": "Python 3 (ipykernel)",
   "language": "python",
   "name": "python3"
  },
  "language_info": {
   "codemirror_mode": {
    "name": "ipython",
    "version": 3
   },
   "file_extension": ".py",
   "mimetype": "text/x-python",
   "name": "python",
   "nbconvert_exporter": "python",
   "pygments_lexer": "ipython3",
   "version": "3.9.13"
  },
  "mimetype": "text/x-python",
  "name": "python",
  "npconvert_exporter": "python",
  "pygments_lexer": "ipython3",
  "version": 3
 },
 "nbformat": 4,
 "nbformat_minor": 4
}
