{
 "cells": [
  {
   "cell_type": "markdown",
   "metadata": {
    "colab_type": "text",
    "id": "R4HEXrrhIgH8"
   },
   "source": [
    "# Set Theory\n",
    "\n",
    "Natural numbers and real numbers are examples of **sets**. The set is the most basic mathematical object -- all mathematics is derived up from sets.\n",
    "\n",
    "A **Set** is a collection of **unique** (eg. not repeated) objects."
   ]
  },
  {
   "cell_type": "code",
   "execution_count": 1,
   "metadata": {
    "colab": {
     "base_uri": "https://localhost:8080/",
     "height": 34
    },
    "colab_type": "code",
    "executionInfo": {
     "elapsed": 487,
     "status": "ok",
     "timestamp": 1594651295173,
     "user": {
      "displayName": "Matthieu Ranger",
      "photoUrl": "",
      "userId": "05160963434497794589"
     },
     "user_tz": 240
    },
    "id": "SwhprlX7IgH_",
    "outputId": "6e69a5f2-f39f-4654-ae3f-7092806ed9bc"
   },
   "outputs": [
    {
     "data": {
      "text/plain": [
       "set"
      ]
     },
     "execution_count": 1,
     "metadata": {},
     "output_type": "execute_result"
    }
   ],
   "source": [
    "# A Set is a collection of **UNIQUE** (non-repeated) objects\n",
    "# Python has a fundamental type for sets:\n",
    "\n",
    "my_set = {'a', 'b', 'c'}\n",
    "type(my_set)"
   ]
  },
  {
   "cell_type": "code",
   "execution_count": 2,
   "metadata": {
    "colab": {
     "base_uri": "https://localhost:8080/",
     "height": 34
    },
    "colab_type": "code",
    "executionInfo": {
     "elapsed": 419,
     "status": "ok",
     "timestamp": 1594653042023,
     "user": {
      "displayName": "Matthieu Ranger",
      "photoUrl": "",
      "userId": "05160963434497794589"
     },
     "user_tz": 240
    },
    "id": "bkmubPWtuW9V",
    "outputId": "5a5ebd93-0249-4e96-cb99-073eb20976b1"
   },
   "outputs": [
    {
     "data": {
      "text/plain": [
       "{'a', 'b'}"
      ]
     },
     "execution_count": 2,
     "metadata": {},
     "output_type": "execute_result"
    }
   ],
   "source": [
    "# Sets must be non-repeating\n",
    "my_set = {'a', 'a', 'b'}\n",
    "# Python coerces the non-repetition\n",
    "my_set"
   ]
  },
  {
   "cell_type": "markdown",
   "metadata": {
    "colab_type": "text",
    "id": "vaZ6HhGLpaYu"
   },
   "source": [
    "Mathematics has a particular notation for sets. For instance you might see a mathematician declare:\n",
    "\n",
    "$$S = \\{x : x \\in \\mathbb{N}, x\\ is\\ divisible\\ by\\ 7\\}$$\n",
    "Let's translate this:\n",
    "\n",
    "**\"S is the set of values x such that x is in N and x is divisible by 7.\"**\n",
    "\n",
    "To make all the symbols unambiguous:\n",
    "\n",
    "$S$ is the set we're declaring. We normally use capital letters for sets and lower case letters for the elements in sets. \n",
    "\n",
    "The curly bracket operator $\\{stuff\\ here\\}$ is used declare sets. This is true in math and in python.\n",
    "\n",
    "The $\\in$ reads as \"is in\". The colon in the declaration reads like \"such that\". This colon is sometimes a pipe `|`, they're equivalent.\n",
    "\n",
    "$\\mathbb{N}$ is the set of natural numbers. You'll also see $\\mathbb{R}$, the set of real numbers. If you're confused about symbols you don't recognize, don't be shy to look them up in [tables of math symbols](https://en.wikipedia.org/wiki/List_of_mathematical_symbols).\n",
    "\n",
    "Note that python directly supports this sort of notation with something called *list comprehension*:"
   ]
  },
  {
   "cell_type": "code",
   "execution_count": 3,
   "metadata": {
    "colab": {
     "base_uri": "https://localhost:8080/",
     "height": 34
    },
    "colab_type": "code",
    "executionInfo": {
     "elapsed": 345,
     "status": "ok",
     "timestamp": 1594652431681,
     "user": {
      "displayName": "Matthieu Ranger",
      "photoUrl": "",
      "userId": "05160963434497794589"
     },
     "user_tz": 240
    },
    "id": "xt_0ovwzq8fG",
    "outputId": "ad7add7c-76bc-43d0-a214-0651f071fe17"
   },
   "outputs": [
    {
     "data": {
      "text/plain": [
       "{0, 7, 14, 21, 28, 35, 42, 49, 56, 63, 70, 77, 84, 91, 98}"
      ]
     },
     "execution_count": 3,
     "metadata": {},
     "output_type": "execute_result"
    }
   ],
   "source": [
    "natural_numbers = range(0, 100)\n",
    "\n",
    "my_set = {x for x in natural_numbers if x % 7 == 0}\n",
    "my_set"
   ]
  },
  {
   "cell_type": "markdown",
   "metadata": {
    "colab_type": "text",
    "id": "jWE5TlUNoTuY"
   },
   "source": [
    "The math cleanly translates to code with a few differences:\n",
    "\n",
    "- The natural numbers has an infinite number of elements. You can keep counting forever.\n",
    "\n",
    "This is a problem because programs are running in the real world. Your computer doesn't have an infinite amount of memory.\n",
    "\n",
    "Math, unlike programming, is only constrained by our imagination, so nothing prevents us from declaring sets with infinite numbers of elements.\n",
    "\n",
    "- \"x is divisible by 7\" is ambiguous english language. We need to be precise in programming, so we use the [modulo](https://en.wikipedia.org/wiki/Modulo_operation) (the division remainder) to specify what we mean by \"is divisible\".\n",
    "\n",
    "**A tangent on infinities:**\n",
    "\n",
    "The real numbers is a set with an infinite number of elements. The natural numbers also has infinite elements. B\n",
    "\n",
    "But clearly there are more real numbers than there are natural numbers, so is one infinity larger than another?\n",
    "\n",
    "The answer [to that question is yes](https://www.youtube.com/watch?v=SrU9YDoXE88)."
   ]
  },
  {
   "cell_type": "markdown",
   "metadata": {
    "colab_type": "text",
    "id": "K4Zz1Oi6vXOx"
   },
   "source": [
    "## Operations on sets\n",
    "\n",
    "Because sets are forced to have unique objects we can define operations on them.\n",
    "\n",
    "- **Cardinality** of a set $A$ is denoted in mathematics as $|A|$. It's the number of elements in the set."
   ]
  },
  {
   "cell_type": "code",
   "execution_count": 4,
   "metadata": {
    "colab": {
     "base_uri": "https://localhost:8080/",
     "height": 34
    },
    "colab_type": "code",
    "executionInfo": {
     "elapsed": 616,
     "status": "ok",
     "timestamp": 1594654169189,
     "user": {
      "displayName": "Matthieu Ranger",
      "photoUrl": "",
      "userId": "05160963434497794589"
     },
     "user_tz": 240
    },
    "id": "NJQVuq63IgIJ",
    "outputId": "b65ecb50-5938-44f7-89f5-37040eac9f50"
   },
   "outputs": [
    {
     "data": {
      "text/plain": [
       "15"
      ]
     },
     "execution_count": 4,
     "metadata": {},
     "output_type": "execute_result"
    }
   ],
   "source": [
    "# Cardinality in python is just the len() function\n",
    "len(my_set)"
   ]
  },
  {
   "cell_type": "markdown",
   "metadata": {
    "colab_type": "text",
    "id": "muxaFXkUy-kH"
   },
   "source": [
    "- **Union** is denoted with the big u-like symbol $\\cup$. It's the elements of one set and an other grouped into one (unique) set"
   ]
  },
  {
   "cell_type": "code",
   "execution_count": 5,
   "metadata": {
    "colab": {
     "base_uri": "https://localhost:8080/",
     "height": 34
    },
    "colab_type": "code",
    "executionInfo": {
     "elapsed": 406,
     "status": "ok",
     "timestamp": 1594654291128,
     "user": {
      "displayName": "Matthieu Ranger",
      "photoUrl": "",
      "userId": "05160963434497794589"
     },
     "user_tz": 240
    },
    "id": "yJ2GzZgAv475",
    "outputId": "d6e3d15e-2a32-4537-c2e3-3482f52cf0e3"
   },
   "outputs": [
    {
     "data": {
      "text/plain": [
       "{'a', 'b', 'c', 'd', 'e'}"
      ]
     },
     "execution_count": 5,
     "metadata": {},
     "output_type": "execute_result"
    }
   ],
   "source": [
    "{'a', 'b', 'c', 'd'}.union({'b', 'c', 'd', 'e'})"
   ]
  },
  {
   "cell_type": "markdown",
   "metadata": {
    "colab_type": "text",
    "id": "dbQHU1ZxzfRw"
   },
   "source": [
    "- **Intersection** is the converse of an union. It's denoted by $\\cap$. It's the set of elements in both sets.\n"
   ]
  },
  {
   "cell_type": "code",
   "execution_count": 6,
   "metadata": {
    "colab": {
     "base_uri": "https://localhost:8080/",
     "height": 34
    },
    "colab_type": "code",
    "executionInfo": {
     "elapsed": 387,
     "status": "ok",
     "timestamp": 1594654331094,
     "user": {
      "displayName": "Matthieu Ranger",
      "photoUrl": "",
      "userId": "05160963434497794589"
     },
     "user_tz": 240
    },
    "id": "fkpIQlmKv4-Q",
    "outputId": "562b49a7-6572-4b12-8caf-50d838abe719"
   },
   "outputs": [
    {
     "data": {
      "text/plain": [
       "{'b', 'c', 'd'}"
      ]
     },
     "execution_count": 6,
     "metadata": {},
     "output_type": "execute_result"
    }
   ],
   "source": [
    "{'a', 'b', 'c', 'd'}.intersection({'b', 'c', 'd', 'e'})"
   ]
  },
  {
   "cell_type": "markdown",
   "metadata": {
    "colab_type": "text",
    "id": "4TILTU6j6ePq"
   },
   "source": [
    "- The **Difference** is the opposite of the union. It's the elements in one but not the other. \n",
    "\n",
    "We often just denote it with $-$ Eg. $S = \\{a : a \\in A - B\\} = A - B$"
   ]
  },
  {
   "cell_type": "code",
   "execution_count": 7,
   "metadata": {
    "colab": {
     "base_uri": "https://localhost:8080/",
     "height": 34
    },
    "colab_type": "code",
    "executionInfo": {
     "elapsed": 429,
     "status": "ok",
     "timestamp": 1594656316252,
     "user": {
      "displayName": "Matthieu Ranger",
      "photoUrl": "",
      "userId": "05160963434497794589"
     },
     "user_tz": 240
    },
    "id": "U7UfSFKa6epd",
    "outputId": "d932f0e8-6f79-4a8f-cb57-807b75cd46f6"
   },
   "outputs": [
    {
     "data": {
      "text/plain": [
       "{'b'}"
      ]
     },
     "execution_count": 7,
     "metadata": {},
     "output_type": "execute_result"
    }
   ],
   "source": [
    "{'a', 'b', \"c\"}.difference({'a', 'c'})"
   ]
  },
  {
   "cell_type": "markdown",
   "metadata": {
    "colab_type": "text",
    "id": "-Pm-07Hu1X2u"
   },
   "source": [
    "- A subset is a set whose elements are in another set. It's denotex $\\subset$ which is the curvy version of \"less than\" $<$ for numbers"
   ]
  },
  {
   "cell_type": "code",
   "execution_count": 8,
   "metadata": {
    "colab": {
     "base_uri": "https://localhost:8080/",
     "height": 34
    },
    "colab_type": "code",
    "executionInfo": {
     "elapsed": 931,
     "status": "ok",
     "timestamp": 1594689975314,
     "user": {
      "displayName": "Matthieu Ranger",
      "photoUrl": "",
      "userId": "05160963434497794589"
     },
     "user_tz": 240
    },
    "id": "Yfm6biIpzekT",
    "outputId": "63957b3f-4b6e-468b-8063-02b8e765ea2c"
   },
   "outputs": [
    {
     "data": {
      "text/plain": [
       "True"
      ]
     },
     "execution_count": 8,
     "metadata": {},
     "output_type": "execute_result"
    }
   ],
   "source": [
    "{'a'}.issubset({'a', 'b'}) # True\n",
    "# Not a subset with different elements\n",
    "{'a', 'c'}.issubset({'a', 'b'}) # False\n",
    "# A set is a subset of itself\n",
    "{'a'}.issubset({'a'}) # True"
   ]
  },
  {
   "cell_type": "markdown",
   "metadata": {
    "colab_type": "text",
    "id": "FnKKq42x422s"
   },
   "source": [
    "A couple of facts:\n",
    "\n",
    "- If $A \\subset B$ and $B \\subset A$ then $A = B$. Subset is a \"less than or equal to\" relation.\n",
    "\n",
    "- These set operations are what we call **commutative** (order of operations doesn't matter) and **associative** (you can move parentheses around operations. This means that \n",
    "  - $(A\\cup B)\\cup C=A\\cup (B\\cup C)$\n",
    "  - $A \\cup B = B \\cup A$\n",
    "\n",
    "While these propreties might seem obvious and always true, commutativity and associativity aren't always possible (eg. algebra on matrices, which we'll see later, isn't commutative or associative)."
   ]
  },
  {
   "cell_type": "code",
   "execution_count": 9,
   "metadata": {
    "colab": {},
    "colab_type": "code",
    "id": "kkI7YdCi4W5i"
   },
   "outputs": [],
   "source": [
    "# Exercise: Consider the expression (A - B) U B = A\n",
    "#  1) Write the expression with python set notation\n",
    "#  2) Find a case where this is false\n",
    "\n",
    "\n",
    "\n",
    "# Exercise 2 (hard): Let A be the set of points on the curve y = 1/x^a (0 < x < inf)\n",
    "#     What is the intersection of sets where a >= 1? \n",
    "#     Hint: Try generating a few examples first."
   ]
  },
  {
   "cell_type": "markdown",
   "metadata": {
    "colab_type": "text",
    "id": "V5W_KTeU2ZAs"
   },
   "source": [
    "- The **Cartesian Product** is the set of combinations of the elements of the elements of two sets. You can denote it as \n",
    "\n",
    "$$A × B = \\{(a, b) : a ∈ A\\ and\\ b ∈ B\\}$$\n",
    "\n",
    "Note that here the elements of the result are *pairs* of elements (the parentheses around them)."
   ]
  },
  {
   "cell_type": "code",
   "execution_count": 10,
   "metadata": {
    "colab": {},
    "colab_type": "code",
    "id": "oBdWAR5Lzers"
   },
   "outputs": [],
   "source": [
    "# Exercise: Write a one-line list comprehension for the cartesian product of two sets\n",
    "# Hint: use the python tuple type\n",
    "\n",
    "# Answer: \n",
    "# A = {1, 2, 3}\n",
    "# B = {4, 5, 6}\n",
    "#{(a, b) for a in A for b in B}\n",
    "\n",
    "\n",
    "# Why does this work?\n",
    "# We can always rewrite list comprehensions by reading them backwards in normal code\n",
    "# result = []\n",
    "# for a in A:\n",
    "#   for b in B:\n",
    "#     result.append((a, b))"
   ]
  },
  {
   "cell_type": "markdown",
   "metadata": {
    "colab_type": "text",
    "id": "gwIytI1f7Re_"
   },
   "source": [
    "We call it the \"Cartesian\" product because it can be used to make a \"map\". \n",
    "\n",
    "For instance the pairs $(x, y)$ used to give coordinates on a map come from the cartesian product of the longitudes $x$ and latitudes $y$.\n",
    "\n",
    "These mappings are denoted with exponents. For instance, the set of pairs of real numbers is called $\\mathbb{R}^2$. A set of triplets of integers would be called $\\mathbb{N}^3$\n",
    "\n",
    "We call it a product because the length of the result is the product of the length of the inputs $ A × B $"
   ]
  },
  {
   "cell_type": "code",
   "execution_count": 11,
   "metadata": {
    "colab": {},
    "colab_type": "code",
    "id": "tnfODNsiHMya"
   },
   "outputs": [
    {
     "data": {
      "text/plain": [
       "True"
      ]
     },
     "execution_count": 11,
     "metadata": {},
     "output_type": "execute_result"
    }
   ],
   "source": [
    "A = {1, 2, 3}\n",
    "B = {4, 5, 6}\n",
    "AxB = {(a, b) for a in A for b in B}\n",
    "\n",
    "len(AxB) == len(A) * len(B)"
   ]
  },
  {
   "cell_type": "code",
   "execution_count": null,
   "metadata": {},
   "outputs": [],
   "source": [
    "### Notes:\n",
    "\n"
   ]
  }
 ],
 "metadata": {
  "colab": {
   "collapsed_sections": [],
   "name": "Math Intro and Set Theory.ipynb",
   "provenance": []
  },
  "kernelspec": {
   "display_name": "Python 3 (ipykernel)",
   "language": "python",
   "name": "python3"
  },
  "language_info": {
   "codemirror_mode": {
    "name": "ipython",
    "version": 3
   },
   "file_extension": ".py",
   "mimetype": "text/x-python",
   "name": "python",
   "nbconvert_exporter": "python",
   "pygments_lexer": "ipython3",
   "version": "3.9.13"
  }
 },
 "nbformat": 4,
 "nbformat_minor": 1
}
