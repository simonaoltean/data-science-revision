{
 "cells": [
  {
   "cell_type": "markdown",
   "metadata": {
    "id": "yeECFVb3BfuA"
   },
   "source": [
    "# Algorithms - Recursion\n",
    "\n",
    "Recursion is a way to decompose an algorithm into a **base-case** and a way to roll-up that base case into a result. You generally see this in the form of a **function that calls itself**.\n",
    "\n",
    "## Recursion\n",
    "\n",
    "### Example: Factorial\n",
    "\n",
    "A factorial in mathematics is a function on integers denoted by the $!$ symbol. It means we multiply the number by the product of all smaller natural numbers:\n",
    "\n",
    "$$n! = n * (n-1) * (n-2) * ... * 1,\\ n \\in \\mathbb{N}$$\n",
    "\n",
    "In code this translates to a clean loop:"
   ]
  },
  {
   "cell_type": "code",
   "execution_count": 1,
   "metadata": {
    "id": "zklfPw9fEPs3"
   },
   "outputs": [
    {
     "data": {
      "text/plain": [
       "120"
      ]
     },
     "execution_count": 1,
     "metadata": {},
     "output_type": "execute_result"
    }
   ],
   "source": [
    "# factorial example\n",
    "def factorial_naive(n):\n",
    "    if n <= 1:\n",
    "        return n\n",
    "    res = 1\n",
    "    for i in range(1,n+1):\n",
    "        res *= i\n",
    "    return res\n",
    "\n",
    "factorial_naive(5)"
   ]
  },
  {
   "cell_type": "code",
   "execution_count": 2,
   "metadata": {
    "id": "fPHRF5BeIZyo"
   },
   "outputs": [
    {
     "data": {
      "text/plain": [
       "120"
      ]
     },
     "execution_count": 2,
     "metadata": {},
     "output_type": "execute_result"
    }
   ],
   "source": [
    "# factorial example w/recursion\n",
    "\n",
    "def factorial_recursive(n):\n",
    "    #Base case\n",
    "    if n == 1:\n",
    "        return 1\n",
    "    #Roll up the base case recursively\n",
    "    else:\n",
    "        return n * factorial_recursive(n-1)\n",
    "    \n",
    "factorial_recursive(5)"
   ]
  },
  {
   "cell_type": "markdown",
   "metadata": {},
   "source": [
    "### Break it down\n",
    "\n",
    "5 * factorial(4) 5 * 24 = 120\n",
    "\n",
    "4 * factorial(3) 4 * 6 = 24\n",
    "\n",
    "3 * factorial(2) 3 * 2 = 6\n",
    "\n",
    "2 * factorial(1) (base case - returns 1) 2 * 1 = 2"
   ]
  },
  {
   "cell_type": "markdown",
   "metadata": {
    "id": "_lO3YwbbJmCs"
   },
   "source": [
    "### Exercise: Fibonnaci numbers\n",
    "\n",
    "The [Fibonnaci numbers](https://en.wikipedia.org/wiki/Fibonacci_number) are a natural sequence of numbers representing growth. The **Fibonnaci function** $F_n$ is defined as follows:\n",
    "\n",
    "$$F_0 = 0,\\ F_1 = 1$$\n",
    "\n",
    "$$F_n = F_{n-1} + F_{n-2}$$\n",
    "\n",
    "The sequence looks like \n",
    "\n",
    "$$0, 1, 1, 2, 3, 5, 8, 13, 21, 34, 55, ...$$\n",
    "\n",
    "And it appears all over nature! Some flower petals shape and pineapples follow these numbers. \n",
    "\n",
    "**exercise:** Write a function `fibonacci(n)` which computes the n-th fibonacci number"
   ]
  },
  {
   "cell_type": "code",
   "execution_count": 3,
   "metadata": {
    "id": "5dDmmre3JlgS"
   },
   "outputs": [
    {
     "data": {
      "text/plain": [
       "2"
      ]
     },
     "execution_count": 3,
     "metadata": {},
     "output_type": "execute_result"
    }
   ],
   "source": [
    "def fib(n):\n",
    "    \"\"\"\n",
    "    Takes a number n and returns\n",
    "    it's Fibonnaci equivalent\n",
    "    \"\"\"\n",
    "    if n == 0:\n",
    "        return 0\n",
    "    elif n ==1:\n",
    "        return 1\n",
    "    else:\n",
    "        return fib(n-1) + fib(n-2)\n",
    "     \n",
    "fib(3)\n"
   ]
  },
  {
   "cell_type": "markdown",
   "metadata": {
    "id": "UDTljYBtEMXP"
   },
   "source": [
    "## Divide-and-Conquer Algorithms\n",
    "\n",
    "(section 2.3.1 in CLRS)\n",
    "\n",
    "Often, algorithm problems seem intimidating because of their complexity.\n",
    "\n",
    "The **divide and conquer** paradigm is a way to design solutions that manage this complexity into an elegant design.\n",
    "\n",
    "The idea is to \n",
    "\n",
    "1. Break the problem into small subproblems that are similar to the original problem but trivial to solve\n",
    "2. Solve the subproblems recursively\n",
    "3. Combine these solutions to create a solution to the original problem."
   ]
  },
  {
   "cell_type": "markdown",
   "metadata": {
    "id": "Fq_-iAZ-EIip"
   },
   "source": [
    "## MergeSort\n",
    "\n",
    "`merge_sort` is a sorting algorithm which is a huge improvement (in terms of **big-O**) over our previous `selection_sort` algorithm.\n",
    "\n",
    "The idea for `merge_sort` is to:\n",
    "\n",
    "- **Divide:** Divide the n-element sequence to be sorted into two subsequences of n=2 elements each.\n",
    "- **Conquer:** Sort the two subsequences recursively using merge sort. \n",
    "- **Combine:** Merge the two sorted subsequences to produce the sorted answer.\n",
    "\n",
    "The pseudocode for mergesort is as follows:\n",
    "\n",
    "```\n",
    "MergeSort(A):\n",
    "size = len(A)\n",
    "If size > l\n",
    "     1. Find the middle point to divide the array into two halves:  \n",
    "             middle m = (l+r)/2\n",
    "     2. Call mergeSort for first half:   \n",
    "             A_1 = mergeSort(A[:m])\n",
    "     3. Call mergeSort for second half:\n",
    "             A_2 = mergeSort(A[m:])\n",
    "     4. Merge the two halves sorted in step 2 and 3:\n",
    "             A =  merge(A_1, A_2)\n",
    "```\n",
    "\n",
    "Here, the `merge` method takes in two *sorted* arrays, and merges them together such that the result is sorted.\n",
    "\n",
    "The actual `merge_sort` code is exquisitely simple:"
   ]
  },
  {
   "cell_type": "code",
   "execution_count": 4,
   "metadata": {
    "id": "wSeLNepQAS6Y"
   },
   "outputs": [],
   "source": [
    "# merge_sort\n",
    "\n",
    "def merge_sort(arr):\n",
    "    size = len(arr)\n",
    "    if size > 1:\n",
    "        m = size // 2\n",
    "        left = merge_sort(arr[:m])\n",
    "        right = merge_sort(arr[m:])\n",
    "        return merge(left,right)\n",
    "    else:\n",
    "        return arr"
   ]
  },
  {
   "cell_type": "markdown",
   "metadata": {
    "id": "xaRlD0EGPllP"
   },
   "source": [
    "We just need to implement the `merge` function, which is a little less clean:"
   ]
  },
  {
   "cell_type": "code",
   "execution_count": 5,
   "metadata": {
    "id": "brka-Bt1Pls8"
   },
   "outputs": [
    {
     "data": {
      "text/plain": [
       "[3, 4, 5, 22, 44.4, 66.6, 111, 777]"
      ]
     },
     "execution_count": 5,
     "metadata": {},
     "output_type": "execute_result"
    }
   ],
   "source": [
    "def merge(left, right):\n",
    "    res = []\n",
    "    #zip in together left and right parts\n",
    "    while left and right:\n",
    "        if left[0] < right[0]:\n",
    "            res.append(left[0]) #append to result\n",
    "            left.pop(0) #remove val we appended\n",
    "        else:\n",
    "            res.append(right[0])\n",
    "            right.pop(0)\n",
    "            \n",
    "    #Copy in remaining elements of left and right (if any)\n",
    "    for i in left:\n",
    "        res.append(i)\n",
    "    for i in right:\n",
    "        res.append(i)\n",
    "    return res\n",
    "\n",
    "A = [111,4,3,22,5,44.4,66.6,777]\n",
    "\n",
    "merge_sort(A)"
   ]
  },
  {
   "cell_type": "markdown",
   "metadata": {},
   "source": [
    "You have just proven that merge sort has a time complexity of around n log(n), dropping some constants and insignificant terms."
   ]
  },
  {
   "cell_type": "markdown",
   "metadata": {
    "id": "iyun_XkvG0TF"
   },
   "source": [
    "### Merge Sort Analysis\n",
    "\n",
    "We can do a bit of math to see what the **Big-O** of merge sort is. \n",
    "\n",
    "You won't have to do math like this yourself, but walking through it will illustrate the analysis logic. Let's divide the Big-O of the 3 parts:\n",
    "\n",
    "- **Divide:** The divide step just computes the middle of the subarray, which takes constant time. Thus it's $O(1)$\n",
    "- **Conquer:** We recursively solve two subproblems, each of size $n/2$, which contributes $2 * O(n/2)$.\n",
    "- **Combine:** The `merge` procedure on two n-element subarrays takes time $O(n)$\n",
    "\n",
    "Then the runtime for any \"level\" in the recursion is:\n",
    "\n",
    "$$O(n) = 2 * O(n/2) + n$$\n",
    "\n",
    "This builds a tree of function calls where each tree divides $n$ by half.\n",
    "\n",
    "![](../assets/Merge-Sort-Recursion.png)\n",
    "\n",
    "The number of divisions by 2 you can do on any number is $log_2(n)$. So the height of the tree is also $log_2(n)$ which calls for a total of \n",
    "\n",
    "$$O(n*log_2(n))$$\n",
    "\n",
    "Note that $n*log_2(n) < n^2$ for large values of $n$"
   ]
  },
  {
   "cell_type": "code",
   "execution_count": null,
   "metadata": {},
   "outputs": [],
   "source": []
  }
 ],
 "metadata": {
  "colab": {
   "collapsed_sections": [],
   "name": "Recursive _ Divide-And-Conquer Algorithms.ipynb",
   "provenance": []
  },
  "kernelspec": {
   "display_name": "Python 3 (ipykernel)",
   "language": "python",
   "name": "python3"
  },
  "language_info": {
   "codemirror_mode": {
    "name": "ipython",
    "version": 3
   },
   "file_extension": ".py",
   "mimetype": "text/x-python",
   "name": "python",
   "nbconvert_exporter": "python",
   "pygments_lexer": "ipython3",
   "version": "3.9.13"
  }
 },
 "nbformat": 4,
 "nbformat_minor": 1
}
