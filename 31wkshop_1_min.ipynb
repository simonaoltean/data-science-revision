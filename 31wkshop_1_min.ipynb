{
 "cells": [
  {
   "cell_type": "markdown",
   "metadata": {},
   "source": [
    "# Math as a tool\n",
    "\n",
    "## Warmup\n",
    "\n",
    "Run the following lines in the cell below:\n",
    "\n",
    "```\n",
    "%matplotlib inline\n",
    "import numpy as np\n",
    "import matplotlib.pyplot as plt\n",
    "import pandas as pd\n",
    "```"
   ]
  },
  {
   "cell_type": "code",
   "execution_count": 2,
   "metadata": {},
   "outputs": [],
   "source": [
    "# imports here\n",
    "%matplotlib inline\n",
    "import numpy as np\n",
    "import matplotlib.pyplot as plt\n",
    "import pandas as pd"
   ]
  },
  {
   "cell_type": "markdown",
   "metadata": {},
   "source": [
    "Warmup 1: Write a one line function using set operations to verify that two given sets have NO elements in common. \n",
    "\n",
    "```\n",
    "common_elements({1, 2, 3}, {2}) -> True\n",
    "common_elements({1, 2, 3}, {'a', 'b', 'c'}) -> False\n",
    "common_elements({1, 2, 3}, {'a', 1, 'hi!'}) -> True\n",
    "```"
   ]
  },
  {
   "cell_type": "code",
   "execution_count": 3,
   "metadata": {},
   "outputs": [
    {
     "name": "stdout",
     "output_type": "stream",
     "text": [
      "True\n",
      "False\n",
      "True\n"
     ]
    }
   ],
   "source": [
    "# warmup 1\n",
    "def common_elements(set1, set2):\n",
    "    return set1.intersection(set2) != set()\n",
    "\n",
    "print(common_elements({1, 2, 3}, {2}))\n",
    "print(common_elements({1, 2, 3}, {'a', 'b', 'c'}))\n",
    "print(common_elements({1, 2, 3}, {'a', 1, 'hi!'}))"
   ]
  },
  {
   "cell_type": "markdown",
   "metadata": {},
   "source": [
    "## Exercise 1: Dot Product\n",
    "\n",
    "Write a function `matrix_multiply(A, B)` using for loops, `+` and `*` that takes in two matrices (can be list of lists, or 2d numpy array) and returns their dot product (matrix multiplication). It should work with column vectors ($k \\times 1$ dimensions) and row vectors ($1 \\times k$) normally.\n",
    "\n",
    "\n",
    "```import numpy as np\n",
    "\n",
    "A = [\n",
    "    [1,2,3],\n",
    "    [4,5,6]\n",
    "]\n",
    "\n",
    "B = [\n",
    "    [1,2,3],\n",
    "    [4,5,6],\n",
    "    [7,8,9]\n",
    "]\n",
    "\n",
    "matrix_multiply(A,B)\n",
    "\n",
    "RETURNS: \n",
    "[[30, 36, 42],\n",
    " [66, 81, 96]]\n",
    "\n",
    "---------example 2-------------\n",
    "# This is a row vector\n",
    "A = np.array([\n",
    "    [1,2,3]\n",
    "])\n",
    "\n",
    "# This is a column vector\n",
    "B = np.array([\n",
    "    [1],\n",
    "    [4],\n",
    "    [7]\n",
    "])\n",
    "\n",
    "matrix_multiply(A,B)\n",
    "\n",
    "RETURNS:\n",
    "[[30]]\n",
    "\n",
    "```\n",
    "\n",
    "Use `np.dot` to test your output"
   ]
  },
  {
   "cell_type": "code",
   "execution_count": 19,
   "metadata": {},
   "outputs": [],
   "source": [
    "# exercise 1\n",
    "\n",
    "def matrix_multiply(A,B):\n",
    "    print(f\"A is:\\n{A}\\n B is:\\n{B}\")\n",
    "    C = np.zeros((len(A),len(B[0])), dtype=int)\n",
    "    if len(A[0]) == len(B):\n",
    "        for n in range(len(A)):\n",
    "            for m in range(len(B[0])):\n",
    "                for o in range(len(B)):\n",
    "                    C[n][m] += A[n][o] * B[o][m]\n",
    "    else:\n",
    "        C = False\n",
    "    return C"
   ]
  },
  {
   "cell_type": "code",
   "execution_count": 20,
   "metadata": {},
   "outputs": [
    {
     "name": "stdout",
     "output_type": "stream",
     "text": [
      "A is:\n",
      "[[1 2 3]]\n",
      " B is:\n",
      "[[1]\n",
      " [4]\n",
      " [7]]\n",
      "Output: \n",
      "[[30]]\n",
      "Solution:\n",
      " [[30]]\n",
      "A is:\n",
      "[[1 2 3]\n",
      " [4 5 6]]\n",
      " B is:\n",
      "[[1 2 3]\n",
      " [4 5 6]\n",
      " [7 8 9]]\n",
      "Output: \n",
      "[[30 36 42]\n",
      " [66 81 96]]\n",
      "Solution: \n",
      "[[30 36 42]\n",
      " [66 81 96]]\n"
     ]
    }
   ],
   "source": [
    "A = np.array([[1,2,3]])\n",
    "B = np.array([[1],[4],[7]])\n",
    "print(f\"Output: \\n{matrix_multiply(A,B)}\")\n",
    "print(f\"Solution:\\n {np.dot(A,B)}\")\n",
    "\n",
    "C = np.array([[1,2,3],[4,5,6]])\n",
    "D = np.array([[1,2,3],[4,5,6],[7,8,9]])\n",
    "print(f\"Output: \\n{matrix_multiply(C,D)}\")\n",
    "print(f\"Solution: \\n{np.dot(C,D)}\")\n"
   ]
  },
  {
   "cell_type": "markdown",
   "metadata": {},
   "source": [
    "## Exercise 2: Matrix Math torture\n",
    "\n",
    "**2.1** Give 3 examples of non-invertible square matrices that are non-zero\n",
    "\n",
    "**2.2** Explain why the identity matrix $I$ is necessarily a square matrix with only $1$'s on the diagonal (hint: use the dot product from Q1)\n",
    "\n",
    "**2.3** The **trace** is commutative for two matrices so $tr(AB) = tr(BA)$. Give an example where this is false for 3 matrices which can all be multiplied together.\n",
    "\n",
    "**2.4** Give an example of a $4 \\times 4$ idempotent matrix (where $A \\cdot A = A^2 = A$)\n",
    "\n",
    "**2.5** solve the following system of equations for `x`, `y` and `z` using matrices and `numpy.linalg.solve`\n",
    "\n",
    "$$x \t+ \ty \t+ \tz \t= \t6$$\n",
    "\n",
    "$$2y \t+ \t5z \t= \t−4$$\n",
    "\n",
    "$$2x \t+ \t5y \t− \tz \t= \t27$$"
   ]
  },
  {
   "cell_type": "code",
   "execution_count": 21,
   "metadata": {},
   "outputs": [
    {
     "name": "stdout",
     "output_type": "stream",
     "text": [
      "[[ 2 -2  4]\n",
      " [ 0  0  0]\n",
      " [ 3  3  5]] \n",
      "\n",
      "[[ 0  3  5]\n",
      " [ 0  5  6]\n",
      " [ 0 30  3]] \n",
      "\n",
      "[[1 3 5 0]\n",
      " [4 6 2 0]\n",
      " [4 9 3 0]\n",
      " [3 4 2 0]]\n"
     ]
    }
   ],
   "source": [
    "# exercise 2.1\n",
    "\n",
    "A = [[2,-2,4],[0,0,0],[3,3,5]]\n",
    "# A_inv = np.linalg.inv(A)\n",
    "# print(A_inv) # Error\n",
    "print(np.array(A),\"\\n\")\n",
    "\n",
    "B = [[0,3,5],[0,5,6],[0,30,3]]\n",
    "# B_inv = np.linalg.inv(B)\n",
    "# print(B_inv) # Error\n",
    "print(np.array(B), \"\\n\")\n",
    "\n",
    "C = [[1,3,5,0],[4,6,2,0],[4,9,3,0],[3,4,2,0]]\n",
    "# C_inv = np.linalg.inv(C)\n",
    "# print(C_inv) # Error\n",
    "print(np.array(C))"
   ]
  },
  {
   "cell_type": "code",
   "execution_count": 26,
   "metadata": {},
   "outputs": [
    {
     "name": "stdout",
     "output_type": "stream",
     "text": [
      "A is:\n",
      "[[0 3 5]\n",
      " [0 5 6]]\n",
      " B is:\n",
      "[[1 0 0]\n",
      " [0 1 0]]\n",
      "Non square matrix: \n",
      " [[0 3 5]\n",
      " [0 5 6]]\n",
      "Non square identity matrix: \n",
      " [[1 0 0]\n",
      " [0 1 0]]\n",
      "Dot product (not equal to original matrix): \n",
      " False\n"
     ]
    }
   ],
   "source": [
    "# exercise 2.2\n",
    "\n",
    "# If an identity matrix has more rows than columns or more columns than rows, multiplying a matrix with more rows than columns,\n",
    "# or more columns than rows with its identity matrix would  not be possible, since we can only multiply a matrix that has the\n",
    "# same number of columns as the number of rows of matrix with which it's being multiplied. Ex: M(2x3)*I(2x3) doesn't work since\n",
    "# the number of columns of the first matrix (3) is not equal to the number of rows of the (non) identity matrix (2).\n",
    "\n",
    "A = np.array([[0,3,5],[0,5,6]])\n",
    "I = np.array([[1,0,0],[0,1,0]])\n",
    "\n",
    "print(f\"Non square matrix: \\n {A}\\nNon square identity matrix: \\n {I}\\nDot product (not equal to original matrix): \\n {matrix_multiply(A,I)}\")"
   ]
  },
  {
   "cell_type": "code",
   "execution_count": 55,
   "metadata": {},
   "outputs": [
    {
     "name": "stdout",
     "output_type": "stream",
     "text": [
      "[[4 6 2 5]\n",
      " [5 3 8 9]\n",
      " [7 8 5 4]\n",
      " [7 6 9 7]]\n",
      "\n",
      "[[8 4 7 6]\n",
      " [9 5 7 8]\n",
      " [9 8 7 4]\n",
      " [9 7 2 4]]\n",
      "\n",
      "[[9 3 5 7]\n",
      " [7 8 9 6]\n",
      " [2 5 6 8]\n",
      " [3 2 1 4]]\n"
     ]
    }
   ],
   "source": [
    "# exercise 2.3\n",
    "\n",
    "A = np.array([[4,6,2,5],[5,3,8,9],[7,8,5,4],[7,6,9,7]])\n",
    "B = np.array([[8,4,7,6],[9,5,7,8],[9,8,7,4],[9,7,2,4]])\n",
    "C = np.array([[9,3,5,7],[7,8,9,6],[2,5,6,8],[3,2,1,4]])\n",
    "print(f\"{A}\\n\\n{B}\\n\\n{C}\")"
   ]
  },
  {
   "cell_type": "code",
   "execution_count": 49,
   "metadata": {},
   "outputs": [
    {
     "name": "stdout",
     "output_type": "stream",
     "text": [
      "[[1. 0. 0. 0.]\n",
      " [0. 1. 0. 0.]\n",
      " [0. 0. 1. 0.]\n",
      " [0. 0. 0. 1.]]\n",
      "\n",
      " [[1. 0. 0. 0.]\n",
      " [0. 1. 0. 0.]\n",
      " [0. 0. 1. 0.]\n",
      " [0. 0. 0. 1.]]\n"
     ]
    }
   ],
   "source": [
    "# exercise 2.4\n",
    "\n",
    "A = np.identity(4)\n",
    "print(A)\n",
    "print(f\"\\n {np.dot(A,A)}\")"
   ]
  },
  {
   "cell_type": "code",
   "execution_count": 28,
   "metadata": {},
   "outputs": [
    {
     "data": {
      "text/plain": [
       "array([ 5.,  3., -2.])"
      ]
     },
     "execution_count": 28,
     "metadata": {},
     "output_type": "execute_result"
    }
   ],
   "source": [
    "# exercise 2.5\n",
    "\n",
    "Matrix = np.array([[1,1,1],[0,2,5],[2,5,-1]])\n",
    "Solutions = np.array([6,-4,27])\n",
    "x = np.linalg.solve(Matrix, Solutions)\n",
    "x"
   ]
  },
  {
   "cell_type": "code",
   "execution_count": 29,
   "metadata": {},
   "outputs": [
    {
     "data": {
      "text/plain": [
       "True"
      ]
     },
     "execution_count": 29,
     "metadata": {},
     "output_type": "execute_result"
    }
   ],
   "source": [
    "np.allclose(np.dot(Matrix,x),Solutions)"
   ]
  },
  {
   "cell_type": "markdown",
   "metadata": {},
   "source": [
    "## Exercise 3: Linear Algebra\n",
    "\n",
    "Write each of the following systems of equations as a matrix and solve them using the numpy function from the lecture/pre-lecture.\n",
    "\n",
    "HINT:\n",
    "\n",
    "To solve the system for `a`, `b`, and `c`:\n",
    "\n",
    "$$\\begin{bmatrix} 2 & 1 & 2 \\\\ 1 & 5 & 3 \\\\ 4 & 1 & 2 \\end{bmatrix} \\begin{bmatrix} a \\\\ b \\\\ c \\end{bmatrix} = \\begin {bmatrix} 20\\\\ 38\\\\ 26 \\end{bmatrix} $$\n",
    "\n",
    "```\n",
    "Matrix = np.array([[2,1,2], [1,5,3], [4,1,2]])\n",
    "Solutions = np.array([20, 38, 26])\n",
    "x = np.linalg.solve(Matrix, Solutions)\n",
    "x\n",
    "```"
   ]
  },
  {
   "cell_type": "markdown",
   "metadata": {},
   "source": [
    "### Exercise 3.1\n",
    "\n",
    "$$3x + 2y + z = 7$$\n",
    "$$4x + 5y + 2z = 14$$\n",
    "$$2x + 4y + 3z = 10$$\n"
   ]
  },
  {
   "cell_type": "code",
   "execution_count": 15,
   "metadata": {},
   "outputs": [
    {
     "data": {
      "text/plain": [
       "array([1., 2., 0.])"
      ]
     },
     "execution_count": 15,
     "metadata": {},
     "output_type": "execute_result"
    }
   ],
   "source": [
    "# exercise 3.1\n",
    "\n",
    "Matrix = np.array([[3,2,1],[4,5,2],[2,4,3]])\n",
    "Solutions = np.array([7,14,10])\n",
    "x1 = np.linalg.solve(Matrix, Solutions)\n",
    "x1"
   ]
  },
  {
   "cell_type": "code",
   "execution_count": 16,
   "metadata": {},
   "outputs": [
    {
     "data": {
      "text/plain": [
       "True"
      ]
     },
     "execution_count": 16,
     "metadata": {},
     "output_type": "execute_result"
    }
   ],
   "source": [
    "np.allclose(np.dot(Matrix,x1),Solutions)"
   ]
  },
  {
   "cell_type": "markdown",
   "metadata": {},
   "source": [
    "### Exercise 3.2\n",
    "\n",
    "$$3a + 3b + c = 16$$\n",
    "$$2a + b + 3c = 11$$\n",
    "$$4a + 2b + 5c = 21$$"
   ]
  },
  {
   "cell_type": "code",
   "execution_count": 17,
   "metadata": {},
   "outputs": [
    {
     "data": {
      "text/plain": [
       "array([3., 2., 1.])"
      ]
     },
     "execution_count": 17,
     "metadata": {},
     "output_type": "execute_result"
    }
   ],
   "source": [
    "# exercise 3.2\n",
    "Matrix = np.array([[3,3,1],[2,1,3],[4,2,5]])\n",
    "Solutions = np.array([16,11,21])\n",
    "x2 = np.linalg.solve(Matrix, Solutions)\n",
    "x2"
   ]
  },
  {
   "cell_type": "code",
   "execution_count": 18,
   "metadata": {},
   "outputs": [
    {
     "data": {
      "text/plain": [
       "True"
      ]
     },
     "execution_count": 18,
     "metadata": {},
     "output_type": "execute_result"
    }
   ],
   "source": [
    "np.allclose(np.dot(Matrix,x2),Solutions)"
   ]
  },
  {
   "cell_type": "markdown",
   "metadata": {},
   "source": [
    "### Exercise 3.3\n",
    "\n",
    "$$4i + 2j + k = 0$$\n",
    "$$5i + j + 3k = 2$$\n",
    "$$3i + 3j + 4k = 8$$"
   ]
  },
  {
   "cell_type": "code",
   "execution_count": 19,
   "metadata": {},
   "outputs": [
    {
     "data": {
      "text/plain": [
       "array([0.33333333, 0.73333333, 0.2       ])"
      ]
     },
     "execution_count": 19,
     "metadata": {},
     "output_type": "execute_result"
    }
   ],
   "source": [
    "# exercise 3.3\n",
    "Matrix = np.array([[4,2,1],[5,1,3],[3,3,4]])\n",
    "Solutions = np.array([3,3,4])\n",
    "x3 = np.linalg.solve(Matrix, Solutions)\n",
    "x3"
   ]
  },
  {
   "cell_type": "code",
   "execution_count": 20,
   "metadata": {},
   "outputs": [
    {
     "data": {
      "text/plain": [
       "True"
      ]
     },
     "execution_count": 20,
     "metadata": {},
     "output_type": "execute_result"
    }
   ],
   "source": [
    "np.allclose(np.dot(Matrix,x3),Solutions)"
   ]
  },
  {
   "cell_type": "markdown",
   "metadata": {},
   "source": [
    "## Exercise 4: Is it Prime?\n",
    "\n",
    "A [prime number](https://en.wikipedia.org/wiki/Prime_number) is a number that can only be divided by 1 and by itself. \n",
    "\n",
    "Write a function that takes in a positive integer and returns `True` if it's prime and `False` otherwise.\n",
    "\n",
    "```\n",
    "check_prime(5) -> True\n",
    "check_prime(13) -> True\n",
    "check_prime(9) -> False\n",
    "check_prime(15) -> False\n",
    "```"
   ]
  },
  {
   "cell_type": "code",
   "execution_count": 21,
   "metadata": {},
   "outputs": [],
   "source": [
    "# exercise 4\n",
    "\n",
    "def check_prime(x):\n",
    "    result = True\n",
    "    for i in range(2,x):\n",
    "        if x % i == 0:\n",
    "            result = False\n",
    "    return result"
   ]
  },
  {
   "cell_type": "code",
   "execution_count": 22,
   "metadata": {},
   "outputs": [
    {
     "name": "stdout",
     "output_type": "stream",
     "text": [
      "1 is prime: True\n",
      "2 is prime: True\n",
      "3 is prime: True\n",
      "4 is prime: False\n",
      "5 is prime: True\n",
      "6 is prime: False\n",
      "7 is prime: True\n",
      "8 is prime: False\n",
      "9 is prime: False\n",
      "10 is prime: False\n",
      "11 is prime: True\n",
      "12 is prime: False\n",
      "13 is prime: True\n",
      "14 is prime: False\n",
      "15 is prime: False\n",
      "16 is prime: False\n",
      "17 is prime: True\n",
      "18 is prime: False\n",
      "19 is prime: True\n",
      "20 is prime: False\n"
     ]
    }
   ],
   "source": [
    "for i in range(1,21):\n",
    "    print(f\"{i} is prime: {check_prime(i)}\")"
   ]
  },
  {
   "cell_type": "code",
   "execution_count": null,
   "metadata": {},
   "outputs": [],
   "source": []
  }
 ],
 "metadata": {
  "kernelspec": {
   "display_name": "Python 3 (ipykernel)",
   "language": "python",
   "name": "python3"
  },
  "language_info": {
   "codemirror_mode": {
    "name": "ipython",
    "version": 3
   },
   "file_extension": ".py",
   "mimetype": "text/x-python",
   "name": "python",
   "nbconvert_exporter": "python",
   "pygments_lexer": "ipython3",
   "version": "3.9.13"
  },
  "metadata": {
   "interpreter": {
    "hash": "63fd5069d213b44bf678585dea6b12cceca9941eaf7f819626cde1f2670de90d"
   }
  }
 },
 "nbformat": 4,
 "nbformat_minor": 4
}
