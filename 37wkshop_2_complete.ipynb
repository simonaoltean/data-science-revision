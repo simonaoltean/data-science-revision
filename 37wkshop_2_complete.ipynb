{
 "cells": [
  {
   "cell_type": "markdown",
   "metadata": {
    "id": "LMgNOOpRMmlh"
   },
   "source": [
    "## Exercise 6: Probability\n",
    "\n",
    "We have a model that can predict with 99% accuracy whether a TV series on Webflix will be a hit or not. Given that in reality, only 1% of shows on Webflix become hits, what is the probability that given the model predicting that a show will be a hit, that the show is actually a hit?\n",
    "\n",
    "```\n",
    "P(Show is a Hit| Positive from Model) = P(Show is a Hit)*P(Positive from Model|Show is a Hit)/P(Positive From Model)\n",
    "                                      = [P(Show is a Hit)*P(Positive from Model|Show is a Hit)]/[P(Show is a hit)*P(Positive from Model|Show is a Hit) + P(Show is Flop)*P(Positive from Model|Show is a Flop)]\n",
    "                                      = [1% * 99%]/[1% * 99% + 1% * 99%]\n",
    "                                      = 50%\n",
    "```\n",
    "\n",
    "**HINT** Think Bayes Theorem and Law of Total Probability"
   ]
  },
  {
   "cell_type": "code",
   "execution_count": null,
   "metadata": {
    "id": "W4LVtZf_N1hQ"
   },
   "outputs": [],
   "source": [
    "# exercise 6\n",
    "\n"
   ]
  },
  {
   "cell_type": "markdown",
   "metadata": {
    "id": "uf3TC4f7Q6SN"
   },
   "source": [
    "## Exercise 7: Convert numbers to words (STRETCH)\n",
    "\n",
    "Convert a non-negative integer num to its English words representation.\n",
    "\n",
    "### Example 1\n",
    "\n",
    "```\n",
    "Input: num = 123\n",
    "Output: \"One Hundred Twenty Three\"\n",
    "```\n",
    "\n",
    "### Example 2\n",
    "\n",
    "```\n",
    "Input: num = 1234567\n",
    "Output: \"One Million Two Hundred Thirty Four Thousand Five Hundred Sixty Seven\"\n",
    "```\n",
    "\n",
    "### Example 3\n",
    "\n",
    "```\n",
    "Input: num = 1234567891\n",
    "Output: \"One Billion Two Hundred Thirty Four Million Five Hundred Sixty Seven Thousand Eight Hundred Ninety One\"\n",
    "```"
   ]
  },
  {
   "cell_type": "code",
   "execution_count": null,
   "metadata": {
    "id": "ZIKzu9H9R1Ya"
   },
   "outputs": [],
   "source": [
    "# exercise 7\n"
   ]
  },
  {
   "cell_type": "code",
   "execution_count": null,
   "metadata": {
    "colab": {
     "base_uri": "https://localhost:8080/",
     "height": 35
    },
    "executionInfo": {
     "elapsed": 245,
     "status": "ok",
     "timestamp": 1614342473997,
     "user": {
      "displayName": "Usama Bari",
      "photoUrl": "https://lh3.googleusercontent.com/a-/AOh14Gi63QYmB0IpHlTGDpnIp177mO5UfCMQzxIj0VkiwQ=s64",
      "userId": "15037366419685538600"
     },
     "user_tz": 300
    },
    "id": "cmTMYnZgTDeL",
    "outputId": "06a459f4-75e0-4c9f-a868-7bec6458400d"
   },
   "outputs": [],
   "source": [
    "# exercise 7: validate 123\n",
    "num = 123\n"
   ]
  },
  {
   "cell_type": "code",
   "execution_count": null,
   "metadata": {
    "id": "_5CkW46tTNU_"
   },
   "outputs": [],
   "source": [
    "# exercise 7: validate 2364\n",
    "num = 2364\n"
   ]
  }
 ],
 "metadata": {
  "colab": {
   "authorship_tag": "ABX9TyNnLQbhRqFdNvbiNq57KA2S",
   "collapsed_sections": [],
   "name": "2.3 Applied Interview Problems.ipynb",
   "provenance": [
    {
     "file_id": "10_txTWGkc_cOTtLyBKoUhGgD8NFU-ooo",
     "timestamp": 1614359229670
    }
   ]
  },
  "kernelspec": {
   "display_name": "Python 3 (ipykernel)",
   "language": "python",
   "name": "python3"
  },
  "language_info": {
   "codemirror_mode": {
    "name": "ipython",
    "version": 3
   },
   "file_extension": ".py",
   "mimetype": "text/x-python",
   "name": "python",
   "nbconvert_exporter": "python",
   "pygments_lexer": "ipython3",
   "version": "3.9.13"
  },
  "metadata": {
   "interpreter": {
    "hash": "63fd5069d213b44bf678585dea6b12cceca9941eaf7f819626cde1f2670de90d"
   }
  }
 },
 "nbformat": 4,
 "nbformat_minor": 1
}
