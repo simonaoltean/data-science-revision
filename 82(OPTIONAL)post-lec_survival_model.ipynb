{
 "cells": [
  {
   "cell_type": "markdown",
   "metadata": {
    "id": "pPQIYh36JDGI"
   },
   "source": [
    "# Survival Models\n",
    "\n",
    "Some distributions model events that may happen over time.\n",
    "\n",
    "This family of models is called **Survival Models** because they were first used in the medical field to estimate patient survival probabilities over time.\n",
    "\n",
    "The main concept in survival analysis is **data censoring**: a portion of your dataset are going to die, but we haven't observed it yet, because it will happen in the future.\n",
    "\n",
    "Survival analysis is useful for all sorts of other events, like time to paid conversion for free users on a website, etc.\n",
    "\n",
    "## Manually Fitting a probability distribution to data"
   ]
  },
  {
   "cell_type": "code",
   "execution_count": null,
   "metadata": {
    "id": "ZSXA8JPGJDGM",
    "outputId": "219d3a26-694c-4b64-e2b3-eed73a1df4d7"
   },
   "outputs": [],
   "source": [
    "# imports\n",
    "import numpy as np\n",
    "import scipy.stats as st\n",
    "import statsmodels.datasets\n",
    "import matplotlib.pyplot as plt\n",
    "import seaborn as sns\n",
    "sns.set()\n",
    "\n",
    "data = statsmodels.datasets.heart.load_pandas().data\n",
    "data.sample(5)\n"
   ]
  },
  {
   "cell_type": "code",
   "execution_count": null,
   "metadata": {
    "id": "_nZ5uGE5JDGP",
    "outputId": "86dacb86-d3fc-4a25-fde9-f53427d8cb43"
   },
   "outputs": [],
   "source": [
    "# fit probability dist. to data \n",
    "\n",
    "data = data[data.censors==1]\n",
    "survival = data.survival\n",
    "\n",
    "fig, (ax1,ax2) = plt.subplots(1,2,figsize=(10,4))\n",
    "\n",
    "ax1.plot(sorted(survival)[::-1],'o')\n",
    "ax1.set_xlabel('Patient')\n",
    "ax1.set_ylabel('Survival time (days)')\n",
    "\n",
    "ax2.hist(survival,bins=15)\n",
    "ax2.set_xlabel('Survival time (days)')\n",
    "ax2.set_ylabel('Number of patients')"
   ]
  },
  {
   "cell_type": "code",
   "execution_count": null,
   "metadata": {
    "id": "Kzf_scbrJDGQ",
    "outputId": "20a5966c-60d3-4c4c-c599-b4f1ce457704"
   },
   "outputs": [],
   "source": [
    "# \n",
    "smean = survival.mean()\n",
    "rate = 1. / smean\n",
    "\n",
    "smax = survival.max()\n",
    "days = np.linspace(0., smax, 1000)\n",
    "\n",
    "#Bin size: interval between two consecutive values in days\n",
    "dt = smax /999\n",
    "\n",
    "dist_exp = st.expon.pdf(days, scale=1. / rate)\n",
    "nbins = 30\n",
    "\n",
    "fig, ax = plt.subplots(1,1,figsize=(6,4))\n",
    "\n",
    "ax.hist(survival,nbins)\n",
    "ax.plot(days, dist_exp * len(survival) * smax / nbins, '-r', lw=3)\n",
    "\n",
    "ax.set_xlabel('Survival time (days)')\n",
    "ax.set_ylabel('Number of patients')\n"
   ]
  },
  {
   "cell_type": "markdown",
   "metadata": {
    "id": "M127D1TXJDGR"
   },
   "source": [
    "## Statsmodels Survival Regression\n",
    "\n",
    "Survival regression in statsmodels can come in the [Cox Proportional Hazards model](https://www.statsmodels.org/stable/generated/statsmodels.duration.hazard_regression.PHReg.html#statsmodels.duration.hazard_regression.PHReg), which supports censored data: \n",
    "\n",
    "Survival models relate the time that passes, before some event occurs, to one or more predictors that may be associated with that quantity of time. In a proportional hazards model, the unique effect of a unit increase in a predictors is multiplicative with respect to the hazard rate.\n",
    "\n",
    "Hazard rate might be higher for a 97 year old alcoholic chain smoker than a 21 year old college athlete.\n",
    "Higher hazard rate will leads to more deaths in less times while a lower one reduces this probability"
   ]
  },
  {
   "cell_type": "code",
   "execution_count": null,
   "metadata": {
    "id": "6NPVH1zcJDGS",
    "outputId": "3867f05b-0f53-41c3-9dad-ec8769fcc204"
   },
   "outputs": [],
   "source": [
    "# statsnodels survival regression\n",
    "import statsmodels.api as sm \n",
    "\n",
    "y = data.survival\n",
    "X = sm.add_constant(data.age)\n",
    "censor = data.censors\n",
    "\n",
    "est = sm.PHReg(y, X, status=censor).fit()\n",
    "est.summary()"
   ]
  },
  {
   "cell_type": "code",
   "execution_count": null,
   "metadata": {},
   "outputs": [],
   "source": [
    "# Statsmodels also supports survival functions with right censoring:\n",
    "\n",
    "sm.SurvfuncRight(y, status=censor).plot();\n"
   ]
  },
  {
   "cell_type": "markdown",
   "metadata": {
    "id": "nnzgsO-cJDGT"
   },
   "source": [
    "## Lifelines Package\n",
    "\n",
    "A popular package for survival analysis is [lifelines](https://lifelines.readthedocs.io/en/latest/) which you need to install"
   ]
  },
  {
   "cell_type": "code",
   "execution_count": null,
   "metadata": {
    "id": "5LBXsvYPJDGU"
   },
   "outputs": [],
   "source": [
    "# Run if necessary\n",
    "#!pip install lifelines"
   ]
  },
  {
   "cell_type": "code",
   "execution_count": null,
   "metadata": {
    "id": "lkM3jOP1JDGV",
    "outputId": "c49abce9-4d35-4e94-ab5e-8fc75d34a1da"
   },
   "outputs": [],
   "source": [
    "# lifeline package\n",
    "from lifelines.datasets import load_waltons\n",
    "df = load_waltons() # returns a Pandas DataFrame\n",
    "\n",
    "df.sample(5)"
   ]
  },
  {
   "cell_type": "code",
   "execution_count": null,
   "metadata": {
    "id": "yEp3SJQUJDGV",
    "outputId": "b4871cf6-245f-4931-f31d-9aa6ae7c7db9"
   },
   "outputs": [],
   "source": [
    "# lifeline package cont.\n",
    "from lifelines import KaplanMeierFitter\n",
    "\n",
    "T = df['T']\n",
    "E = df['E']\n",
    "\n",
    "kmf = KaplanMeierFitter()\n",
    "kmf.fit(T,E)\n",
    "kmf.plot_survival_function();\n"
   ]
  },
  {
   "cell_type": "code",
   "execution_count": null,
   "metadata": {
    "id": "Gp9S7efIJDGW",
    "outputId": "325c7ab2-1676-4fd9-cadb-7fbb47986cdc"
   },
   "outputs": [],
   "source": [
    "# lifeline package cont..we can split by group!\n",
    "\n",
    "groups = df['group']\n",
    "ix = (groups == 'miR-137') \n",
    "\n",
    "kmf.fit(T[~ix],E[~ix],label='control') \n",
    "ax = kmf.plot_survival_function()\n",
    "\n",
    "kmf.fit(T[ix],E[ix],label='miR-137')\n",
    "ax = kmf.plot_survival_function(ax=ax)\n"
   ]
  },
  {
   "cell_type": "markdown",
   "metadata": {},
   "source": [
    "### Survival Regression in Lifelines"
   ]
  },
  {
   "cell_type": "code",
   "execution_count": null,
   "metadata": {},
   "outputs": [],
   "source": [
    "from lifelines.datasets import load_regression_dataset\n",
    "df = load_regression_dataset()\n",
    "df"
   ]
  },
  {
   "cell_type": "code",
   "execution_count": null,
   "metadata": {},
   "outputs": [],
   "source": [
    "# Survival Regression in lifelines\n",
    "from lifelines.datasets import load_regression_dataset\n",
    "df = load_regression_dataset()\n",
    "\n",
    "from lifelines import CoxPHFitter\n",
    "\n",
    "# Using Cox Proportional Hazards model\n",
    "cph = CoxPHFitter()\n",
    "cph.fit(df, 'T', event_col='E')\n",
    "print(cph.print_summary())\n",
    "cph.plot();\n"
   ]
  },
  {
   "cell_type": "code",
   "execution_count": null,
   "metadata": {
    "id": "QLQPJY8DJDGW",
    "outputId": "6e8b5996-7a5b-4ac2-b97b-d7e8b83341df"
   },
   "outputs": [],
   "source": [
    "from lifelines import WeibullAFTFitter \n",
    "\n",
    "wft = WeibullAFTFitter()\n",
    "wft.fit(df, 'T', event_col='E')\n",
    "wft.print_summary()\n",
    "\n",
    "wft.plot()"
   ]
  },
  {
   "cell_type": "code",
   "execution_count": null,
   "metadata": {},
   "outputs": [],
   "source": []
  }
 ],
 "metadata": {
  "colab": {
   "name": "02_survival_model.ipynb",
   "provenance": []
  },
  "kernelspec": {
   "display_name": "Python 3",
   "language": "python",
   "name": "python3"
  },
  "language_info": {
   "codemirror_mode": {
    "name": "ipython",
    "version": 3
   },
   "file_extension": ".py",
   "mimetype": "text/x-python",
   "name": "python",
   "nbconvert_exporter": "python",
   "pygments_lexer": "ipython3",
   "version": "3.8.8"
  }
 },
 "nbformat": 4,
 "nbformat_minor": 1
}
