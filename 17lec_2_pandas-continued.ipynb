{
 "cells": [
  {
   "cell_type": "markdown",
   "metadata": {
    "id": "52eC_K6ZuVUH"
   },
   "source": [
    "# Pandas Continued: `split-apply-combine`\n",
    "\n",
    "Let's take some data apply what you read on `split-apply-combine` in the [pandas documentation](https://pandas.pydata.org/pandas-docs/stable/user_guide/groupby.html)\n",
    "\n",
    "We are going to be working with `data/country_sex_age.csv` (provided in the data folder.)\n",
    "\n",
    "## Part 1: Getting set up and exploring the data"
   ]
  },
  {
   "cell_type": "code",
   "execution_count": 24,
   "metadata": {
    "id": "-1xqUVuguVUO"
   },
   "outputs": [],
   "source": [
    "# import numpy and pandas\n",
    "\n",
    "import numpy as np \n",
    "import pandas as pd "
   ]
  },
  {
   "cell_type": "code",
   "execution_count": 25,
   "metadata": {},
   "outputs": [
    {
     "data": {
      "text/html": [
       "<div>\n",
       "<style scoped>\n",
       "    .dataframe tbody tr th:only-of-type {\n",
       "        vertical-align: middle;\n",
       "    }\n",
       "\n",
       "    .dataframe tbody tr th {\n",
       "        vertical-align: top;\n",
       "    }\n",
       "\n",
       "    .dataframe thead th {\n",
       "        text-align: right;\n",
       "    }\n",
       "</style>\n",
       "<table border=\"1\" class=\"dataframe\">\n",
       "  <thead>\n",
       "    <tr style=\"text-align: right;\">\n",
       "      <th></th>\n",
       "      <th>country</th>\n",
       "      <th>seasonality</th>\n",
       "      <th>sex</th>\n",
       "      <th>age_group</th>\n",
       "      <th>month</th>\n",
       "      <th>unemployment</th>\n",
       "      <th>unemployment_rate</th>\n",
       "    </tr>\n",
       "  </thead>\n",
       "  <tbody>\n",
       "    <tr>\n",
       "      <th>1685</th>\n",
       "      <td>at</td>\n",
       "      <td>sa</td>\n",
       "      <td>m</td>\n",
       "      <td>y_lt25</td>\n",
       "      <td>2007.06</td>\n",
       "      <td>29000</td>\n",
       "      <td>8.8</td>\n",
       "    </tr>\n",
       "    <tr>\n",
       "      <th>6534</th>\n",
       "      <td>be</td>\n",
       "      <td>trend</td>\n",
       "      <td>m</td>\n",
       "      <td>y_lt25</td>\n",
       "      <td>2003.07</td>\n",
       "      <td>53000</td>\n",
       "      <td>22.1</td>\n",
       "    </tr>\n",
       "    <tr>\n",
       "      <th>70639</th>\n",
       "      <td>se</td>\n",
       "      <td>nsa</td>\n",
       "      <td>m</td>\n",
       "      <td>y25-74</td>\n",
       "      <td>2007.08</td>\n",
       "      <td>85000</td>\n",
       "      <td>3.8</td>\n",
       "    </tr>\n",
       "    <tr>\n",
       "      <th>12087</th>\n",
       "      <td>cz</td>\n",
       "      <td>trend</td>\n",
       "      <td>m</td>\n",
       "      <td>y25-74</td>\n",
       "      <td>1999.04</td>\n",
       "      <td>132000</td>\n",
       "      <td>5.4</td>\n",
       "    </tr>\n",
       "    <tr>\n",
       "      <th>4212</th>\n",
       "      <td>be</td>\n",
       "      <td>sa</td>\n",
       "      <td>f</td>\n",
       "      <td>y25-74</td>\n",
       "      <td>2006.01</td>\n",
       "      <td>144000</td>\n",
       "      <td>7.9</td>\n",
       "    </tr>\n",
       "  </tbody>\n",
       "</table>\n",
       "</div>"
      ],
      "text/plain": [
       "      country seasonality sex age_group    month  unemployment  \\\n",
       "1685       at          sa   m    y_lt25  2007.06         29000   \n",
       "6534       be       trend   m    y_lt25  2003.07         53000   \n",
       "70639      se         nsa   m    y25-74  2007.08         85000   \n",
       "12087      cz       trend   m    y25-74  1999.04        132000   \n",
       "4212       be          sa   f    y25-74  2006.01        144000   \n",
       "\n",
       "       unemployment_rate  \n",
       "1685                 8.8  \n",
       "6534                22.1  \n",
       "70639                3.8  \n",
       "12087                5.4  \n",
       "4212                 7.9  "
      ]
     },
     "execution_count": 25,
     "metadata": {},
     "output_type": "execute_result"
    }
   ],
   "source": [
    "# read the csv file into a variable called df\n",
    "# then print out a sample\n",
    "age_df = pd.read_csv(\"C:/Users/Simona/Desktop/Data Analysis/concordia-bootcamp/ds-intro-P3-modules-main/ds-intro-P3-modules-main/data/country_sex_age.csv\")\n",
    "df = age_df.copy()\n",
    "\n",
    "df.sample(5)\n"
   ]
  },
  {
   "cell_type": "code",
   "execution_count": 26,
   "metadata": {},
   "outputs": [
    {
     "data": {
      "text/html": [
       "<div>\n",
       "<style scoped>\n",
       "    .dataframe tbody tr th:only-of-type {\n",
       "        vertical-align: middle;\n",
       "    }\n",
       "\n",
       "    .dataframe tbody tr th {\n",
       "        vertical-align: top;\n",
       "    }\n",
       "\n",
       "    .dataframe thead th {\n",
       "        text-align: right;\n",
       "    }\n",
       "</style>\n",
       "<table border=\"1\" class=\"dataframe\">\n",
       "  <thead>\n",
       "    <tr style=\"text-align: right;\">\n",
       "      <th></th>\n",
       "      <th>unemployment_rate</th>\n",
       "      <th>age_group</th>\n",
       "    </tr>\n",
       "  </thead>\n",
       "  <tbody>\n",
       "    <tr>\n",
       "      <th>0</th>\n",
       "      <td>4.5</td>\n",
       "      <td>y25-74</td>\n",
       "    </tr>\n",
       "    <tr>\n",
       "      <th>1</th>\n",
       "      <td>4.5</td>\n",
       "      <td>y25-74</td>\n",
       "    </tr>\n",
       "    <tr>\n",
       "      <th>2</th>\n",
       "      <td>4.5</td>\n",
       "      <td>y25-74</td>\n",
       "    </tr>\n",
       "    <tr>\n",
       "      <th>3</th>\n",
       "      <td>4.6</td>\n",
       "      <td>y25-74</td>\n",
       "    </tr>\n",
       "    <tr>\n",
       "      <th>4</th>\n",
       "      <td>4.6</td>\n",
       "      <td>y25-74</td>\n",
       "    </tr>\n",
       "    <tr>\n",
       "      <th>...</th>\n",
       "      <td>...</td>\n",
       "      <td>...</td>\n",
       "    </tr>\n",
       "    <tr>\n",
       "      <th>83155</th>\n",
       "      <td>21.1</td>\n",
       "      <td>y_lt25</td>\n",
       "    </tr>\n",
       "    <tr>\n",
       "      <th>83156</th>\n",
       "      <td>20.8</td>\n",
       "      <td>y_lt25</td>\n",
       "    </tr>\n",
       "    <tr>\n",
       "      <th>83157</th>\n",
       "      <td>20.5</td>\n",
       "      <td>y_lt25</td>\n",
       "    </tr>\n",
       "    <tr>\n",
       "      <th>83158</th>\n",
       "      <td>20.7</td>\n",
       "      <td>y_lt25</td>\n",
       "    </tr>\n",
       "    <tr>\n",
       "      <th>83159</th>\n",
       "      <td>21.1</td>\n",
       "      <td>y_lt25</td>\n",
       "    </tr>\n",
       "  </tbody>\n",
       "</table>\n",
       "<p>83160 rows × 2 columns</p>\n",
       "</div>"
      ],
      "text/plain": [
       "       unemployment_rate age_group\n",
       "0                    4.5    y25-74\n",
       "1                    4.5    y25-74\n",
       "2                    4.5    y25-74\n",
       "3                    4.6    y25-74\n",
       "4                    4.6    y25-74\n",
       "...                  ...       ...\n",
       "83155               21.1    y_lt25\n",
       "83156               20.8    y_lt25\n",
       "83157               20.5    y_lt25\n",
       "83158               20.7    y_lt25\n",
       "83159               21.1    y_lt25\n",
       "\n",
       "[83160 rows x 2 columns]"
      ]
     },
     "execution_count": 26,
     "metadata": {},
     "output_type": "execute_result"
    }
   ],
   "source": [
    "df.sample(2, axis = 1)"
   ]
  },
  {
   "cell_type": "code",
   "execution_count": 27,
   "metadata": {},
   "outputs": [
    {
     "data": {
      "text/plain": [
       "0        at\n",
       "1        at\n",
       "2        at\n",
       "3        at\n",
       "4        at\n",
       "         ..\n",
       "83155    uk\n",
       "83156    uk\n",
       "83157    uk\n",
       "83158    uk\n",
       "83159    uk\n",
       "Name: country, Length: 83160, dtype: object"
      ]
     },
     "execution_count": 27,
     "metadata": {},
     "output_type": "execute_result"
    }
   ],
   "source": [
    "# 'country'\n",
    "\n",
    "df['country']\n"
   ]
  },
  {
   "cell_type": "code",
   "execution_count": 28,
   "metadata": {},
   "outputs": [
    {
     "data": {
      "text/plain": [
       "0        False\n",
       "1        False\n",
       "2        False\n",
       "3        False\n",
       "4        False\n",
       "         ...  \n",
       "83155     True\n",
       "83156     True\n",
       "83157     True\n",
       "83158     True\n",
       "83159     True\n",
       "Name: country, Length: 83160, dtype: bool"
      ]
     },
     "execution_count": 28,
     "metadata": {},
     "output_type": "execute_result"
    }
   ],
   "source": [
    "# 'country' is 'uk'\n",
    "df.country == 'uk'"
   ]
  },
  {
   "cell_type": "code",
   "execution_count": 29,
   "metadata": {},
   "outputs": [
    {
     "data": {
      "text/html": [
       "<div>\n",
       "<style scoped>\n",
       "    .dataframe tbody tr th:only-of-type {\n",
       "        vertical-align: middle;\n",
       "    }\n",
       "\n",
       "    .dataframe tbody tr th {\n",
       "        vertical-align: top;\n",
       "    }\n",
       "\n",
       "    .dataframe thead th {\n",
       "        text-align: right;\n",
       "    }\n",
       "</style>\n",
       "<table border=\"1\" class=\"dataframe\">\n",
       "  <thead>\n",
       "    <tr style=\"text-align: right;\">\n",
       "      <th></th>\n",
       "      <th>country</th>\n",
       "      <th>seasonality</th>\n",
       "      <th>sex</th>\n",
       "      <th>age_group</th>\n",
       "      <th>month</th>\n",
       "      <th>unemployment</th>\n",
       "      <th>unemployment_rate</th>\n",
       "    </tr>\n",
       "  </thead>\n",
       "  <tbody>\n",
       "    <tr>\n",
       "      <th>79152</th>\n",
       "      <td>uk</td>\n",
       "      <td>nsa</td>\n",
       "      <td>f</td>\n",
       "      <td>y25-74</td>\n",
       "      <td>1983.01</td>\n",
       "      <td>543000</td>\n",
       "      <td>6.9</td>\n",
       "    </tr>\n",
       "    <tr>\n",
       "      <th>79153</th>\n",
       "      <td>uk</td>\n",
       "      <td>nsa</td>\n",
       "      <td>f</td>\n",
       "      <td>y25-74</td>\n",
       "      <td>1983.02</td>\n",
       "      <td>551000</td>\n",
       "      <td>7.0</td>\n",
       "    </tr>\n",
       "    <tr>\n",
       "      <th>79154</th>\n",
       "      <td>uk</td>\n",
       "      <td>nsa</td>\n",
       "      <td>f</td>\n",
       "      <td>y25-74</td>\n",
       "      <td>1983.03</td>\n",
       "      <td>553000</td>\n",
       "      <td>7.0</td>\n",
       "    </tr>\n",
       "    <tr>\n",
       "      <th>79155</th>\n",
       "      <td>uk</td>\n",
       "      <td>nsa</td>\n",
       "      <td>f</td>\n",
       "      <td>y25-74</td>\n",
       "      <td>1983.04</td>\n",
       "      <td>558000</td>\n",
       "      <td>7.0</td>\n",
       "    </tr>\n",
       "    <tr>\n",
       "      <th>79156</th>\n",
       "      <td>uk</td>\n",
       "      <td>nsa</td>\n",
       "      <td>f</td>\n",
       "      <td>y25-74</td>\n",
       "      <td>1983.05</td>\n",
       "      <td>554000</td>\n",
       "      <td>7.0</td>\n",
       "    </tr>\n",
       "    <tr>\n",
       "      <th>...</th>\n",
       "      <td>...</td>\n",
       "      <td>...</td>\n",
       "      <td>...</td>\n",
       "      <td>...</td>\n",
       "      <td>...</td>\n",
       "      <td>...</td>\n",
       "      <td>...</td>\n",
       "    </tr>\n",
       "    <tr>\n",
       "      <th>83155</th>\n",
       "      <td>uk</td>\n",
       "      <td>trend</td>\n",
       "      <td>m</td>\n",
       "      <td>y_lt25</td>\n",
       "      <td>2010.06</td>\n",
       "      <td>518000</td>\n",
       "      <td>21.1</td>\n",
       "    </tr>\n",
       "    <tr>\n",
       "      <th>83156</th>\n",
       "      <td>uk</td>\n",
       "      <td>trend</td>\n",
       "      <td>m</td>\n",
       "      <td>y_lt25</td>\n",
       "      <td>2010.07</td>\n",
       "      <td>513000</td>\n",
       "      <td>20.8</td>\n",
       "    </tr>\n",
       "    <tr>\n",
       "      <th>83157</th>\n",
       "      <td>uk</td>\n",
       "      <td>trend</td>\n",
       "      <td>m</td>\n",
       "      <td>y_lt25</td>\n",
       "      <td>2010.08</td>\n",
       "      <td>509000</td>\n",
       "      <td>20.5</td>\n",
       "    </tr>\n",
       "    <tr>\n",
       "      <th>83158</th>\n",
       "      <td>uk</td>\n",
       "      <td>trend</td>\n",
       "      <td>m</td>\n",
       "      <td>y_lt25</td>\n",
       "      <td>2010.09</td>\n",
       "      <td>513000</td>\n",
       "      <td>20.7</td>\n",
       "    </tr>\n",
       "    <tr>\n",
       "      <th>83159</th>\n",
       "      <td>uk</td>\n",
       "      <td>trend</td>\n",
       "      <td>m</td>\n",
       "      <td>y_lt25</td>\n",
       "      <td>2010.10</td>\n",
       "      <td>520000</td>\n",
       "      <td>21.1</td>\n",
       "    </tr>\n",
       "  </tbody>\n",
       "</table>\n",
       "<p>4008 rows × 7 columns</p>\n",
       "</div>"
      ],
      "text/plain": [
       "      country seasonality sex age_group    month  unemployment  \\\n",
       "79152      uk         nsa   f    y25-74  1983.01        543000   \n",
       "79153      uk         nsa   f    y25-74  1983.02        551000   \n",
       "79154      uk         nsa   f    y25-74  1983.03        553000   \n",
       "79155      uk         nsa   f    y25-74  1983.04        558000   \n",
       "79156      uk         nsa   f    y25-74  1983.05        554000   \n",
       "...       ...         ...  ..       ...      ...           ...   \n",
       "83155      uk       trend   m    y_lt25  2010.06        518000   \n",
       "83156      uk       trend   m    y_lt25  2010.07        513000   \n",
       "83157      uk       trend   m    y_lt25  2010.08        509000   \n",
       "83158      uk       trend   m    y_lt25  2010.09        513000   \n",
       "83159      uk       trend   m    y_lt25  2010.10        520000   \n",
       "\n",
       "       unemployment_rate  \n",
       "79152                6.9  \n",
       "79153                7.0  \n",
       "79154                7.0  \n",
       "79155                7.0  \n",
       "79156                7.0  \n",
       "...                  ...  \n",
       "83155               21.1  \n",
       "83156               20.8  \n",
       "83157               20.5  \n",
       "83158               20.7  \n",
       "83159               21.1  \n",
       "\n",
       "[4008 rows x 7 columns]"
      ]
     },
     "execution_count": 29,
     "metadata": {},
     "output_type": "execute_result"
    }
   ],
   "source": [
    "# all data for 'country' is 'uk'\n",
    "\n",
    "df[df.country=='uk']"
   ]
  },
  {
   "cell_type": "code",
   "execution_count": 30,
   "metadata": {},
   "outputs": [
    {
     "data": {
      "text/html": [
       "<div>\n",
       "<style scoped>\n",
       "    .dataframe tbody tr th:only-of-type {\n",
       "        vertical-align: middle;\n",
       "    }\n",
       "\n",
       "    .dataframe tbody tr th {\n",
       "        vertical-align: top;\n",
       "    }\n",
       "\n",
       "    .dataframe thead th {\n",
       "        text-align: right;\n",
       "    }\n",
       "</style>\n",
       "<table border=\"1\" class=\"dataframe\">\n",
       "  <thead>\n",
       "    <tr style=\"text-align: right;\">\n",
       "      <th></th>\n",
       "      <th>country</th>\n",
       "      <th>unemployment_rate</th>\n",
       "    </tr>\n",
       "  </thead>\n",
       "  <tbody>\n",
       "    <tr>\n",
       "      <th>0</th>\n",
       "      <td>at</td>\n",
       "      <td>4.5</td>\n",
       "    </tr>\n",
       "    <tr>\n",
       "      <th>1</th>\n",
       "      <td>at</td>\n",
       "      <td>4.5</td>\n",
       "    </tr>\n",
       "    <tr>\n",
       "      <th>2</th>\n",
       "      <td>at</td>\n",
       "      <td>4.5</td>\n",
       "    </tr>\n",
       "    <tr>\n",
       "      <th>3</th>\n",
       "      <td>at</td>\n",
       "      <td>4.6</td>\n",
       "    </tr>\n",
       "    <tr>\n",
       "      <th>4</th>\n",
       "      <td>at</td>\n",
       "      <td>4.6</td>\n",
       "    </tr>\n",
       "    <tr>\n",
       "      <th>...</th>\n",
       "      <td>...</td>\n",
       "      <td>...</td>\n",
       "    </tr>\n",
       "    <tr>\n",
       "      <th>83155</th>\n",
       "      <td>uk</td>\n",
       "      <td>21.1</td>\n",
       "    </tr>\n",
       "    <tr>\n",
       "      <th>83156</th>\n",
       "      <td>uk</td>\n",
       "      <td>20.8</td>\n",
       "    </tr>\n",
       "    <tr>\n",
       "      <th>83157</th>\n",
       "      <td>uk</td>\n",
       "      <td>20.5</td>\n",
       "    </tr>\n",
       "    <tr>\n",
       "      <th>83158</th>\n",
       "      <td>uk</td>\n",
       "      <td>20.7</td>\n",
       "    </tr>\n",
       "    <tr>\n",
       "      <th>83159</th>\n",
       "      <td>uk</td>\n",
       "      <td>21.1</td>\n",
       "    </tr>\n",
       "  </tbody>\n",
       "</table>\n",
       "<p>83160 rows × 2 columns</p>\n",
       "</div>"
      ],
      "text/plain": [
       "      country  unemployment_rate\n",
       "0          at                4.5\n",
       "1          at                4.5\n",
       "2          at                4.5\n",
       "3          at                4.6\n",
       "4          at                4.6\n",
       "...       ...                ...\n",
       "83155      uk               21.1\n",
       "83156      uk               20.8\n",
       "83157      uk               20.5\n",
       "83158      uk               20.7\n",
       "83159      uk               21.1\n",
       "\n",
       "[83160 rows x 2 columns]"
      ]
     },
     "execution_count": 30,
     "metadata": {},
     "output_type": "execute_result"
    }
   ],
   "source": [
    "df[['country','unemployment_rate']]"
   ]
  },
  {
   "cell_type": "code",
   "execution_count": null,
   "metadata": {},
   "outputs": [],
   "source": [
    "#df.pop('country')\n",
    "\n",
    "#takes the country column out of the dataframe. Similar to .drop()"
   ]
  },
  {
   "cell_type": "code",
   "execution_count": 31,
   "metadata": {},
   "outputs": [
    {
     "data": {
      "image/png": "[encoded data removed]",
      "text/plain": [
       "<Figure size 432x288 with 1 Axes>"
      ]
     },
     "metadata": {},
     "output_type": "display_data"
    }
   ],
   "source": [
    "# setup seaborn\n",
    "\n",
    "import seaborn as sns \n",
    "\n",
    "sns.set_theme(style='whitegrid')\n",
    "ax = sns.barplot(x=df['age_group'],y=df['unemployment'],data=df)\n"
   ]
  },
  {
   "cell_type": "markdown",
   "metadata": {},
   "source": [
    "## Part 2: Use `.groupby()`"
   ]
  },
  {
   "cell_type": "code",
   "execution_count": 32,
   "metadata": {},
   "outputs": [
    {
     "data": {
      "text/plain": [
       "<pandas.core.groupby.generic.DataFrameGroupBy object at 0x000001ECDA5245E0>"
      ]
     },
     "execution_count": 32,
     "metadata": {},
     "output_type": "execute_result"
    }
   ],
   "source": [
    "# take 1: group by 'sex'\n",
    "\n",
    "df.groupby(['sex'])"
   ]
  },
  {
   "cell_type": "code",
   "execution_count": 33,
   "metadata": {},
   "outputs": [
    {
     "data": {
      "text/plain": [
       "<pandas.core.groupby.generic.DataFrameGroupBy object at 0x000001ECD84ACAC0>"
      ]
     },
     "execution_count": 33,
     "metadata": {},
     "output_type": "execute_result"
    }
   ],
   "source": [
    "# take 2: group by 'sex'\n",
    "\n",
    "grp = df.groupby(['sex'])\n",
    "grp"
   ]
  },
  {
   "cell_type": "code",
   "execution_count": 45,
   "metadata": {},
   "outputs": [
    {
     "data": {
      "text/plain": [
       "f    41580\n",
       "m    41580\n",
       "Name: sex, dtype: int64"
      ]
     },
     "execution_count": 45,
     "metadata": {},
     "output_type": "execute_result"
    }
   ],
   "source": [
    "#df['sex'].unique()\n",
    "\n",
    "df['sex'].value_counts()"
   ]
  },
  {
   "cell_type": "markdown",
   "metadata": {
    "id": "g0Ozo_92uVUR"
   },
   "source": [
    "The `grp` object is an \"in-waiting\" object that holds the groupby, waiting for you to tell it waht to do with the data."
   ]
  },
  {
   "cell_type": "code",
   "execution_count": 34,
   "metadata": {},
   "outputs": [
    {
     "data": {
      "text/html": [
       "<div>\n",
       "<style scoped>\n",
       "    .dataframe tbody tr th:only-of-type {\n",
       "        vertical-align: middle;\n",
       "    }\n",
       "\n",
       "    .dataframe tbody tr th {\n",
       "        vertical-align: top;\n",
       "    }\n",
       "\n",
       "    .dataframe thead th {\n",
       "        text-align: right;\n",
       "    }\n",
       "</style>\n",
       "<table border=\"1\" class=\"dataframe\">\n",
       "  <thead>\n",
       "    <tr style=\"text-align: right;\">\n",
       "      <th></th>\n",
       "      <th>month</th>\n",
       "      <th>unemployment</th>\n",
       "      <th>unemployment_rate</th>\n",
       "    </tr>\n",
       "    <tr>\n",
       "      <th>sex</th>\n",
       "      <th></th>\n",
       "      <th></th>\n",
       "      <th></th>\n",
       "    </tr>\n",
       "  </thead>\n",
       "  <tbody>\n",
       "    <tr>\n",
       "      <th>f</th>\n",
       "      <td>1999.398199</td>\n",
       "      <td>188137.566138</td>\n",
       "      <td>12.982629</td>\n",
       "    </tr>\n",
       "    <tr>\n",
       "      <th>m</th>\n",
       "      <td>1999.398199</td>\n",
       "      <td>206702.405002</td>\n",
       "      <td>11.671026</td>\n",
       "    </tr>\n",
       "  </tbody>\n",
       "</table>\n",
       "</div>"
      ],
      "text/plain": [
       "           month   unemployment  unemployment_rate\n",
       "sex                                               \n",
       "f    1999.398199  188137.566138          12.982629\n",
       "m    1999.398199  206702.405002          11.671026"
      ]
     },
     "execution_count": 34,
     "metadata": {},
     "output_type": "execute_result"
    }
   ],
   "source": [
    "# take 3: group by 'sex'\n",
    "\n",
    "df.groupby(['sex']).mean()"
   ]
  },
  {
   "cell_type": "code",
   "execution_count": 35,
   "metadata": {},
   "outputs": [
    {
     "data": {
      "text/plain": [
       "sex\n",
       "f    12.982629\n",
       "m    11.671026\n",
       "Name: unemployment_rate, dtype: float64"
      ]
     },
     "execution_count": 35,
     "metadata": {},
     "output_type": "execute_result"
    }
   ],
   "source": [
    "# take 4: group by 'sex'\n",
    "# display unemployment_rate only)\n",
    "\n",
    "df.groupby('sex')['unemployment_rate'].mean()\n"
   ]
  },
  {
   "cell_type": "code",
   "execution_count": 36,
   "metadata": {},
   "outputs": [
    {
     "data": {
      "text/plain": [
       "sex\n",
       "f    12.982629\n",
       "m    11.671026\n",
       "Name: unemployment_rate, dtype: float64"
      ]
     },
     "execution_count": 36,
     "metadata": {},
     "output_type": "execute_result"
    }
   ],
   "source": [
    "# take 5: group by 'sex'\n",
    "# display unemployment_rate only\n",
    "\n",
    "grp = df.groupby('sex')\n",
    "grp.unemployment_rate.mean()"
   ]
  },
  {
   "cell_type": "code",
   "execution_count": 47,
   "metadata": {},
   "outputs": [
    {
     "data": {
      "text/html": [
       "<div>\n",
       "<style scoped>\n",
       "    .dataframe tbody tr th:only-of-type {\n",
       "        vertical-align: middle;\n",
       "    }\n",
       "\n",
       "    .dataframe tbody tr th {\n",
       "        vertical-align: top;\n",
       "    }\n",
       "\n",
       "    .dataframe thead th {\n",
       "        text-align: right;\n",
       "    }\n",
       "</style>\n",
       "<table border=\"1\" class=\"dataframe\">\n",
       "  <thead>\n",
       "    <tr style=\"text-align: right;\">\n",
       "      <th></th>\n",
       "      <th>country</th>\n",
       "      <th>seasonality</th>\n",
       "      <th>sex</th>\n",
       "      <th>age_group</th>\n",
       "      <th>month</th>\n",
       "      <th>unemployment</th>\n",
       "      <th>unemployment_rate</th>\n",
       "    </tr>\n",
       "  </thead>\n",
       "  <tbody>\n",
       "    <tr>\n",
       "      <th>23129</th>\n",
       "      <td>es</td>\n",
       "      <td>trend</td>\n",
       "      <td>f</td>\n",
       "      <td>y_lt25</td>\n",
       "      <td>1993.06</td>\n",
       "      <td>549000</td>\n",
       "      <td>46.7</td>\n",
       "    </tr>\n",
       "    <tr>\n",
       "      <th>45196</th>\n",
       "      <td>lt</td>\n",
       "      <td>sa</td>\n",
       "      <td>f</td>\n",
       "      <td>y25-74</td>\n",
       "      <td>2008.05</td>\n",
       "      <td>24000</td>\n",
       "      <td>3.5</td>\n",
       "    </tr>\n",
       "    <tr>\n",
       "      <th>68247</th>\n",
       "      <td>ro</td>\n",
       "      <td>nsa</td>\n",
       "      <td>f</td>\n",
       "      <td>y_lt25</td>\n",
       "      <td>2009.07</td>\n",
       "      <td>92000</td>\n",
       "      <td>22.7</td>\n",
       "    </tr>\n",
       "    <tr>\n",
       "      <th>68135</th>\n",
       "      <td>ro</td>\n",
       "      <td>nsa</td>\n",
       "      <td>f</td>\n",
       "      <td>y_lt25</td>\n",
       "      <td>2000.03</td>\n",
       "      <td>133000</td>\n",
       "      <td>21.7</td>\n",
       "    </tr>\n",
       "    <tr>\n",
       "      <th>44662</th>\n",
       "      <td>lt</td>\n",
       "      <td>nsa</td>\n",
       "      <td>f</td>\n",
       "      <td>y_lt25</td>\n",
       "      <td>2002.02</td>\n",
       "      <td>18000</td>\n",
       "      <td>26.6</td>\n",
       "    </tr>\n",
       "  </tbody>\n",
       "</table>\n",
       "</div>"
      ],
      "text/plain": [
       "      country seasonality sex age_group    month  unemployment  \\\n",
       "23129      es       trend   f    y_lt25  1993.06        549000   \n",
       "45196      lt          sa   f    y25-74  2008.05         24000   \n",
       "68247      ro         nsa   f    y_lt25  2009.07         92000   \n",
       "68135      ro         nsa   f    y_lt25  2000.03        133000   \n",
       "44662      lt         nsa   f    y_lt25  2002.02         18000   \n",
       "\n",
       "       unemployment_rate  \n",
       "23129               46.7  \n",
       "45196                3.5  \n",
       "68247               22.7  \n",
       "68135               21.7  \n",
       "44662               26.6  "
      ]
     },
     "execution_count": 47,
     "metadata": {},
     "output_type": "execute_result"
    }
   ],
   "source": [
    "g = df.groupby('sex')\n",
    "g.get_group('f').sample(5)"
   ]
  },
  {
   "cell_type": "code",
   "execution_count": 48,
   "metadata": {},
   "outputs": [
    {
     "data": {
      "text/html": [
       "<div>\n",
       "<style scoped>\n",
       "    .dataframe tbody tr th:only-of-type {\n",
       "        vertical-align: middle;\n",
       "    }\n",
       "\n",
       "    .dataframe tbody tr th {\n",
       "        vertical-align: top;\n",
       "    }\n",
       "\n",
       "    .dataframe thead th {\n",
       "        text-align: right;\n",
       "    }\n",
       "</style>\n",
       "<table border=\"1\" class=\"dataframe\">\n",
       "  <thead>\n",
       "    <tr style=\"text-align: right;\">\n",
       "      <th></th>\n",
       "      <th>country</th>\n",
       "      <th>seasonality</th>\n",
       "      <th>age_group</th>\n",
       "      <th>month</th>\n",
       "      <th>unemployment</th>\n",
       "      <th>unemployment_rate</th>\n",
       "    </tr>\n",
       "    <tr>\n",
       "      <th>sex</th>\n",
       "      <th></th>\n",
       "      <th></th>\n",
       "      <th></th>\n",
       "      <th></th>\n",
       "      <th></th>\n",
       "      <th></th>\n",
       "    </tr>\n",
       "  </thead>\n",
       "  <tbody>\n",
       "    <tr>\n",
       "      <th>f</th>\n",
       "      <td>uk</td>\n",
       "      <td>trend</td>\n",
       "      <td>y_lt25</td>\n",
       "      <td>2010.12</td>\n",
       "      <td>1798000</td>\n",
       "      <td>50.2</td>\n",
       "    </tr>\n",
       "    <tr>\n",
       "      <th>m</th>\n",
       "      <td>uk</td>\n",
       "      <td>trend</td>\n",
       "      <td>y_lt25</td>\n",
       "      <td>2010.12</td>\n",
       "      <td>2198000</td>\n",
       "      <td>54.4</td>\n",
       "    </tr>\n",
       "  </tbody>\n",
       "</table>\n",
       "</div>"
      ],
      "text/plain": [
       "    country seasonality age_group    month  unemployment  unemployment_rate\n",
       "sex                                                                        \n",
       "f        uk       trend    y_lt25  2010.12       1798000               50.2\n",
       "m        uk       trend    y_lt25  2010.12       2198000               54.4"
      ]
     },
     "execution_count": 48,
     "metadata": {},
     "output_type": "execute_result"
    }
   ],
   "source": [
    "g.max()"
   ]
  },
  {
   "cell_type": "code",
   "execution_count": 52,
   "metadata": {},
   "outputs": [
    {
     "data": {
      "text/html": [
       "<div>\n",
       "<style scoped>\n",
       "    .dataframe tbody tr th:only-of-type {\n",
       "        vertical-align: middle;\n",
       "    }\n",
       "\n",
       "    .dataframe tbody tr th {\n",
       "        vertical-align: top;\n",
       "    }\n",
       "\n",
       "    .dataframe thead tr th {\n",
       "        text-align: left;\n",
       "    }\n",
       "\n",
       "    .dataframe thead tr:last-of-type th {\n",
       "        text-align: right;\n",
       "    }\n",
       "</style>\n",
       "<table border=\"1\" class=\"dataframe\">\n",
       "  <thead>\n",
       "    <tr>\n",
       "      <th></th>\n",
       "      <th colspan=\"8\" halign=\"left\">month</th>\n",
       "      <th colspan=\"5\" halign=\"left\">unemployment</th>\n",
       "      <th colspan=\"8\" halign=\"left\">unemployment_rate</th>\n",
       "    </tr>\n",
       "    <tr>\n",
       "      <th></th>\n",
       "      <th>count</th>\n",
       "      <th>mean</th>\n",
       "      <th>std</th>\n",
       "      <th>min</th>\n",
       "      <th>25%</th>\n",
       "      <th>50%</th>\n",
       "      <th>75%</th>\n",
       "      <th>max</th>\n",
       "      <th>count</th>\n",
       "      <th>mean</th>\n",
       "      <th>...</th>\n",
       "      <th>75%</th>\n",
       "      <th>max</th>\n",
       "      <th>count</th>\n",
       "      <th>mean</th>\n",
       "      <th>std</th>\n",
       "      <th>min</th>\n",
       "      <th>25%</th>\n",
       "      <th>50%</th>\n",
       "      <th>75%</th>\n",
       "      <th>max</th>\n",
       "    </tr>\n",
       "    <tr>\n",
       "      <th>sex</th>\n",
       "      <th></th>\n",
       "      <th></th>\n",
       "      <th></th>\n",
       "      <th></th>\n",
       "      <th></th>\n",
       "      <th></th>\n",
       "      <th></th>\n",
       "      <th></th>\n",
       "      <th></th>\n",
       "      <th></th>\n",
       "      <th></th>\n",
       "      <th></th>\n",
       "      <th></th>\n",
       "      <th></th>\n",
       "      <th></th>\n",
       "      <th></th>\n",
       "      <th></th>\n",
       "      <th></th>\n",
       "      <th></th>\n",
       "      <th></th>\n",
       "      <th></th>\n",
       "    </tr>\n",
       "  </thead>\n",
       "  <tbody>\n",
       "    <tr>\n",
       "      <th>f</th>\n",
       "      <td>41580.0</td>\n",
       "      <td>1999.398199</td>\n",
       "      <td>7.482529</td>\n",
       "      <td>1983.01</td>\n",
       "      <td>1994.09</td>\n",
       "      <td>2000.565</td>\n",
       "      <td>2006.01</td>\n",
       "      <td>2010.12</td>\n",
       "      <td>41580.0</td>\n",
       "      <td>188137.566138</td>\n",
       "      <td>...</td>\n",
       "      <td>209000.0</td>\n",
       "      <td>1798000.0</td>\n",
       "      <td>39906.0</td>\n",
       "      <td>12.982629</td>\n",
       "      <td>9.160382</td>\n",
       "      <td>0.8</td>\n",
       "      <td>6.4</td>\n",
       "      <td>9.9</td>\n",
       "      <td>17.7</td>\n",
       "      <td>50.2</td>\n",
       "    </tr>\n",
       "    <tr>\n",
       "      <th>m</th>\n",
       "      <td>41580.0</td>\n",
       "      <td>1999.398199</td>\n",
       "      <td>7.482529</td>\n",
       "      <td>1983.01</td>\n",
       "      <td>1994.09</td>\n",
       "      <td>2000.565</td>\n",
       "      <td>2006.01</td>\n",
       "      <td>2010.12</td>\n",
       "      <td>41580.0</td>\n",
       "      <td>206702.405002</td>\n",
       "      <td>...</td>\n",
       "      <td>246000.0</td>\n",
       "      <td>2198000.0</td>\n",
       "      <td>40122.0</td>\n",
       "      <td>11.671026</td>\n",
       "      <td>8.399140</td>\n",
       "      <td>0.8</td>\n",
       "      <td>5.3</td>\n",
       "      <td>8.9</td>\n",
       "      <td>16.7</td>\n",
       "      <td>54.4</td>\n",
       "    </tr>\n",
       "  </tbody>\n",
       "</table>\n",
       "<p>2 rows × 24 columns</p>\n",
       "</div>"
      ],
      "text/plain": [
       "       month                                                              \\\n",
       "       count         mean       std      min      25%       50%      75%   \n",
       "sex                                                                        \n",
       "f    41580.0  1999.398199  7.482529  1983.01  1994.09  2000.565  2006.01   \n",
       "m    41580.0  1999.398199  7.482529  1983.01  1994.09  2000.565  2006.01   \n",
       "\n",
       "             unemployment                 ...                       \\\n",
       "         max        count           mean  ...       75%        max   \n",
       "sex                                       ...                        \n",
       "f    2010.12      41580.0  188137.566138  ...  209000.0  1798000.0   \n",
       "m    2010.12      41580.0  206702.405002  ...  246000.0  2198000.0   \n",
       "\n",
       "    unemployment_rate                                                  \n",
       "                count       mean       std  min  25%  50%   75%   max  \n",
       "sex                                                                    \n",
       "f             39906.0  12.982629  9.160382  0.8  6.4  9.9  17.7  50.2  \n",
       "m             40122.0  11.671026  8.399140  0.8  5.3  8.9  16.7  54.4  \n",
       "\n",
       "[2 rows x 24 columns]"
      ]
     },
     "execution_count": 52,
     "metadata": {},
     "output_type": "execute_result"
    }
   ],
   "source": [
    "g.describe()"
   ]
  },
  {
   "cell_type": "markdown",
   "metadata": {
    "id": "r44cWm9-uVUQ"
   },
   "source": [
    "Note the index of the resulting series is the \"groupby key\".\n",
    "\n",
    "If we wanted to group over two different categories, we'd pass a list to the groupby object:"
   ]
  },
  {
   "cell_type": "code",
   "execution_count": 37,
   "metadata": {},
   "outputs": [
    {
     "data": {
      "text/plain": [
       "sex  age_group\n",
       "f    y25-74        7.566771\n",
       "     y_lt25       18.457435\n",
       "m    y25-74        6.244016\n",
       "     y_lt25       17.098036\n",
       "Name: unemployment_rate, dtype: float64"
      ]
     },
     "execution_count": 37,
     "metadata": {},
     "output_type": "execute_result"
    }
   ],
   "source": [
    "# pass a list to the groupby object\n",
    "\n",
    "grp = df.groupby(['sex','age_group'])\n",
    "\n",
    "grp.unemployment_rate.mean()"
   ]
  },
  {
   "cell_type": "markdown",
   "metadata": {
    "id": "VOxei3aPuVUR"
   },
   "source": [
    "This is where the **split-apply-combine** framework comes in. \n",
    "\n",
    "1. We **split** into the groups we want (the groupby list)\n",
    "2. We **apply** the transformation to the statistical column\n",
    "3. We **combine** (or **aggregate**) the results for each group.\n",
    "\n",
    "Keep in mind `agg` is an alias for aggregate, so you can just use `agg`.\n",
    "\n",
    "We can do this for multiple columns with a dictionary:"
   ]
  },
  {
   "cell_type": "code",
   "execution_count": 38,
   "metadata": {},
   "outputs": [
    {
     "data": {
      "text/html": [
       "<div>\n",
       "<style scoped>\n",
       "    .dataframe tbody tr th:only-of-type {\n",
       "        vertical-align: middle;\n",
       "    }\n",
       "\n",
       "    .dataframe tbody tr th {\n",
       "        vertical-align: top;\n",
       "    }\n",
       "\n",
       "    .dataframe thead th {\n",
       "        text-align: right;\n",
       "    }\n",
       "</style>\n",
       "<table border=\"1\" class=\"dataframe\">\n",
       "  <thead>\n",
       "    <tr style=\"text-align: right;\">\n",
       "      <th></th>\n",
       "      <th>month</th>\n",
       "      <th>unemployment</th>\n",
       "      <th>unemployment_rate</th>\n",
       "    </tr>\n",
       "    <tr>\n",
       "      <th>sex</th>\n",
       "      <th></th>\n",
       "      <th></th>\n",
       "      <th></th>\n",
       "    </tr>\n",
       "  </thead>\n",
       "  <tbody>\n",
       "    <tr>\n",
       "      <th>f</th>\n",
       "      <td>83134977.12</td>\n",
       "      <td>7822760000</td>\n",
       "      <td>518084.8</td>\n",
       "    </tr>\n",
       "    <tr>\n",
       "      <th>m</th>\n",
       "      <td>83134977.12</td>\n",
       "      <td>8594686000</td>\n",
       "      <td>468264.9</td>\n",
       "    </tr>\n",
       "  </tbody>\n",
       "</table>\n",
       "</div>"
      ],
      "text/plain": [
       "           month  unemployment  unemployment_rate\n",
       "sex                                              \n",
       "f    83134977.12    7822760000           518084.8\n",
       "m    83134977.12    8594686000           468264.9"
      ]
     },
     "execution_count": 38,
     "metadata": {},
     "output_type": "execute_result"
    }
   ],
   "source": [
    "grp = df.groupby('sex')\n",
    "grp.agg(np.sum)"
   ]
  },
  {
   "cell_type": "code",
   "execution_count": 39,
   "metadata": {},
   "outputs": [
    {
     "data": {
      "text/html": [
       "<div>\n",
       "<style scoped>\n",
       "    .dataframe tbody tr th:only-of-type {\n",
       "        vertical-align: middle;\n",
       "    }\n",
       "\n",
       "    .dataframe tbody tr th {\n",
       "        vertical-align: top;\n",
       "    }\n",
       "\n",
       "    .dataframe thead th {\n",
       "        text-align: right;\n",
       "    }\n",
       "</style>\n",
       "<table border=\"1\" class=\"dataframe\">\n",
       "  <thead>\n",
       "    <tr style=\"text-align: right;\">\n",
       "      <th></th>\n",
       "      <th></th>\n",
       "      <th>month</th>\n",
       "      <th>unemployment</th>\n",
       "      <th>unemployment_rate</th>\n",
       "    </tr>\n",
       "    <tr>\n",
       "      <th>sex</th>\n",
       "      <th>age_group</th>\n",
       "      <th></th>\n",
       "      <th></th>\n",
       "      <th></th>\n",
       "    </tr>\n",
       "  </thead>\n",
       "  <tbody>\n",
       "    <tr>\n",
       "      <th rowspan=\"2\" valign=\"top\">f</th>\n",
       "      <th>y25-74</th>\n",
       "      <td>41567488.56</td>\n",
       "      <td>5476574000</td>\n",
       "      <td>151797.0</td>\n",
       "    </tr>\n",
       "    <tr>\n",
       "      <th>y_lt25</th>\n",
       "      <td>41567488.56</td>\n",
       "      <td>2346186000</td>\n",
       "      <td>366287.8</td>\n",
       "    </tr>\n",
       "    <tr>\n",
       "      <th rowspan=\"2\" valign=\"top\">m</th>\n",
       "      <th>y25-74</th>\n",
       "      <td>41567488.56</td>\n",
       "      <td>6016451000</td>\n",
       "      <td>125261.2</td>\n",
       "    </tr>\n",
       "    <tr>\n",
       "      <th>y_lt25</th>\n",
       "      <td>41567488.56</td>\n",
       "      <td>2578235000</td>\n",
       "      <td>343003.7</td>\n",
       "    </tr>\n",
       "  </tbody>\n",
       "</table>\n",
       "</div>"
      ],
      "text/plain": [
       "                     month  unemployment  unemployment_rate\n",
       "sex age_group                                              \n",
       "f   y25-74     41567488.56    5476574000           151797.0\n",
       "    y_lt25     41567488.56    2346186000           366287.8\n",
       "m   y25-74     41567488.56    6016451000           125261.2\n",
       "    y_lt25     41567488.56    2578235000           343003.7"
      ]
     },
     "execution_count": 39,
     "metadata": {},
     "output_type": "execute_result"
    }
   ],
   "source": [
    "\n",
    "grp = df.groupby(['sex','age_group'])\n",
    "grp.agg(np.sum)"
   ]
  },
  {
   "cell_type": "code",
   "execution_count": 40,
   "metadata": {},
   "outputs": [
    {
     "data": {
      "text/html": [
       "<div>\n",
       "<style scoped>\n",
       "    .dataframe tbody tr th:only-of-type {\n",
       "        vertical-align: middle;\n",
       "    }\n",
       "\n",
       "    .dataframe tbody tr th {\n",
       "        vertical-align: top;\n",
       "    }\n",
       "\n",
       "    .dataframe thead th {\n",
       "        text-align: right;\n",
       "    }\n",
       "</style>\n",
       "<table border=\"1\" class=\"dataframe\">\n",
       "  <thead>\n",
       "    <tr style=\"text-align: right;\">\n",
       "      <th></th>\n",
       "      <th></th>\n",
       "      <th>unemployment_rate</th>\n",
       "      <th>unemployment</th>\n",
       "    </tr>\n",
       "    <tr>\n",
       "      <th>sex</th>\n",
       "      <th>age_group</th>\n",
       "      <th></th>\n",
       "      <th></th>\n",
       "    </tr>\n",
       "  </thead>\n",
       "  <tbody>\n",
       "    <tr>\n",
       "      <th rowspan=\"2\" valign=\"top\">f</th>\n",
       "      <th>y25-74</th>\n",
       "      <td>7.566771</td>\n",
       "      <td>5476574000</td>\n",
       "    </tr>\n",
       "    <tr>\n",
       "      <th>y_lt25</th>\n",
       "      <td>18.457435</td>\n",
       "      <td>2346186000</td>\n",
       "    </tr>\n",
       "    <tr>\n",
       "      <th rowspan=\"2\" valign=\"top\">m</th>\n",
       "      <th>y25-74</th>\n",
       "      <td>6.244016</td>\n",
       "      <td>6016451000</td>\n",
       "    </tr>\n",
       "    <tr>\n",
       "      <th>y_lt25</th>\n",
       "      <td>17.098036</td>\n",
       "      <td>2578235000</td>\n",
       "    </tr>\n",
       "  </tbody>\n",
       "</table>\n",
       "</div>"
      ],
      "text/plain": [
       "               unemployment_rate  unemployment\n",
       "sex age_group                                 \n",
       "f   y25-74              7.566771    5476574000\n",
       "    y_lt25             18.457435    2346186000\n",
       "m   y25-74              6.244016    6016451000\n",
       "    y_lt25             17.098036    2578235000"
      ]
     },
     "execution_count": 40,
     "metadata": {},
     "output_type": "execute_result"
    }
   ],
   "source": [
    "agg_dict = {'unemployment_rate':'mean','unemployment':np.sum} # Strings for inbuilt aggregation methods, You can also use numpy reduce functions\n",
    "\n",
    "# Aggregate each column in the dict \n",
    "# Using the apply function from \n",
    "\n",
    "grp = df.groupby(['sex','age_group'])\n",
    "grp.agg(agg_dict)"
   ]
  },
  {
   "cell_type": "markdown",
   "metadata": {
    "id": "O3STTsW5uVUS"
   },
   "source": [
    "Note that this dataframe has two layers of indices -- a `pd.MultiIndex` which is really bothersome to work with.\n",
    "\n",
    "This is why we often reset the index after doing groupbys, letting us access columns easily:"
   ]
  },
  {
   "cell_type": "code",
   "execution_count": 53,
   "metadata": {},
   "outputs": [
    {
     "data": {
      "text/html": [
       "<div>\n",
       "<style scoped>\n",
       "    .dataframe tbody tr th:only-of-type {\n",
       "        vertical-align: middle;\n",
       "    }\n",
       "\n",
       "    .dataframe tbody tr th {\n",
       "        vertical-align: top;\n",
       "    }\n",
       "\n",
       "    .dataframe thead th {\n",
       "        text-align: right;\n",
       "    }\n",
       "</style>\n",
       "<table border=\"1\" class=\"dataframe\">\n",
       "  <thead>\n",
       "    <tr style=\"text-align: right;\">\n",
       "      <th></th>\n",
       "      <th>0</th>\n",
       "      <th>1</th>\n",
       "    </tr>\n",
       "  </thead>\n",
       "  <tbody>\n",
       "    <tr>\n",
       "      <th>0</th>\n",
       "      <td>(f, y25-74)</td>\n",
       "      <td>country seasonality sex age_group    mon...</td>\n",
       "    </tr>\n",
       "    <tr>\n",
       "      <th>1</th>\n",
       "      <td>(f, y_lt25)</td>\n",
       "      <td>country seasonality sex age_group    mon...</td>\n",
       "    </tr>\n",
       "    <tr>\n",
       "      <th>2</th>\n",
       "      <td>(m, y25-74)</td>\n",
       "      <td>country seasonality sex age_group    mon...</td>\n",
       "    </tr>\n",
       "    <tr>\n",
       "      <th>3</th>\n",
       "      <td>(m, y_lt25)</td>\n",
       "      <td>country seasonality sex age_group    mon...</td>\n",
       "    </tr>\n",
       "  </tbody>\n",
       "</table>\n",
       "</div>"
      ],
      "text/plain": [
       "             0                                                  1\n",
       "0  (f, y25-74)        country seasonality sex age_group    mon...\n",
       "1  (f, y_lt25)        country seasonality sex age_group    mon...\n",
       "2  (m, y25-74)        country seasonality sex age_group    mon...\n",
       "3  (m, y_lt25)        country seasonality sex age_group    mon..."
      ]
     },
     "execution_count": 53,
     "metadata": {},
     "output_type": "execute_result"
    }
   ],
   "source": [
    "a = pd.DataFrame(grp)\n",
    "a"
   ]
  },
  {
   "cell_type": "code",
   "execution_count": 56,
   "metadata": {},
   "outputs": [
    {
     "data": {
      "text/html": [
       "<div>\n",
       "<style scoped>\n",
       "    .dataframe tbody tr th:only-of-type {\n",
       "        vertical-align: middle;\n",
       "    }\n",
       "\n",
       "    .dataframe tbody tr th {\n",
       "        vertical-align: top;\n",
       "    }\n",
       "\n",
       "    .dataframe thead th {\n",
       "        text-align: right;\n",
       "    }\n",
       "</style>\n",
       "<table border=\"1\" class=\"dataframe\">\n",
       "  <thead>\n",
       "    <tr style=\"text-align: right;\">\n",
       "      <th></th>\n",
       "      <th></th>\n",
       "      <th>unemployment_rate</th>\n",
       "      <th>unemployment</th>\n",
       "    </tr>\n",
       "    <tr>\n",
       "      <th>sex</th>\n",
       "      <th>age_group</th>\n",
       "      <th></th>\n",
       "      <th></th>\n",
       "    </tr>\n",
       "  </thead>\n",
       "  <tbody>\n",
       "    <tr>\n",
       "      <th rowspan=\"2\" valign=\"top\">f</th>\n",
       "      <th>y25-74</th>\n",
       "      <td>7.566771</td>\n",
       "      <td>5476574000</td>\n",
       "    </tr>\n",
       "    <tr>\n",
       "      <th>y_lt25</th>\n",
       "      <td>18.457435</td>\n",
       "      <td>2346186000</td>\n",
       "    </tr>\n",
       "    <tr>\n",
       "      <th rowspan=\"2\" valign=\"top\">m</th>\n",
       "      <th>y25-74</th>\n",
       "      <td>6.244016</td>\n",
       "      <td>6016451000</td>\n",
       "    </tr>\n",
       "    <tr>\n",
       "      <th>y_lt25</th>\n",
       "      <td>17.098036</td>\n",
       "      <td>2578235000</td>\n",
       "    </tr>\n",
       "  </tbody>\n",
       "</table>\n",
       "</div>"
      ],
      "text/plain": [
       "               unemployment_rate  unemployment\n",
       "sex age_group                                 \n",
       "f   y25-74              7.566771    5476574000\n",
       "    y_lt25             18.457435    2346186000\n",
       "m   y25-74              6.244016    6016451000\n",
       "    y_lt25             17.098036    2578235000"
      ]
     },
     "execution_count": 56,
     "metadata": {},
     "output_type": "execute_result"
    }
   ],
   "source": [
    "a = grp.agg(agg_dict)\n",
    "a"
   ]
  },
  {
   "cell_type": "code",
   "execution_count": 57,
   "metadata": {},
   "outputs": [
    {
     "data": {
      "text/plain": [
       "unemployment_rate    7.566771e+00\n",
       "unemployment         5.476574e+09\n",
       "Name: (f, y25-74), dtype: float64"
      ]
     },
     "execution_count": 57,
     "metadata": {},
     "output_type": "execute_result"
    }
   ],
   "source": [
    "a.loc['f','y25-74']"
   ]
  },
  {
   "cell_type": "code",
   "execution_count": 58,
   "metadata": {},
   "outputs": [
    {
     "data": {
      "text/html": [
       "<div>\n",
       "<style scoped>\n",
       "    .dataframe tbody tr th:only-of-type {\n",
       "        vertical-align: middle;\n",
       "    }\n",
       "\n",
       "    .dataframe tbody tr th {\n",
       "        vertical-align: top;\n",
       "    }\n",
       "\n",
       "    .dataframe thead th {\n",
       "        text-align: right;\n",
       "    }\n",
       "</style>\n",
       "<table border=\"1\" class=\"dataframe\">\n",
       "  <thead>\n",
       "    <tr style=\"text-align: right;\">\n",
       "      <th></th>\n",
       "      <th>unemployment_rate</th>\n",
       "      <th>unemployment</th>\n",
       "    </tr>\n",
       "    <tr>\n",
       "      <th>age_group</th>\n",
       "      <th></th>\n",
       "      <th></th>\n",
       "    </tr>\n",
       "  </thead>\n",
       "  <tbody>\n",
       "    <tr>\n",
       "      <th>y25-74</th>\n",
       "      <td>6.244016</td>\n",
       "      <td>6016451000</td>\n",
       "    </tr>\n",
       "    <tr>\n",
       "      <th>y_lt25</th>\n",
       "      <td>17.098036</td>\n",
       "      <td>2578235000</td>\n",
       "    </tr>\n",
       "  </tbody>\n",
       "</table>\n",
       "</div>"
      ],
      "text/plain": [
       "           unemployment_rate  unemployment\n",
       "age_group                                 \n",
       "y25-74              6.244016    6016451000\n",
       "y_lt25             17.098036    2578235000"
      ]
     },
     "execution_count": 58,
     "metadata": {},
     "output_type": "execute_result"
    }
   ],
   "source": [
    "a.xs('m', level = 'sex')"
   ]
  },
  {
   "cell_type": "code",
   "execution_count": 59,
   "metadata": {},
   "outputs": [
    {
     "data": {
      "text/plain": [
       "[['aaa', 'bbb', 'ccc'], [123, 456, 789]]"
      ]
     },
     "execution_count": 59,
     "metadata": {},
     "output_type": "execute_result"
    }
   ],
   "source": [
    "arr = [['aaa','bbb','ccc'],[123,456,789]]\n",
    "arr"
   ]
  },
  {
   "cell_type": "code",
   "execution_count": 60,
   "metadata": {},
   "outputs": [
    {
     "data": {
      "text/plain": [
       "MultiIndex([('aaa', 123),\n",
       "            ('bbb', 456),\n",
       "            ('ccc', 789)],\n",
       "           names=['NAME', 'SCORE'])"
      ]
     },
     "execution_count": 60,
     "metadata": {},
     "output_type": "execute_result"
    }
   ],
   "source": [
    "pd.MultiIndex.from_arrays(arr, names=('NAME','SCORE'))"
   ]
  },
  {
   "cell_type": "code",
   "execution_count": null,
   "metadata": {},
   "outputs": [],
   "source": []
  }
 ],
 "metadata": {
  "colab": {
   "collapsed_sections": [],
   "name": "Prelec Pandas Part 2.ipynb",
   "provenance": [],
   "toc_visible": true
  },
  "kernelspec": {
   "display_name": "Python 3 (ipykernel)",
   "language": "python",
   "name": "python3"
  },
  "language_info": {
   "codemirror_mode": {
    "name": "ipython",
    "version": 3
   },
   "file_extension": ".py",
   "mimetype": "text/x-python",
   "name": "python",
   "nbconvert_exporter": "python",
   "pygments_lexer": "ipython3",
   "version": "3.9.13"
  },
  "metadata": {
   "interpreter": {
    "hash": "b8bdd4e700647ba2b08c59e5df8b7da1dcf50a218bcd4c1bcd9b3dc92e8788e5"
   }
  }
 },
 "nbformat": 4,
 "nbformat_minor": 1
}
