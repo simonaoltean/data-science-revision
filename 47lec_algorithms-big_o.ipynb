{
 "cells": [
  {
   "cell_type": "markdown",
   "metadata": {
    "colab_type": "text",
    "id": "2wP4Wgr0c9Tz"
   },
   "source": [
    "# Big-O\n",
    "\n",
    "An algorithm is any method used to solve some computational problem. Some examples:\n",
    "\n",
    "- Take a list of numbers and re-arrange them in sorted order.\n",
    "- Find the shortest path between two points on a map.\n",
    "- Find the optimal order in which to complete a list of related tasks to minimize the effort/time taken."
   ]
  },
  {
   "cell_type": "markdown",
   "metadata": {},
   "source": [
    "Throughout the rest of the course we'll encounter:\n",
    "\n",
    "- A **framework and vocabulary** to design and analyze algorithms\n",
    "- A few algorithm **design paradigms**:\n",
    "  - Divide and conquer algorithms\n",
    "  - Greedy Algorithms\n",
    "  - Numeric Algorithms\n",
    "    - Approximation algorithms\n",
    "    - Randomized algorithms\n",
    "  - Optimization algorithms\n",
    "    - Dynamic Programming/backtracking\n",
    "    - Branch-and-bound/Prune-and-search\n",
    "  - Parallel Algorithms\n",
    "- Algorithm **data structures**\n",
    "  - Graph Algorithms\n",
    "  - Trees, hashing, etc.\n",
    "\n",
    "In short we have a lot of work to do! So let's get started!"
   ]
  },
  {
   "cell_type": "markdown",
   "metadata": {},
   "source": [
    "## Algorithm speed\n",
    "\n",
    "Algorithms generally care about how **efficient** they are at solving a particular problem -- they want to minimize the number of \"steps\" you have to take to complete a task."
   ]
  },
  {
   "cell_type": "markdown",
   "metadata": {},
   "source": [
    "## Algorithm Problems\n",
    "\n",
    "Algorithms generally are studied in the context of a particular problem --finding a method to find a solution (algorithm output) for a certain query (the input).\n",
    "\n",
    "For instance we define the **sorting problem** as follows:\n",
    "\n",
    "$$Input:\\ A\\ sequence\\ of\\ numbers\\ [a_1, a_2, ..., a_n]$$\n",
    "\n",
    "$$Output:\\ A\\ reordering\\ (permutation)\\ [a_1^{'}, a_2^{'}, ..., a_n^{'}]\\ such\\ that\\ a_1^{'} \\leq a_2^{'} \\leq ... \\leq a_n^{'}$$\n",
    "\n",
    "For instance, $SORT([1, 3, 2, 5, 4]) \\rightarrow [1, 2, 3, 4, 5]$.\n",
    "\n",
    "**Note the relationship between algorithms and functions!** Algorithms are types of functions in mathematics and the mathematical tools of functions are useful to study algorithms in general.\n",
    "\n",
    "Also **note** that sorting is only related to the type supporting a $\\ge$ operation! Sorting is defined on *any ordered Set of elements* as we saw in lecture 2."
   ]
  },
  {
   "cell_type": "markdown",
   "metadata": {
    "colab_type": "text",
    "id": "Vl0WAH8rnT7J"
   },
   "source": [
    "### The Sorting Problem\n",
    "\n",
    "One of the simplest algorithms to solve the sorting problem is called **selection sort**. First we'll define it using [pseudocode](https://en.wikipedia.org/wiki/Pseudocode) and then write it in python.\n",
    "\n",
    "Here's the pseudocode for selection sort:\n",
    "\n",
    "```python\n",
    "# 1. Find the smallest element. Swap it with the first element\n",
    "# 2. Find the 2nd-smallest element. Swap it with the 2nd\n",
    "# 3. Repeat finding the next-smallest, and swapping it into the position you're at until the array is sorted.\n",
    "```\n",
    "\n",
    "One thing we're missing to build the algorithm for **selection sort** right away is **linear search**, a procedure that takes a list and finds the index where the minimum element in the list is.\n",
    "\n",
    "#### Linear Search\n",
    "\n",
    "**Input:** A sequence of numbers $A=[a_1, a_2, ..., a_n]$\n",
    "\n",
    "**Output:** An integer $i$ such that $A[i] = min(A)$"
   ]
  },
  {
   "cell_type": "code",
   "execution_count": 2,
   "metadata": {
    "colab": {
     "base_uri": "https://localhost:8080/",
     "height": 34
    },
    "colab_type": "code",
    "executionInfo": {
     "elapsed": 841,
     "status": "ok",
     "timestamp": 1595459181793,
     "user": {
      "displayName": "Matthieu Ranger",
      "photoUrl": "",
      "userId": "05160963434497794589"
     },
     "user_tz": 240
    },
    "id": "hlSQNyBMuFaa",
    "outputId": "e91fff15-3498-4504-e096-ea709bcfd09e"
   },
   "outputs": [
    {
     "data": {
      "text/plain": [
       "3"
      ]
     },
     "execution_count": 2,
     "metadata": {},
     "output_type": "execute_result"
    }
   ],
   "source": [
    "# Part 1: Linear Search \n",
    "\n",
    "#Solution:\n",
    "\n",
    "def linear_search(arr):\n",
    "    \"\"\"\n",
    "    Find the index of the minimum element\n",
    "    AKA argsort\n",
    "    \"\"\"\n",
    "\n",
    "    current_min = float('inf')\n",
    "    current_min_idx = 0\n",
    "    for i in range(len(arr)):\n",
    "        #print(current_min)\n",
    "        if arr[i] < current_min:\n",
    "            current_min = arr[i]\n",
    "            current_min_idx = i\n",
    "    return current_min_idx\n",
    "\n",
    "linear_search([1,4,3,-99,5])"
   ]
  },
  {
   "cell_type": "markdown",
   "metadata": {
    "colab_type": "text",
    "id": "S8ootYXkuFrS"
   },
   "source": [
    "Now let's build **selection sort** in python! We should build a function `selection_sort(arr)` which takes a `list` or numpy array object and sort it in place (returning nothing)."
   ]
  },
  {
   "cell_type": "code",
   "execution_count": 3,
   "metadata": {
    "colab": {
     "base_uri": "https://localhost:8080/",
     "height": 34
    },
    "colab_type": "code",
    "executionInfo": {
     "elapsed": 829,
     "status": "ok",
     "timestamp": 1595459168292,
     "user": {
      "displayName": "Matthieu Ranger",
      "photoUrl": "",
      "userId": "05160963434497794589"
     },
     "user_tz": 240
    },
    "id": "k-4dCpP9b5Nf",
    "outputId": "dbffff9c-1910-42f4-c5ad-3df07bb1b574"
   },
   "outputs": [
    {
     "name": "stdout",
     "output_type": "stream",
     "text": [
      "2\n",
      "[111, 4, 3, 22, 5, 44.4, 66.6, 777]\n",
      "1\n",
      "[4, 111, 22, 5, 44.4, 66.6, 777]\n",
      "4\n",
      "[111, 22, 5, 44.4, 66.6, 777]\n",
      "3\n",
      "[22, 111, 44.4, 66.6, 777]\n",
      "5\n",
      "[111, 44.4, 66.6, 777]\n",
      "6\n",
      "[111, 66.6, 777]\n",
      "6\n",
      "[111, 777]\n",
      "7\n",
      "[777]\n"
     ]
    },
    {
     "data": {
      "text/plain": [
       "[3, 4, 5, 22, 44.4, 66.6, 111, 777]"
      ]
     },
     "execution_count": 3,
     "metadata": {},
     "output_type": "execute_result"
    }
   ],
   "source": [
    "# Part 2: selection sort \n",
    "\n",
    "#Solution:\n",
    "\n",
    "def selection_sort(arr):\n",
    "    \"\"\"Selection sort\"\"\"\n",
    "    n_sorted = 0 \n",
    "    while n_sorted < len(arr):\n",
    "        min_idx = linear_search(arr[n_sorted:]) + n_sorted\n",
    "        print(min_idx)\n",
    "        print(arr[n_sorted:])\n",
    "        to_swap = arr[n_sorted]\n",
    "        arr[n_sorted] = arr[min_idx]\n",
    "        arr[min_idx] = to_swap\n",
    "        n_sorted += 1\n",
    "    return arr\n",
    "\n",
    "\n",
    "arr = [111,4,3,22,5,44.4,66.6,777]\n",
    "selection_sort(arr)\n"
   ]
  },
  {
   "cell_type": "markdown",
   "metadata": {
    "colab_type": "text",
    "id": "aCDglvBffk3T"
   },
   "source": [
    "## Big-O\n",
    "\n",
    "Computer scientists analyze algorithms with the **Big-O** notation. \n",
    "\n",
    "Big-O cares about the number of steps we have to take to **grow in relation to input size**. \n",
    "\n",
    "For instance, for `linear_search`, we make a full pass through all the elements in the input array. We would say this is $O(n)$ because as the size of the input array $n$ grows, we have to take $n$ steps through the array to terminate the `linear_search` algorithm."
   ]
  },
  {
   "cell_type": "markdown",
   "metadata": {},
   "source": [
    "### Notes on Big-O notation\n",
    "\n",
    "Big-O is a theoretical way to think about algorithms. Big-O doesn't care about \n",
    "\n",
    "- what programming language you use\n",
    "- what computer you run your code on\n",
    "- how long it takes to run the algorithm in real life\n",
    "\n",
    "Big-O **only cares about how the number of steps** taken grow with respect to the size of the input.\n",
    "\n",
    "### Laws of Big-O\n",
    "\n",
    "1. Big-O only cares about the worst case.\n",
    "2. Big-O doesn't care about constant factors.\n",
    "3. Big-O doesn't care about low-order terms.\n",
    "4. Algorithms that take the same number of steps for all inputs are** $O(1)$."
   ]
  },
  {
   "cell_type": "markdown",
   "metadata": {},
   "source": [
    "### Analysis: Selection Sort\n",
    "\n",
    "For `selection_sort`, we do one $O(n)$ linear search for all $n$ elements in the array. This means we need:\n",
    "\n",
    "$$n * O(n) = O(n^2)$$\n",
    "\n",
    "So the number of steps selection sort has to take to terminate is **squared the number of input elements**.\n",
    "\n",
    "That's not very good! If you needed to sort $1,000,000,000$ elements it would take $1,000,000,000^2$ steps!\n",
    "\n",
    "Luckily there are some better algorithms we'll explore soon."
   ]
  },
  {
   "cell_type": "markdown",
   "metadata": {},
   "source": [
    "### Example 2: Multiplying integers \n",
    "\n",
    "The algorithm for multiplying two integers might seem like an easy thing solved a few millenia ago, but in fact it's still [an area of active research](https://www.quantamagazine.org/mathematicians-discover-the-perfect-way-to-multiply-20190411/). The algorithm you learned in grade school looks like this:\n",
    "\n",
    "```python\n",
    "# 1. Take two numbers, x and y, line them up along the smallest digit\n",
    "# 2. For each pair of digits, starting at the least significant digit multiply them and carry the remainder\n",
    "# 3. Repeat with the second least significant digit, multiplying remainders\n",
    "# 4. Repeat with the third least significant digit, and so on\n",
    "```\n",
    "\n",
    "This is another algorithm that is $O(n^2)$. For a long time people thought it was impossible to do it faster than $O(n^2)$. This was improved to $O(n^{1.58})$ in 1962 by [Karatsuba](https://en.wikipedia.org/wiki/Karatsuba_algorithm) and people are still trying to get the \"best score\". \n",
    "\n",
    "In the article I linked, it's been recently been improved to $O(n log(n))$."
   ]
  }
 ],
 "metadata": {
  "colab": {
   "authorship_tag": "ABX9TyPnnTWlvAJmTRJIVodZ0Oxq",
   "collapsed_sections": [],
   "name": "Algorithms Intro.ipynb",
   "provenance": []
  },
  "interpreter": {
   "hash": "f5c9dfabb21bd2a91b63810df81acbdc6b5e617e45414f0ef050ca96090c868f"
  },
  "kernelspec": {
   "display_name": "Python 3 (ipykernel)",
   "language": "python",
   "name": "python3"
  },
  "language_info": {
   "codemirror_mode": {
    "name": "ipython",
    "version": 3
   },
   "file_extension": ".py",
   "mimetype": "text/x-python",
   "name": "python",
   "nbconvert_exporter": "python",
   "pygments_lexer": "ipython3",
   "version": "3.9.13"
  }
 },
 "nbformat": 4,
 "nbformat_minor": 1
}
