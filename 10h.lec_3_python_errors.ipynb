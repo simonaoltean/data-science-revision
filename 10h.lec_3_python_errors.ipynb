{
 "cells": [
  {
   "cell_type": "markdown",
   "id": "2e5176bf",
   "metadata": {},
   "source": [
    "# Introduction to Error Handling\n",
    "\n",
    "When coding in Python, you will run into various types of errors. When Python encounters and error, it terminates and will not execute any other statements. This lecture is to show you how you can use error messages to decipher the error type and thus direct you how to handle such errors"
   ]
  },
  {
   "cell_type": "markdown",
   "id": "8affa70e",
   "metadata": {},
   "source": [
    "### SyntaxErrors"
   ]
  },
  {
   "cell_type": "code",
   "execution_count": 2,
   "id": "43e54ad9",
   "metadata": {},
   "outputs": [
    {
     "ename": "SyntaxError",
     "evalue": "invalid syntax (1910227119.py, line 1)",
     "output_type": "error",
     "traceback": [
      "\u001b[1;36m  Input \u001b[1;32mIn [2]\u001b[1;36m\u001b[0m\n\u001b[1;33m    if 5<7\u001b[0m\n\u001b[1;37m          ^\u001b[0m\n\u001b[1;31mSyntaxError\u001b[0m\u001b[1;31m:\u001b[0m invalid syntax\n"
     ]
    }
   ],
   "source": [
    "if 5<7\n",
    "print(\"yay\")"
   ]
  },
  {
   "cell_type": "markdown",
   "id": "6de3f02b",
   "metadata": {},
   "source": [
    "### IndentationErrors"
   ]
  },
  {
   "cell_type": "code",
   "execution_count": 4,
   "id": "958619be",
   "metadata": {},
   "outputs": [
    {
     "ename": "IndentationError",
     "evalue": "expected an indented block (3611149444.py, line 2)",
     "output_type": "error",
     "traceback": [
      "\u001b[1;36m  Input \u001b[1;32mIn [4]\u001b[1;36m\u001b[0m\n\u001b[1;33m    print('ya')\u001b[0m\n\u001b[1;37m    ^\u001b[0m\n\u001b[1;31mIndentationError\u001b[0m\u001b[1;31m:\u001b[0m expected an indented block\n"
     ]
    }
   ],
   "source": [
    "if 5<7:\n",
    "print('ya')"
   ]
  },
  {
   "cell_type": "markdown",
   "id": "c0de834c",
   "metadata": {},
   "source": [
    "### Execution Errors"
   ]
  },
  {
   "cell_type": "code",
   "execution_count": 5,
   "id": "f2721fc4",
   "metadata": {},
   "outputs": [
    {
     "ename": "ZeroDivisionError",
     "evalue": "division by zero",
     "output_type": "error",
     "traceback": [
      "\u001b[1;31m---------------------------------------------------------------------------\u001b[0m",
      "\u001b[1;31mZeroDivisionError\u001b[0m                         Traceback (most recent call last)",
      "Input \u001b[1;32mIn [5]\u001b[0m, in \u001b[0;36m<cell line: 12>\u001b[1;34m()\u001b[0m\n\u001b[0;32m      9\u001b[0m         new_lst\u001b[38;5;241m.\u001b[39mappend(new_el)     \n\u001b[0;32m     10\u001b[0m     \u001b[38;5;28;01mreturn\u001b[39;00m new_lst\n\u001b[1;32m---> 12\u001b[0m \u001b[43mdivision\u001b[49m\u001b[43m(\u001b[49m\u001b[43minput_list\u001b[49m\u001b[43m,\u001b[49m\u001b[38;5;241;43m2\u001b[39;49m\u001b[43m)\u001b[49m\n",
      "Input \u001b[1;32mIn [5]\u001b[0m, in \u001b[0;36mdivision\u001b[1;34m(lst, n)\u001b[0m\n\u001b[0;32m      6\u001b[0m \u001b[38;5;66;03m# divide n by each element in the lst and append it to new_lst\u001b[39;00m\n\u001b[0;32m      7\u001b[0m \u001b[38;5;28;01mfor\u001b[39;00m i \u001b[38;5;129;01min\u001b[39;00m lst:\n\u001b[1;32m----> 8\u001b[0m     new_el \u001b[38;5;241m=\u001b[39m \u001b[43mn\u001b[49m\u001b[38;5;241;43m/\u001b[39;49m\u001b[43mi\u001b[49m\n\u001b[0;32m      9\u001b[0m     new_lst\u001b[38;5;241m.\u001b[39mappend(new_el)     \n\u001b[0;32m     10\u001b[0m \u001b[38;5;28;01mreturn\u001b[39;00m new_lst\n",
      "\u001b[1;31mZeroDivisionError\u001b[0m: division by zero"
     ]
    }
   ],
   "source": [
    "# Example 1 Zero Division\n",
    "input_list = [1,5,2,9,10,0,12]\n",
    "\n",
    "def division(lst ,n):\n",
    "    new_lst = []\n",
    "    # divide n by each element in the lst and append it to new_lst\n",
    "    for i in lst:\n",
    "        new_el = n/i\n",
    "        new_lst.append(new_el)     \n",
    "    return new_lst\n",
    "\n",
    "division(input_list,2)"
   ]
  },
  {
   "cell_type": "markdown",
   "id": "e3b7590d",
   "metadata": {},
   "source": [
    "### NameError"
   ]
  },
  {
   "cell_type": "code",
   "execution_count": 6,
   "id": "220c5713",
   "metadata": {},
   "outputs": [
    {
     "ename": "NameError",
     "evalue": "name 'gyhwefy7832ryyg' is not defined",
     "output_type": "error",
     "traceback": [
      "\u001b[1;31m---------------------------------------------------------------------------\u001b[0m",
      "\u001b[1;31mNameError\u001b[0m                                 Traceback (most recent call last)",
      "Input \u001b[1;32mIn [6]\u001b[0m, in \u001b[0;36m<cell line: 1>\u001b[1;34m()\u001b[0m\n\u001b[1;32m----> 1\u001b[0m lst \u001b[38;5;241m=\u001b[39m [\u001b[43mgyhwefy7832ryyg\u001b[49m, iu7ytf87gyuwef]\n\u001b[0;32m      2\u001b[0m lst\n",
      "\u001b[1;31mNameError\u001b[0m: name 'gyhwefy7832ryyg' is not defined"
     ]
    }
   ],
   "source": [
    "lst = [gyhwefy7832ryyg, iu7ytf87gyuwef]\n",
    "lst"
   ]
  },
  {
   "cell_type": "markdown",
   "id": "b7d229c9",
   "metadata": {},
   "source": [
    "### TypeError"
   ]
  },
  {
   "cell_type": "code",
   "execution_count": 7,
   "id": "934d8176",
   "metadata": {},
   "outputs": [
    {
     "ename": "TypeError",
     "evalue": "can only concatenate list (not \"int\") to list",
     "output_type": "error",
     "traceback": [
      "\u001b[1;31m---------------------------------------------------------------------------\u001b[0m",
      "\u001b[1;31mTypeError\u001b[0m                                 Traceback (most recent call last)",
      "Input \u001b[1;32mIn [7]\u001b[0m, in \u001b[0;36m<cell line: 1>\u001b[1;34m()\u001b[0m\n\u001b[1;32m----> 1\u001b[0m \u001b[43m[\u001b[49m\u001b[38;5;241;43m1\u001b[39;49m\u001b[43m,\u001b[49m\u001b[38;5;241;43m2\u001b[39;49m\u001b[43m,\u001b[49m\u001b[38;5;241;43m2\u001b[39;49m\u001b[43m]\u001b[49m\u001b[38;5;241;43m+\u001b[39;49m\u001b[38;5;241;43m2\u001b[39;49m\n",
      "\u001b[1;31mTypeError\u001b[0m: can only concatenate list (not \"int\") to list"
     ]
    }
   ],
   "source": [
    "[1,2,2]+2"
   ]
  },
  {
   "cell_type": "markdown",
   "id": "8d43a691",
   "metadata": {},
   "source": [
    "## How to handle Python errors"
   ]
  },
  {
   "cell_type": "markdown",
   "id": "3f00351e",
   "metadata": {},
   "source": [
    "Python's <b> try/except </b> statements allows us to handle errors without breaking our code!\n",
    "\n",
    "<code>\n",
    "    try:\n",
    "        statement1\n",
    "        ...\n",
    "        statementn\n",
    "    except:\n",
    "        do something here\n",
    "</code>\n",
    "\n",
    "In a <b> try/except </b> statement, Python will try the code located between the <b> try </b> and the <b> except </b> keywords.     \n",
    " If no errors are encountered, then the <b>except</b> clause is skipped\n",
    "\n",
    "**HOWEVER**    \n",
    "\n",
    "If an error is encountered, then the rest of the <b>try</b> clause is skipped and the statements located in the <b>except</b> clause are executed\n",
    "\n",
    "The <b>except</b> clause can be set to handle specific errors or can be generalized to handle all errors. \n",
    "\n",
    "Let's redefine our divison function!"
   ]
  },
  {
   "cell_type": "code",
   "execution_count": 8,
   "id": "336c3dde",
   "metadata": {},
   "outputs": [
    {
     "data": {
      "text/plain": [
       "[5.0, 1.0, 2.5, 0.5555555555555556, 0.5, 0.4166666666666667]"
      ]
     },
     "execution_count": 8,
     "metadata": {},
     "output_type": "execute_result"
    }
   ],
   "source": [
    "def division(lst ,n):\n",
    "    new_lst = []\n",
    "    for i in lst:\n",
    "        try:\n",
    "            new_el = n/i\n",
    "            new_lst.append(new_el)\n",
    "        except:\n",
    "            pass #Simply moves on to the next item\n",
    "    return new_lst\n",
    "\n",
    "\n",
    "input_list = [1,5,2,9,10,0,12]\n",
    "division(input_list,5)"
   ]
  },
  {
   "cell_type": "code",
   "execution_count": 9,
   "id": "8bee5079",
   "metadata": {},
   "outputs": [
    {
     "data": {
      "text/plain": [
       "[5.0, 1.0, 2.5, 0.5555555555555556, 0.5, 'not divisible', 0.4166666666666667]"
      ]
     },
     "execution_count": 9,
     "metadata": {},
     "output_type": "execute_result"
    }
   ],
   "source": [
    "# OR \n",
    "def division(lst ,n):\n",
    "    new_lst = []\n",
    "    for i in lst:\n",
    "        try:\n",
    "            new_el = n/i\n",
    "            \n",
    "        except:\n",
    "            new_el = 'not divisible' #New element added to list will be this string\n",
    "        new_lst.append(new_el)\n",
    "    return new_lst\n",
    "\n",
    "division(input_list,5)"
   ]
  },
  {
   "cell_type": "code",
   "execution_count": 25,
   "id": "9b776dee",
   "metadata": {},
   "outputs": [
    {
     "ename": "TypeError",
     "evalue": "unsupported operand type(s) for /: 'int' and 'str'",
     "output_type": "error",
     "traceback": [
      "\u001b[1;31m---------------------------------------------------------------------------\u001b[0m",
      "\u001b[1;31mTypeError\u001b[0m                                 Traceback (most recent call last)",
      "Input \u001b[1;32mIn [25]\u001b[0m, in \u001b[0;36m<cell line: 14>\u001b[1;34m()\u001b[0m\n\u001b[0;32m     11\u001b[0m             \u001b[38;5;28;01mpass\u001b[39;00m     \n\u001b[0;32m     12\u001b[0m     \u001b[38;5;28;01mreturn\u001b[39;00m new_lst\n\u001b[1;32m---> 14\u001b[0m \u001b[43mdivision\u001b[49m\u001b[43m(\u001b[49m\u001b[43minput_list\u001b[49m\u001b[43m,\u001b[49m\u001b[38;5;241;43m5\u001b[39;49m\u001b[43m)\u001b[49m\n",
      "Input \u001b[1;32mIn [25]\u001b[0m, in \u001b[0;36mdivision\u001b[1;34m(lst, n)\u001b[0m\n\u001b[0;32m      5\u001b[0m \u001b[38;5;28;01mfor\u001b[39;00m i \u001b[38;5;129;01min\u001b[39;00m lst:\n\u001b[0;32m      6\u001b[0m     \u001b[38;5;28;01mtry\u001b[39;00m:\n\u001b[1;32m----> 7\u001b[0m         new_el \u001b[38;5;241m=\u001b[39m \u001b[43mn\u001b[49m\u001b[38;5;241;43m/\u001b[39;49m\u001b[43mi\u001b[49m\n\u001b[0;32m      8\u001b[0m         new_lst\u001b[38;5;241m.\u001b[39mappend(new_el)\n\u001b[0;32m      9\u001b[0m     \u001b[38;5;28;01mexcept\u001b[39;00m \u001b[38;5;167;01mZeroDivisionError\u001b[39;00m: \u001b[38;5;66;03m#Specify the type of error, other errors will be raised, however (see below). \u001b[39;00m\n\u001b[0;32m     10\u001b[0m     \u001b[38;5;66;03m#except TypeError:\u001b[39;00m\n",
      "\u001b[1;31mTypeError\u001b[0m: unsupported operand type(s) for /: 'int' and 'str'"
     ]
    }
   ],
   "source": [
    "# We can specify ZeroDivisionError in the except clause\n",
    "\n",
    "def division(lst ,n):\n",
    "    new_lst = []\n",
    "    for i in lst:\n",
    "        try:\n",
    "            new_el = n/i\n",
    "            new_lst.append(new_el)\n",
    "        except ZeroDivisionError: #Specify the type of error, other errors will be raised, however (see below). \n",
    "        #except TypeError:\n",
    "            pass     \n",
    "    return new_lst\n",
    "\n",
    "division(input_list,5)"
   ]
  },
  {
   "cell_type": "markdown",
   "id": "0fa911dc",
   "metadata": {},
   "source": [
    "What if our input list now contains a string in it? Can our newly redefined division function handle this situation?\n"
   ]
  },
  {
   "cell_type": "code",
   "execution_count": 11,
   "id": "43d4dda4",
   "metadata": {
    "scrolled": true
   },
   "outputs": [
    {
     "ename": "TypeError",
     "evalue": "unsupported operand type(s) for /: 'int' and 'str'",
     "output_type": "error",
     "traceback": [
      "\u001b[1;31m---------------------------------------------------------------------------\u001b[0m",
      "\u001b[1;31mTypeError\u001b[0m                                 Traceback (most recent call last)",
      "Input \u001b[1;32mIn [11]\u001b[0m, in \u001b[0;36m<cell line: 2>\u001b[1;34m()\u001b[0m\n\u001b[0;32m      1\u001b[0m input_list \u001b[38;5;241m=\u001b[39m [\u001b[38;5;241m1\u001b[39m,\u001b[38;5;241m5\u001b[39m,\u001b[38;5;241m2\u001b[39m,\u001b[38;5;241m9\u001b[39m,\u001b[38;5;241m10\u001b[39m,\u001b[38;5;241m0\u001b[39m,\u001b[38;5;241m12\u001b[39m, \u001b[38;5;124m'\u001b[39m\u001b[38;5;124ma\u001b[39m\u001b[38;5;124m'\u001b[39m, \u001b[38;5;241m15\u001b[39m]\n\u001b[1;32m----> 2\u001b[0m \u001b[43mdivision\u001b[49m\u001b[43m(\u001b[49m\u001b[43minput_list\u001b[49m\u001b[43m,\u001b[49m\u001b[38;5;241;43m5\u001b[39;49m\u001b[43m)\u001b[49m\n",
      "Input \u001b[1;32mIn [10]\u001b[0m, in \u001b[0;36mdivision\u001b[1;34m(lst, n)\u001b[0m\n\u001b[0;32m      5\u001b[0m \u001b[38;5;28;01mfor\u001b[39;00m i \u001b[38;5;129;01min\u001b[39;00m lst:\n\u001b[0;32m      6\u001b[0m     \u001b[38;5;28;01mtry\u001b[39;00m:\n\u001b[1;32m----> 7\u001b[0m         new_el \u001b[38;5;241m=\u001b[39m \u001b[43mn\u001b[49m\u001b[38;5;241;43m/\u001b[39;49m\u001b[43mi\u001b[49m\n\u001b[0;32m      8\u001b[0m         new_lst\u001b[38;5;241m.\u001b[39mappend(new_el)\n\u001b[0;32m      9\u001b[0m     \u001b[38;5;28;01mexcept\u001b[39;00m \u001b[38;5;167;01mZeroDivisionError\u001b[39;00m: \u001b[38;5;66;03m#Specify the type of error, other errors will be raised, however (see below). \u001b[39;00m\n\u001b[0;32m     10\u001b[0m     \u001b[38;5;66;03m#except TypeError:\u001b[39;00m\n",
      "\u001b[1;31mTypeError\u001b[0m: unsupported operand type(s) for /: 'int' and 'str'"
     ]
    }
   ],
   "source": [
    "input_list = [1,5,2,9,10,0,12, 'a', 15]\n",
    "division(input_list,5)"
   ]
  },
  {
   "cell_type": "markdown",
   "id": "5a659d9b",
   "metadata": {},
   "source": [
    "While the <b> Except </b> clause capture all errors, in some cases, you may want to act differently depending on the specific type of error.\n",
    "\n",
    "You can have multiple <b> except </b> statements to handle various specific error types"
   ]
  },
  {
   "cell_type": "code",
   "execution_count": 12,
   "id": "cb1c0e52",
   "metadata": {},
   "outputs": [
    {
     "name": "stdout",
     "output_type": "stream",
     "text": [
      "pass\n"
     ]
    },
    {
     "data": {
      "text/plain": [
       "[5.0,\n",
       " 1.0,\n",
       " 2.5,\n",
       " 0.5555555555555556,\n",
       " 0.5,\n",
       " 0.4166666666666667,\n",
       " 'a',\n",
       " 0.3333333333333333]"
      ]
     },
     "execution_count": 12,
     "metadata": {},
     "output_type": "execute_result"
    }
   ],
   "source": [
    "def division(lst ,n):\n",
    "    new_lst = []\n",
    "    \n",
    "    for i in lst:\n",
    "        try:\n",
    "            new_el = n/i\n",
    "            new_lst.append(new_el)\n",
    "        except ZeroDivisionError:\n",
    "            # will pass if encounters division by 0 and will print 'pass'\n",
    "            print(\"pass\")\n",
    "            pass        \n",
    "        except TypeError:\n",
    "            # append the element as it is without dividing n by it\n",
    "            new_lst.append(i)\n",
    "    return new_lst\n",
    "\n",
    "division(input_list,5)"
   ]
  },
  {
   "cell_type": "markdown",
   "id": "20146e06",
   "metadata": {},
   "source": [
    "## Else Clause\n",
    "\n",
    "There is also the optional <b>Else</b> clause.\n",
    "This clause tells Python to execute certain bits of code when there are no exceptions\n",
    "\n",
    "Since no exceptions have occurred, Python executes both the <b>try</b> and the <b>else</b> statements"
   ]
  },
  {
   "cell_type": "code",
   "execution_count": 13,
   "id": "ac4d2411",
   "metadata": {},
   "outputs": [
    {
     "name": "stdout",
     "output_type": "stream",
     "text": [
      "I'm in the try\n",
      "Nothing went wrong, I'm in the else\n"
     ]
    }
   ],
   "source": [
    "try:\n",
    "    print(\"I'm in the try\")\n",
    "except:\n",
    "    print(\"oops, went to the except\")\n",
    "else:\n",
    "    print(\"Nothing went wrong, I'm in the else\") "
   ]
  },
  {
   "cell_type": "markdown",
   "id": "3f27d2e4",
   "metadata": {},
   "source": [
    "## Finally Clause\n",
    "\n",
    "Finally (lol), there is the <b>finally</b> clause. This clause will **always** execute whether the <b>try</b> fails or not!"
   ]
  },
  {
   "cell_type": "code",
   "execution_count": 14,
   "id": "61ed900d",
   "metadata": {
    "scrolled": true
   },
   "outputs": [
    {
     "name": "stdout",
     "output_type": "stream",
     "text": [
      "oops, went to the except\n",
      "Try except is finished\n"
     ]
    }
   ],
   "source": [
    "try:\n",
    "    print(2/0) #ZeroDivisionError\n",
    "except:\n",
    "    print(\"oops, went to the except\")\n",
    "finally:\n",
    "    print(\"Try except is finished\") "
   ]
  },
  {
   "cell_type": "code",
   "execution_count": 15,
   "id": "ca73e1b2",
   "metadata": {},
   "outputs": [
    {
     "name": "stdout",
     "output_type": "stream",
     "text": [
      "2.0\n",
      "Try except is finished\n"
     ]
    }
   ],
   "source": [
    "try:\n",
    "    print(2/1) #Perfectly acceptable division\n",
    "except:\n",
    "    print(\"oops, went to the except\")\n",
    "finally:\n",
    "    print(\"Try except is finished\") "
   ]
  },
  {
   "cell_type": "markdown",
   "id": "f9a81087",
   "metadata": {},
   "source": [
    "## Manually Raising Errors\n",
    "\n",
    "Python allows us to define our own custom exceptions/errors\n",
    "\n",
    "These are raised when some logical condition is not satified"
   ]
  },
  {
   "cell_type": "code",
   "execution_count": 16,
   "id": "eda69174",
   "metadata": {
    "scrolled": true
   },
   "outputs": [
    {
     "name": "stdout",
     "output_type": "stream",
     "text": [
      "35\n"
     ]
    },
    {
     "ename": "Exception",
     "evalue": "Age cannot be negative",
     "output_type": "error",
     "traceback": [
      "\u001b[1;31m---------------------------------------------------------------------------\u001b[0m",
      "\u001b[1;31mException\u001b[0m                                 Traceback (most recent call last)",
      "Input \u001b[1;32mIn [16]\u001b[0m, in \u001b[0;36m<cell line: 12>\u001b[1;34m()\u001b[0m\n\u001b[0;32m      9\u001b[0m         \u001b[38;5;28;01mreturn\u001b[39;00m dog_age\n\u001b[0;32m     11\u001b[0m \u001b[38;5;28mprint\u001b[39m(dog_age_calc(\u001b[38;5;241m5\u001b[39m))\n\u001b[1;32m---> 12\u001b[0m \u001b[38;5;28mprint\u001b[39m(\u001b[43mdog_age_calc\u001b[49m\u001b[43m(\u001b[49m\u001b[38;5;241;43m-\u001b[39;49m\u001b[38;5;241;43m1\u001b[39;49m\u001b[43m)\u001b[49m)\n",
      "Input \u001b[1;32mIn [16]\u001b[0m, in \u001b[0;36mdog_age_calc\u001b[1;34m(age)\u001b[0m\n\u001b[0;32m      3\u001b[0m \u001b[38;5;124;03m\"\"\"This function only works on positive numbers\"\"\"\u001b[39;00m\n\u001b[0;32m      5\u001b[0m \u001b[38;5;28;01mif\u001b[39;00m age \u001b[38;5;241m<\u001b[39m \u001b[38;5;241m0\u001b[39m:\n\u001b[1;32m----> 6\u001b[0m     \u001b[38;5;28;01mraise\u001b[39;00m \u001b[38;5;167;01mException\u001b[39;00m(\u001b[38;5;124mf\u001b[39m\u001b[38;5;124m\"\u001b[39m\u001b[38;5;124mAge cannot be negative\u001b[39m\u001b[38;5;124m\"\u001b[39m)\n\u001b[0;32m      7\u001b[0m \u001b[38;5;28;01melse\u001b[39;00m:\n\u001b[0;32m      8\u001b[0m     dog_age \u001b[38;5;241m=\u001b[39m \u001b[38;5;241m7\u001b[39m \u001b[38;5;241m*\u001b[39m age\n",
      "\u001b[1;31mException\u001b[0m: Age cannot be negative"
     ]
    }
   ],
   "source": [
    "def dog_age_calc(age):\n",
    "    \n",
    "    \"\"\"This function only works on positive numbers\"\"\"\n",
    "    \n",
    "    if age < 0:\n",
    "        raise Exception(f\"Age cannot be negative\")\n",
    "    else:\n",
    "        dog_age = 7 * age\n",
    "        return dog_age\n",
    "    \n",
    "print(dog_age_calc(5))\n",
    "print(dog_age_calc(-1))"
   ]
  },
  {
   "cell_type": "markdown",
   "id": "4529ba09",
   "metadata": {},
   "source": [
    "## In-Class Activity Time!"
   ]
  },
  {
   "cell_type": "code",
   "execution_count": 17,
   "id": "9f65494b",
   "metadata": {},
   "outputs": [
    {
     "ename": "SyntaxError",
     "evalue": "Missing parentheses in call to 'print'. Did you mean print(lst[i])? (1556532178.py, line 6)",
     "output_type": "error",
     "traceback": [
      "\u001b[1;36m  Input \u001b[1;32mIn [17]\u001b[1;36m\u001b[0m\n\u001b[1;33m    print lst[i]\u001b[0m\n\u001b[1;37m          ^\u001b[0m\n\u001b[1;31mSyntaxError\u001b[0m\u001b[1;31m:\u001b[0m Missing parentheses in call to 'print'. Did you mean print(lst[i])?\n"
     ]
    }
   ],
   "source": [
    "# Without running any of these examples, does the code below return a syntax error? Exception Error (and what type)?\n",
    "# Can you explain why?\n",
    "\n",
    "lst = [1,2,3,5,6]\n",
    "for i in len(lst):\n",
    "    print lst[i]"
   ]
  },
  {
   "cell_type": "code",
   "execution_count": 18,
   "id": "625b7d71",
   "metadata": {},
   "outputs": [
    {
     "ename": "TypeError",
     "evalue": "'int' object is not iterable",
     "output_type": "error",
     "traceback": [
      "\u001b[1;31m---------------------------------------------------------------------------\u001b[0m",
      "\u001b[1;31mTypeError\u001b[0m                                 Traceback (most recent call last)",
      "Input \u001b[1;32mIn [18]\u001b[0m, in \u001b[0;36m<cell line: 4>\u001b[1;34m()\u001b[0m\n\u001b[0;32m      1\u001b[0m \u001b[38;5;66;03m# How about this?\u001b[39;00m\n\u001b[0;32m      3\u001b[0m lst \u001b[38;5;241m=\u001b[39m [\u001b[38;5;241m1\u001b[39m,\u001b[38;5;241m2\u001b[39m,\u001b[38;5;241m3\u001b[39m,\u001b[38;5;241m5\u001b[39m,\u001b[38;5;241m6\u001b[39m]\n\u001b[1;32m----> 4\u001b[0m \u001b[38;5;28;01mfor\u001b[39;00m i \u001b[38;5;129;01min\u001b[39;00m \u001b[38;5;28mlen\u001b[39m(lst):\n\u001b[0;32m      5\u001b[0m     \u001b[38;5;28mprint\u001b[39m(lst[i])\n",
      "\u001b[1;31mTypeError\u001b[0m: 'int' object is not iterable"
     ]
    }
   ],
   "source": [
    "# How about this?\n",
    "\n",
    "lst = [1,2,3,5,6]\n",
    "for i in len(lst):\n",
    "    print(lst[i])"
   ]
  },
  {
   "cell_type": "code",
   "execution_count": 19,
   "id": "bacb817d",
   "metadata": {},
   "outputs": [
    {
     "ename": "TypeError",
     "evalue": "can only concatenate list (not \"int\") to list",
     "output_type": "error",
     "traceback": [
      "\u001b[1;31m---------------------------------------------------------------------------\u001b[0m",
      "\u001b[1;31mTypeError\u001b[0m                                 Traceback (most recent call last)",
      "Input \u001b[1;32mIn [19]\u001b[0m, in \u001b[0;36m<cell line: 3>\u001b[1;34m()\u001b[0m\n\u001b[0;32m      2\u001b[0m lst \u001b[38;5;241m=\u001b[39m [\u001b[38;5;241m1\u001b[39m,\u001b[38;5;241m2\u001b[39m,\u001b[38;5;241m3\u001b[39m,\u001b[38;5;241m5\u001b[39m,\u001b[38;5;241m6\u001b[39m]\n\u001b[0;32m      3\u001b[0m \u001b[38;5;28;01mfor\u001b[39;00m i \u001b[38;5;129;01min\u001b[39;00m \u001b[38;5;28mrange\u001b[39m(\u001b[38;5;28mlen\u001b[39m(lst)):\n\u001b[1;32m----> 4\u001b[0m     \u001b[38;5;28mprint\u001b[39m(\u001b[43mlst\u001b[49m\u001b[38;5;241;43m+\u001b[39;49m\u001b[38;5;241;43m2\u001b[39;49m)\n",
      "\u001b[1;31mTypeError\u001b[0m: can only concatenate list (not \"int\") to list"
     ]
    }
   ],
   "source": [
    "# How about this?\n",
    "lst = [1,2,3,5,6]\n",
    "for i in range(len(lst)):\n",
    "    print(lst+2)"
   ]
  },
  {
   "cell_type": "code",
   "execution_count": 26,
   "id": "9a9c7b51",
   "metadata": {},
   "outputs": [
    {
     "ename": "NameError",
     "evalue": "name 'a' is not defined",
     "output_type": "error",
     "traceback": [
      "\u001b[1;31m---------------------------------------------------------------------------\u001b[0m",
      "\u001b[1;31mNameError\u001b[0m                                 Traceback (most recent call last)",
      "Input \u001b[1;32mIn [26]\u001b[0m, in \u001b[0;36m<cell line: 3>\u001b[1;34m()\u001b[0m\n\u001b[0;32m      2\u001b[0m lst \u001b[38;5;241m=\u001b[39m [\u001b[38;5;241m1\u001b[39m,\u001b[38;5;241m2\u001b[39m,\u001b[38;5;241m3\u001b[39m,\u001b[38;5;241m5\u001b[39m,\u001b[38;5;241m6\u001b[39m]\n\u001b[0;32m      3\u001b[0m \u001b[38;5;28;01mfor\u001b[39;00m i \u001b[38;5;129;01min\u001b[39;00m \u001b[38;5;28mrange\u001b[39m(\u001b[38;5;28mlen\u001b[39m(lst)):\n\u001b[1;32m----> 4\u001b[0m     \u001b[38;5;28mprint\u001b[39m(lst\u001b[38;5;241m+\u001b[39m\u001b[43ma\u001b[49m)\n",
      "\u001b[1;31mNameError\u001b[0m: name 'a' is not defined"
     ]
    }
   ],
   "source": [
    "# How about this?\n",
    "lst = [1,2,3,5,6]\n",
    "for i in range(len(lst)):\n",
    "    print(lst+a)"
   ]
  },
  {
   "cell_type": "code",
   "execution_count": null,
   "id": "e004efd3",
   "metadata": {},
   "outputs": [],
   "source": []
  },
  {
   "cell_type": "code",
   "execution_count": null,
   "id": "986b1657",
   "metadata": {},
   "outputs": [],
   "source": []
  }
 ],
 "metadata": {
  "kernelspec": {
   "display_name": "Python 3 (ipykernel)",
   "language": "python",
   "name": "python3"
  },
  "language_info": {
   "codemirror_mode": {
    "name": "ipython",
    "version": 3
   },
   "file_extension": ".py",
   "mimetype": "text/x-python",
   "name": "python",
   "nbconvert_exporter": "python",
   "pygments_lexer": "ipython3",
   "version": "3.9.13"
  }
 },
 "nbformat": 4,
 "nbformat_minor": 5
}
