{
 "cells": [
  {
   "cell_type": "markdown",
   "metadata": {},
   "source": [
    "# Python Classes"
   ]
  },
  {
   "cell_type": "markdown",
   "metadata": {},
   "source": [
    "## Defining a Class\n",
    "\n",
    "We want to define a class called *Client* in which a new instance stores a client's name, balance, and account level.\n",
    "It will take the format of:\n",
    "    \n",
    "    class Client:\n",
    "        def __init__(self, args[, ...])\n",
    "            #more code\n",
    "            \n",
    "\"def `__init__`\" is what we use when creating classes to define how we can create a new instance of this class. \n",
    "\n",
    "The arguments of `__init__` are required input when creating a new instance of this class, except for 'self'. "
   ]
  },
  {
   "cell_type": "code",
   "execution_count": null,
   "metadata": {},
   "outputs": [],
   "source": [
    "class User(): #Use capital, self is the class\n",
    "    \n",
    "    def __init__(self, full_name, birthday): #function to assign function properties, \n",
    "        self.name = full_name\n",
    "        self.birthday = birthday\n",
    "        \n",
    "        name_pieces = full_name.split(' ')\n",
    "        self.first_name = name_pieces[0]\n",
    "        self.last_name = name_pieces[-1]\n",
    "        \n",
    "    def age(self):\n",
    "        today = datetime.date(2022,11,1)\n",
    "        y = int(self.birthday[0:4])\n",
    "        m = int(self.birthday[4:6])\n",
    "        d = int(self.birthday[6:8])\n",
    "        dob = datetime.date(y,m,d)\n",
    "        age_in_days = (today + dob).days\n",
    "        age_in_years = age_in_days/365\n",
    "        \n",
    "user1 = User('Elon Musk', '19710628')\n",
    "print(user1.name)\n",
    "print(user1.first_name)\n",
    "print(user1.last_name)\n",
    "print(user1.birthday)\n",
    "# print(user1.age())"
   ]
  },
  {
   "cell_type": "code",
   "execution_count": 39,
   "metadata": {},
   "outputs": [],
   "source": [
    "# create the Client class below\n",
    "class Client:\n",
    "    def __init__(self, name, balance):\n",
    "        self.name = name\n",
    "        self.balance = balance + 100\n",
    "        \n",
    "        #define account level\n",
    "        if self.balance < 5000:\n",
    "            self.level = \"Basic\"\n",
    "        elif self.balance < 15000:\n",
    "            self.level = \"Intermediate\"\n",
    "        else:\n",
    "            self.level = \"Advanced\""
   ]
  },
  {
   "cell_type": "markdown",
   "metadata": {},
   "source": [
    "The **attributes** in *Client* are *name, balance* and *level*. \n",
    "\n",
    "**Note**: \"self.name\" and \"name\" are different variables. Here they represent the same values, but in other cases, this may lead to problems. For example, here the bank has decided to update \"self.balance\" by giving all new members a bonus $100 on top of what they're putting in the bank. Calling \"balance\" for other calculations will not have the correct value."
   ]
  },
  {
   "cell_type": "markdown",
   "metadata": {},
   "source": [
    "### Creating an Instance of a Class\n",
    "\n",
    "Now, lets try creating some new clients named John_Doe, and Jane_Defoe:"
   ]
  },
  {
   "cell_type": "code",
   "execution_count": 41,
   "metadata": {},
   "outputs": [],
   "source": [
    "John_Doe = Client(\"John Doe\", 500)\n",
    "Jane_Defoe = Client(\"Jane Defoe\", 150000)"
   ]
  },
  {
   "cell_type": "markdown",
   "metadata": {},
   "source": [
    "We can see the attributes of John_Doe, or Jane_Defoe by calling them:"
   ]
  },
  {
   "cell_type": "code",
   "execution_count": 42,
   "metadata": {},
   "outputs": [
    {
     "name": "stdout",
     "output_type": "stream",
     "text": [
      "John Doe\n",
      "Advanced\n",
      "150100\n"
     ]
    }
   ],
   "source": [
    "print(John_Doe.name)\n",
    "print(Jane_Defoe.level)\n",
    "print(Jane_Defoe.balance)"
   ]
  },
  {
   "cell_type": "markdown",
   "metadata": {},
   "source": [
    "We can also add, remove or modify attributes as we like:"
   ]
  },
  {
   "cell_type": "code",
   "execution_count": 43,
   "metadata": {},
   "outputs": [
    {
     "name": "stdout",
     "output_type": "stream",
     "text": [
      "jdoe23@gmail.com\n",
      "johndoe23@gmail.com\n"
     ]
    }
   ],
   "source": [
    "John_Doe.email = \"jdoe23@gmail.com\"\n",
    "print(John_Doe.email)\n",
    "John_Doe.email = \"johndoe23@gmail.com\"\n",
    "print(John_Doe.email)\n",
    "del John_Doe.email"
   ]
  },
  {
   "cell_type": "markdown",
   "metadata": {},
   "source": [
    "You can also use the following instead instead of the normal statements:\n",
    "\n",
    "- The `getattr(obj, name[, default])` : to access the attribute of object.\n",
    "\n",
    "- The `hasattr(obj,name)` : to check if an attribute exists or not.\n",
    "\n",
    "- The `setattr(obj,name,value)` : to set an attribute. If attribute does not exist, then it would be created.\n",
    "\n",
    "- The `delattr(obj, name)` : to delete an attribute."
   ]
  },
  {
   "cell_type": "code",
   "execution_count": 44,
   "metadata": {},
   "outputs": [
    {
     "data": {
      "text/plain": [
       "'jdoe23@gmail.com'"
      ]
     },
     "execution_count": 44,
     "metadata": {},
     "output_type": "execute_result"
    }
   ],
   "source": [
    "getattr(John_Doe, 'name')\n",
    "setattr(John_Doe, 'email', 'jdoe23@gmail.com')\n",
    "John_Doe.email"
   ]
  },
  {
   "cell_type": "markdown",
   "metadata": {},
   "source": [
    "### Class Attributes vs. Normal Attributes\n",
    "\n",
    "A class attribute is an attribute set at the class-level rather than the instance-level, such that the value of this attribute will be the same across all instances.\n",
    "\n",
    "For our *Client* class, we might want to set the name of the bank, and the location, which would not change from instance to instance."
   ]
  },
  {
   "cell_type": "code",
   "execution_count": 45,
   "metadata": {},
   "outputs": [],
   "source": [
    "Client.bank = \"TD\"\n",
    "Client.location = \"Toronto, ON\""
   ]
  },
  {
   "cell_type": "code",
   "execution_count": 46,
   "metadata": {},
   "outputs": [
    {
     "name": "stdout",
     "output_type": "stream",
     "text": [
      "TD\n",
      "TD\n"
     ]
    }
   ],
   "source": [
    "# try calling these attributes at the class and instance level\n",
    "print(Client.bank)\n",
    "print(Jane_Defoe.bank)"
   ]
  },
  {
   "cell_type": "markdown",
   "metadata": {},
   "source": [
    "### Methods\n",
    "\n",
    "*Methods* are functions that can be applied (only) to instances of your class. \n",
    "\n",
    "For example, in the case of our 'Client' class, we may want to update a person's bank account once they withdraw or deposit money. Let's create these methods below. \n",
    "\n",
    "Note that each method takes 'self' as an argument along with the arguments required when calling this method."
   ]
  },
  {
   "cell_type": "code",
   "execution_count": 47,
   "metadata": {},
   "outputs": [],
   "source": [
    "# Use the Client class code above to now add methods for withdrawal and depositing of money\n",
    "\n",
    "# create the Client class below\n",
    "class Client:\n",
    "    def __init__(self, name, balance):\n",
    "        self.name = name\n",
    "        self.balance = balance + 100\n",
    "        \n",
    "        #define account level\n",
    "        if self.balance < 5000:\n",
    "            self.level = \"Basic\"\n",
    "        elif self.balance < 15000:\n",
    "            self.level = \"Intermediate\"\n",
    "        else:\n",
    "            self.level = \"Advanced\"\n",
    "            \n",
    "    def deposit(self, amount):\n",
    "        self.balance += amount\n",
    "        return self.balance\n",
    "    \n",
    "    def withdraw(self, amount):\n",
    "        if amount > self.balance:\n",
    "            raise RuntimeError(\"Insufficient for withdrawal\")\n",
    "        else:\n",
    "            self.balance -= amount\n",
    "        return self.balance"
   ]
  },
  {
   "cell_type": "code",
   "execution_count": 48,
   "metadata": {},
   "outputs": [
    {
     "name": "stdout",
     "output_type": "stream",
     "text": [
      "150100\n",
      "300100\n"
     ]
    }
   ],
   "source": [
    "Jane_Defoe = Client(\"Jane Defoe\", 150000)\n",
    "print(Jane_Defoe.balance)\n",
    "Jane_Defoe.deposit(150000)\n",
    "print(Jane_Defoe.balance)"
   ]
  },
  {
   "cell_type": "markdown",
   "metadata": {},
   "source": [
    "#### What is \"self\"? \n",
    "*not in the philosophical sense**\n",
    "\n",
    "In the method, withdraw(self, amount), the self refers to the *instance* upon which we are applying the instructions of the method. \n",
    "\n",
    "When we call a method, `f(self, arg)`, on the object `x`, we use `x.f(arg)`.\n",
    "- `x` is passed as the first argument, *self*, by default and all that is required are the other arguments that comprise the function. \n",
    "\n",
    "It is equivalent to calling `MyClass.f(x, arg)`.\n",
    "Try it yourself with the Client class and one of the methods we've written."
   ]
  },
  {
   "cell_type": "code",
   "execution_count": 49,
   "metadata": {},
   "outputs": [
    {
     "name": "stdout",
     "output_type": "stream",
     "text": [
      "600\n",
      "1100\n",
      "300100\n",
      "250100\n"
     ]
    }
   ],
   "source": [
    "# Try calling a method two different ways\n",
    "John_Doe = Client(\"John Doe\", 500)\n",
    "print(John_Doe.balance) #\n",
    "John_Doe.deposit(500)\n",
    "print(John_Doe.balance)\n",
    "\n",
    "\n",
    "print(Jane_Defoe.balance)\n",
    "Client.withdraw(Jane_Defoe, 50000) #\n",
    "print(Jane_Defoe.balance)"
   ]
  },
  {
   "cell_type": "markdown",
   "metadata": {},
   "source": [
    "### Static Methods \n",
    "\n",
    "Static methods are methods that belong to a class but do not have access to *self* and hence don't require an instance to function (i.e. it will work on the class level as well as the instance level). \n",
    "\n",
    "We denote these with the line `@staticmethod` before we define our static method.\n",
    "\n",
    "Let's create a static method called make_money_sound() that will simply print \"Cha-ching!\" when called."
   ]
  },
  {
   "cell_type": "code",
   "execution_count": 50,
   "metadata": {},
   "outputs": [],
   "source": [
    "# Add a static method called make_money_sound()\n",
    "# create the Client class below\n",
    "class Client:\n",
    "    def __init__(self, name, balance):\n",
    "        self.name = name\n",
    "        self.balance = balance + 100\n",
    "        \n",
    "        #define account level\n",
    "        if self.balance < 5000:\n",
    "            self.level = \"Basic\"\n",
    "        elif self.balance < 15000:\n",
    "            self.level = \"Intermediate\"\n",
    "        else:\n",
    "            self.level = \"Advanced\"\n",
    "            \n",
    "    @staticmethod\n",
    "    def make_money_sound():\n",
    "        print(\"Cha-ching!\")"
   ]
  },
  {
   "cell_type": "code",
   "execution_count": 51,
   "metadata": {},
   "outputs": [
    {
     "name": "stdout",
     "output_type": "stream",
     "text": [
      "Cha-ching!\n"
     ]
    }
   ],
   "source": [
    "Client.make_money_sound()"
   ]
  },
  {
   "cell_type": "markdown",
   "metadata": {},
   "source": [
    "### Class Methods\n",
    "\n",
    "A class method is a type of method that will receive the class rather than the instance as the first parameter. It is also identified similarly to a static method, with `@classmethod`.\n",
    "\n",
    "Create a class method called bank_location() that will print both the bank name and location when called upon the class."
   ]
  },
  {
   "cell_type": "code",
   "execution_count": 52,
   "metadata": {},
   "outputs": [],
   "source": [
    "# Add a class method called bank_location()\n",
    "# create the Client class below\n",
    "class Client:\n",
    "    bank = \"TD\"\n",
    "    location = \"Toronto, ON\"\n",
    "    \n",
    "    def __init__(self, name, balance):\n",
    "        self.name = name\n",
    "        self.balance = balance + 100\n",
    "        \n",
    "        #define account level\n",
    "        if self.balance < 5000:\n",
    "            self.level = \"Basic\"\n",
    "        elif self.balance < 15000:\n",
    "            self.level = \"Intermediate\"\n",
    "        else:\n",
    "            self.level = \"Advanced\"\n",
    "            \n",
    "    @classmethod\n",
    "    def bank_location(cls):\n",
    "        return str(cls.bank + \" \" + cls.location)\n",
    "\n"
   ]
  },
  {
   "cell_type": "code",
   "execution_count": 53,
   "metadata": {},
   "outputs": [
    {
     "data": {
      "text/plain": [
       "'TD Toronto, ON'"
      ]
     },
     "execution_count": 53,
     "metadata": {},
     "output_type": "execute_result"
    }
   ],
   "source": [
    "Client.bank_location()"
   ]
  },
  {
   "cell_type": "markdown",
   "metadata": {},
   "source": [
    "### Key Concept: Inheritance\n",
    "\n",
    "A 'child' class can be created from a 'parent' class, whereby the child will bring over attributes and methods that its parent has, but where new features can be created as well. \n",
    "\n",
    "This would be useful if you want to create multiple classes that would have some features that are kept the same between them. You would simply create a parent class of these children classes that have those maintained features.\n",
    "\n",
    "Imagine we want to create different types of clients but still have all the base attributes and methods found in client currently. \n",
    "\n",
    "For example, let's create a class called *Savings* that inherits from the *Client* class. In doing so, we do not need to write another `__init__` method as it will inherit this from its parent."
   ]
  },
  {
   "cell_type": "code",
   "execution_count": 54,
   "metadata": {},
   "outputs": [],
   "source": [
    "# create the Savings class below\n",
    "class Savings(Client):\n",
    "    interest_rate = 0.005\n",
    "    \n",
    "    def update_balance(self):\n",
    "        self.balance += self.balance*self.interest_rate\n",
    "        return self.balance\n"
   ]
  },
  {
   "cell_type": "code",
   "execution_count": 55,
   "metadata": {},
   "outputs": [],
   "source": [
    "# create an instance the same way as a Client but this time by calling Savings instead\n",
    "Lina_Tran = Savings(\"Lina Tran\", 50)"
   ]
  },
  {
   "cell_type": "code",
   "execution_count": 56,
   "metadata": {},
   "outputs": [
    {
     "name": "stdout",
     "output_type": "stream",
     "text": [
      "Lina Tran\n",
      "150\n",
      "0.005\n"
     ]
    }
   ],
   "source": [
    "# it now has access to the new attributes and methods in Savings...\n",
    "print(Lina_Tran.name)\n",
    "print(Lina_Tran.balance)\n",
    "print(Lina_Tran.interest_rate)"
   ]
  },
  {
   "cell_type": "code",
   "execution_count": 57,
   "metadata": {},
   "outputs": [
    {
     "data": {
      "text/plain": [
       "150.75"
      ]
     },
     "execution_count": 57,
     "metadata": {},
     "output_type": "execute_result"
    }
   ],
   "source": [
    "# ...as well as access to attributes and methods from the Client class as well\n",
    "Lina_Tran.update_balance()"
   ]
  },
  {
   "cell_type": "markdown",
   "metadata": {},
   "source": [
    "Alternatively you can choose to write an __init__ method  which differs from its parent somewhat. For the common attributes you can reuse its parent's __init__ method."
   ]
  },
  {
   "cell_type": "code",
   "execution_count": 58,
   "metadata": {},
   "outputs": [],
   "source": [
    "class Savings(Client):\n",
    "    \n",
    "    def __init__(self, name, balance,interest_rate = 0.005):\n",
    "        super().__init__(name, balance)\n",
    "        self.interest_rate = interest_rate\n",
    "            \n",
    "    def update_balance(self):\n",
    "        self.balance += self.balance*self.interest_rate\n",
    "        return self.balance\n",
    "    \n",
    "    "
   ]
  },
  {
   "cell_type": "code",
   "execution_count": 59,
   "metadata": {},
   "outputs": [],
   "source": [
    "Lina_Tran = Savings(\"Lina Tran\", 50,0.01)"
   ]
  },
  {
   "cell_type": "code",
   "execution_count": 60,
   "metadata": {},
   "outputs": [
    {
     "name": "stdout",
     "output_type": "stream",
     "text": [
      "Lina Tran\n",
      "150\n",
      "0.01\n"
     ]
    }
   ],
   "source": [
    "print(Lina_Tran.name)\n",
    "print(Lina_Tran.balance)\n",
    "print(Lina_Tran.interest_rate)"
   ]
  },
  {
   "cell_type": "code",
   "execution_count": 61,
   "metadata": {},
   "outputs": [
    {
     "data": {
      "text/plain": [
       "151.5"
      ]
     },
     "execution_count": 61,
     "metadata": {},
     "output_type": "execute_result"
    }
   ],
   "source": [
    "# ...as well as access to attributes and methods from the Client class as well\n",
    "Lina_Tran.update_balance()"
   ]
  },
  {
   "cell_type": "code",
   "execution_count": 62,
   "metadata": {},
   "outputs": [],
   "source": [
    "#defining a method outside the class definition\n",
    "def check_balance(self):\n",
    "    return self.balance\n",
    "\n",
    "Client.check_balance = check_balance"
   ]
  },
  {
   "cell_type": "code",
   "execution_count": 63,
   "metadata": {},
   "outputs": [
    {
     "data": {
      "text/plain": [
       "600"
      ]
     },
     "execution_count": 63,
     "metadata": {},
     "output_type": "execute_result"
    }
   ],
   "source": [
    "John_Doe = Client(\"John Doe\", 500)\n",
    "John_Doe.check_balance()"
   ]
  },
  {
   "cell_type": "code",
   "execution_count": null,
   "metadata": {},
   "outputs": [],
   "source": []
  },
  {
   "cell_type": "code",
   "execution_count": 35,
   "metadata": {},
   "outputs": [],
   "source": [
    "class Triangle:\n",
    "    def __init__(self, angle1, angle2, angle3):\n",
    "        self.angle1 = angle1\n",
    "        self.angle2 = angle2\n",
    "        self.angle3 = angle3\n",
    "        \n",
    "        number_of_sides = 3\n",
    "        \n",
    "    def check_angles(self):\n",
    "        if self.angle1+self.angle2+self.angle3==180:\n",
    "            return True\n",
    "        else:\n",
    "            return False"
   ]
  },
  {
   "cell_type": "code",
   "execution_count": 36,
   "metadata": {},
   "outputs": [
    {
     "data": {
      "text/plain": [
       "True"
      ]
     },
     "execution_count": 36,
     "metadata": {},
     "output_type": "execute_result"
    }
   ],
   "source": [
    "my_triangle = Triangle(90,30,60)\n",
    "my_triangle.check_angles()"
   ]
  },
  {
   "cell_type": "code",
   "execution_count": null,
   "metadata": {},
   "outputs": [],
   "source": []
  }
 ],
 "metadata": {
  "kernelspec": {
   "display_name": "Python 3 (ipykernel)",
   "language": "python",
   "name": "python3"
  },
  "language_info": {
   "codemirror_mode": {
    "name": "ipython",
    "version": 3
   },
   "file_extension": ".py",
   "mimetype": "text/x-python",
   "name": "python",
   "nbconvert_exporter": "python",
   "pygments_lexer": "ipython3",
   "version": "3.9.13"
  }
 },
 "nbformat": 4,
 "nbformat_minor": 1
}
