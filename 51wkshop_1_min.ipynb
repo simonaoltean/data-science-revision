{
 "cells": [
  {
   "cell_type": "markdown",
   "metadata": {
    "id": "S-Xd3LLIcLBw"
   },
   "source": [
    "# Algorithms - Python Classes\n"
   ]
  },
  {
   "cell_type": "markdown",
   "metadata": {},
   "source": [
    "# 1. Rational Number\n",
    "\n",
    "Make a class that represents a [Rational Number](https://en.wikipedia.org/wiki/Rational_number). The rational number takes as input two integers and represents them as a number which is a fraction.\n",
    "\n",
    "You will need:\n",
    "\n",
    "- A creation rountine taking in two integers and initializing the Rational Number\n",
    "\n",
    "- A functionality where printing the rational number prints it as a clean string in the format `\"a / b\"`\n",
    "\n",
    "- An addition/substraction/multiplication/division method defined on other rational numbers\n",
    "\n",
    "    - These only need to be defined on other rational numbers!\n",
    "\n",
    "    - The result needs to be another `RationalNumber` object\n",
    "\n",
    "```\n",
    ">>> a = RationalNumber(1, 2)\n",
    ">>> b = RationalNumber(1, 3)\n",
    ">>> a\n",
    "1 / 2\n",
    ">>> a + b\n",
    "5/6\n",
    ">>> a - b\n",
    "1/6\n",
    ">>> a * b\n",
    "1/6\n",
    ">>> a/b\n",
    "3/2\n",
    "```"
   ]
  },
  {
   "cell_type": "code",
   "execution_count": 63,
   "metadata": {},
   "outputs": [],
   "source": [
    "# 1\n",
    "\n",
    "class RationalNumber:\n",
    "    def __init__(self, int1, int2):\n",
    "        self.int1 = int1\n",
    "        self.int2 = int2\n",
    "        \n",
    "    def __str__(self):\n",
    "        return f\"{self.int1}/{self.int2}\"\n",
    "    \n",
    "    def __add__(self, value):\n",
    "        if type(self)==RationalNumber and type(value)==RationalNumber:\n",
    "            if self.int2 == value.int2:\n",
    "                return f\"{self.int1+value.int1}/{self.int2}\"\n",
    "            else:\n",
    "                return f\"{(self.int1*value.int2)+(value.int1*self.int2)}/{self.int2*value.int2}\"\n",
    "            \n",
    "    def __sub__(self, value):\n",
    "        if type(self)==RationalNumber and type(value)==RationalNumber:\n",
    "            if self.int2 == value.int2:\n",
    "                return f\"{self.int1-value.int1}/{self.int2}\"\n",
    "            else:\n",
    "                return f\"{(self.int1*value.int2)-(value.int1*self.int2)}/{self.int2*value.int2}\"\n",
    "        \n",
    "    def __mul__(self, value):\n",
    "        if type(self)==RationalNumber and type(value)==RationalNumber:\n",
    "            return f\"{(self.int1*value.int1)}/{self.int2*value.int2}\"\n",
    "        \n",
    "    def __truediv__(self, value):\n",
    "        if type(self)==RationalNumber and type(value)==RationalNumber:\n",
    "            return f\"{(self.int1*value.int2)}/{self.int2*value.int1}\""
   ]
  },
  {
   "cell_type": "code",
   "execution_count": 68,
   "metadata": {},
   "outputs": [
    {
     "name": "stdout",
     "output_type": "stream",
     "text": [
      "a: 1/2\n",
      "b: 1/3\n",
      "\n",
      "a+b: 5/6\n",
      "a-b: 1/6\n",
      "a*b: 1/6\n",
      "a/b: 3/2\n",
      "\n",
      "a+2: None\n",
      "a-2: None\n",
      "a*2: None\n",
      "a/2: None\n"
     ]
    }
   ],
   "source": [
    "a = RationalNumber(1, 2)\n",
    "b = RationalNumber(1, 3)\n",
    "print(f\"a: {a}\")\n",
    "print(f\"b: {b}\\n\")\n",
    "print(f\"a+b: {a+b}\")\n",
    "print(f\"a-b: {a-b}\")\n",
    "print(f\"a*b: {a*b}\")\n",
    "print(f\"a/b: {a/b}\\n\")\n",
    "print(f\"a+2: {a+2}\")\n",
    "print(f\"a-2: {a-2}\")\n",
    "print(f\"a*2: {a*2}\")\n",
    "print(f\"a/2: {a/2}\")"
   ]
  },
  {
   "cell_type": "markdown",
   "metadata": {
    "id": "U-Adr8UyBJMd"
   },
   "source": [
    "# 2. Deck of Cards\n",
    "\n",
    "Create a deck of cards class. \n",
    "\n",
    "Internally, the deck of cards should use another class, a card class. \n",
    "\n",
    "Your requirements are:\n",
    "\n",
    "- The Deck class should have a deal method to deal a single card from the deck\n",
    "- After a card is dealt, it is removed from the deck.\n",
    "    - If no cards remain in the deck and we try to deal, it should raise an exception\n",
    "- There should be a shuffle method which makes sure the deck of cards has all 52 cards and then rearranges them randomly.\n",
    "    - If there are fewer than 52 cards, an exception should be raised\n",
    "- The Card class should have a suit (Hearts, Diamonds, Clubs, Spades) and a value (A,2,3,4,5,6,7,8,9,10,J,Q,K)\n",
    "\n",
    "```\n",
    ">>> c = Card(suit='Hearts', value='K')\n",
    ">>> c\n",
    "\"K of Hearts\"\n",
    ">>> d = Deck()\n",
    ">>> d\n",
    "\"Cards remaining in deck: 52\"\n",
    "\n",
    "# Deck is not shuffled -- deals cards consecutively:\n",
    "\n",
    ">>> d.deal()\n",
    "\"K of Spades\"\n",
    ">>> d.deal()\n",
    "\"Q of Spades\"\n",
    ">>> d.deal()\n",
    "\"J of Spades\"\n",
    ">>> d\n",
    "\"Cards remaining in deck: 49\"\n",
    "\n",
    "# We dealt 3 cards, 49 remain\n",
    "# Can't shuffle deck that's not full:\n",
    "\n",
    ">>> d.shuffle()\n",
    "ValueError: Only full decks can be shuffled\n",
    "\n",
    "# You can shuffle full decks \n",
    ">>> d = Deck()\n",
    ">>> d.shuffle()\n",
    "\n",
    "# Now it deals random cards\n",
    "\n",
    ">>> d.deal()\n",
    "\"2 of Hearts\"\n",
    "\n",
    "```"
   ]
  },
  {
   "cell_type": "code",
   "execution_count": 180,
   "metadata": {},
   "outputs": [],
   "source": [
    "import random"
   ]
  },
  {
   "cell_type": "code",
   "execution_count": 192,
   "metadata": {
    "id": "MGl-Jwl-XwCn",
    "outputId": "7e020842-8c46-42b5-9701-89bb5058e59c"
   },
   "outputs": [],
   "source": [
    "# 2 \n",
    "\n",
    "class Card:\n",
    "\n",
    "    def __init__(self, suit, value):\n",
    "        self.suit = suit\n",
    "        self.value = value    \n",
    "        \n",
    "    def __repr__(self):\n",
    "        return f\"{self.value} of {self.suit}\"\n",
    "    \n",
    "    \n",
    "class Deck(Card):    \n",
    "    \n",
    "    def __init__(self):\n",
    "        self.remaining_cards = []\n",
    "        self.dealt_cards = []\n",
    "        suits = [\"Hearts\", \"Diamonds\", \"Clubs\", \"Spades\"]\n",
    "        values = [\"A\",\"2\",\"3\",\"4\",\"5\",\"6\",\"7\",\"8\",\"9\",\"10\",\"J\",\"Q\",\"K\"]\n",
    "        for s in suits:\n",
    "            for v in values:\n",
    "                self.remaining_cards.append(Card(s,v))\n",
    "        \n",
    "    def __repr__(self):\n",
    "        return f\"Cards remaining in deck: {len(self.remaining_cards)}\"        \n",
    "                \n",
    "    def shuffle(self):\n",
    "        if len(self.remaining_cards)==52:\n",
    "            return random.shuffle(self.remaining_cards)\n",
    "        else:\n",
    "            return f\"Can't shuffle deck that's not full.\"\n",
    "    \n",
    "    def deal(self):\n",
    "        self.dealt_cards.append(self.remaining_cards.pop())\n",
    "        return self.dealt_cards[-1]"
   ]
  },
  {
   "cell_type": "code",
   "execution_count": 197,
   "metadata": {},
   "outputs": [
    {
     "name": "stdout",
     "output_type": "stream",
     "text": [
      "K of Hearts \n",
      "\n",
      "Cards remaining in deck: 52\n",
      "Dealt cards: []\n",
      "K of Spades\n",
      "Can't shuffle deck that's not full. \n",
      "\n",
      "Cards remaining in deck: 52\n",
      "7 of Spades\n",
      "J of Clubs\n",
      "2 of Hearts\n",
      "[7 of Spades, J of Clubs, 2 of Hearts]\n",
      "Cards remaining in deck: 49\n"
     ]
    }
   ],
   "source": [
    "c = Card(suit=\"Hearts\", value=\"K\")\n",
    "print(c, \"\\n\")\n",
    "d = Deck()\n",
    "print(d)\n",
    "print(f\"Dealt cards: {d.dealt_cards}\")\n",
    "print(d.deal())\n",
    "print(d.shuffle(),\"\\n\")\n",
    "d = Deck()\n",
    "print(d)\n",
    "d.shuffle()\n",
    "print(d.deal())\n",
    "print(d.deal())\n",
    "print(d.deal())\n",
    "print(d.dealt_cards)\n",
    "print(d)"
   ]
  },
  {
   "cell_type": "markdown",
   "metadata": {},
   "source": [
    " # 3. Reverse a Stack\n",
    " \n",
    " Write a method\n",
    "to reverse the elements in a stack using only the methods available in Stack class."
   ]
  },
  {
   "cell_type": "code",
   "execution_count": 286,
   "metadata": {},
   "outputs": [],
   "source": [
    "#3\n",
    "\n",
    "class Stack: \n",
    "    def __init__(self): \n",
    "        self.elements = [] \n",
    "    \n",
    "    def push(self, data): \n",
    "        self.elements.append(data) \n",
    "        return data \n",
    "    \n",
    "    def pop(self): \n",
    "        return self.elements.pop() \n",
    "        \n",
    "    def peek(self): \n",
    "        return self.elements[-1] \n",
    "        \n",
    "    def is_empty(self): \n",
    "        return len(self.elements) == 0\n",
    "    \n",
    "    def info(self):\n",
    "        return self.elements\n",
    "    \n",
    "    ### reverse method\n",
    "    def reverse(self):\n",
    "        new_elements=[]\n",
    "        for i in range(1,len(self.elements)+1):\n",
    "            new_elements.append(self.elements[-i])\n",
    "        self.elements=new_elements\n",
    "        return self.elements"
   ]
  },
  {
   "cell_type": "code",
   "execution_count": 291,
   "metadata": {},
   "outputs": [
    {
     "name": "stdout",
     "output_type": "stream",
     "text": [
      "['Y', 'N']\n",
      "['N', 'Y']\n"
     ]
    }
   ],
   "source": [
    "c = Stack()\n",
    "c.push(\"Y\")\n",
    "c.push(\"N\") \n",
    "print(c.info())\n",
    "print(c.reverse())"
   ]
  },
  {
   "cell_type": "code",
   "execution_count": null,
   "metadata": {},
   "outputs": [],
   "source": []
  }
 ],
 "metadata": {
  "colab": {
   "collapsed_sections": [],
   "name": "Workshop Stable Mariages.ipynb",
   "provenance": []
  },
  "kernelspec": {
   "display_name": "Python 3 (ipykernel)",
   "language": "python",
   "name": "python3"
  },
  "language_info": {
   "codemirror_mode": {
    "name": "ipython",
    "version": 3
   },
   "file_extension": ".py",
   "mimetype": "text/x-python",
   "name": "python",
   "nbconvert_exporter": "python",
   "pygments_lexer": "ipython3",
   "version": "3.9.13"
  }
 },
 "nbformat": 4,
 "nbformat_minor": 1
}
