{
 "cells": [
  {
   "cell_type": "markdown",
   "metadata": {},
   "source": [
    "# Probability\n",
    "\n",
    "## Warmup: Count to 50\n",
    "\n",
    "Use a RNG to generate rolls of a 12-sided die. \n",
    "Write a function that counts the number of rolls taken until the total of the rolls totals 50 or more.\n",
    "\n",
    "```\n",
    "rollto50() -> 5\n",
    "rollto50() -> 6\n",
    "```"
   ]
  },
  {
   "cell_type": "code",
   "execution_count": 1,
   "metadata": {},
   "outputs": [
    {
     "name": "stdout",
     "output_type": "stream",
     "text": [
      "7\n",
      "55\n"
     ]
    }
   ],
   "source": [
    "# warmup\n",
    "import numpy as np\n",
    "import random\n",
    "import math\n",
    "\n",
    "def rollto50():\n",
    "    rolls = []\n",
    "    while sum(rolls) < 50:\n",
    "        try:\n",
    "            y = np.random.randint(1,12,)\n",
    "            rolls.append(y)\n",
    "        except:\n",
    "            pass\n",
    "    print(len(rolls))\n",
    "    print(sum(rolls))\n",
    "        \n",
    "rollto50()"
   ]
  },
  {
   "cell_type": "markdown",
   "metadata": {},
   "source": [
    "## Exercise 1: Monte Carlo Sampling\n",
    "\n",
    "Data Scientists are often lazy. Instead of calculating the exact probability of complex events, we simulate samples with a RNG and average the results. This is called **Monte Carlo Sampling** after the casino in Monaco (yes, really).\n",
    "\n",
    "Write a function `monte_carlo_dice(n)` that given a 6-sided die, rolls it $n$ times and averages the result.\n",
    "\n",
    "The result should get closer to the true expected value (3.5) as $n$ increases:\n",
    "\n",
    "```\n",
    "n: 100 Trial average 3.39 \n",
    "n: 1000 Trial average 3.576 \n",
    "n: 10000 Trial average 3.5054 \n",
    "n: 100000 Trial average 3.50201 \n",
    "n: 500000 Trial average 3.495568\n",
    "```"
   ]
  },
  {
   "cell_type": "code",
   "execution_count": 2,
   "metadata": {},
   "outputs": [
    {
     "name": "stdout",
     "output_type": "stream",
     "text": [
      "3.48\n",
      "3.488\n",
      "3.5161\n",
      "3.49925\n",
      "3.500664\n"
     ]
    }
   ],
   "source": [
    "# exercise 1\n",
    "\n",
    "def monte_carlo_dice(n):\n",
    "    x = sum(list(np.random.randint(1,7,n)))/n\n",
    "    return x\n",
    "\n",
    "print(monte_carlo_dice(100))\n",
    "print(monte_carlo_dice(1000))\n",
    "print(monte_carlo_dice(10000))\n",
    "print(monte_carlo_dice(100000))\n",
    "print(monte_carlo_dice(500000))"
   ]
  },
  {
   "cell_type": "markdown",
   "metadata": {},
   "source": [
    "## Exercise 2: Estimating the Area of a Circle\n",
    "\n",
    "Consider a dartboard with a circle of radius $r$ inscribed in a square with side $2r$. Now let’s say you start throwing a large number of darts at it. \n",
    "\n",
    "Some of these will hit the board within the circle—let’s say, $N$—and others out-side it—let’s say, $M$. If we consider the fraction of darts that land inside the circle:\n",
    "\n",
    "$$f = \\dfrac{N}{N + M}$$\n",
    "\n",
    "Then the value of $f * A$ with $A$ being the area of the square will approximate the actual area of the circle (which is  $\\pi r^2$)\n",
    "\n",
    "<img src=\"../assets/circle-target.png\" style=\"width: 400px;\">\n",
    "\n",
    "Write a function `circle_estimate(radius, trials)` which will estimate the area of a circle by throwing `trials` random darts at the square.\n",
    "\n",
    "\n",
    "\n",
    "```\n",
    "Radius: 2\n",
    "Area: 12.566370614359172, Estimated (1000 darts): 12.576\n",
    "Area: 12.566370614359172, Estimated (100000 darts): 12.58176\n",
    "Area: 12.566370614359172, Estimated (1000000 darts): 12.560128\n",
    "```\n",
    "\n",
    "**Hint:** Generate 2 random numbers for each dart throw, one for the `x` axis and one for the `y` axis. Use the [Pythagorean Theorem](https://en.wikipedia.org/wiki/Pythagorean_theorem) find if it's outside the circle"
   ]
  },
  {
   "cell_type": "code",
   "execution_count": 8,
   "metadata": {},
   "outputs": [
    {
     "name": "stdout",
     "output_type": "stream",
     "text": [
      "Area: 12.566370614359172, Estimated (1000 darts): 12.512\n",
      "Area: 12.566370614359172, Estimated (100000 darts): 12.57808\n",
      "Area: 12.566370614359172, Estimated (1000000 darts): 12.562096\n"
     ]
    }
   ],
   "source": [
    "# Exercise 2 \n",
    "\n",
    "def circle_estimate(radius, trials):\n",
    "    N,M = 0,0\n",
    "    for i in range(trials):\n",
    "        x = np.random.random()*radius\n",
    "        y = np.random.random()*radius\n",
    "        c = ((x**2)+(y**2))**(1/2)\n",
    "        if c <= radius:\n",
    "            N += 1\n",
    "        else:\n",
    "            M += 1\n",
    "    f = N/(N+M)\n",
    "    A_sqr = (2*radius)**2\n",
    "    A_cir = f*A_sqr\n",
    "    pi = math.pi\n",
    "    A = pi*(radius**2)\n",
    "    return A_cir\n",
    "\n",
    "pi = math.pi\n",
    "radius = 2\n",
    "A = pi*(radius**2)\n",
    "print(f\"Area: {A}, Estimated (1000 darts): {circle_estimate(2,1000)}\")\n",
    "print(f\"Area: {A}, Estimated (100000 darts): {circle_estimate(2,100000)}\")\n",
    "print(f\"Area: {A}, Estimated (1000000 darts): {circle_estimate(2,1000000)}\")"
   ]
  },
  {
   "cell_type": "markdown",
   "metadata": {},
   "source": [
    "## Exercise 3: Binomial distribution\n",
    "\n",
    "The [binomial random variable](https://en.wikipedia.org/wiki/Binomial_distribution) $ Y \\sim Bin(n, p) $ represents the number of successes in $ n $ coin flips, where each trial succeeds with probability $ p $.\n",
    "\n",
    "Without any import besides `from numpy.random import uniform`, write a function\n",
    "`binomial_rv` such that `binomial_rv(n, p)` generates one draw of $ Y $.\n",
    "\n",
    "Hint: If $ U $ is uniform on $ (0, 1) $ and $ p \\in (0,1) $, then the expression `U < p` evaluates to `True` with probability $ p $."
   ]
  },
  {
   "cell_type": "code",
   "execution_count": 49,
   "metadata": {},
   "outputs": [],
   "source": [
    "def factorial(x):\n",
    "    product = x\n",
    "    for i in range(x-1,0,-1):\n",
    "        product *= i\n",
    "    return product"
   ]
  },
  {
   "cell_type": "code",
   "execution_count": 86,
   "metadata": {},
   "outputs": [],
   "source": [
    "# exercise 3\n",
    "from numpy.random import uniform\n",
    "\n",
    "def binomial_rv(n, p):\n",
    "    outcomes = []\n",
    "    for i in range(n):\n",
    "        draw = np.random.uniform()\n",
    "        if draw < 0.5:\n",
    "            outcomes.append(0)\n",
    "        elif draw > 0.5:\n",
    "            outcomes.append(1)\n",
    "    x = sum(outcomes)\n",
    "    Y = (factorial(n)/(factorial(x)*factorial(n-x)))*p**x*((1-p)**(n-x))\n",
    "    return Y"
   ]
  },
  {
   "cell_type": "code",
   "execution_count": 87,
   "metadata": {},
   "outputs": [
    {
     "data": {
      "text/plain": [
       "0.030068642644214563"
      ]
     },
     "execution_count": 87,
     "metadata": {},
     "output_type": "execute_result"
    }
   ],
   "source": [
    "binomial_rv(100,0.5)"
   ]
  }
 ],
 "metadata": {
  "file_extension": ".py",
  "kernelspec": {
   "display_name": "Python 3 (ipykernel)",
   "language": "python",
   "name": "python3"
  },
  "language_info": {
   "codemirror_mode": {
    "name": "ipython",
    "version": 3
   },
   "file_extension": ".py",
   "mimetype": "text/x-python",
   "name": "python",
   "nbconvert_exporter": "python",
   "pygments_lexer": "ipython3",
   "version": "3.9.12"
  },
  "mimetype": "text/x-python",
  "name": "python",
  "npconvert_exporter": "python",
  "pygments_lexer": "ipython3",
  "version": 3
 },
 "nbformat": 4,
 "nbformat_minor": 2
}
