{
 "cells": [
  {
   "cell_type": "markdown",
   "metadata": {},
   "source": [
    "# Data Visualization\n",
    "\n",
    "## Amazon Sales Analysis (2019)\n",
    "\n",
    "We have obtained Amazon Sales Data for each month in 2019. It's located in `data/`\n",
    "\n",
    "Up to now, we've only dealt with aggregated data (in one file/location), but in this case, we have multiple csv files that we need to draw from.\n",
    "\n",
    "Use a loop to conveniently store all of the data in one place."
   ]
  },
  {
   "cell_type": "code",
   "execution_count": 1,
   "metadata": {},
   "outputs": [],
   "source": [
    "# required imports\n",
    "import os\n",
    "import pandas as pd\n",
    "import matplotlib.pyplot as plt\n",
    "from itertools import combinations\n",
    "from collections import Counter\n",
    "\n",
    "# the path\n",
    "path = './data/Sales_Data'"
   ]
  },
  {
   "cell_type": "markdown",
   "metadata": {},
   "source": [
    "### Exercise 1: Merge data from each month into one CSV (step-by-step)"
   ]
  },
  {
   "cell_type": "code",
   "execution_count": 2,
   "metadata": {},
   "outputs": [],
   "source": [
    "# 1.1 read the data files (names)\n",
    "\n",
    "sales_january = \"C:/Users/Simona/Desktop/Data Analysis/concordia-bootcamp/ds-data-visualization-P2-main/ds-data-visualization-P2-main/data/Sales_Data/Sales_Data/Sales_January_2019.csv\"\n",
    "sales_february = \"C:/Users/Simona/Desktop/Data Analysis/concordia-bootcamp/ds-data-visualization-P2-main/ds-data-visualization-P2-main/data/Sales_Data/Sales_Data/Sales_February_2019.csv\"\n",
    "sales_march = \"C:/Users/Simona/Desktop/Data Analysis/concordia-bootcamp/ds-data-visualization-P2-main/ds-data-visualization-P2-main/data/Sales_Data/Sales_Data/Sales_March_2019.csv\"\n",
    "sales_april = \"C:/Users/Simona/Desktop/Data Analysis/concordia-bootcamp/ds-data-visualization-P2-main/ds-data-visualization-P2-main/data/Sales_Data/Sales_Data/Sales_April_2019.csv\"\n",
    "sales_may = \"C:/Users/Simona/Desktop/Data Analysis/concordia-bootcamp/ds-data-visualization-P2-main/ds-data-visualization-P2-main/data/Sales_Data/Sales_Data/Sales_May_2019.csv\"\n",
    "sales_june = \"C:/Users/Simona/Desktop/Data Analysis/concordia-bootcamp/ds-data-visualization-P2-main/ds-data-visualization-P2-main/data/Sales_Data/Sales_Data/Sales_June_2019.csv\"\n",
    "sales_july = \"C:/Users/Simona/Desktop/Data Analysis/concordia-bootcamp/ds-data-visualization-P2-main/ds-data-visualization-P2-main/data/Sales_Data/Sales_Data/Sales_July_2019.csv\"\n",
    "sales_august = \"C:/Users/Simona/Desktop/Data Analysis/concordia-bootcamp/ds-data-visualization-P2-main/ds-data-visualization-P2-main/data/Sales_Data/Sales_Data/Sales_August_2019.csv\"\n",
    "sales_september = \"C:/Users/Simona/Desktop/Data Analysis/concordia-bootcamp/ds-data-visualization-P2-main/ds-data-visualization-P2-main/data/Sales_Data/Sales_Data/Sales_September_2019.csv\"\n",
    "sales_october = \"C:/Users/Simona/Desktop/Data Analysis/concordia-bootcamp/ds-data-visualization-P2-main/ds-data-visualization-P2-main/data/Sales_Data/Sales_Data/Sales_October_2019.csv\"\n",
    "sales_november = \"C:/Users/Simona/Desktop/Data Analysis/concordia-bootcamp/ds-data-visualization-P2-main/ds-data-visualization-P2-main/data/Sales_Data/Sales_Data/Sales_November_2019.csv\"\n",
    "sales_december = \"C:/Users/Simona/Desktop/Data Analysis/concordia-bootcamp/ds-data-visualization-P2-main/ds-data-visualization-P2-main/data/Sales_Data/Sales_Data/Sales_December_2019.csv\"\n",
    "\n",
    "sales_files = [sales_january, sales_february, sales_march, sales_april, sales_may, sales_june, \n",
    "               sales_july, sales_august, sales_september, sales_october, sales_november, sales_december]"
   ]
  },
  {
   "cell_type": "code",
   "execution_count": 3,
   "metadata": {},
   "outputs": [],
   "source": [
    "# 1.2 concat data from all files into one file `data/all_data.csv`\n",
    "\n",
    "df = pd.concat(map(pd.read_csv, sales_files), ignore_index=True)\n",
    "df.to_csv(\"C:/Users/Simona/Desktop/Data Analysis/concordia-bootcamp/ds-data-visualization-P2-main/ds-data-visualization-P2-main/data/Sales_Data/Sales_Data/all_data.csv\")"
   ]
  },
  {
   "cell_type": "code",
   "execution_count": 4,
   "metadata": {},
   "outputs": [
    {
     "data": {
      "text/plain": [
       "Index(['Order ID', 'Product', 'Quantity Ordered', 'Price Each', 'Order Date',\n",
       "       'Purchase Address'],\n",
       "      dtype='object')"
      ]
     },
     "execution_count": 4,
     "metadata": {},
     "output_type": "execute_result"
    }
   ],
   "source": [
    "file_df = pd.read_csv(sales_january)\n",
    "file_df.columns"
   ]
  },
  {
   "cell_type": "code",
   "execution_count": 5,
   "metadata": {},
   "outputs": [
    {
     "data": {
      "text/html": [
       "<div>\n",
       "<style scoped>\n",
       "    .dataframe tbody tr th:only-of-type {\n",
       "        vertical-align: middle;\n",
       "    }\n",
       "\n",
       "    .dataframe tbody tr th {\n",
       "        vertical-align: top;\n",
       "    }\n",
       "\n",
       "    .dataframe thead th {\n",
       "        text-align: right;\n",
       "    }\n",
       "</style>\n",
       "<table border=\"1\" class=\"dataframe\">\n",
       "  <thead>\n",
       "    <tr style=\"text-align: right;\">\n",
       "      <th></th>\n",
       "      <th>Unnamed: 0</th>\n",
       "      <th>Order ID</th>\n",
       "      <th>Product</th>\n",
       "      <th>Quantity Ordered</th>\n",
       "      <th>Price Each</th>\n",
       "      <th>Order Date</th>\n",
       "      <th>Purchase Address</th>\n",
       "    </tr>\n",
       "  </thead>\n",
       "  <tbody>\n",
       "    <tr>\n",
       "      <th>0</th>\n",
       "      <td>0</td>\n",
       "      <td>141234</td>\n",
       "      <td>iPhone</td>\n",
       "      <td>1</td>\n",
       "      <td>700</td>\n",
       "      <td>01/22/19 21:25</td>\n",
       "      <td>944 Walnut St, Boston, MA 02215</td>\n",
       "    </tr>\n",
       "    <tr>\n",
       "      <th>1</th>\n",
       "      <td>1</td>\n",
       "      <td>141235</td>\n",
       "      <td>Lightning Charging Cable</td>\n",
       "      <td>1</td>\n",
       "      <td>14.95</td>\n",
       "      <td>01/28/19 14:15</td>\n",
       "      <td>185 Maple St, Portland, OR 97035</td>\n",
       "    </tr>\n",
       "    <tr>\n",
       "      <th>2</th>\n",
       "      <td>2</td>\n",
       "      <td>141236</td>\n",
       "      <td>Wired Headphones</td>\n",
       "      <td>2</td>\n",
       "      <td>11.99</td>\n",
       "      <td>01/17/19 13:33</td>\n",
       "      <td>538 Adams St, San Francisco, CA 94016</td>\n",
       "    </tr>\n",
       "    <tr>\n",
       "      <th>3</th>\n",
       "      <td>3</td>\n",
       "      <td>141237</td>\n",
       "      <td>27in FHD Monitor</td>\n",
       "      <td>1</td>\n",
       "      <td>149.99</td>\n",
       "      <td>01/05/19 20:33</td>\n",
       "      <td>738 10th St, Los Angeles, CA 90001</td>\n",
       "    </tr>\n",
       "    <tr>\n",
       "      <th>4</th>\n",
       "      <td>4</td>\n",
       "      <td>141238</td>\n",
       "      <td>Wired Headphones</td>\n",
       "      <td>1</td>\n",
       "      <td>11.99</td>\n",
       "      <td>01/25/19 11:59</td>\n",
       "      <td>387 10th St, Austin, TX 73301</td>\n",
       "    </tr>\n",
       "  </tbody>\n",
       "</table>\n",
       "</div>"
      ],
      "text/plain": [
       "   Unnamed: 0 Order ID                   Product Quantity Ordered Price Each  \\\n",
       "0           0   141234                    iPhone                1        700   \n",
       "1           1   141235  Lightning Charging Cable                1      14.95   \n",
       "2           2   141236          Wired Headphones                2      11.99   \n",
       "3           3   141237          27in FHD Monitor                1     149.99   \n",
       "4           4   141238          Wired Headphones                1      11.99   \n",
       "\n",
       "       Order Date                       Purchase Address  \n",
       "0  01/22/19 21:25        944 Walnut St, Boston, MA 02215  \n",
       "1  01/28/19 14:15       185 Maple St, Portland, OR 97035  \n",
       "2  01/17/19 13:33  538 Adams St, San Francisco, CA 94016  \n",
       "3  01/05/19 20:33     738 10th St, Los Angeles, CA 90001  \n",
       "4  01/25/19 11:59          387 10th St, Austin, TX 73301  "
      ]
     },
     "execution_count": 5,
     "metadata": {},
     "output_type": "execute_result"
    }
   ],
   "source": [
    "# 1.3 read the updated dataframe\n",
    "\n",
    "all_files = pd.read_csv(\"C:/Users/Simona/Desktop/Data Analysis/concordia-bootcamp/ds-data-visualization-P2-main/ds-data-visualization-P2-main/data/Sales_Data/Sales_Data/all_data.csv\")\n",
    "df = all_files.copy()\n",
    "df.head()"
   ]
  },
  {
   "cell_type": "markdown",
   "metadata": {},
   "source": [
    "### Exercise 2: Clean up the data!"
   ]
  },
  {
   "cell_type": "code",
   "execution_count": 6,
   "metadata": {},
   "outputs": [
    {
     "name": "stdout",
     "output_type": "stream",
     "text": [
      "186850\n",
      "186305\n"
     ]
    }
   ],
   "source": [
    "# 2.1 Drop rows of NAN\n",
    "\n",
    "print(len(df))\n",
    "df.dropna(inplace=True)\n",
    "df=df.drop('Unnamed: 0', axis=1)\n",
    "print(len(df))"
   ]
  },
  {
   "cell_type": "code",
   "execution_count": 7,
   "metadata": {},
   "outputs": [
    {
     "data": {
      "text/html": [
       "<div>\n",
       "<style scoped>\n",
       "    .dataframe tbody tr th:only-of-type {\n",
       "        vertical-align: middle;\n",
       "    }\n",
       "\n",
       "    .dataframe tbody tr th {\n",
       "        vertical-align: top;\n",
       "    }\n",
       "\n",
       "    .dataframe thead th {\n",
       "        text-align: right;\n",
       "    }\n",
       "</style>\n",
       "<table border=\"1\" class=\"dataframe\">\n",
       "  <thead>\n",
       "    <tr style=\"text-align: right;\">\n",
       "      <th></th>\n",
       "      <th>Order ID</th>\n",
       "      <th>Product</th>\n",
       "      <th>Quantity Ordered</th>\n",
       "      <th>Price Each</th>\n",
       "      <th>Order Date</th>\n",
       "      <th>Purchase Address</th>\n",
       "    </tr>\n",
       "  </thead>\n",
       "  <tbody>\n",
       "    <tr>\n",
       "      <th>0</th>\n",
       "      <td>141234</td>\n",
       "      <td>iPhone</td>\n",
       "      <td>1</td>\n",
       "      <td>700</td>\n",
       "      <td>01/22/19 21:25</td>\n",
       "      <td>944 Walnut St, Boston, MA 02215</td>\n",
       "    </tr>\n",
       "    <tr>\n",
       "      <th>1</th>\n",
       "      <td>141235</td>\n",
       "      <td>Lightning Charging Cable</td>\n",
       "      <td>1</td>\n",
       "      <td>14.95</td>\n",
       "      <td>01/28/19 14:15</td>\n",
       "      <td>185 Maple St, Portland, OR 97035</td>\n",
       "    </tr>\n",
       "    <tr>\n",
       "      <th>2</th>\n",
       "      <td>141236</td>\n",
       "      <td>Wired Headphones</td>\n",
       "      <td>2</td>\n",
       "      <td>11.99</td>\n",
       "      <td>01/17/19 13:33</td>\n",
       "      <td>538 Adams St, San Francisco, CA 94016</td>\n",
       "    </tr>\n",
       "    <tr>\n",
       "      <th>3</th>\n",
       "      <td>141237</td>\n",
       "      <td>27in FHD Monitor</td>\n",
       "      <td>1</td>\n",
       "      <td>149.99</td>\n",
       "      <td>01/05/19 20:33</td>\n",
       "      <td>738 10th St, Los Angeles, CA 90001</td>\n",
       "    </tr>\n",
       "    <tr>\n",
       "      <th>4</th>\n",
       "      <td>141238</td>\n",
       "      <td>Wired Headphones</td>\n",
       "      <td>1</td>\n",
       "      <td>11.99</td>\n",
       "      <td>01/25/19 11:59</td>\n",
       "      <td>387 10th St, Austin, TX 73301</td>\n",
       "    </tr>\n",
       "  </tbody>\n",
       "</table>\n",
       "</div>"
      ],
      "text/plain": [
       "  Order ID                   Product Quantity Ordered Price Each  \\\n",
       "0   141234                    iPhone                1        700   \n",
       "1   141235  Lightning Charging Cable                1      14.95   \n",
       "2   141236          Wired Headphones                2      11.99   \n",
       "3   141237          27in FHD Monitor                1     149.99   \n",
       "4   141238          Wired Headphones                1      11.99   \n",
       "\n",
       "       Order Date                       Purchase Address  \n",
       "0  01/22/19 21:25        944 Walnut St, Boston, MA 02215  \n",
       "1  01/28/19 14:15       185 Maple St, Portland, OR 97035  \n",
       "2  01/17/19 13:33  538 Adams St, San Francisco, CA 94016  \n",
       "3  01/05/19 20:33     738 10th St, Los Angeles, CA 90001  \n",
       "4  01/25/19 11:59          387 10th St, Austin, TX 73301  "
      ]
     },
     "execution_count": 7,
     "metadata": {},
     "output_type": "execute_result"
    }
   ],
   "source": [
    "df = df[df['Order ID']!='Order ID']\n",
    "df.head()"
   ]
  },
  {
   "cell_type": "code",
   "execution_count": 8,
   "metadata": {},
   "outputs": [],
   "source": [
    "# 2.2 Get rid of text in order date column\n",
    "\n",
    "df['Order Date'] = df['Order Date'].str.replace(\"/\",\"\")\n",
    "df['Order Date'] = df['Order Date'].str.replace(\":\",\"\")\n",
    "df['Order Date'] = df['Order Date'].str.replace(\" \",\"\")"
   ]
  },
  {
   "cell_type": "code",
   "execution_count": 9,
   "metadata": {},
   "outputs": [
    {
     "name": "stdout",
     "output_type": "stream",
     "text": [
      "<class 'pandas.core.frame.DataFrame'>\n",
      "Int64Index: 185950 entries, 0 to 186849\n",
      "Data columns (total 6 columns):\n",
      " #   Column            Non-Null Count   Dtype  \n",
      "---  ------            --------------   -----  \n",
      " 0   Order ID          185950 non-null  int64  \n",
      " 1   Product           185950 non-null  object \n",
      " 2   Quantity Ordered  185950 non-null  int64  \n",
      " 3   Price Each        185950 non-null  float64\n",
      " 4   Order Date        185950 non-null  int64  \n",
      " 5   Purchase Address  185950 non-null  object \n",
      "dtypes: float64(1), int64(3), object(2)\n",
      "memory usage: 9.9+ MB\n"
     ]
    }
   ],
   "source": [
    "# 2.3 Make columns correct type\n",
    "\n",
    "df['Order ID']=pd.to_numeric(df['Order ID'])\n",
    "df['Quantity Ordered']=pd.to_numeric(df['Quantity Ordered'])\n",
    "df['Price Each']=pd.to_numeric(df['Price Each'])\n",
    "df['Order Date']=pd.to_numeric(df['Order Date'])\n",
    "df.info()"
   ]
  },
  {
   "cell_type": "code",
   "execution_count": 10,
   "metadata": {},
   "outputs": [
    {
     "data": {
      "text/html": [
       "<div>\n",
       "<style scoped>\n",
       "    .dataframe tbody tr th:only-of-type {\n",
       "        vertical-align: middle;\n",
       "    }\n",
       "\n",
       "    .dataframe tbody tr th {\n",
       "        vertical-align: top;\n",
       "    }\n",
       "\n",
       "    .dataframe thead th {\n",
       "        text-align: right;\n",
       "    }\n",
       "</style>\n",
       "<table border=\"1\" class=\"dataframe\">\n",
       "  <thead>\n",
       "    <tr style=\"text-align: right;\">\n",
       "      <th></th>\n",
       "      <th>Order ID</th>\n",
       "      <th>Product</th>\n",
       "      <th>Quantity Ordered</th>\n",
       "      <th>Price Each</th>\n",
       "      <th>Order Date</th>\n",
       "      <th>Purchase Address</th>\n",
       "    </tr>\n",
       "  </thead>\n",
       "  <tbody>\n",
       "    <tr>\n",
       "      <th>91504</th>\n",
       "      <td>228532</td>\n",
       "      <td>Google Phone</td>\n",
       "      <td>1</td>\n",
       "      <td>600.00</td>\n",
       "      <td>731191714</td>\n",
       "      <td>401 Lakeview St, Portland, OR 97035</td>\n",
       "    </tr>\n",
       "    <tr>\n",
       "      <th>4220</th>\n",
       "      <td>145232</td>\n",
       "      <td>Wired Headphones</td>\n",
       "      <td>1</td>\n",
       "      <td>11.99</td>\n",
       "      <td>108191848</td>\n",
       "      <td>621 Hickory St, Boston, MA 02215</td>\n",
       "    </tr>\n",
       "    <tr>\n",
       "      <th>50591</th>\n",
       "      <td>189528</td>\n",
       "      <td>AA Batteries (4-pack)</td>\n",
       "      <td>1</td>\n",
       "      <td>3.84</td>\n",
       "      <td>412191058</td>\n",
       "      <td>896 Dogwood St, Portland, OR 97035</td>\n",
       "    </tr>\n",
       "    <tr>\n",
       "      <th>125660</th>\n",
       "      <td>261230</td>\n",
       "      <td>34in Ultrawide Monitor</td>\n",
       "      <td>1</td>\n",
       "      <td>379.99</td>\n",
       "      <td>1006191113</td>\n",
       "      <td>839 South St, San Francisco, CA 94016</td>\n",
       "    </tr>\n",
       "    <tr>\n",
       "      <th>77204</th>\n",
       "      <td>214854</td>\n",
       "      <td>Wired Headphones</td>\n",
       "      <td>1</td>\n",
       "      <td>11.99</td>\n",
       "      <td>601191535</td>\n",
       "      <td>86 Ridge St, Los Angeles, CA 90001</td>\n",
       "    </tr>\n",
       "    <tr>\n",
       "      <th>38251</th>\n",
       "      <td>177763</td>\n",
       "      <td>AAA Batteries (4-pack)</td>\n",
       "      <td>1</td>\n",
       "      <td>2.99</td>\n",
       "      <td>408191206</td>\n",
       "      <td>570 Center St, San Francisco, CA 94016</td>\n",
       "    </tr>\n",
       "    <tr>\n",
       "      <th>69275</th>\n",
       "      <td>207329</td>\n",
       "      <td>Wired Headphones</td>\n",
       "      <td>1</td>\n",
       "      <td>11.99</td>\n",
       "      <td>517191709</td>\n",
       "      <td>329 Cherry St, Los Angeles, CA 90001</td>\n",
       "    </tr>\n",
       "    <tr>\n",
       "      <th>84659</th>\n",
       "      <td>221996</td>\n",
       "      <td>iPhone</td>\n",
       "      <td>1</td>\n",
       "      <td>700.00</td>\n",
       "      <td>620192000</td>\n",
       "      <td>217 Meadow St, Dallas, TX 75001</td>\n",
       "    </tr>\n",
       "    <tr>\n",
       "      <th>176933</th>\n",
       "      <td>310183</td>\n",
       "      <td>USB-C Charging Cable</td>\n",
       "      <td>1</td>\n",
       "      <td>11.95</td>\n",
       "      <td>1229191049</td>\n",
       "      <td>986 Main St, Los Angeles, CA 90001</td>\n",
       "    </tr>\n",
       "    <tr>\n",
       "      <th>20169</th>\n",
       "      <td>160495</td>\n",
       "      <td>Lightning Charging Cable</td>\n",
       "      <td>1</td>\n",
       "      <td>14.95</td>\n",
       "      <td>210191330</td>\n",
       "      <td>593 Dogwood St, San Francisco, CA 94016</td>\n",
       "    </tr>\n",
       "  </tbody>\n",
       "</table>\n",
       "</div>"
      ],
      "text/plain": [
       "        Order ID                   Product  Quantity Ordered  Price Each  \\\n",
       "91504     228532              Google Phone                 1      600.00   \n",
       "4220      145232          Wired Headphones                 1       11.99   \n",
       "50591     189528     AA Batteries (4-pack)                 1        3.84   \n",
       "125660    261230    34in Ultrawide Monitor                 1      379.99   \n",
       "77204     214854          Wired Headphones                 1       11.99   \n",
       "38251     177763    AAA Batteries (4-pack)                 1        2.99   \n",
       "69275     207329          Wired Headphones                 1       11.99   \n",
       "84659     221996                    iPhone                 1      700.00   \n",
       "176933    310183      USB-C Charging Cable                 1       11.95   \n",
       "20169     160495  Lightning Charging Cable                 1       14.95   \n",
       "\n",
       "        Order Date                         Purchase Address  \n",
       "91504    731191714      401 Lakeview St, Portland, OR 97035  \n",
       "4220     108191848         621 Hickory St, Boston, MA 02215  \n",
       "50591    412191058       896 Dogwood St, Portland, OR 97035  \n",
       "125660  1006191113    839 South St, San Francisco, CA 94016  \n",
       "77204    601191535       86 Ridge St, Los Angeles, CA 90001  \n",
       "38251    408191206   570 Center St, San Francisco, CA 94016  \n",
       "69275    517191709     329 Cherry St, Los Angeles, CA 90001  \n",
       "84659    620192000          217 Meadow St, Dallas, TX 75001  \n",
       "176933  1229191049       986 Main St, Los Angeles, CA 90001  \n",
       "20169    210191330  593 Dogwood St, San Francisco, CA 94016  "
      ]
     },
     "execution_count": 10,
     "metadata": {},
     "output_type": "execute_result"
    }
   ],
   "source": [
    "df.sample(10)"
   ]
  },
  {
   "cell_type": "markdown",
   "metadata": {},
   "source": [
    "### Exercise 3: Augment data with additional columns"
   ]
  },
  {
   "cell_type": "code",
   "execution_count": 11,
   "metadata": {},
   "outputs": [
    {
     "data": {
      "text/html": [
       "<div>\n",
       "<style scoped>\n",
       "    .dataframe tbody tr th:only-of-type {\n",
       "        vertical-align: middle;\n",
       "    }\n",
       "\n",
       "    .dataframe tbody tr th {\n",
       "        vertical-align: top;\n",
       "    }\n",
       "\n",
       "    .dataframe thead th {\n",
       "        text-align: right;\n",
       "    }\n",
       "</style>\n",
       "<table border=\"1\" class=\"dataframe\">\n",
       "  <thead>\n",
       "    <tr style=\"text-align: right;\">\n",
       "      <th></th>\n",
       "      <th>Order ID</th>\n",
       "      <th>Product</th>\n",
       "      <th>Quantity Ordered</th>\n",
       "      <th>Price Each</th>\n",
       "      <th>Order Date</th>\n",
       "      <th>Purchase Address</th>\n",
       "      <th>Month</th>\n",
       "    </tr>\n",
       "  </thead>\n",
       "  <tbody>\n",
       "    <tr>\n",
       "      <th>0</th>\n",
       "      <td>141234</td>\n",
       "      <td>iPhone</td>\n",
       "      <td>1</td>\n",
       "      <td>700.00</td>\n",
       "      <td>122192125</td>\n",
       "      <td>944 Walnut St, Boston, MA 02215</td>\n",
       "      <td>1</td>\n",
       "    </tr>\n",
       "    <tr>\n",
       "      <th>1</th>\n",
       "      <td>141235</td>\n",
       "      <td>Lightning Charging Cable</td>\n",
       "      <td>1</td>\n",
       "      <td>14.95</td>\n",
       "      <td>128191415</td>\n",
       "      <td>185 Maple St, Portland, OR 97035</td>\n",
       "      <td>1</td>\n",
       "    </tr>\n",
       "    <tr>\n",
       "      <th>2</th>\n",
       "      <td>141236</td>\n",
       "      <td>Wired Headphones</td>\n",
       "      <td>2</td>\n",
       "      <td>11.99</td>\n",
       "      <td>117191333</td>\n",
       "      <td>538 Adams St, San Francisco, CA 94016</td>\n",
       "      <td>1</td>\n",
       "    </tr>\n",
       "    <tr>\n",
       "      <th>3</th>\n",
       "      <td>141237</td>\n",
       "      <td>27in FHD Monitor</td>\n",
       "      <td>1</td>\n",
       "      <td>149.99</td>\n",
       "      <td>105192033</td>\n",
       "      <td>738 10th St, Los Angeles, CA 90001</td>\n",
       "      <td>1</td>\n",
       "    </tr>\n",
       "    <tr>\n",
       "      <th>4</th>\n",
       "      <td>141238</td>\n",
       "      <td>Wired Headphones</td>\n",
       "      <td>1</td>\n",
       "      <td>11.99</td>\n",
       "      <td>125191159</td>\n",
       "      <td>387 10th St, Austin, TX 73301</td>\n",
       "      <td>1</td>\n",
       "    </tr>\n",
       "    <tr>\n",
       "      <th>...</th>\n",
       "      <td>...</td>\n",
       "      <td>...</td>\n",
       "      <td>...</td>\n",
       "      <td>...</td>\n",
       "      <td>...</td>\n",
       "      <td>...</td>\n",
       "      <td>...</td>\n",
       "    </tr>\n",
       "    <tr>\n",
       "      <th>186845</th>\n",
       "      <td>319666</td>\n",
       "      <td>Lightning Charging Cable</td>\n",
       "      <td>1</td>\n",
       "      <td>14.95</td>\n",
       "      <td>1211192058</td>\n",
       "      <td>14 Madison St, San Francisco, CA 94016</td>\n",
       "      <td>12</td>\n",
       "    </tr>\n",
       "    <tr>\n",
       "      <th>186846</th>\n",
       "      <td>319667</td>\n",
       "      <td>AA Batteries (4-pack)</td>\n",
       "      <td>2</td>\n",
       "      <td>3.84</td>\n",
       "      <td>1201191201</td>\n",
       "      <td>549 Willow St, Los Angeles, CA 90001</td>\n",
       "      <td>12</td>\n",
       "    </tr>\n",
       "    <tr>\n",
       "      <th>186847</th>\n",
       "      <td>319668</td>\n",
       "      <td>Vareebadd Phone</td>\n",
       "      <td>1</td>\n",
       "      <td>400.00</td>\n",
       "      <td>1209190643</td>\n",
       "      <td>273 Wilson St, Seattle, WA 98101</td>\n",
       "      <td>12</td>\n",
       "    </tr>\n",
       "    <tr>\n",
       "      <th>186848</th>\n",
       "      <td>319669</td>\n",
       "      <td>Wired Headphones</td>\n",
       "      <td>1</td>\n",
       "      <td>11.99</td>\n",
       "      <td>1203191039</td>\n",
       "      <td>778 River St, Dallas, TX 75001</td>\n",
       "      <td>12</td>\n",
       "    </tr>\n",
       "    <tr>\n",
       "      <th>186849</th>\n",
       "      <td>319670</td>\n",
       "      <td>Bose SoundSport Headphones</td>\n",
       "      <td>1</td>\n",
       "      <td>99.99</td>\n",
       "      <td>1221192145</td>\n",
       "      <td>747 Chestnut St, Los Angeles, CA 90001</td>\n",
       "      <td>12</td>\n",
       "    </tr>\n",
       "  </tbody>\n",
       "</table>\n",
       "<p>185950 rows × 7 columns</p>\n",
       "</div>"
      ],
      "text/plain": [
       "        Order ID                     Product  Quantity Ordered  Price Each  \\\n",
       "0         141234                      iPhone                 1      700.00   \n",
       "1         141235    Lightning Charging Cable                 1       14.95   \n",
       "2         141236            Wired Headphones                 2       11.99   \n",
       "3         141237            27in FHD Monitor                 1      149.99   \n",
       "4         141238            Wired Headphones                 1       11.99   \n",
       "...          ...                         ...               ...         ...   \n",
       "186845    319666    Lightning Charging Cable                 1       14.95   \n",
       "186846    319667       AA Batteries (4-pack)                 2        3.84   \n",
       "186847    319668             Vareebadd Phone                 1      400.00   \n",
       "186848    319669            Wired Headphones                 1       11.99   \n",
       "186849    319670  Bose SoundSport Headphones                 1       99.99   \n",
       "\n",
       "        Order Date                        Purchase Address  Month  \n",
       "0        122192125         944 Walnut St, Boston, MA 02215      1  \n",
       "1        128191415        185 Maple St, Portland, OR 97035      1  \n",
       "2        117191333   538 Adams St, San Francisco, CA 94016      1  \n",
       "3        105192033      738 10th St, Los Angeles, CA 90001      1  \n",
       "4        125191159           387 10th St, Austin, TX 73301      1  \n",
       "...            ...                                     ...    ...  \n",
       "186845  1211192058  14 Madison St, San Francisco, CA 94016     12  \n",
       "186846  1201191201    549 Willow St, Los Angeles, CA 90001     12  \n",
       "186847  1209190643        273 Wilson St, Seattle, WA 98101     12  \n",
       "186848  1203191039          778 River St, Dallas, TX 75001     12  \n",
       "186849  1221192145  747 Chestnut St, Los Angeles, CA 90001     12  \n",
       "\n",
       "[185950 rows x 7 columns]"
      ]
     },
     "execution_count": 11,
     "metadata": {},
     "output_type": "execute_result"
    }
   ],
   "source": [
    "# 3.1 Add month column\n",
    "\n",
    "df['Month'] = df.apply(lambda row : str(row['Order Date'])[:-8],axis=1)\n",
    "df['Month']=pd.to_numeric(df['Month'])\n",
    "df"
   ]
  },
  {
   "cell_type": "code",
   "execution_count": 12,
   "metadata": {},
   "outputs": [
    {
     "data": {
      "text/plain": [
       "count    185950.000000\n",
       "mean          7.059140\n",
       "std           3.502996\n",
       "min           1.000000\n",
       "25%           4.000000\n",
       "50%           7.000000\n",
       "75%          10.000000\n",
       "max          12.000000\n",
       "Name: Month, dtype: float64"
      ]
     },
     "execution_count": 12,
     "metadata": {},
     "output_type": "execute_result"
    }
   ],
   "source": [
    "df.Month.describe()"
   ]
  },
  {
   "cell_type": "code",
   "execution_count": 13,
   "metadata": {},
   "outputs": [
    {
     "data": {
      "text/html": [
       "<div>\n",
       "<style scoped>\n",
       "    .dataframe tbody tr th:only-of-type {\n",
       "        vertical-align: middle;\n",
       "    }\n",
       "\n",
       "    .dataframe tbody tr th {\n",
       "        vertical-align: top;\n",
       "    }\n",
       "\n",
       "    .dataframe thead th {\n",
       "        text-align: right;\n",
       "    }\n",
       "</style>\n",
       "<table border=\"1\" class=\"dataframe\">\n",
       "  <thead>\n",
       "    <tr style=\"text-align: right;\">\n",
       "      <th></th>\n",
       "      <th>Order ID</th>\n",
       "      <th>Product</th>\n",
       "      <th>Quantity Ordered</th>\n",
       "      <th>Price Each</th>\n",
       "      <th>Order Date</th>\n",
       "      <th>Purchase Address</th>\n",
       "      <th>Month</th>\n",
       "      <th>City</th>\n",
       "    </tr>\n",
       "  </thead>\n",
       "  <tbody>\n",
       "    <tr>\n",
       "      <th>0</th>\n",
       "      <td>141234</td>\n",
       "      <td>iPhone</td>\n",
       "      <td>1</td>\n",
       "      <td>700.00</td>\n",
       "      <td>122192125</td>\n",
       "      <td>944 Walnut St, Boston, MA 02215</td>\n",
       "      <td>1</td>\n",
       "      <td>Boston</td>\n",
       "    </tr>\n",
       "    <tr>\n",
       "      <th>1</th>\n",
       "      <td>141235</td>\n",
       "      <td>Lightning Charging Cable</td>\n",
       "      <td>1</td>\n",
       "      <td>14.95</td>\n",
       "      <td>128191415</td>\n",
       "      <td>185 Maple St, Portland, OR 97035</td>\n",
       "      <td>1</td>\n",
       "      <td>Portland</td>\n",
       "    </tr>\n",
       "    <tr>\n",
       "      <th>2</th>\n",
       "      <td>141236</td>\n",
       "      <td>Wired Headphones</td>\n",
       "      <td>2</td>\n",
       "      <td>11.99</td>\n",
       "      <td>117191333</td>\n",
       "      <td>538 Adams St, San Francisco, CA 94016</td>\n",
       "      <td>1</td>\n",
       "      <td>San Francisco</td>\n",
       "    </tr>\n",
       "    <tr>\n",
       "      <th>3</th>\n",
       "      <td>141237</td>\n",
       "      <td>27in FHD Monitor</td>\n",
       "      <td>1</td>\n",
       "      <td>149.99</td>\n",
       "      <td>105192033</td>\n",
       "      <td>738 10th St, Los Angeles, CA 90001</td>\n",
       "      <td>1</td>\n",
       "      <td>Los Angeles</td>\n",
       "    </tr>\n",
       "    <tr>\n",
       "      <th>4</th>\n",
       "      <td>141238</td>\n",
       "      <td>Wired Headphones</td>\n",
       "      <td>1</td>\n",
       "      <td>11.99</td>\n",
       "      <td>125191159</td>\n",
       "      <td>387 10th St, Austin, TX 73301</td>\n",
       "      <td>1</td>\n",
       "      <td>Austin</td>\n",
       "    </tr>\n",
       "  </tbody>\n",
       "</table>\n",
       "</div>"
      ],
      "text/plain": [
       "   Order ID                   Product  Quantity Ordered  Price Each  \\\n",
       "0    141234                    iPhone                 1      700.00   \n",
       "1    141235  Lightning Charging Cable                 1       14.95   \n",
       "2    141236          Wired Headphones                 2       11.99   \n",
       "3    141237          27in FHD Monitor                 1      149.99   \n",
       "4    141238          Wired Headphones                 1       11.99   \n",
       "\n",
       "   Order Date                       Purchase Address  Month            City  \n",
       "0   122192125        944 Walnut St, Boston, MA 02215      1          Boston  \n",
       "1   128191415       185 Maple St, Portland, OR 97035      1        Portland  \n",
       "2   117191333  538 Adams St, San Francisco, CA 94016      1   San Francisco  \n",
       "3   105192033     738 10th St, Los Angeles, CA 90001      1     Los Angeles  \n",
       "4   125191159          387 10th St, Austin, TX 73301      1          Austin  "
      ]
     },
     "execution_count": 13,
     "metadata": {},
     "output_type": "execute_result"
    }
   ],
   "source": [
    "# 3.2 Add city column\n",
    "\n",
    "df['City'] = df.apply(lambda row : row['Purchase Address'].split(\",\")[-2],axis=1)\n",
    "df.head()"
   ]
  },
  {
   "cell_type": "markdown",
   "metadata": {},
   "source": [
    "### Exercise 4: Data Exploration!"
   ]
  },
  {
   "cell_type": "markdown",
   "metadata": {},
   "source": [
    "#### Question 4.1: What was the best month for sales? How much was earned that month? "
   ]
  },
  {
   "cell_type": "code",
   "execution_count": 14,
   "metadata": {},
   "outputs": [
    {
     "name": "stdout",
     "output_type": "stream",
     "text": [
      "Month\n",
      "12    4588415.41\n",
      "Name: Price Each, dtype: float64\n"
     ]
    },
    {
     "data": {
      "text/plain": [
       "Month\n",
       "1     1811768.38\n",
       "2     2188884.72\n",
       "3     2791207.83\n",
       "4     3367671.02\n",
       "5     3135125.13\n",
       "6     2562025.61\n",
       "7     2632539.56\n",
       "8     2230345.42\n",
       "9     2084992.09\n",
       "10    3715554.83\n",
       "11    3180600.68\n",
       "12    4588415.41\n",
       "Name: Price Each, dtype: float64"
      ]
     },
     "execution_count": 14,
     "metadata": {},
     "output_type": "execute_result"
    }
   ],
   "source": [
    "# 4.1\n",
    "\n",
    "grp_month = df.groupby('Month')\n",
    "print(grp_month['Price Each'].sum()[grp_month['Price Each'].sum()==(grp_month['Price Each'].sum().max())])\n",
    "grp_month['Price Each'].sum()\n",
    "\n",
    "# The best month for sales was in December."
   ]
  },
  {
   "cell_type": "code",
   "execution_count": 15,
   "metadata": {},
   "outputs": [
    {
     "name": "stdout",
     "output_type": "stream",
     "text": [
      "The best month for sales was December, which earned 4588415.41$\n"
     ]
    },
    {
     "data": {
      "text/plain": [
       "4588415.41"
      ]
     },
     "execution_count": 15,
     "metadata": {},
     "output_type": "execute_result"
    }
   ],
   "source": [
    "# 4.1 continued\n",
    "\n",
    "print(f\"The best month for sales was December, which earned {grp_month['Price Each'].sum()[12]}$\")\n",
    "grp_month['Price Each'].sum()[12]\n",
    "\n",
    "# The revenue for December of 2019 was 4,588,415.41$"
   ]
  },
  {
   "cell_type": "markdown",
   "metadata": {},
   "source": [
    "#### Question 4.2: What city sold the most product?"
   ]
  },
  {
   "cell_type": "code",
   "execution_count": 16,
   "metadata": {},
   "outputs": [
    {
     "name": "stdout",
     "output_type": "stream",
     "text": [
      "City\n",
      " San Francisco    50239\n",
      "Name: Quantity Ordered, dtype: int64\n"
     ]
    }
   ],
   "source": [
    "# 4.2\n",
    "\n",
    "grp_city = df.groupby('City')\n",
    "print(grp_city['Quantity Ordered'].sum()[grp_city['Quantity Ordered'].sum()==grp_city['Quantity Ordered'].sum().max()])"
   ]
  },
  {
   "cell_type": "code",
   "execution_count": 17,
   "metadata": {},
   "outputs": [
    {
     "name": "stdout",
     "output_type": "stream",
     "text": [
      "\n",
      "San Fransisco sold 50239 products.\n"
     ]
    },
    {
     "data": {
      "text/plain": [
       "City\n",
       " Atlanta          16602\n",
       " Austin           11153\n",
       " Boston           22528\n",
       " Dallas           16730\n",
       " Los Angeles      33289\n",
       " New York City    27932\n",
       " Portland         14053\n",
       " San Francisco    50239\n",
       " Seattle          16553\n",
       "Name: Quantity Ordered, dtype: int64"
      ]
     },
     "execution_count": 17,
     "metadata": {},
     "output_type": "execute_result"
    }
   ],
   "source": [
    "# 4.2 continued\n",
    "\n",
    "print(f\"\\nSan Fransisco sold {grp_city['Quantity Ordered'].sum().max()} products.\")\n",
    "\n",
    "grp_city['Quantity Ordered'].sum()"
   ]
  },
  {
   "cell_type": "markdown",
   "metadata": {},
   "source": [
    "#### Question 4.3: What time should we display advertisements to maximize likelihood of customer's buying product?"
   ]
  },
  {
   "cell_type": "code",
   "execution_count": 18,
   "metadata": {},
   "outputs": [
    {
     "name": "stdout",
     "output_type": "stream",
     "text": [
      "count     185950\n",
      "unique        24\n",
      "top           19\n",
      "freq       12905\n",
      "Name: Hour, dtype: object\n"
     ]
    },
    {
     "data": {
      "text/html": [
       "<div>\n",
       "<style scoped>\n",
       "    .dataframe tbody tr th:only-of-type {\n",
       "        vertical-align: middle;\n",
       "    }\n",
       "\n",
       "    .dataframe tbody tr th {\n",
       "        vertical-align: top;\n",
       "    }\n",
       "\n",
       "    .dataframe thead th {\n",
       "        text-align: right;\n",
       "    }\n",
       "</style>\n",
       "<table border=\"1\" class=\"dataframe\">\n",
       "  <thead>\n",
       "    <tr style=\"text-align: right;\">\n",
       "      <th></th>\n",
       "      <th>Order ID</th>\n",
       "      <th>Product</th>\n",
       "      <th>Quantity Ordered</th>\n",
       "      <th>Price Each</th>\n",
       "      <th>Order Date</th>\n",
       "      <th>Purchase Address</th>\n",
       "      <th>Month</th>\n",
       "      <th>City</th>\n",
       "      <th>Hour</th>\n",
       "    </tr>\n",
       "  </thead>\n",
       "  <tbody>\n",
       "    <tr>\n",
       "      <th>0</th>\n",
       "      <td>141234</td>\n",
       "      <td>iPhone</td>\n",
       "      <td>1</td>\n",
       "      <td>700.0</td>\n",
       "      <td>122192125</td>\n",
       "      <td>944 Walnut St, Boston, MA 02215</td>\n",
       "      <td>1</td>\n",
       "      <td>Boston</td>\n",
       "      <td>21</td>\n",
       "    </tr>\n",
       "  </tbody>\n",
       "</table>\n",
       "</div>"
      ],
      "text/plain": [
       "   Order ID Product  Quantity Ordered  Price Each  Order Date  \\\n",
       "0    141234  iPhone                 1       700.0   122192125   \n",
       "\n",
       "                  Purchase Address  Month     City Hour  \n",
       "0  944 Walnut St, Boston, MA 02215      1   Boston   21  "
      ]
     },
     "execution_count": 18,
     "metadata": {},
     "output_type": "execute_result"
    }
   ],
   "source": [
    "# 4.3.1 Add hour column\n",
    "\n",
    "df['Hour'] = df.apply(lambda row : str(row['Order Date'])[-4:-2],axis=1)\n",
    "print(df['Hour'].describe())\n",
    "df.head(1)"
   ]
  },
  {
   "cell_type": "code",
   "execution_count": 19,
   "metadata": {},
   "outputs": [
    {
     "name": "stdout",
     "output_type": "stream",
     "text": [
      "\n",
      "You should display advertisements at 7PM (hour 19) \n",
      "to maximize likelihood of customers buying product. \n",
      "\n",
      "Hour\n",
      "19    14470\n",
      "Name: Quantity Ordered, dtype: int64 \n",
      "\n"
     ]
    },
    {
     "data": {
      "text/plain": [
       "Hour\n",
       "00     4428\n",
       "01     2619\n",
       "02     1398\n",
       "03      928\n",
       "04      937\n",
       "05     1493\n",
       "06     2810\n",
       "07     4556\n",
       "08     7002\n",
       "09     9816\n",
       "10    12308\n",
       "11    14005\n",
       "12    14202\n",
       "13    13685\n",
       "14    12362\n",
       "15    11391\n",
       "16    11662\n",
       "17    12229\n",
       "18    13802\n",
       "19    14470\n",
       "20    13768\n",
       "21    12244\n",
       "22     9899\n",
       "23     7065\n",
       "Name: Quantity Ordered, dtype: int64"
      ]
     },
     "execution_count": 19,
     "metadata": {},
     "output_type": "execute_result"
    }
   ],
   "source": [
    "# 4.3.2 Results\n",
    "\n",
    "grp_hour = df.groupby('Hour')\n",
    "print(f\"\\nYou should display advertisements at 7PM (hour 19) \\nto maximize likelihood of customers buying product.\",\"\\n\")\n",
    "print(grp_hour['Quantity Ordered'].sum()[grp_hour['Quantity Ordered'].sum()==grp_hour['Quantity Ordered'].sum().max()],\"\\n\")\n",
    "grp_hour['Quantity Ordered'].sum()"
   ]
  },
  {
   "cell_type": "markdown",
   "metadata": {},
   "source": [
    "#### Question 4.4: What products are most often sold together?"
   ]
  },
  {
   "cell_type": "code",
   "execution_count": 20,
   "metadata": {},
   "outputs": [
    {
     "data": {
      "text/plain": [
       "iPhone Lightning Charging Cable    882\n",
       "Name: Product, dtype: int64"
      ]
     },
     "execution_count": 20,
     "metadata": {},
     "output_type": "execute_result"
    }
   ],
   "source": [
    "# https://stackoverflow.com/questions/43348194/pandas-select-rows-if-id-appear-several-time\n",
    "# Referenced: https://stackoverflow.com/questions/27298178/concatenate-strings-from-several-rows-using-pandas-groupby\n",
    "# Referenced: https://stackoverflow.com/questions/52195887/counting-unique-pairs-of-numbers-into-a-python-dictionary\n",
    "\n",
    "counts = df['Order ID'].value_counts()\n",
    "df_counts = df[df['Order ID'].isin(counts.index[counts>1])]\n",
    "df_multiple_products = df_counts.groupby('Order ID', as_index = False).agg({'Product': ' '.join})\n",
    "df_multiple_products['Product'].value_counts()[df_multiple_products['Product'].value_counts()==df_multiple_products['Product'].value_counts().max()]"
   ]
  },
  {
   "cell_type": "code",
   "execution_count": 21,
   "metadata": {},
   "outputs": [
    {
     "name": "stdout",
     "output_type": "stream",
     "text": [
      "The products most often sold together are the iPhone along with \n",
      "a lightning charging cable with 882 orders.\n"
     ]
    }
   ],
   "source": [
    "# Answer: The products most often sold together are the iPhone along with \n",
    "# a lightning charging cable with 882 orders.\n",
    "print(f\"The products most often sold together are the iPhone along with \\na lightning charging cable with 882 orders.\")"
   ]
  },
  {
   "cell_type": "markdown",
   "metadata": {},
   "source": [
    "## Exercise 5: Most Popular Product?\n",
    "\n",
    "What product sold the most? Why do you think it sold the most?"
   ]
  },
  {
   "cell_type": "code",
   "execution_count": 22,
   "metadata": {},
   "outputs": [
    {
     "name": "stdout",
     "output_type": "stream",
     "text": [
      "USB-C Charging Cable    21903\n",
      "Name: Product, dtype: int64\n"
     ]
    },
    {
     "data": {
      "text/plain": [
       "USB-C Charging Cable          21903\n",
       "Lightning Charging Cable      21658\n",
       "AAA Batteries (4-pack)        20641\n",
       "AA Batteries (4-pack)         20577\n",
       "Wired Headphones              18882\n",
       "Apple Airpods Headphones      15549\n",
       "Bose SoundSport Headphones    13325\n",
       "27in FHD Monitor               7507\n",
       "iPhone                         6842\n",
       "27in 4K Gaming Monitor         6230\n",
       "34in Ultrawide Monitor         6181\n",
       "Google Phone                   5525\n",
       "Flatscreen TV                  4800\n",
       "Macbook Pro Laptop             4724\n",
       "ThinkPad Laptop                4128\n",
       "20in Monitor                   4101\n",
       "Vareebadd Phone                2065\n",
       "LG Washing Machine              666\n",
       "LG Dryer                        646\n",
       "Name: Product, dtype: int64"
      ]
     },
     "execution_count": 22,
     "metadata": {},
     "output_type": "execute_result"
    }
   ],
   "source": [
    "# exercise 5\n",
    "\n",
    "print(df['Product'].value_counts()[df['Product'].value_counts()==df['Product'].value_counts().max()])\n",
    "df['Product'].value_counts()"
   ]
  },
  {
   "cell_type": "code",
   "execution_count": 23,
   "metadata": {},
   "outputs": [
    {
     "name": "stdout",
     "output_type": "stream",
     "text": [
      "I think the USB-C charging cable sold the most because it replaces multiple other \n",
      "electrical cables such as USB-A, USB-B, HDMI, DisplayPort, and 3.5mm audiojacks, \n",
      "which in turn aggregates the consumers of all those cables toward one newer cable.\n"
     ]
    }
   ],
   "source": [
    "# exercise 5 continued\n",
    "# Referenced: https://stackoverflow.com/questions/14762181/adding-a-y-axis-label-to-secondary-y-axis-in-matplotlib\n",
    "\n",
    "print(f\"I think the USB-C charging cable sold the most because it replaces multiple other \\nelectrical cables such as USB-A, USB-B, HDMI, DisplayPort, and 3.5mm audiojacks, \\nwhich in turn aggregates the consumers of all those cables toward one newer cable.\")"
   ]
  },
  {
   "cell_type": "markdown",
   "metadata": {},
   "source": [
    "## Note\n",
    "\n",
    "This activity was taken from https://github.com/KeithGalli/Pandas-Data-Science-Tasks. We modified to be exercises rather than a code-along tutorial. \n",
    "\n",
    "Once you have completed all, or as much as you can, of the activity, feel free to watch [Keith Galli's accompanying video](https://www.youtube.com/watch?v=eMOA1pPVUc4)."
   ]
  }
 ],
 "metadata": {
  "kernelspec": {
   "display_name": "Python 3 (ipykernel)",
   "language": "python",
   "name": "python3"
  },
  "language_info": {
   "codemirror_mode": {
    "name": "ipython",
    "version": 3
   },
   "file_extension": ".py",
   "mimetype": "text/x-python",
   "name": "python",
   "nbconvert_exporter": "python",
   "pygments_lexer": "ipython3",
   "version": "3.9.13"
  },
  "metadata": {
   "interpreter": {
    "hash": "63fd5069d213b44bf678585dea6b12cceca9941eaf7f819626cde1f2670de90d"
   }
  }
 },
 "nbformat": 4,
 "nbformat_minor": 2
}
