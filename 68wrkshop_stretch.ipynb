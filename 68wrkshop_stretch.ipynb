{
 "cells": [
  {
   "cell_type": "markdown",
   "metadata": {
    "id": "2-N42G_JibMF"
   },
   "source": [
    "# Warmup\n",
    "\n",
    "Import pandas, numpy, scipy.stats, statsmodels.api & statsmodels.formula.api.ols "
   ]
  },
  {
   "cell_type": "code",
   "execution_count": null,
   "metadata": {
    "colab": {
     "base_uri": "https://localhost:8080/"
    },
    "executionInfo": {
     "elapsed": 2003,
     "status": "ok",
     "timestamp": 1616525801358,
     "user": {
      "displayName": "Usama Bari",
      "photoUrl": "https://lh3.googleusercontent.com/a-/AOh14Gi63QYmB0IpHlTGDpnIp177mO5UfCMQzxIj0VkiwQ=s64",
      "userId": "15037366419685538600"
     },
     "user_tz": 240
    },
    "id": "ANsh4eHsixl5",
    "outputId": "03a8be2b-96b5-4ef9-8544-7ba2c6fdd77c"
   },
   "outputs": [],
   "source": [
    "import pandas as pd\n",
    "import numpy as np\n",
    "import scipy.stats as sc\n",
    "import statsmodels.api as sm\n",
    "from statsmodels.formula.api import ols"
   ]
  },
  {
   "cell_type": "markdown",
   "metadata": {
    "id": "C2D6-jVyiyev"
   },
   "source": [
    "# Hypothesis Testing\n",
    "\n",
    "## Iris Data\n",
    "It is believed that the average sepal length of the setosa species is 4 cm. Use the Iris data set as well as the appropriate test to determine if we have evidence to reject this claim."
   ]
  },
  {
   "cell_type": "code",
   "execution_count": null,
   "metadata": {
    "colab": {
     "base_uri": "https://localhost:8080/",
     "height": 195
    },
    "executionInfo": {
     "elapsed": 997,
     "status": "ok",
     "timestamp": 1616525801519,
     "user": {
      "displayName": "Usama Bari",
      "photoUrl": "https://lh3.googleusercontent.com/a-/AOh14Gi63QYmB0IpHlTGDpnIp177mO5UfCMQzxIj0VkiwQ=s64",
      "userId": "15037366419685538600"
     },
     "user_tz": 240
    },
    "id": "QAk9bMm_jiA3",
    "outputId": "52ae98f8-af84-4d40-98c2-d63cab2a7f76"
   },
   "outputs": [],
   "source": [
    "url = \"https://gist.githubusercontent.com/curran/a08a1080b88344b0c8a7/raw/0e7a9b0a5d22642a06d3d5b9bcbad9890c8ee534/iris.csv\"\n",
    "#pd.read_csv(url)\n",
    "#df.head()"
   ]
  },
  {
   "cell_type": "code",
   "execution_count": null,
   "metadata": {
    "colab": {
     "base_uri": "https://localhost:8080/"
    },
    "executionInfo": {
     "elapsed": 627,
     "status": "ok",
     "timestamp": 1616525801686,
     "user": {
      "displayName": "Usama Bari",
      "photoUrl": "https://lh3.googleusercontent.com/a-/AOh14Gi63QYmB0IpHlTGDpnIp177mO5UfCMQzxIj0VkiwQ=s64",
      "userId": "15037366419685538600"
     },
     "user_tz": 240
    },
    "id": "orFaFCFshDEs",
    "outputId": "abb577a8-e5c2-4d43-f5d7-40baa9c958dc"
   },
   "outputs": [],
   "source": [
    "sc.ttest_1samp()"
   ]
  },
  {
   "cell_type": "markdown",
   "metadata": {
    "id": "7glZcd6Wlu1s"
   },
   "source": [
    "Use an appropriate test to see if there is a significant difference in the average sepal width between the versicolor and virginica species."
   ]
  },
  {
   "cell_type": "code",
   "execution_count": null,
   "metadata": {
    "colab": {
     "base_uri": "https://localhost:8080/",
     "height": 331
    },
    "executionInfo": {
     "elapsed": 889,
     "status": "ok",
     "timestamp": 1616525803801,
     "user": {
      "displayName": "Usama Bari",
      "photoUrl": "https://lh3.googleusercontent.com/a-/AOh14Gi63QYmB0IpHlTGDpnIp177mO5UfCMQzxIj0VkiwQ=s64",
      "userId": "15037366419685538600"
     },
     "user_tz": 240
    },
    "id": "A2fiApL1iQes",
    "outputId": "e482736b-f03b-4ea4-a3d4-1f9e3b25df03"
   },
   "outputs": [],
   "source": [
    "#We are going to be Using a 2 sample t test. \n",
    "#First, let's check for outliers and the spread of sepal width data between species\n",
    "\n",
    "df1 = df[(df['species']=='versicolor') | (df['species']=='virginica')]\n",
    "df2 = df1[['sepal_width', 'species']]\n",
    "df3 = df2.groupby(\"species\")\n",
    "df3.boxplot()"
   ]
  },
  {
   "cell_type": "code",
   "execution_count": null,
   "metadata": {
    "colab": {
     "base_uri": "https://localhost:8080/"
    },
    "executionInfo": {
     "elapsed": 419,
     "status": "ok",
     "timestamp": 1616525804913,
     "user": {
      "displayName": "Usama Bari",
      "photoUrl": "https://lh3.googleusercontent.com/a-/AOh14Gi63QYmB0IpHlTGDpnIp177mO5UfCMQzxIj0VkiwQ=s64",
      "userId": "15037366419685538600"
     },
     "user_tz": 240
    },
    "id": "GIgqHrqvjm_u",
    "outputId": "3b7c0d9e-6bd4-4ffc-9946-2d453fb7841a"
   },
   "outputs": [],
   "source": [
    "#Here, we can see that our samples have approximately the same spread but we do have outliers in the Virginica species. \n",
    "#We can try to reduce the effect of these ouliers on our data by scaling our data using a square root.\n",
    "\n",
    "versicolor = \n",
    "virginica = \n",
    "\n",
    "x = np.std(versicolor)\n",
    "y = np.std(virginica)\n",
    "\n",
    "print(x)\n",
    "print(y)\n",
    "\n",
    "sc.ttest_ind()"
   ]
  },
  {
   "cell_type": "markdown",
   "metadata": {
    "id": "hCU8PbeXmWCW"
   },
   "source": [
    "## Robberies in Toronto\n",
    "\n",
    "Download the Robberies in Toronto Data Set from this link (https://data.torontopolice.on.ca/datasets/robbery-1\n",
    ") and read it into a DataFrame. Use an appropriate test to see if whether the Robbery occured on a weekend affected whether the Robbery would occur in the Day or in the Night. \n",
    "\n",
    "**HINT:** You may assume that day hours are from 6 am to 6 pm. Before carrying out your analysis, you must modify your data frame such that each row has a column saying whether the crime occured over the weekend or not as well as a column saying whether the crime occured during the day or night."
   ]
  },
  {
   "cell_type": "code",
   "execution_count": null,
   "metadata": {
    "colab": {
     "base_uri": "https://localhost:8080/",
     "height": 383
    },
    "executionInfo": {
     "elapsed": 585,
     "status": "ok",
     "timestamp": 1616525967138,
     "user": {
      "displayName": "Usama Bari",
      "photoUrl": "https://lh3.googleusercontent.com/a-/AOh14Gi63QYmB0IpHlTGDpnIp177mO5UfCMQzxIj0VkiwQ=s64",
      "userId": "15037366419685538600"
     },
     "user_tz": 240
    },
    "id": "xrQZ0OZGjpbq",
    "outputId": "8f9ec304-e067-4fa7-bc93-dbf69a5c4482"
   },
   "outputs": [],
   "source": [
    "#Read CSV"
   ]
  },
  {
   "cell_type": "code",
   "execution_count": null,
   "metadata": {
    "colab": {
     "base_uri": "https://localhost:8080/",
     "height": 194
    },
    "executionInfo": {
     "elapsed": 2597,
     "status": "ok",
     "timestamp": 1616525974646,
     "user": {
      "displayName": "Usama Bari",
      "photoUrl": "https://lh3.googleusercontent.com/a-/AOh14Gi63QYmB0IpHlTGDpnIp177mO5UfCMQzxIj0VkiwQ=s64",
      "userId": "15037366419685538600"
     },
     "user_tz": 240
    },
    "id": "2uVzZDnyVfle",
    "outputId": "c2bfa33b-6604-45ca-c621-8c62d03e9667"
   },
   "outputs": [],
   "source": [
    "#Create a column that determines if the crime was commited on a weekday or during the weekend\n",
    "\n"
   ]
  },
  {
   "cell_type": "code",
   "execution_count": null,
   "metadata": {
    "colab": {
     "base_uri": "https://localhost:8080/",
     "height": 194
    },
    "executionInfo": {
     "elapsed": 1112,
     "status": "ok",
     "timestamp": 1616526104701,
     "user": {
      "displayName": "Usama Bari",
      "photoUrl": "https://lh3.googleusercontent.com/a-/AOh14Gi63QYmB0IpHlTGDpnIp177mO5UfCMQzxIj0VkiwQ=s64",
      "userId": "15037366419685538600"
     },
     "user_tz": 240
    },
    "id": "vAYzRJ0fWm08",
    "outputId": "fe1bd227-17fe-4de2-92ba-32dd6f9d65a5"
   },
   "outputs": [],
   "source": [
    "#Create a column to determine if the robbery was happening during day or night \n",
    "\n"
   ]
  },
  {
   "cell_type": "code",
   "execution_count": null,
   "metadata": {
    "colab": {
     "base_uri": "https://localhost:8080/"
    },
    "executionInfo": {
     "elapsed": 608,
     "status": "ok",
     "timestamp": 1616526107099,
     "user": {
      "displayName": "Usama Bari",
      "photoUrl": "https://lh3.googleusercontent.com/a-/AOh14Gi63QYmB0IpHlTGDpnIp177mO5UfCMQzxIj0VkiwQ=s64",
      "userId": "15037366419685538600"
     },
     "user_tz": 240
    },
    "id": "hgwSO8ugZCnv",
    "outputId": "27a9b3ad-0fa0-43ca-fc76-80a8be3b14b2"
   },
   "outputs": [],
   "source": [
    "#Create Contingency Table (use pd.crosstab) to see how values are spread between weekend and weekday as well\n",
    "# as day or night\n"
   ]
  },
  {
   "cell_type": "code",
   "execution_count": null,
   "metadata": {
    "colab": {
     "base_uri": "https://localhost:8080/"
    },
    "executionInfo": {
     "elapsed": 348,
     "status": "ok",
     "timestamp": 1616526302913,
     "user": {
      "displayName": "Usama Bari",
      "photoUrl": "https://lh3.googleusercontent.com/a-/AOh14Gi63QYmB0IpHlTGDpnIp177mO5UfCMQzxIj0VkiwQ=s64",
      "userId": "15037366419685538600"
     },
     "user_tz": 240
    },
    "id": "JB2I_oHWdyIq",
    "outputId": "2e0e1a10-d443-4761-9536-ec62126a2282"
   },
   "outputs": [],
   "source": [
    "#Running Chi Square Test\n",
    "\n",
    "#use - sc.chi2_contingency()\n"
   ]
  },
  {
   "cell_type": "markdown",
   "metadata": {
    "id": "m8dqLnujefzS"
   },
   "source": [
    "***Since our P value is less than 0.05 we can reject the null at 95% confidence and say that a Robbery occurring on a weekend affects whether the Robbery occurs in the Day or in the Night.***"
   ]
  },
  {
   "cell_type": "markdown",
   "metadata": {
    "id": "qa49MLrop1rz"
   },
   "source": [
    "## Stroke Prediction\n",
    "\n",
    "We are interested in creating a model that can predict someone's BMI based on certain features. Use the appropriate test to determine if Hypertension and whether someone has been married or not affects their BMI."
   ]
  },
  {
   "cell_type": "code",
   "execution_count": null,
   "metadata": {
    "colab": {
     "base_uri": "https://localhost:8080/",
     "height": 195
    },
    "executionInfo": {
     "elapsed": 446,
     "status": "ok",
     "timestamp": 1616527601101,
     "user": {
      "displayName": "Usama Bari",
      "photoUrl": "https://lh3.googleusercontent.com/a-/AOh14Gi63QYmB0IpHlTGDpnIp177mO5UfCMQzxIj0VkiwQ=s64",
      "userId": "15037366419685538600"
     },
     "user_tz": 240
    },
    "id": "3iYGjbg-iOTO",
    "outputId": "f384466a-a2a8-40b8-aae3-de248c7d9c3d"
   },
   "outputs": [],
   "source": [
    "#read the stroke dataset "
   ]
  },
  {
   "cell_type": "code",
   "execution_count": null,
   "metadata": {
    "colab": {
     "base_uri": "https://localhost:8080/",
     "height": 166
    },
    "executionInfo": {
     "elapsed": 566,
     "status": "ok",
     "timestamp": 1616532765510,
     "user": {
      "displayName": "Usama Bari",
      "photoUrl": "https://lh3.googleusercontent.com/a-/AOh14Gi63QYmB0IpHlTGDpnIp177mO5UfCMQzxIj0VkiwQ=s64",
      "userId": "15037366419685538600"
     },
     "user_tz": 240
    },
    "id": "p1MKonwb12Q0",
    "outputId": "40242f7c-283b-489a-ae2e-f71cd2a41b65"
   },
   "outputs": [],
   "source": [
    "#Use sm.stats.anova_lm()"
   ]
  },
  {
   "cell_type": "code",
   "execution_count": null,
   "metadata": {
    "id": "ZJ7puyHl3Hig"
   },
   "outputs": [],
   "source": []
  },
  {
   "cell_type": "code",
   "execution_count": null,
   "metadata": {
    "id": "HYnGkWey3dg7"
   },
   "outputs": [],
   "source": []
  }
 ],
 "metadata": {
  "colab": {
   "authorship_tag": "ABX9TyMglIwPjIujDvNqf7roTKkp",
   "collapsed_sections": [],
   "name": "4.2_Hypothesis_Testing_Workshop_Solution.ipynb",
   "provenance": [
    {
     "file_id": "1XeEyws80IgbJUTAYxORGfded1B_PzY0A",
     "timestamp": 1616476367973
    }
   ],
   "toc_visible": true
  },
  "kernelspec": {
   "display_name": "Python 3 (ipykernel)",
   "language": "python",
   "name": "python3"
  },
  "language_info": {
   "codemirror_mode": {
    "name": "ipython",
    "version": 3
   },
   "file_extension": ".py",
   "mimetype": "text/x-python",
   "name": "python",
   "nbconvert_exporter": "python",
   "pygments_lexer": "ipython3",
   "version": "3.8.11"
  }
 },
 "nbformat": 4,
 "nbformat_minor": 1
}
