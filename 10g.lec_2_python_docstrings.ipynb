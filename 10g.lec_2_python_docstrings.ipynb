{
 "cells": [
  {
   "cell_type": "markdown",
   "metadata": {},
   "source": [
    "# Docstrings\n",
    "\n",
    "Python has a system for adding comments to functions, modules, etc. called *docstrings*.\n",
    "\n",
    "While there are many formats for docstrings, we will use this format:\n",
    "\n",
    "\"\"\"[Summary]\n",
    "\n",
    ":param [ParamName]: [ParamDescription], defaults to [DefaultParamVal]\n",
    ":type [ParamName]: [ParamType](, optional)\n",
    "...\n",
    ":raises [ErrorType]: [ErrorDescription]\n",
    "...\n",
    ":return: [ReturnDescription]\n",
    ":rtype: [ReturnType]\n",
    "\"\"\"\n",
    "\n",
    "The nice thing about docstrings is that they are available at run-time.\n",
    "\n",
    "Try running this"
   ]
  },
  {
   "cell_type": "code",
   "execution_count": 4,
   "metadata": {},
   "outputs": [],
   "source": [
    "def square(x):\n",
    "    \"\"\"\n",
    "    This function squares its argument\n",
    "\n",
    "    :param [x]: Number to be raised to the Second Power\n",
    "    :type [x]: int or float\n",
    "    :raises [ErrorType]\n",
    "\n",
    "    ...\n",
    "    :return: The argument x raised to the power of two\n",
    "    :rtype: int if x is int, float if x is float\n",
    "    \"\"\"\n",
    "    return x**2"
   ]
  },
  {
   "cell_type": "code",
   "execution_count": 5,
   "metadata": {},
   "outputs": [
    {
     "data": {
      "text/plain": [
       "'\\n    This function squares its argument\\n\\n    :param [x]: Number to be raised to the Second Power\\n    :type [x]: int or float\\n    :raises [ErrorType]\\n\\n    ...\\n    :return: The argument x raised to the power of two\\n    :rtype: int if x is int, float if x is float\\n    '"
      ]
     },
     "execution_count": 5,
     "metadata": {},
     "output_type": "execute_result"
    }
   ],
   "source": [
    "square.__doc__"
   ]
  },
  {
   "cell_type": "markdown",
   "metadata": {},
   "source": [
    "We can view the docstring of a function using:"
   ]
  },
  {
   "cell_type": "code",
   "execution_count": 3,
   "metadata": {},
   "outputs": [
    {
     "name": "stdout",
     "output_type": "stream",
     "text": [
      "Help on function square in module __main__:\n",
      "\n",
      "square(x)\n",
      "    This function squares its argument\n",
      "    \n",
      "    :param [x]: Number to be raised to the Second Power\n",
      "    :type [x]: int or float\n",
      "    \n",
      "    ...\n",
      "    :return: The argument x raised to the power of two\n",
      "    :rtype: int if x is int, float if x is float\n",
      "\n"
     ]
    }
   ],
   "source": [
    "# docstring as a function\n",
    "\n",
    "square?\n",
    "help(square)"
   ]
  },
  {
   "cell_type": "markdown",
   "metadata": {},
   "source": [
    "Understanding how to read docstrings will be useful when you use packages and other functions that you aren't familiar with."
   ]
  }
 ],
 "metadata": {
  "file_extension": ".py",
  "kernelspec": {
   "display_name": "Python 3 (ipykernel)",
   "language": "python",
   "name": "python3"
  },
  "language_info": {
   "codemirror_mode": {
    "name": "ipython",
    "version": 3
   },
   "file_extension": ".py",
   "mimetype": "text/x-python",
   "name": "python",
   "nbconvert_exporter": "python",
   "pygments_lexer": "ipython3",
   "version": "3.9.13"
  },
  "metadata": {
   "interpreter": {
    "hash": "63fd5069d213b44bf678585dea6b12cceca9941eaf7f819626cde1f2670de90d"
   }
  },
  "mimetype": "text/x-python",
  "name": "python",
  "npconvert_exporter": "python",
  "pygments_lexer": "ipython3",
  "version": 3
 },
 "nbformat": 4,
 "nbformat_minor": 2
}
