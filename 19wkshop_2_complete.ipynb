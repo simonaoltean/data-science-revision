{
 "cells": [
  {
   "cell_type": "markdown",
   "metadata": {
    "id": "bgbjt8DR9QEx"
   },
   "source": [
    "## Interview Questions\n",
    "\n",
    "### Exercise 1: Reverse Words in a String\n",
    "\n",
    "Given a string, you need to reverse the order of characters in each word within a sentence while still preserving whitespace and initial word order.\n",
    "\n",
    "```\n",
    "Input: \"Let's take LeetCode contest\"\n",
    "Output: \"s'teL ekat edoCteeL tsetnoc\"\n",
    "```"
   ]
  },
  {
   "cell_type": "code",
   "execution_count": 93,
   "metadata": {
    "id": "7PJSUUlR8KyP"
   },
   "outputs": [
    {
     "data": {
      "text/plain": [
       "\"s'teL ekat edoCteeL tsetnoc\""
      ]
     },
     "execution_count": 93,
     "metadata": {},
     "output_type": "execute_result"
    }
   ],
   "source": [
    "# exercise 1\n",
    "Input = \"Let's take LeetCode contest\"\n",
    "\n",
    "\n",
    "def reverse_(string):\n",
    "    a = string.split(' ')\n",
    "    b = []\n",
    "    for i in a:\n",
    "        x = i[::-1]\n",
    "        b.append(x)\n",
    "        b.append(' ')\n",
    "    b.pop()\n",
    "    \n",
    "    Output = ''\n",
    "    for i in range(len(b)):\n",
    "        Output += b[i]\n",
    "    return Output\n",
    "\n",
    "reverse_(Input)"
   ]
  },
  {
   "cell_type": "markdown",
   "metadata": {
    "id": "J6i-4ZjuDGZE"
   },
   "source": [
    "### Exercise 2: Length of Last Word\n",
    "\n",
    "Given a string s consists of some words separated by spaces, return the length of the last word in the string. If the last word does not exist, return 0.\n",
    "\n",
    "A word is a maximal substring consisting of non-space characters only.\n",
    "\n",
    "```\n",
    "Input: s = \"Hello World\"\n",
    "Output: 5\n",
    "```"
   ]
  },
  {
   "cell_type": "code",
   "execution_count": 11,
   "metadata": {
    "id": "Myybbgp9-rav"
   },
   "outputs": [
    {
     "data": {
      "text/plain": [
       "5"
      ]
     },
     "execution_count": 11,
     "metadata": {},
     "output_type": "execute_result"
    }
   ],
   "source": [
    "# exercise 2\n",
    "\n",
    "s = \"Hello World\"\n",
    "\n",
    "def length_(x):\n",
    "    t = x.split(\" \")\n",
    "    answer = len(t[-1])\n",
    "    if answer != 0:\n",
    "        return answer\n",
    "    else:\n",
    "        return 0\n",
    "\n",
    "length_(s)"
   ]
  },
  {
   "cell_type": "markdown",
   "metadata": {
    "id": "MafgWwBzE7WF"
   },
   "source": [
    "### Exercise 3: Plus One\n",
    "\n",
    "Given a non-empty array of decimal digits representing a non-negative integer, increment one to the integer.\n",
    "\n",
    "The digits are stored such that the most significant digit is at the head of the list, and each element in the array contains a single digit.\n",
    "\n",
    "You may assume the integer does not contain any leading zero, except the number 0 itself.\n",
    "\n",
    "```\n",
    "Input: digits = [1,2,3]\n",
    "Output: [1,2,4]\n",
    "Explanation: The array represents the integer 123.\n",
    "\n",
    "Input: digits = [4,3,2,1]\n",
    "Output: [4,3,2,2]\n",
    "Explanation: The array represents the integer 4321.\n",
    "\n",
    "Input: digits = [0]\n",
    "Output: [1]\n",
    "```"
   ]
  },
  {
   "cell_type": "code",
   "execution_count": 74,
   "metadata": {},
   "outputs": [],
   "source": [
    "import numpy as np"
   ]
  },
  {
   "cell_type": "code",
   "execution_count": 94,
   "metadata": {},
   "outputs": [],
   "source": [
    "q = np.array([1,2,3])\n",
    "r = np.array([4,3,2,1])\n",
    "s = np.zeros((1), dtype=int)"
   ]
  },
  {
   "cell_type": "code",
   "execution_count": 95,
   "metadata": {
    "id": "4DukVkvyG-n5"
   },
   "outputs": [],
   "source": [
    "# exercise 3\n",
    "def plus_one(x):\n",
    "    print(f\"Input: {x}\")    \n",
    "    y = x\n",
    "    y[-1] += 1\n",
    "    print(f\"Output: {y}\")\n",
    "\n",
    "    return y"
   ]
  },
  {
   "cell_type": "code",
   "execution_count": 96,
   "metadata": {},
   "outputs": [
    {
     "name": "stdout",
     "output_type": "stream",
     "text": [
      "Input: [1 2 3]\n",
      "Output: [1 2 4]\n"
     ]
    },
    {
     "data": {
      "text/plain": [
       "array([1, 2, 4])"
      ]
     },
     "execution_count": 96,
     "metadata": {},
     "output_type": "execute_result"
    }
   ],
   "source": [
    "plus_one(q)"
   ]
  },
  {
   "cell_type": "code",
   "execution_count": 97,
   "metadata": {},
   "outputs": [
    {
     "name": "stdout",
     "output_type": "stream",
     "text": [
      "Input: [4 3 2 1]\n",
      "Output: [4 3 2 2]\n"
     ]
    },
    {
     "data": {
      "text/plain": [
       "array([4, 3, 2, 2])"
      ]
     },
     "execution_count": 97,
     "metadata": {},
     "output_type": "execute_result"
    }
   ],
   "source": [
    "plus_one(r)"
   ]
  },
  {
   "cell_type": "code",
   "execution_count": 98,
   "metadata": {},
   "outputs": [
    {
     "name": "stdout",
     "output_type": "stream",
     "text": [
      "Input: [0]\n",
      "Output: [1]\n"
     ]
    },
    {
     "data": {
      "text/plain": [
       "array([1])"
      ]
     },
     "execution_count": 98,
     "metadata": {},
     "output_type": "execute_result"
    }
   ],
   "source": [
    "plus_one(s)"
   ]
  },
  {
   "cell_type": "markdown",
   "metadata": {
    "id": "8qpJp_3-GEod"
   },
   "source": [
    "### Exercise 4: Capitalize!\n",
    "\n",
    "You are asked to ensure that the first and last names of people begin with a capital letter in their passports. For example, alison heck should be capitalised correctly as Alison Heck.\n",
    "\n",
    "Given a full name, your task is to capitalize the name appropriately.\n",
    "\n",
    "Input Format\n",
    "\n",
    "A single line of input containing the full name, .\n",
    "\n",
    "Constraints\n",
    "\n",
    "The string consists of alphanumeric characters and spaces.\n",
    "Note: in a word only the first character is capitalized. Example 12abc when capitalized remains 12abc.\n",
    "\n",
    "Output Format\n",
    "\n",
    "Print the capitalized string\n",
    "\n",
    "```\n",
    "Sample Input\n",
    "chris alan\n",
    "\n",
    "Sample Output\n",
    "Chris Alan\n",
    "```"
   ]
  },
  {
   "cell_type": "code",
   "execution_count": 90,
   "metadata": {
    "id": "3NnBoV4sK_gE"
   },
   "outputs": [
    {
     "data": {
      "text/plain": [
       "'Chris Alan'"
      ]
     },
     "execution_count": 90,
     "metadata": {},
     "output_type": "execute_result"
    }
   ],
   "source": [
    "# exercise 4\n",
    "sample = \"chris alan\"\n",
    "\n",
    "def capitalize_(x):\n",
    "    y = x.split()\n",
    "    z = []\n",
    "    Output = ''\n",
    "    for i in y:\n",
    "        z.append(i.capitalize())\n",
    "        z.append(' ')\n",
    "    z.pop()\n",
    "    for i in range(len(z)):\n",
    "        Output += z[i]\n",
    "    return Output\n",
    "\n",
    "capitalize_(sample)"
   ]
  },
  {
   "cell_type": "markdown",
   "metadata": {
    "id": "jgRi472DNQ9O"
   },
   "source": [
    "### Exercise 5: sWAP cASE\n",
    "\n",
    "You are given a string and your task is to swap cases. In other words, convert all lowercase letters to uppercase letters and vice versa.\n",
    "\n",
    "```\n",
    "Www.HackerRank.com → wWW.hACKERrANK.COM\n",
    "Pythonist 2 → pYTHONIST 2\n",
    "```"
   ]
  },
  {
   "cell_type": "code",
   "execution_count": 105,
   "metadata": {
    "id": "I_DfipGOL1RV"
   },
   "outputs": [
    {
     "data": {
      "text/plain": [
       "'wWW.hACKERrANK.COM'"
      ]
     },
     "execution_count": 105,
     "metadata": {},
     "output_type": "execute_result"
    }
   ],
   "source": [
    "# exercise 5\n",
    "\n",
    "def sWAP_cASE(x):\n",
    "    a = list(x)\n",
    "    result = ''\n",
    "    for i in range(len(a)):\n",
    "        if a[i].upper() == a[i]:\n",
    "            a[i] = a[i].lower()\n",
    "        elif a[i].lower() == a[i]:\n",
    "            a[i] = a[i].upper()\n",
    "    for i in range(len(a)):\n",
    "        result += a[i]\n",
    "    return result\n",
    "    \n",
    "sWAP_cASE(\"Www.HackerRank.com\")"
   ]
  },
  {
   "cell_type": "code",
   "execution_count": 106,
   "metadata": {},
   "outputs": [
    {
     "data": {
      "text/plain": [
       "'pYTHONIST 2'"
      ]
     },
     "execution_count": 106,
     "metadata": {},
     "output_type": "execute_result"
    }
   ],
   "source": [
    "sWAP_cASE(\"Pythonist 2\")"
   ]
  }
 ],
 "metadata": {
  "colab": {
   "collapsed_sections": [],
   "name": "Workshop_Intro_to_Numpy_Pandas.ipynb",
   "provenance": [
    {
     "file_id": "17rm0JUpeerGmU9Qlp4w7JsmyCfhtD-ce",
     "timestamp": 1613133385584
    },
    {
     "file_id": "1sQqzpgtaK8AVoTqc88cyI2MMfrMuF4rl",
     "timestamp": 1613109971015
    }
   ],
   "toc_visible": true
  },
  "kernelspec": {
   "display_name": "Python 3 (ipykernel)",
   "language": "python",
   "name": "python3"
  },
  "language_info": {
   "codemirror_mode": {
    "name": "ipython",
    "version": 3
   },
   "file_extension": ".py",
   "mimetype": "text/x-python",
   "name": "python",
   "nbconvert_exporter": "python",
   "pygments_lexer": "ipython3",
   "version": "3.9.12"
  },
  "metadata": {
   "interpreter": {
    "hash": "63fd5069d213b44bf678585dea6b12cceca9941eaf7f819626cde1f2670de90d"
   }
  }
 },
 "nbformat": 4,
 "nbformat_minor": 1
}
