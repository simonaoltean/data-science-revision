{
 "cells": [
  {
   "cell_type": "markdown",
   "metadata": {},
   "source": [
    "## Exercise 1: String Manipulation\n",
    "\n",
    "Create the string \"one two 3 4 five 6\" and save it as numbers\n",
    "\n"
   ]
  },
  {
   "cell_type": "code",
   "execution_count": 17,
   "metadata": {},
   "outputs": [],
   "source": [
    "# create the string here\n",
    "numbers = \"one two 3 4 five 6\""
   ]
  },
  {
   "cell_type": "code",
   "execution_count": 18,
   "metadata": {},
   "outputs": [
    {
     "name": "stdout",
     "output_type": "stream",
     "text": [
      "['one', 'two', '3', '4', 'five', '6']\n"
     ]
    }
   ],
   "source": [
    "# Run the line, numbers.split() and save the result as X and print it.\n",
    "X = numbers.split()\n",
    "print(X)"
   ]
  },
  {
   "cell_type": "markdown",
   "metadata": {},
   "source": [
    "The previous line created a list from the words and numbers that was in the original string.\n",
    "\n",
    "Now create a dictionary with the key/value pairs ('one': 1, 'two': 2, 'three': 3, 'four': 4, 'five': 5, 'six': 6) and name it 'values'."
   ]
  },
  {
   "cell_type": "code",
   "execution_count": 19,
   "metadata": {},
   "outputs": [
    {
     "name": "stdout",
     "output_type": "stream",
     "text": [
      "{'one': 1, 'two': 2, 'three': 3, 'four': 4, 'five': 5, 'six': 6}\n"
     ]
    }
   ],
   "source": [
    "values = {'one': 1, 'two': 2, 'three': 3, 'four': 4, 'five': 5, 'six': 6}\n",
    "print(values)"
   ]
  },
  {
   "cell_type": "markdown",
   "metadata": {},
   "source": [
    "## Exercise 2: Debugging\n",
    "\n",
    "Below you will find sample code with a few bugs in them. Identify where the bugs are and write the debugged code in the code block and run it."
   ]
  },
  {
   "cell_type": "markdown",
   "metadata": {},
   "source": [
    "### 2.1\n",
    "Write a loop that finds all even entries from 0 to 20 (inclusive) and prints them.\n",
    "\n",
    "for i in range(0, 20, -3):\n",
    "    if i % 2 = 0\n",
    "    print (i)"
   ]
  },
  {
   "cell_type": "code",
   "execution_count": 20,
   "metadata": {},
   "outputs": [
    {
     "name": "stdout",
     "output_type": "stream",
     "text": [
      "0\n",
      "2\n",
      "4\n",
      "6\n",
      "8\n",
      "10\n",
      "12\n",
      "14\n",
      "16\n",
      "18\n",
      "20\n"
     ]
    }
   ],
   "source": [
    "#2.1\n",
    "for i in range(0, 21,2): \n",
    "    if i % 2 == 0:\n",
    "        print(i)"
   ]
  },
  {
   "cell_type": "markdown",
   "metadata": {},
   "source": [
    "### 2.2\n",
    "\n",
    "Write a loop that iterates over a list of strings and prints \"True\" if the string is a palindrome and \"False\" if the string isn't. A palindrome is a word that can be read the same way forward as it can backwards. (Ex. noon, level, civic)\n",
    "\n",
    "```\n",
    "Words = ['ball', 'kayak', 'song', 'python', 'madam', 'racecar', 'noon']\n",
    "for word in words:\n",
    "    result = 'False'\n",
    "    for i in range(len(word)/2):\n",
    "        if word[i] = word[-1-i]:\n",
    "                                  result = 'True'\n",
    "else:\n",
    "            result = 'False'\n",
    "        print (Result)\n",
    "```"
   ]
  },
  {
   "cell_type": "code",
   "execution_count": 21,
   "metadata": {},
   "outputs": [
    {
     "name": "stdout",
     "output_type": "stream",
     "text": [
      "False\n",
      "True\n",
      "False\n",
      "False\n",
      "True\n",
      "True\n",
      "True\n"
     ]
    }
   ],
   "source": [
    "#2.2\n",
    "Words = ['ball', 'kayak', 'song', 'python', 'madam', 'racecar', 'noon']\n",
    "for word in Words:\n",
    "    result = 'False'\n",
    "    for i in range(len(word)//2):\n",
    "        if word[i] == word[-1-i]:\n",
    "            result = 'True'\n",
    "        else:\n",
    "            result = 'False'\n",
    "    print (result)"
   ]
  },
  {
   "cell_type": "markdown",
   "metadata": {},
   "source": [
    "### 2.3\n",
    "\n",
    "Edit the code to create a list of the first 10 entries of the Fibonacci Sequence and print it. The Fibonacci Sequence is a sequence of numbers starting from 1, where consecutive numbers are obtained by summing the previous two.\n",
    "\n",
    "Your Output should be:\n",
    "\n",
    "`[1, 1, 2, 3, 5, 8, 13, 21, 34, 55]`\n",
    "\n",
    "```\n",
    "Fibonacci = [1,1]\n",
    "for i in range (1,5) and i>4:\n",
    "    x = Fibonacci[i] + Fibonacci[i-1]\n",
    "    Fibonacci.append(i)\n",
    "\n",
    "print (Fibonacci)\n",
    "```"
   ]
  },
  {
   "cell_type": "code",
   "execution_count": 22,
   "metadata": {},
   "outputs": [
    {
     "name": "stdout",
     "output_type": "stream",
     "text": [
      "[1, 1, 2, 3, 5, 8, 13, 21, 34, 55]\n"
     ]
    }
   ],
   "source": [
    "#2.3\n",
    "[1, 1, 2, 3, 5, 8, 13, 21, 34, 55]\n",
    "\n",
    "Fibonacci = [1,1]\n",
    "for i in range (1,9):\n",
    "    x = Fibonacci[i] + Fibonacci[i-1]\n",
    "    Fibonacci.append(x)\n",
    "\n",
    "print (Fibonacci)"
   ]
  },
  {
   "cell_type": "markdown",
   "metadata": {},
   "source": [
    "### 2.4\n",
    "\n",
    "Create a loop that will go through a string and count how many of each vowel the string contains:\n",
    "\n",
    "```\n",
    "string = 'cauliflower is very healthy'\n",
    "\n",
    "a = 0\n",
    "e = 0\n",
    "i = 0\n",
    "o = 0\n",
    "u = 0\n",
    "y = 0\n",
    "for letter in string:\n",
    "  if letter = 'a':\n",
    "    o = o + 1\n",
    "  if letter == 'b':\n",
    "    e = e + 1\n",
    "  if letter == 'i':\n",
    "    i = i + 1\n",
    "  if letter == 'o':\n",
    "    a = a + 1\n",
    "  else:\n",
    "    u = u + 1\n",
    "print(f\"There are {a} a's, {e} e's, {i} i's, {o} o's, {u} u's & {y} y's in the string\")\n",
    "```"
   ]
  },
  {
   "cell_type": "code",
   "execution_count": 4,
   "metadata": {},
   "outputs": [
    {
     "name": "stdout",
     "output_type": "stream",
     "text": [
      "There are 2 a's, 3 e's, 2 i's, 1 o's, 1 u's & 2 y's in the string\n"
     ]
    }
   ],
   "source": [
    "#2.4\n",
    "string = 'cauliflower is very healthy'\n",
    "\n",
    "a = 0\n",
    "e = 0\n",
    "i = 0\n",
    "o = 0\n",
    "u = 0\n",
    "y = 0\n",
    "\n",
    "for letter in string:\n",
    "    if letter == 'a':\n",
    "        a = a + 1\n",
    "    elif letter == 'e':\n",
    "        e = e + 1\n",
    "    elif letter == 'i':\n",
    "        i = i + 1\n",
    "    elif letter == 'o':\n",
    "        o = o + 1\n",
    "    elif letter == 'u':\n",
    "        u = u + 1\n",
    "    elif letter == 'y':\n",
    "        y = y + 1\n",
    "        \n",
    "print(f\"There are {a} a's, {e} e's, {i} i's, {o} o's, {u} u's & {y} y's in the string\")"
   ]
  },
  {
   "cell_type": "markdown",
   "metadata": {},
   "source": [
    "## Exercise 3: Identifying top countries\n",
    "\n",
    "Using your solution to **Exercise 7 (min workshop 1.3)**, write a function that returns the top 3 countries by number of users"
   ]
  },
  {
   "cell_type": "code",
   "execution_count": 3,
   "metadata": {},
   "outputs": [
    {
     "data": {
      "text/plain": [
       "['IT', 'CA', 'US']"
      ]
     },
     "execution_count": 3,
     "metadata": {},
     "output_type": "execute_result"
    }
   ],
   "source": [
    "# exercise 3\n",
    "d = {'IT': 2, 'UK': 1, 'CA': 3, 'FR': 1, 'US': 3}\n",
    "\n",
    "def top_users(x):\n",
    "    values = list(set(x.values()))\n",
    "    top = []\n",
    "    while len(top) < 3:\n",
    "        for item in x:\n",
    "            if x[item] == values[-1]:\n",
    "                top.append(item)\n",
    "            elif x[item] == values[-2]:\n",
    "                top.append(item)\n",
    "    return top\n",
    "\n",
    "top_users(d)"
   ]
  },
  {
   "cell_type": "markdown",
   "metadata": {},
   "source": [
    "## Exercise 4: Century\n",
    "\n",
    "Write a function that takes a year and returns its corresponding century.\n",
    "\n",
    "### Examples\n",
    "\n",
    "```\n",
    "century_from_year(2005) ➞ 21\n",
    "\n",
    "century_from_year(1850) ➞ 19\n",
    "\n",
    "century_from_year(-332) ➞ -4\n",
    "\n",
    "century_from_year(55) ➞ 1\n",
    "\n",
    "century_from_year(-65) ➞ -1\n",
    "```"
   ]
  },
  {
   "cell_type": "code",
   "execution_count": 2,
   "metadata": {},
   "outputs": [
    {
     "name": "stdout",
     "output_type": "stream",
     "text": [
      "The century for -2000 is: -21\n",
      "The century for 2000 is: 20\n"
     ]
    }
   ],
   "source": [
    "# exercise 4\n",
    "def century_from_year(x):\n",
    "    if x >= 0:\n",
    "        result = (x-1)//100+1\n",
    "    else:\n",
    "        result = (x)//100\n",
    "    return result\n",
    "\n",
    "print(f\"The century for -2000 is: {century_from_year(-2001)}\")\n",
    "print(f\"The century for 2000 is: {century_from_year(2000)}\")"
   ]
  },
  {
   "cell_type": "markdown",
   "metadata": {},
   "source": [
    "## Exercise 5: Factorial\n",
    "\n",
    "Write a function that computes the factorial of a given number. In math the factorial of a non negative integer number is the product of itself with all integers less than itself starting from 1. \n",
    "\n",
    "Ex. \n",
    "\n",
    "$$4! = 4*3*2*1$$\n",
    "$$4! = 24$$\n",
    "\n",
    "\n",
    "```\n",
    "factorial(4) --> 24\n",
    "```"
   ]
  },
  {
   "cell_type": "code",
   "execution_count": 3,
   "metadata": {},
   "outputs": [
    {
     "data": {
      "text/plain": [
       "24"
      ]
     },
     "execution_count": 3,
     "metadata": {},
     "output_type": "execute_result"
    }
   ],
   "source": [
    "# exercise 5\n",
    "def factorial(x):\n",
    "    product = x\n",
    "    for i in range(x-1,0,-1):\n",
    "        product *= i\n",
    "    return product\n",
    "\n",
    "factorial(4)"
   ]
  },
  {
   "cell_type": "code",
   "execution_count": null,
   "metadata": {},
   "outputs": [],
   "source": []
  }
 ],
 "metadata": {
  "file_extension": ".py",
  "kernelspec": {
   "display_name": "Python 3 (ipykernel)",
   "language": "python",
   "name": "python3"
  },
  "language_info": {
   "codemirror_mode": {
    "name": "ipython",
    "version": 3
   },
   "file_extension": ".py",
   "mimetype": "text/x-python",
   "name": "python",
   "nbconvert_exporter": "python",
   "pygments_lexer": "ipython3",
   "version": "3.9.12"
  },
  "metadata": {
   "interpreter": {
    "hash": "63fd5069d213b44bf678585dea6b12cceca9941eaf7f819626cde1f2670de90d"
   }
  },
  "mimetype": "text/x-python",
  "name": "python",
  "npconvert_exporter": "python",
  "pygments_lexer": "ipython3",
  "version": 3
 },
 "nbformat": 4,
 "nbformat_minor": 2
}
