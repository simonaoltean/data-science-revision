{
 "cells": [
  {
   "cell_type": "markdown",
   "metadata": {
    "id": "Bj-Gi0QlUfyL"
   },
   "source": [
    "# Algorithms - Recursion\n",
    "\n",
    "## Exercise 1\n",
    "\n",
    "Although merge sort has a better Big-O than selection sort, selection sort can be faster for smaller inputs.\n",
    "\n",
    "Rewrite `merge_sort(A, min_size)` such that sub-arrays smaller than an input parameter `min_size` are sorted with our `selection_sort` from the lecture `algorithms intro`.\n",
    "\n",
    "Time the difference between pure merge sort and this new algorithm. Is it faster? Why or why not?"
   ]
  },
  {
   "cell_type": "code",
   "execution_count": 69,
   "metadata": {
    "id": "KEBg1H4VWkHt"
   },
   "outputs": [
    {
     "name": "stdout",
     "output_type": "stream",
     "text": [
      "[3, 4, 5, 22, 44.4, 66.6, 111, 777]\n"
     ]
    }
   ],
   "source": [
    "# exercise 1\n",
    "\n",
    "import timeit\n",
    "start_time = timeit.default_timer()\n",
    "\n",
    "def merge(left, right):\n",
    "    res = []\n",
    "    #zip in together left and right parts\n",
    "    while left and right:\n",
    "        if left[0] < right[0]:\n",
    "            res.append(left[0]) #append to result\n",
    "            left.pop(0) #remove val we appended\n",
    "        else:\n",
    "            res.append(right[0])\n",
    "            right.pop(0)\n",
    "            \n",
    "    #Copy in remaining elements of left and right (if any)\n",
    "    for i in left:\n",
    "        res.append(i)\n",
    "    for i in right:\n",
    "        res.append(i)\n",
    "    return res\n",
    "\n",
    "    \n",
    "def linear_search(arr):\n",
    "    \"\"\"\n",
    "    Find the index of the minimum element\n",
    "    AKA argsort\n",
    "    \"\"\"\n",
    "\n",
    "    current_min = float('inf')\n",
    "    current_min_idx = 0\n",
    "    for i in range(len(arr)):\n",
    "        #print(current_min)\n",
    "        if arr[i] < current_min:\n",
    "            current_min = arr[i]\n",
    "            current_min_idx = i\n",
    "    return current_min_idx\n",
    "\n",
    "def selection_sort(arr):\n",
    "    \"\"\"Selection sort\"\"\"\n",
    "    n_sorted = 0 \n",
    "    while n_sorted < len(arr):\n",
    "        min_idx = linear_search(arr[n_sorted:]) + n_sorted\n",
    "#         print(min_idx)\n",
    "#         print(arr[n_sorted:])\n",
    "        to_swap = arr[n_sorted]\n",
    "        arr[n_sorted] = arr[min_idx]\n",
    "        arr[min_idx] = to_swap\n",
    "        n_sorted += 1\n",
    "    return arr\n",
    "\n",
    "def merge_sort(arr, min_size):\n",
    "    size = len(arr)\n",
    "    if size>=min_size and size > 1:\n",
    "        m = size // 2\n",
    "        left = merge_sort(arr[:m], min_size)\n",
    "        right = merge_sort(arr[m:], min_size)\n",
    "        return merge(left,right)\n",
    "    elif size<min_size and size>1:\n",
    "        return selection_sort(arr)\n",
    "    else:\n",
    "        return arr\n",
    "\n",
    "arr = [111,4,3,22,5,44.4,66.6,777]\n",
    "print(merge_sort(arr, 5))\n",
    "\n",
    "elapsed1 = timeit.default_timer() - start_time"
   ]
  },
  {
   "cell_type": "code",
   "execution_count": 70,
   "metadata": {},
   "outputs": [
    {
     "data": {
      "text/plain": [
       "0.00032659999988027266"
      ]
     },
     "execution_count": 70,
     "metadata": {},
     "output_type": "execute_result"
    }
   ],
   "source": [
    "elapsed1"
   ]
  },
  {
   "cell_type": "code",
   "execution_count": 71,
   "metadata": {},
   "outputs": [
    {
     "name": "stdout",
     "output_type": "stream",
     "text": [
      "[3, 4, 5, 22, 44.4, 66.6, 111, 777]\n"
     ]
    }
   ],
   "source": [
    "start_time = timeit.default_timer()\n",
    "\n",
    "def merge(left, right):\n",
    "    res = []\n",
    "    #zip in together left and right parts\n",
    "    while left and right:\n",
    "        if left[0] < right[0]:\n",
    "            res.append(left[0]) #append to result\n",
    "            left.pop(0) #remove val we appended\n",
    "        else:\n",
    "            res.append(right[0])\n",
    "            right.pop(0)\n",
    "            \n",
    "    #Copy in remaining elements of left and right (if any)\n",
    "    for i in left:\n",
    "        res.append(i)\n",
    "    for i in right:\n",
    "        res.append(i)\n",
    "    return res\n",
    "\n",
    "def merge_sort(arr):\n",
    "    size = len(arr)\n",
    "    if size > 1:\n",
    "        m = size // 2\n",
    "        left = merge_sort(arr[:m])\n",
    "        right = merge_sort(arr[m:])\n",
    "        return merge(left,right)\n",
    "    else:\n",
    "        return arr\n",
    "    \n",
    "arr = [111,4,3,22,5,44.4,66.6,777]\n",
    "print(merge_sort(arr))\n",
    "\n",
    "elapsed2 = timeit.default_timer() - start_time"
   ]
  },
  {
   "cell_type": "code",
   "execution_count": 72,
   "metadata": {},
   "outputs": [
    {
     "data": {
      "text/plain": [
       "0.00038059999997130944"
      ]
     },
     "execution_count": 72,
     "metadata": {},
     "output_type": "execute_result"
    }
   ],
   "source": [
    "elapsed2"
   ]
  },
  {
   "cell_type": "code",
   "execution_count": null,
   "metadata": {},
   "outputs": [],
   "source": [
    "# The time elapsed for the merge_sort combined with the selection_sort is faster because it saves\n",
    "# time when using the selection sort as opposed to using the normal merge_sort where the elapsed time\n",
    "# is longer when the array is of a certain length, or minimum length."
   ]
  },
  {
   "cell_type": "markdown",
   "metadata": {
    "id": "_xlEp7VWWkLL"
   },
   "source": [
    "## Exercise 2\n",
    "\n",
    "Let $A[1...n]$ be an array of $n$ distinct numbers. If $i < j$ and $A[i] > A[j]$, then the pair $(i, j)$ is called an **inversion** of $A$. \n",
    "\n",
    "In other words an inversion is a pair of unsorted elements in an array.\n",
    "\n",
    "1. List the five inversions of $[2, 3, 8, 6, 1]$ \n",
    "2. Give an algorithm that determines the number of inversions in any permutation on $n$ elements.\n",
    "- Bonus points: make your algorithm to have $O(nlog_2(n))$ in worst-case time. (Hint: Modify merge sort.) \n",
    "\n"
   ]
  },
  {
   "cell_type": "code",
   "execution_count": 17,
   "metadata": {
    "id": "8-o8CqiRWkOF"
   },
   "outputs": [
    {
     "name": "stdout",
     "output_type": "stream",
     "text": [
      "2 1\n",
      "3 1\n",
      "8 6\n",
      "8 1\n",
      "6 1\n"
     ]
    },
    {
     "data": {
      "text/plain": [
       "5"
      ]
     },
     "execution_count": 17,
     "metadata": {},
     "output_type": "execute_result"
    }
   ],
   "source": [
    "# 2.1 --->\n",
    "\n",
    "def inversions(arr):\n",
    "    res = 0\n",
    "    for i in range(len(arr)):\n",
    "        for j in range(len(arr)):\n",
    "            if j>i and arr[i]>arr[j]:\n",
    "                res+=1\n",
    "                print(arr[i], arr[j])\n",
    "    return res\n",
    "\n",
    "inversions([2,3,8,6,1])\n",
    "\n",
    "# 2.2"
   ]
  },
  {
   "cell_type": "markdown",
   "metadata": {
    "id": "7DHNJtvOUkgo"
   },
   "source": [
    "## Exercise 3: Recursive sum\n",
    "\n",
    "Write a function that uses recursion to compute the sum of an array or list of numbers\n",
    "\n",
    "```\n",
    "recursive_sum([2, 4, 5, 6, 7])\n",
    "\n",
    "output: 24\n",
    "```"
   ]
  },
  {
   "cell_type": "code",
   "execution_count": 2,
   "metadata": {
    "id": "ab0_Ewn-oTy5",
    "outputId": "73c8dd7d-faa6-4d76-f3ff-9495819e2b9d"
   },
   "outputs": [
    {
     "data": {
      "text/plain": [
       "24"
      ]
     },
     "execution_count": 2,
     "metadata": {},
     "output_type": "execute_result"
    }
   ],
   "source": [
    "# exercise 3\n",
    "\n",
    "def recursive_sum(arr):\n",
    "    if len(arr)==1:\n",
    "        return arr[0]\n",
    "    else:\n",
    "        first = arr[0]\n",
    "        arr = arr[1:]\n",
    "        return first + recursive_sum(arr)\n",
    "\n",
    "recursive_sum([2, 4, 5, 6, 7])"
   ]
  },
  {
   "cell_type": "markdown",
   "metadata": {
    "id": "LSFr3qLboTzE"
   },
   "source": [
    "## Exercise 4: Recursive denominators\n",
    "\n",
    "Write a Python program that uses recursion to find the greatest common divisor (gcd) of two integers.\n",
    "\n",
    "```\n",
    "recursive_gcd(12,14)\n",
    "\n",
    "output : 2\n",
    "```"
   ]
  },
  {
   "cell_type": "code",
   "execution_count": 11,
   "metadata": {
    "colab": {
     "base_uri": "https://localhost:8080/"
    },
    "executionInfo": {
     "elapsed": 500,
     "status": "ok",
     "timestamp": 1604976325610,
     "user": {
      "displayName": "Javad Khataei",
      "photoUrl": "https://lh3.googleusercontent.com/a-/AOh14Gj4OOPiD15D3oyUyLayCOaELp_6Bn0vwX5kdych=s64",
      "userId": "01623733572031019100"
     },
     "user_tz": 300
    },
    "id": "YoYokrfHCXt9",
    "outputId": "91d6edeb-4512-4ea7-a9e9-5ad61d9a215d"
   },
   "outputs": [
    {
     "data": {
      "text/plain": [
       "2"
      ]
     },
     "execution_count": 11,
     "metadata": {},
     "output_type": "execute_result"
    }
   ],
   "source": [
    "# exercise 4\n",
    "\n",
    "def recursive_gcd(a,b):\n",
    "    low = min(a,b)\n",
    "    high = max(a,b)\n",
    "    if low == 0:\n",
    "        return high\n",
    "    elif low == 1:\n",
    "        return 1\n",
    "    else:\n",
    "        return recursive_gcd(low,high%low)\n",
    "    \n",
    "\n",
    "recursive_gcd(12,14)"
   ]
  },
  {
   "cell_type": "markdown",
   "metadata": {
    "id": "Qy5JQQBPoTzP"
   },
   "source": [
    "## Exercise 5: Recursive power function\n",
    "\n",
    "Write a recursive function to calculate the value of 'a' to the power 'b'. \n",
    "\n",
    "```\n",
    "recursive_pow(3, 4)\n",
    "\n",
    "output: 81\n",
    "```"
   ]
  },
  {
   "cell_type": "code",
   "execution_count": 16,
   "metadata": {
    "id": "ZSL9bWWJoTzS"
   },
   "outputs": [
    {
     "data": {
      "text/plain": [
       "81"
      ]
     },
     "execution_count": 16,
     "metadata": {},
     "output_type": "execute_result"
    }
   ],
   "source": [
    "# exercise 5\n",
    "\n",
    "def recursive_pow(a,b):\n",
    "    if b == 1:\n",
    "        return a\n",
    "    elif b == 0:\n",
    "        return 0\n",
    "    else:\n",
    "        return a * recursive_pow(a, b-1)\n",
    "    \n",
    "recursive_pow(3,4)"
   ]
  },
  {
   "cell_type": "code",
   "execution_count": null,
   "metadata": {},
   "outputs": [],
   "source": []
  }
 ],
 "metadata": {
  "colab": {
   "collapsed_sections": [],
   "name": "Workshop_ Recursive _ Divide and conquer.ipynb",
   "provenance": []
  },
  "kernelspec": {
   "display_name": "Python 3 (ipykernel)",
   "language": "python",
   "name": "python3"
  },
  "language_info": {
   "codemirror_mode": {
    "name": "ipython",
    "version": 3
   },
   "file_extension": ".py",
   "mimetype": "text/x-python",
   "name": "python",
   "nbconvert_exporter": "python",
   "pygments_lexer": "ipython3",
   "version": "3.9.13"
  }
 },
 "nbformat": 4,
 "nbformat_minor": 1
}
