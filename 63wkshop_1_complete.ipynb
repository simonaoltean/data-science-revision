{
 "cells": [
  {
   "cell_type": "markdown",
   "metadata": {
    "id": "JhHe67V18V3_"
   },
   "source": [
    "\n",
    "# Algorithms - Subset - Sum Problem\n",
    "\n",
    "The *subset-sum problem*:  given a set of integers $S = \\{s_1, s_2, \\ldots, s_n\\}$ and a target number $T$, find a subset of $S$ which adds up exactly to $T$.  \n",
    "\n",
    "For example, if $S = \\{1,2,5, 9, 10\\}$, there is a subset that adds up to $T = 22$, but not to $T = 23$.  Complete the following tasks related to this problem."
   ]
  },
  {
   "cell_type": "markdown",
   "metadata": {
    "id": "7XN-ycJK8V4A"
   },
   "source": [
    "## Exercise 1 \n",
    "\n",
    "Find a subset of $S = \\{1,2,5, 9, 10\\}$ with sum $T = 22$.  Explain the process (algorithm) you used mentally to find the subset.  Then apply the same process in an attempt to find a subset with sum $T = 23$.  \n",
    "\n",
    "How do you know there is no such subset?"
   ]
  },
  {
   "cell_type": "markdown",
   "metadata": {},
   "source": [
    "### exercise 1 (answer)\n",
    "\n",
    "Well to find the subset with a sum T=22 I started with the highest numbers such as 10+9=19 and then added the numbers 2 and 1 for 19+2+1=22. For the T=23 subset, I tried 10+9+5=24!=23, then 9+5+2+1=17!=23, then 10+5+2+1=18, but none equate to 23."
   ]
  },
  {
   "cell_type": "markdown",
   "metadata": {
    "collapsed": true,
    "id": "u-amEAHY8V4B"
   },
   "source": [
    "## Exercise 2\n",
    "\n",
    "Consider the following possible algorithm for the subset-sum problem, written in pseudocode:\n",
    "\n",
    "```python\n",
    "subset_sum(S[], T):\n",
    "    K = empty\n",
    "    for each i < size(S)\n",
    "        if sum(K) + S[i] <= T, put S[i] into K\n",
    "    if sum(K) = T, return K, else return False.\n",
    "```\n",
    "\n",
    "1. Describe what this algorithm does in English.  \n",
    "2. Implement this algorithm in Python and run it on the $S$ and $T$ above.\n",
    "3. Prove that this algorithm is NOT correct.  That is, find a counterexample: a set $S$ and number $T$ for which there is a solution, but not one that the algorithm finds.\n",
    "4. Verify that this particular $S$ and $T$ does not give the right output when entered to your Python program."
   ]
  },
  {
   "cell_type": "markdown",
   "metadata": {},
   "source": [
    "### 2.1 (answer)\n",
    "The function receives a set of numbers and a sum T to find the subset that sums to T.\n",
    "K is a list of numbers in the input set that is added to sum up to T.\n",
    "For each item in the range of the subset S, if the value of the item added to the current sum K is\n",
    "less than the total sum target T, then the item i gets added into the list K.\n",
    "If the sum of the list K is equal to the target T then return the items in K, or else return False."
   ]
  },
  {
   "cell_type": "code",
   "execution_count": 32,
   "metadata": {},
   "outputs": [
    {
     "data": {
      "text/plain": [
       "False"
      ]
     },
     "execution_count": 32,
     "metadata": {},
     "output_type": "execute_result"
    }
   ],
   "source": [
    "### 2.2 (answer)\n",
    "\n",
    "def subset_sum(S, T):\n",
    "    K = []\n",
    "    for i in range(len(S)):\n",
    "        if (sum(K) + S[i]) <= T:\n",
    "            K.append(S[i])\n",
    "    if sum(K) == T:\n",
    "        return K\n",
    "    else:\n",
    "        return False\n",
    "\n",
    "𝑆={1,2,5,9,10}\n",
    "T=22\n",
    "subset_sum(list(S),T)"
   ]
  },
  {
   "cell_type": "markdown",
   "metadata": {},
   "source": [
    "### 2.3 (answer)\n"
   ]
  },
  {
   "cell_type": "code",
   "execution_count": 33,
   "metadata": {},
   "outputs": [
    {
     "name": "stdout",
     "output_type": "stream",
     "text": [
      "[1, 2, 3, 4]\n",
      "It does find the answer if the numbers are in order.\n",
      "False\n",
      "It doesn't find the answer if the numbers do not follow each other from the beginning.\n"
     ]
    }
   ],
   "source": [
    "𝑆={1,2,3,4,5}\n",
    "T=10\n",
    "print(subset_sum(list(S),T))\n",
    "print(\"It does find the answer if the numbers are in order.\")\n",
    "\n",
    "𝑆={1,2,4,5,6}\n",
    "T=10\n",
    "print(subset_sum(list(S),T))\n",
    "print(\"It doesn't find the answer if the numbers do not follow each other from the beginning.\")"
   ]
  },
  {
   "cell_type": "markdown",
   "metadata": {},
   "source": [
    "### 2.4 (answer)\n"
   ]
  },
  {
   "cell_type": "code",
   "execution_count": 36,
   "metadata": {},
   "outputs": [
    {
     "name": "stdout",
     "output_type": "stream",
     "text": [
      "False\n",
      "Prints False while the subset answer is [4,6]\n"
     ]
    }
   ],
   "source": [
    "𝑆={1,2,4,5,6}\n",
    "T=10\n",
    "print(subset_sum(list(S),T))\n",
    "print(\"Prints False while the subset answer is [4,6]\")"
   ]
  },
  {
   "cell_type": "markdown",
   "metadata": {},
   "source": [
    "\n"
   ]
  },
  {
   "cell_type": "markdown",
   "metadata": {
    "id": "ELM9eyRP8V4D"
   },
   "source": [
    "## Exercise 3 \n",
    "\n",
    "Another try: What if you put the elements in the subset from largest to smallest?  Check that this too is not a correct algorithm."
   ]
  },
  {
   "cell_type": "code",
   "execution_count": 45,
   "metadata": {
    "id": "lWZVOfi58V4E"
   },
   "outputs": [
    {
     "data": {
      "text/plain": [
       "[10, 9, 2, 1]"
      ]
     },
     "execution_count": 45,
     "metadata": {},
     "output_type": "execute_result"
    }
   ],
   "source": [
    "### exercise 3\n",
    "\n",
    "def subset_sum(S, T):\n",
    "    K = []\n",
    "    S=sorted(S)[::-1]\n",
    "    for i in range(len(S)):\n",
    "        if (sum(K) + S[i]) <= T:\n",
    "            K.append(S[i])\n",
    "    if sum(K) == T:\n",
    "        return K\n",
    "    else:\n",
    "        return False\n",
    "\n",
    "𝑆={1,2,5,9,10}\n",
    "T=22\n",
    "subset_sum(list(S),T)"
   ]
  },
  {
   "cell_type": "markdown",
   "metadata": {
    "id": "KQdqQykN8V4E"
   },
   "source": [
    "## Exercise 4\n",
    "\n",
    "Describe a correct algorithm for the subset-sum problem, both in English and in pseudocode.  Then implement the algorithm in Python.  Explain how you know your algorithm is correct (even if it might not be efficient)."
   ]
  },
  {
   "cell_type": "markdown",
   "metadata": {
    "id": "i00PKLrb8V4F"
   },
   "source": [
    "### exercise 4 (algorithm --English and pseudocode)\n",
    "\n",
    "-\n"
   ]
  },
  {
   "cell_type": "code",
   "execution_count": 119,
   "metadata": {},
   "outputs": [
    {
     "name": "stdout",
     "output_type": "stream",
     "text": [
      "[1, 2, 9, 10]\n"
     ]
    }
   ],
   "source": [
    "#Python code ex4\n",
    "from itertools import combinations\n",
    "\n",
    "def subset_sum(S, T):\n",
    "    all_c=[]\n",
    "    for n in range(len(S)+1):\n",
    "        all_c += list(combinations(S,n))\n",
    "    for combo in all_c:\n",
    "        if sum(list(combo))==T:\n",
    "            return list(combo)\n",
    "\n",
    "𝑆={1,2,5,9,10}\n",
    "T=22\n",
    "print(subset_sum(list(S),T))"
   ]
  },
  {
   "cell_type": "code",
   "execution_count": null,
   "metadata": {},
   "outputs": [],
   "source": [
    "\"\"\"\n",
    "def subset_sum(S[],T):\n",
    "    all_c = empty\n",
    "    for n < size(S)\n",
    "        all_c is a list of all combinations of elements in S\n",
    "    if sum(combination) = T, return combination\n",
    "\"\"\""
   ]
  },
  {
   "cell_type": "code",
   "execution_count": 116,
   "metadata": {},
   "outputs": [
    {
     "name": "stdout",
     "output_type": "stream",
     "text": [
      "None\n"
     ]
    }
   ],
   "source": [
    "𝑆={1,2,5,9,10}\n",
    "T=23\n",
    "print(subset_sum(list(S),T))"
   ]
  },
  {
   "cell_type": "markdown",
   "metadata": {
    "collapsed": true,
    "id": "fl51IaPm8V4G"
   },
   "source": [
    "## Exercise 5: Generating correct change\n",
    "\n",
    "Now, we will be making change using the fewest coins. \n",
    "\n",
    "Suppose you are a programmer for a vending machine manufacturer. Your company wants to streamline effort by giving out the fewest possible coins in change for each transaction. Suppose a customer puts in a dollar bill and purchases an item for 37 cents. What is the smallest number of coins you can use to make change? The answer is six coins: two quarters, one dime, and three pennies. \n",
    "\n",
    "How did we arrive at the answer of six coins? We start with the largest coin in our arsenal (a quarter) and use as many of those as possible, then we go to the next lowest coin value and use as many of those as possible. This is the greedy algorithm for change-making.\n",
    "\n",
    "**Question:** Write the greedy algorithm for change making.\n",
    "\n",
    "The input is the amount of change to generate (in pennies) and a list of coin sizes (in pennies)\n",
    "\n",
    "The output is the minimum number of coins to gener\n",
    "\n",
    "```\n",
    "# buys with 1 dollar for 37 pennies\n",
    "# Second argument says we can give quarters, dimes, nickels and pennies\n",
    "make_change(100 - 37, [25, 10, 5, 1])\n",
    "\n",
    "# 2 quarters, one dime, and three pennies\n",
    "output --> 6 # Output would be equivalent to the choices [2, 1, 0, 3]\n",
    "```"
   ]
  },
  {
   "cell_type": "code",
   "execution_count": 106,
   "metadata": {
    "id": "pnFl8-g28V4G"
   },
   "outputs": [],
   "source": [
    "# exercise 5\n",
    "\n",
    "def make_change(change, coins, output=[]):\n",
    "    if not coins:\n",
    "        return output\n",
    "    if change//coins[0]>0:\n",
    "        output.append(change//coins[0])\n",
    "        return make_change(change-change//coins[0]*coins[0], coins[1:], output)\n",
    "    else:\n",
    "        output.append(0)\n",
    "        return make_change(change, coins[1:], output)\n"
   ]
  },
  {
   "cell_type": "code",
   "execution_count": 107,
   "metadata": {},
   "outputs": [
    {
     "data": {
      "text/plain": [
       "[2, 1, 0, 3]"
      ]
     },
     "execution_count": 107,
     "metadata": {},
     "output_type": "execute_result"
    }
   ],
   "source": [
    "make_change(100 - 37, [25, 10, 5, 1])"
   ]
  },
  {
   "cell_type": "code",
   "execution_count": null,
   "metadata": {},
   "outputs": [],
   "source": []
  }
 ],
 "metadata": {
  "colab": {
   "name": "workshop knapsack.ipynb",
   "provenance": []
  },
  "kernelspec": {
   "display_name": "Python 3 (ipykernel)",
   "language": "python",
   "name": "python3"
  },
  "language_info": {
   "codemirror_mode": {
    "name": "ipython",
    "version": 3
   },
   "file_extension": ".py",
   "mimetype": "text/x-python",
   "name": "python",
   "nbconvert_exporter": "python",
   "pygments_lexer": "ipython3",
   "version": "3.9.13"
  }
 },
 "nbformat": 4,
 "nbformat_minor": 1
}
