{
 "cells": [
  {
   "cell_type": "markdown",
   "metadata": {},
   "source": [
    "# Fundamentals: Python Function\n",
    "\n",
    "## Warmup: adder function\n",
    "\n",
    "Create a function that takes two numbers as arguments and return their sum.\n",
    "\n",
    "### Examples\n",
    "\n",
    "- `addition(3, 2) ➞ 5`\n",
    "- `addition(-3, -6) ➞ -9`\n",
    "- `addition(7, 3) ➞ 10`"
   ]
  },
  {
   "cell_type": "code",
   "execution_count": 1,
   "metadata": {},
   "outputs": [],
   "source": [
    "# write your function here\n",
    "def addition(x, y):\n",
    "    return x + y"
   ]
  },
  {
   "cell_type": "code",
   "execution_count": 2,
   "metadata": {},
   "outputs": [
    {
     "name": "stdout",
     "output_type": "stream",
     "text": [
      "Top is: [4, 6, 8, 10, 12, 14, 16, 18, 20, 22], Bottom is: [3030, 3032, 3034, 3036, 3038, 3040, 3042, 3044, 3046, 3048]\n"
     ]
    }
   ],
   "source": [
    "# Warmup 2: even numbers\n",
    "# Generate a Python list of all the even numbers between 4 to 3048\n",
    "Even = []\n",
    "\n",
    "for i in range(4,3049):\n",
    "    if i % 2 == 0:\n",
    "        Even.append(i)\n",
    "        \n",
    "print(f\"Top is: {Even[:10]}, Bottom is: {Even[-10:]}\")"
   ]
  },
  {
   "cell_type": "markdown",
   "metadata": {},
   "source": [
    "## Exercise 1: First and Last \n",
    "\n",
    "Creates a function that takes a string and returns the first and last character.\n",
    "### Examples\n",
    "\n",
    "```\n",
    "first_last(\"ganesh\") ➞ \"gh\"\n",
    "\n",
    "first_last(\"kali\") ➞ \"ki\"\n",
    "\n",
    "first_last(\"shiva\") ➞ \"sa\"\n",
    "\n",
    "first_last(\"vishnu\") ➞ \"vu\"\n",
    "\n",
    "first_last(\"durga\") ➞ \"da\"\n",
    "```"
   ]
  },
  {
   "cell_type": "code",
   "execution_count": 3,
   "metadata": {},
   "outputs": [
    {
     "data": {
      "text/plain": [
       "'my'"
      ]
     },
     "execution_count": 3,
     "metadata": {},
     "output_type": "execute_result"
    }
   ],
   "source": [
    "# exercise 1\n",
    "def first_last(x):\n",
    "    return f\"{x[0]}{x[-1]}\"\n",
    "\n",
    "first_last(\"mountainery\")"
   ]
  },
  {
   "cell_type": "markdown",
   "metadata": {},
   "source": [
    "## Exercise 2: Keys in Dict\n",
    "\n",
    "Write a function that returns `True` if a dictionary contains the specified key, and `False` otherwise.\n",
    "\n",
    "### Examples\n",
    "\n",
    "```\n",
    "has_key({ \"a\": 44, \"b\": 45, \"c\": 46 }, \"d\") ➞ False\n",
    "\n",
    "has_key({ \"craves\": True, \"midnight\": True, \"snack\": True }, \"morning\") ➞ False\n",
    "\n",
    "has_key({ \"pot\": 1, \"tot\": 2, \"not\": 3 }, \"not\") ➞ True\n",
    "```"
   ]
  },
  {
   "cell_type": "code",
   "execution_count": 4,
   "metadata": {},
   "outputs": [
    {
     "data": {
      "text/plain": [
       "True"
      ]
     },
     "execution_count": 4,
     "metadata": {},
     "output_type": "execute_result"
    }
   ],
   "source": [
    "# exercise 2\n",
    "def has_keys(key, dictionary):\n",
    "    if key in dictionary.keys():\n",
    "        return True\n",
    "    \n",
    "verdad = {'La': 'La', 'Vida': 'Vie', 'Esta': 'Est', 'Loca': 'Folle'}\n",
    "question = 'Vida'\n",
    "question2 = 'Vie'\n",
    "has_keys(question, verdad)"
   ]
  },
  {
   "cell_type": "markdown",
   "metadata": {},
   "source": [
    "## Exercise 3: Test Distinct\n",
    "\n",
    "Write a Python function that takes a sequence of numbers and determines whether all the numbers are different from each other.\n",
    "\n",
    "```\n",
    "test_distinct([2,3,4,5,7,8]) -> True\n",
    "test_distinct([2,3,4,5,8,8]) -> False\n",
    "```"
   ]
  },
  {
   "cell_type": "code",
   "execution_count": 5,
   "metadata": {},
   "outputs": [
    {
     "data": {
      "text/plain": [
       "False"
      ]
     },
     "execution_count": 5,
     "metadata": {},
     "output_type": "execute_result"
    }
   ],
   "source": [
    "# exercise 3\n",
    "def test_distinct(List):\n",
    "    if List == list(set(List)):\n",
    "        return True\n",
    "    elif List != list(set(List)):\n",
    "        return False\n",
    "\n",
    "test = [2,3,4,5,7,8]\n",
    "test1 = [2,3,4,5,8,8]\n",
    "\n",
    "test_distinct(test1)"
   ]
  },
  {
   "cell_type": "markdown",
   "metadata": {},
   "source": [
    "## Exercise 4: Spell Checker\n",
    "\n",
    "Create a function that takes in two lists: \n",
    "\n",
    "1. A sentence as a list of user-typed words\n",
    "\n",
    "2. The list of correctly-typed words\n",
    "\n",
    "and outputs a list containing 1s (correctly-typed words) and 0s (incorrectly-typed words).\n",
    "\n",
    "### Inputs:\n",
    "> User-typed: \\[\"cat\", \"blue\", \"skt\", \"umbrells\", \"paddy\"\\]\n",
    "\n",
    "> Correct: \\[\"cat\", \"blue\", \"sky\", \"umbrella\", \"paddy\"\\]\n",
    "\n",
    "### Output: \\[ 1, 1, 0, 0, 1 \\]\n",
    "\n",
    "### Examples\n",
    "\n",
    "```\n",
    "correct_stream(\n",
    "  [\"it\", \"is\", \"find\"],\n",
    "  [\"it\", \"is\", \"fine\"]\n",
    ") ➞ [1, 1, 0]\n",
    "\n",
    "correct_stream(\n",
    "  [\"april\", \"showrs\", \"bring\", \"may\", \"flowers\"],\n",
    "  [\"april\", \"showers\", \"bring\", \"may\", \"flowers\"]\n",
    ") ➞ [1, 0, 1, 1, 1]\n",
    "\n",
    "```"
   ]
  },
  {
   "cell_type": "code",
   "execution_count": 6,
   "metadata": {},
   "outputs": [
    {
     "data": {
      "text/plain": [
       "[1, 0, 1, 1, 1]"
      ]
     },
     "execution_count": 6,
     "metadata": {},
     "output_type": "execute_result"
    }
   ],
   "source": [
    "# exercise 4\n",
    "def correct_stream(List1, List2):\n",
    "    Return = []\n",
    "    for i in range(len(List1)):\n",
    "        if List1[i]==List2[i]:\n",
    "            Return.append(1)\n",
    "        elif List1[i]!=List2[i]:\n",
    "            Return.append(0)\n",
    "    return Return\n",
    "\n",
    "correct1 = [\"april\", \"showrs\", \"bring\", \"may\", \"flowers\"]\n",
    "correct2 = [\"april\", \"showers\", \"bring\", \"may\", \"flowers\"]\n",
    "correct_stream(correct1,correct2)"
   ]
  },
  {
   "cell_type": "markdown",
   "metadata": {},
   "source": [
    "## Exercise 5: FizzBuzz\n",
    "\n",
    "Fizzbuzz is a game for children and a drinking game for adults. It's also a classic programming interview question.\n",
    "\n",
    "Suppose we have a number n. We have to display a string representation of all numbers from 1 to n, but there are some constraints.\n",
    "\n",
    "    If the number is divisible by 3, write Fizz instead of the number\n",
    "    If the number is divisible by 5, write Buzz instead of the number\n",
    "    If the number is divisible by 3 and 5 both, write FizzBuzz instead of the number\n",
    "\n",
    "So the results are `1, 2, Fizz, 4, Buzz, ..., 14, Fizzbuzz, 16, 17, Fizz, 19, Buzz, ...`\n",
    "\n",
    "Write a python program that prints fizzbuzz for numbers 1 to 150"
   ]
  },
  {
   "cell_type": "code",
   "execution_count": 7,
   "metadata": {},
   "outputs": [
    {
     "data": {
      "text/plain": [
       "[1,\n",
       " 2,\n",
       " 'Fizz',\n",
       " 4,\n",
       " 'Buzz',\n",
       " 'Fizz',\n",
       " 7,\n",
       " 8,\n",
       " 'Fizz',\n",
       " 'Buzz',\n",
       " 11,\n",
       " 'Fizz',\n",
       " 13,\n",
       " 14,\n",
       " 'Fizzbuzz',\n",
       " 16,\n",
       " 17,\n",
       " 'Fizz',\n",
       " 19,\n",
       " 'Buzz',\n",
       " 'Fizz',\n",
       " 22,\n",
       " 23,\n",
       " 'Fizz',\n",
       " 'Buzz',\n",
       " 26,\n",
       " 'Fizz',\n",
       " 28,\n",
       " 29,\n",
       " 'Fizzbuzz',\n",
       " 31,\n",
       " 32,\n",
       " 'Fizz',\n",
       " 34,\n",
       " 'Buzz',\n",
       " 'Fizz',\n",
       " 37,\n",
       " 38,\n",
       " 'Fizz',\n",
       " 'Buzz',\n",
       " 41,\n",
       " 'Fizz',\n",
       " 43,\n",
       " 44,\n",
       " 'Fizzbuzz',\n",
       " 46,\n",
       " 47,\n",
       " 'Fizz',\n",
       " 49,\n",
       " 'Buzz',\n",
       " 'Fizz',\n",
       " 52,\n",
       " 53,\n",
       " 'Fizz',\n",
       " 'Buzz',\n",
       " 56,\n",
       " 'Fizz',\n",
       " 58,\n",
       " 59,\n",
       " 'Fizzbuzz',\n",
       " 61,\n",
       " 62,\n",
       " 'Fizz',\n",
       " 64,\n",
       " 'Buzz',\n",
       " 'Fizz',\n",
       " 67,\n",
       " 68,\n",
       " 'Fizz',\n",
       " 'Buzz',\n",
       " 71,\n",
       " 'Fizz',\n",
       " 73,\n",
       " 74,\n",
       " 'Fizzbuzz',\n",
       " 76,\n",
       " 77,\n",
       " 'Fizz',\n",
       " 79,\n",
       " 'Buzz',\n",
       " 'Fizz',\n",
       " 82,\n",
       " 83,\n",
       " 'Fizz',\n",
       " 'Buzz',\n",
       " 86,\n",
       " 'Fizz',\n",
       " 88,\n",
       " 89,\n",
       " 'Fizzbuzz',\n",
       " 91,\n",
       " 92,\n",
       " 'Fizz',\n",
       " 94,\n",
       " 'Buzz',\n",
       " 'Fizz',\n",
       " 97,\n",
       " 98,\n",
       " 'Fizz',\n",
       " 'Buzz',\n",
       " 101,\n",
       " 'Fizz',\n",
       " 103,\n",
       " 104,\n",
       " 'Fizzbuzz',\n",
       " 106,\n",
       " 107,\n",
       " 'Fizz',\n",
       " 109,\n",
       " 'Buzz',\n",
       " 'Fizz',\n",
       " 112,\n",
       " 113,\n",
       " 'Fizz',\n",
       " 'Buzz',\n",
       " 116,\n",
       " 'Fizz',\n",
       " 118,\n",
       " 119,\n",
       " 'Fizzbuzz',\n",
       " 121,\n",
       " 122,\n",
       " 'Fizz',\n",
       " 124,\n",
       " 'Buzz',\n",
       " 'Fizz',\n",
       " 127,\n",
       " 128,\n",
       " 'Fizz',\n",
       " 'Buzz',\n",
       " 131,\n",
       " 'Fizz',\n",
       " 133,\n",
       " 134,\n",
       " 'Fizzbuzz',\n",
       " 136,\n",
       " 137,\n",
       " 'Fizz',\n",
       " 139,\n",
       " 'Buzz',\n",
       " 'Fizz',\n",
       " 142,\n",
       " 143,\n",
       " 'Fizz',\n",
       " 'Buzz',\n",
       " 146,\n",
       " 'Fizz',\n",
       " 148,\n",
       " 149,\n",
       " 'Fizzbuzz']"
      ]
     },
     "execution_count": 7,
     "metadata": {},
     "output_type": "execute_result"
    }
   ],
   "source": [
    "# exercise 5\n",
    "def Fizzbuzz(x):\n",
    "    y = list(range(1,x+1))\n",
    "    numbers = []\n",
    "    for i in y:\n",
    "        if i % 5 == 0 and i % 3 == 0:\n",
    "            numbers.append(\"Fizzbuzz\")\n",
    "        elif i % 5 == 0:\n",
    "            numbers.append(\"Buzz\")\n",
    "        elif i % 3 == 0:\n",
    "            numbers.append(\"Fizz\")\n",
    "        else:\n",
    "            numbers.append(i)\n",
    "    return numbers\n",
    "\n",
    "Fizzbuzz(150)\n"
   ]
  },
  {
   "cell_type": "markdown",
   "metadata": {},
   "source": [
    "## Exercise 6: Palindrome?\n",
    "\n",
    "A palindrome is a word which reads the same backward as forwards. Write a function that returns True if a string is a palindrome:\n",
    "\n",
    "    “laval” ⇒ Yes\n",
    "    “montreal” ⇒ No"
   ]
  },
  {
   "cell_type": "code",
   "execution_count": 8,
   "metadata": {},
   "outputs": [
    {
     "data": {
      "text/plain": [
       "True"
      ]
     },
     "execution_count": 8,
     "metadata": {},
     "output_type": "execute_result"
    }
   ],
   "source": [
    "# exercise 6\n",
    "\n",
    "def is_palindrome(x):        \n",
    "    for i in range(len(x)//2):\n",
    "        result = False\n",
    "        if x[i]==x[-1-i]:\n",
    "            result = True\n",
    "        else:\n",
    "            result = False\n",
    "    return result\n",
    "        \n",
    "is_palindrome(\"kayak\")"
   ]
  },
  {
   "cell_type": "markdown",
   "metadata": {},
   "source": [
    "## Exercise 7: Counting Country IDs\n",
    "\n",
    "We have a list of user IDS with identifiers of form \"userid-COUNTRYID\". Calculate how many countries we have.\n",
    "\n",
    "Ex:\n",
    "\n",
    "`[gyhwefy7832ryyg-US, iu7ytf87gyuwef-CA, 98yfyg82t3r-US]` -> `{'US': 2, 'CA': 1}`\n",
    "\n",
    "```\n",
    "[gyhwefy7832ryyg-US, iu7ytf87gyuwef-CA, 98yfyg82t3r-US,\n",
    "    iuhsdf897y3righsfe-US, iushdf98h23ryg-IT, GHsg1s54sda8-CA, iuhdf9h32ryu9gf-IT,\n",
    "    IUufgh98y34-FR, 98yfdiuhdfbviuh8-UK, 45asdjJHHghsdas-CA\n",
    "] -> {'US': 3, 'CA': 3, \"IT\": 2, 'UK':1, 'FR':1}\n",
    "```"
   ]
  },
  {
   "cell_type": "code",
   "execution_count": 82,
   "metadata": {},
   "outputs": [
    {
     "name": "stdout",
     "output_type": "stream",
     "text": [
      "{'IT': 2, 'UK': 1, 'CA': 3, 'FR': 1, 'US': 3}\n"
     ]
    }
   ],
   "source": [
    "# exercise 7\n",
    "def count_country(List):\n",
    "    d = {}\n",
    "    all_ids, keys, values = [], [], []\n",
    "    for country in List:\n",
    "        country_id = country[-2:]\n",
    "        all_ids.append(country_id)\n",
    "        keys = list(set(all_ids))\n",
    "    for key in range(len(keys)):\n",
    "        values.append(0)\n",
    "    d = dict(zip(keys, values))\n",
    "    for i in range(len(all_ids)):\n",
    "        d[all_ids[i]]+=1\n",
    "    print(d)\n",
    "\n",
    "count_country([\"gyhwefy7832ryyg-US\", \"iu7ytf87gyuwef-CA\", \"98yfyg82t3r-US\",\n",
    "    \"iuhsdf897y3righsfe-US\", \"iushdf98h23ryg-IT\", \"GHsg1s54sda8-CA\", \"iuhdf9h32ryu9gf-IT\",\n",
    "    \"IUufgh98y34-FR\", \"98yfdiuhdfbviuh8-UK\", \"45asdjJHHghsdas-CA\"])"
   ]
  },
  {
   "cell_type": "markdown",
   "metadata": {},
   "source": [
    "## Exercise 8: Docstrings\n",
    "\n",
    "Write the completed docstrings for each function\n",
    "\n",
    "Docstring format is as follows:\n",
    "\n",
    "```\n",
    "\"\"\"[Summary]\n",
    "\n",
    ":param [ParamName]: [ParamDescription], defaults to [DefaultParamVal]\n",
    ":type [ParamName]: [ParamType](, optional)\n",
    "...\n",
    ":raises [ErrorType]: [ErrorDescription]\n",
    "...\n",
    ":return: [ReturnDescription]\n",
    ":rtype: [ReturnType]\n",
    "\"\"\"\n",
    "```"
   ]
  },
  {
   "cell_type": "code",
   "execution_count": 11,
   "metadata": {},
   "outputs": [],
   "source": [
    "def multiply(val_1, val_2):\n",
    "    \"\"\"\n",
    "    This function multiplies the two values.\n",
    "    \n",
    "    :param [val_1, val_2]: Numbers to be multiplied together.\n",
    "    :type [val_1, val_2]: Int or float.\n",
    "    ...\n",
    "    :return: The product of val_1 and val_2.\n",
    "    :rtype: Int if both val_1 and val_2 are int, float if either val_1 or val_2 are float.\n",
    "    \"\"\"\n",
    "    \n",
    "    return val_1 * val_2"
   ]
  },
  {
   "cell_type": "code",
   "execution_count": 49,
   "metadata": {},
   "outputs": [],
   "source": [
    "def power(val, exponent):\n",
    "    \"\"\"\n",
    "    This function raises the value to the value of the exponent.\n",
    "    \n",
    "    :param [val]: Value to be raised by the exponent.\n",
    "    :param [exponent]: Number that the value is raised to the power of.\n",
    "    :type [val, exponent]: Int or float.\n",
    "    ...\n",
    "    :return: The argument val raised to the power of exponent.\n",
    "    :rtype: Int if both val_1 and val_2 are int, float if either val_1 or val_2 are float.\n",
    "    \"\"\"\n",
    "    \n",
    "    return val**exponent\n"
   ]
  },
  {
   "cell_type": "code",
   "execution_count": 13,
   "metadata": {},
   "outputs": [],
   "source": [
    "def last_value_in_list(lst):\n",
    "    \"\"\"\n",
    "    This function returns the last value in the list.\n",
    "    \n",
    "    :param [lst]: List to fetch the value from.\n",
    "    :type [lst]: List.\n",
    "    ...\n",
    "    :return: The last value in the list of the argument lst.\n",
    "    :rtype: Type of the last value in the list.\n",
    "    \"\"\"\n",
    "    \n",
    "    return lst[-1]\n",
    "\n"
   ]
  },
  {
   "cell_type": "code",
   "execution_count": 51,
   "metadata": {},
   "outputs": [],
   "source": [
    "def reverse_vals(lst):\n",
    "    \"\"\"\n",
    "    This function reverses the order of the elements in the list.\n",
    "    :param [lst]: List to reverse the elements for.\n",
    "    :type [lst]: List.\n",
    "    ...\n",
    "    :return: The list with all its elements in reverse order.\n",
    "    :rtype: List.\n",
    "    \"\"\"\n",
    "    \n",
    "    return lst[::-1]"
   ]
  },
  {
   "cell_type": "code",
   "execution_count": null,
   "metadata": {},
   "outputs": [],
   "source": []
  }
 ],
 "metadata": {
  "file_extension": ".py",
  "kernelspec": {
   "display_name": "Python 3 (ipykernel)",
   "language": "python",
   "name": "python3"
  },
  "language_info": {
   "codemirror_mode": {
    "name": "ipython",
    "version": 3
   },
   "file_extension": ".py",
   "mimetype": "text/x-python",
   "name": "python",
   "nbconvert_exporter": "python",
   "pygments_lexer": "ipython3",
   "version": "3.9.12"
  },
  "metadata": {
   "interpreter": {
    "hash": "63fd5069d213b44bf678585dea6b12cceca9941eaf7f819626cde1f2670de90d"
   }
  },
  "mimetype": "text/x-python",
  "name": "python",
  "npconvert_exporter": "python",
  "pygments_lexer": "ipython3",
  "version": 3
 },
 "nbformat": 4,
 "nbformat_minor": 2
}
