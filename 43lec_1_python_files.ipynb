{
 "cells": [
  {
   "cell_type": "markdown",
   "id": "d97c9dd9",
   "metadata": {},
   "source": [
    "# Python Files"
   ]
  },
  {
   "cell_type": "markdown",
   "id": "04e63e4a",
   "metadata": {},
   "source": [
    "## Reading from files\n",
    "\n",
    "You have seen how to read from a file with `pandas.read_csv` before, but python has a more low-level interface to read from any file.\n",
    "\n",
    "Let’s write to a file"
   ]
  },
  {
   "cell_type": "code",
   "execution_count": 1,
   "id": "1cca36d5",
   "metadata": {},
   "outputs": [],
   "source": [
    "f = open('newfile.txt', 'w')   # Open 'newfile.txt' for writing\n",
    "f.write('Concordia\\n')           # '\\n' adds a new line\n",
    "f.write('Bootcamps!')\n",
    "f.close()                      # Close the file "
   ]
  },
  {
   "cell_type": "markdown",
   "id": "2b2deb98",
   "metadata": {},
   "source": [
    "Here\n",
    "\n",
    "- The built-in function `open()` creates a file object for writing to.  \n",
    "- Both `write()` and `close()` are methods of file objects.  \n",
    "\n",
    "Where is the file that we’ve created?\n",
    "\n",
    "Like the terminal shell, your running python instance has a concept of the pwd (present working directory).\n",
    "\n",
    "We can access it with the jupyter `!` shell commands:"
   ]
  },
  {
   "cell_type": "code",
   "execution_count": 2,
   "id": "4e520066",
   "metadata": {},
   "outputs": [
    {
     "name": "stderr",
     "output_type": "stream",
     "text": [
      "'pwd' is not recognized as an internal or external command,\n",
      "operable program or batch file.\n"
     ]
    }
   ],
   "source": [
    "!pwd"
   ]
  },
  {
   "cell_type": "markdown",
   "id": "6a5ca3ba",
   "metadata": {},
   "source": [
    "However, we can also get it from python directly:"
   ]
  },
  {
   "cell_type": "code",
   "execution_count": 10,
   "id": "6ab7e53e",
   "metadata": {},
   "outputs": [
    {
     "data": {
      "text/plain": [
       "'C:\\\\Users\\\\Simona\\\\Desktop\\\\Data Analysis\\\\concordia-bootcamp\\\\ds-data-visualization-P3-main\\\\ds-data-visualization-P3-main\\\\_lecture'"
      ]
     },
     "execution_count": 10,
     "metadata": {},
     "output_type": "execute_result"
    }
   ],
   "source": [
    "import os\n",
    "\n",
    "# equivalent to ls\n",
    "os.listdir()\n",
    "# equivalent to pwd\n",
    "os.getcwd()"
   ]
  },
  {
   "cell_type": "markdown",
   "id": "fd0e40ce",
   "metadata": {},
   "source": [
    "If a path is not specified, then this is where Python writes to.\n",
    "\n",
    "Normally this is next to where the notebook file is.\n",
    "\n",
    "We can specify a specific path to write the file to by putting it in front of the file:"
   ]
  },
  {
   "cell_type": "code",
   "execution_count": 11,
   "id": "546f107c",
   "metadata": {},
   "outputs": [
    {
     "ename": "OSError",
     "evalue": "[Errno 22] Invalid argument: 'C:\\\\Users\\\\Simona\\\\Desktop\\\\Data Analysis\\\\concordia-bootcamp\\\\ds-data-visualization-P3-main\\\\ds-data-visualization-P3-main\\\\_lecture\\new_file.txt'",
     "output_type": "error",
     "traceback": [
      "\u001b[1;31m---------------------------------------------------------------------------\u001b[0m",
      "\u001b[1;31mOSError\u001b[0m                                   Traceback (most recent call last)",
      "Input \u001b[1;32mIn [11]\u001b[0m, in \u001b[0;36m<cell line: 1>\u001b[1;34m()\u001b[0m\n\u001b[1;32m----> 1\u001b[0m f \u001b[38;5;241m=\u001b[39m \u001b[38;5;28;43mopen\u001b[39;49m\u001b[43m(\u001b[49m\u001b[38;5;124;43m'\u001b[39;49m\u001b[38;5;124;43mC:\u001b[39;49m\u001b[38;5;130;43;01m\\\\\u001b[39;49;00m\u001b[38;5;124;43mUsers\u001b[39;49m\u001b[38;5;130;43;01m\\\\\u001b[39;49;00m\u001b[38;5;124;43mSimona\u001b[39;49m\u001b[38;5;130;43;01m\\\\\u001b[39;49;00m\u001b[38;5;124;43mDesktop\u001b[39;49m\u001b[38;5;130;43;01m\\\\\u001b[39;49;00m\u001b[38;5;124;43mData Analysis\u001b[39;49m\u001b[38;5;130;43;01m\\\\\u001b[39;49;00m\u001b[38;5;124;43mconcordia-bootcamp\u001b[39;49m\u001b[38;5;130;43;01m\\\\\u001b[39;49;00m\u001b[38;5;124;43mds-data-visualization-P3-main\u001b[39;49m\u001b[38;5;130;43;01m\\\\\u001b[39;49;00m\u001b[38;5;124;43mds-data-visualization-P3-main\u001b[39;49m\u001b[38;5;130;43;01m\\\\\u001b[39;49;00m\u001b[38;5;124;43m_lecture\u001b[39;49m\u001b[38;5;130;43;01m\\n\u001b[39;49;00m\u001b[38;5;124;43mew_file.txt\u001b[39;49m\u001b[38;5;124;43m'\u001b[39;49m\u001b[43m,\u001b[49m\u001b[43m \u001b[49m\u001b[38;5;124;43m'\u001b[39;49m\u001b[38;5;124;43mr\u001b[39;49m\u001b[38;5;124;43m'\u001b[39;49m\u001b[43m)\u001b[49m \u001b[38;5;66;03m#Will be different for each person - use your own path\u001b[39;00m\n\u001b[0;32m      2\u001b[0m f\u001b[38;5;241m.\u001b[39mclose()\n",
      "\u001b[1;31mOSError\u001b[0m: [Errno 22] Invalid argument: 'C:\\\\Users\\\\Simona\\\\Desktop\\\\Data Analysis\\\\concordia-bootcamp\\\\ds-data-visualization-P3-main\\\\ds-data-visualization-P3-main\\\\_lecture\\new_file.txt'"
     ]
    }
   ],
   "source": [
    "f = open('C:\\\\Users\\\\Simona\\\\Desktop\\\\Data Analysis\\\\concordia-bootcamp\\\\ds-data-visualization-P3-main\\\\ds-data-visualization-P3-main\\\\_lecture\\new_file.txt', 'r') #Will be different for each person - use your own path\n",
    "f.close() "
   ]
  },
  {
   "cell_type": "markdown",
   "id": "fc530db3",
   "metadata": {},
   "source": [
    "We can also use Python to read the contents of `newfile.txt` as follows:"
   ]
  },
  {
   "cell_type": "code",
   "execution_count": null,
   "id": "3d20475e",
   "metadata": {},
   "outputs": [],
   "source": [
    "f = open('newfile.txt', 'w')   # Open 'newfile.txt' for writing\n",
    "f.write('Concordia\\n')           # '\\n' adds a new line\n",
    "f.write('Bootcamps!')\n",
    "f.close()                      # Close the file "
   ]
  },
  {
   "cell_type": "code",
   "execution_count": null,
   "id": "ff874f62",
   "metadata": {},
   "outputs": [],
   "source": [
    "f = open('newfile.txt', 'r')\n",
    "out = f.read()\n",
    "out"
   ]
  },
  {
   "cell_type": "code",
   "execution_count": null,
   "id": "5eaa2ce7",
   "metadata": {},
   "outputs": [],
   "source": [
    "print(out) # Notice the \\n being read as a line now"
   ]
  },
  {
   "cell_type": "code",
   "execution_count": null,
   "id": "fe6505b4",
   "metadata": {},
   "outputs": [],
   "source": [
    "# \"with block\" automatically closes th block when exiting\n",
    "with open('cities.csv', 'w') as f:\n",
    "    f.write(\n",
    "    \"\"\"city, population\n",
    "    new york, 8244910\n",
    "    los angeles, 3819702\n",
    "    chicago, 2707120\n",
    "    houston, 2145146\n",
    "    philadelphia, 1536471\n",
    "    phoenix, 1469471\n",
    "    san antonio, 1359758\n",
    "    san diego, 1326179\n",
    "    dallas, 1223229\"\"\")"
   ]
  },
  {
   "cell_type": "markdown",
   "id": "00f2dc8a",
   "metadata": {},
   "source": [
    "Note the `\"\"\"string\"\"\"` syntax here that lets you write multi-line strings"
   ]
  },
  {
   "cell_type": "code",
   "execution_count": null,
   "id": "5c77dec5",
   "metadata": {},
   "outputs": [],
   "source": [
    "import pandas as pd\n",
    "pd.read_csv(\"cities.csv\")"
   ]
  },
  {
   "cell_type": "code",
   "execution_count": null,
   "id": "71811776",
   "metadata": {},
   "outputs": [],
   "source": [
    "import pandas as pd\n",
    "\n",
    "# We could read this file with whatever extension\n",
    "# as long as it's organized like a csv file\n",
    "pd.read_csv('cities.csv')"
   ]
  },
  {
   "cell_type": "markdown",
   "id": "d62c7b3c",
   "metadata": {},
   "source": [
    "# File types\n",
    "\n",
    "Common operating systems use file extensions to tell programs how the file is organized. Here are a few common ones:\n",
    "\n",
    "- `.txt` which are arbitrary text files. You can open them in text editing programs (VS Code, Sublime Text, Notepad, Micro, Vim, etc.)\n",
    "\n",
    "- Some files are text files but have extensions to hint about how they're organized. For instance, a `.py` file is a text file which we hint contains python code.\n",
    "\n",
    "- Files with extensions like `.exe` (in Windows) or `.bin` are **binary** files -- they're encoded directly as 1's and 0's for the operating system to read. (Try opening a `.exe` file in sublime text to see this)\n",
    "\n",
    "### CSV files\n",
    "\n",
    "A CSV file is a common kind of file used for data which is organized by **records** (one per line) with **fields** (separated by commas). Let's write one such file:\n",
    "\n",
    "Many Python objects are “iterable”, in the sense that they can be looped over.\n",
    "\n",
    "To give an example, let’s write the file **us_cities.txt**, which lists US cities and their population, to the present working directory.\n"
   ]
  },
  {
   "cell_type": "code",
   "execution_count": null,
   "id": "12e0ec1b",
   "metadata": {},
   "outputs": [],
   "source": [
    "data_file = open('cities.csv', 'r')\n",
    "\n",
    "cities = []\n",
    "\n",
    "lines = data_file.readlines()\n",
    "\n",
    "for line in lines:\n",
    "    fields = line.split(',')\n",
    "    cities.append(fields)\n",
    "    \n",
    "data_file.close()\n",
    "\n",
    "le_file = open('us_cities.txt','w')\n",
    "\n",
    "for line in cities: \n",
    "    le_file.write(str([line[0].strip(),line[1].strip()]))\n",
    "\n",
    "le_file.close()"
   ]
  },
  {
   "cell_type": "markdown",
   "id": "326c99b0",
   "metadata": {},
   "source": [
    "Note that the file **header** (first line naming the columns) is read as well as all the `\\n` characters"
   ]
  },
  {
   "cell_type": "markdown",
   "id": "0ec12484",
   "metadata": {},
   "source": [
    "## Writing Python in a .py program\n",
    "\n",
    "We can write a program directly in a `.py` file and run it using `python my_program.py` in the terminal.\n",
    "\n",
    "Here we can define `if __name__ == '__main__':` as the block defining the **entry point**\n",
    "\n",
    "And we can treat the `.py` file as text or as a python module"
   ]
  },
  {
   "cell_type": "code",
   "execution_count": 12,
   "id": "54ff6068",
   "metadata": {},
   "outputs": [],
   "source": [
    "# \"with block\" automatically closes th block when exiting\n",
    "with open('test.py', 'w') as f:\n",
    "    f.write(\n",
    "\"\"\"\n",
    "import numpy as np\n",
    "\n",
    "def double_square(x):\n",
    "    return np.square(np.square(x))\n",
    "\"\"\")"
   ]
  },
  {
   "cell_type": "markdown",
   "id": "65e09319",
   "metadata": {},
   "source": [
    "We can treat it as text:"
   ]
  },
  {
   "cell_type": "code",
   "execution_count": 13,
   "id": "5608038e",
   "metadata": {},
   "outputs": [
    {
     "name": "stdout",
     "output_type": "stream",
     "text": [
      "\n",
      "import numpy as np\n",
      "\n",
      "def double_square(x):\n",
      "    return np.square(np.square(x))\n",
      "\n"
     ]
    }
   ],
   "source": [
    "with open('test.py', 'r') as f:\n",
    "    print(f.read())"
   ]
  },
  {
   "cell_type": "markdown",
   "id": "58e8c951",
   "metadata": {},
   "source": [
    "But we can also `import`  it as a python library!"
   ]
  },
  {
   "cell_type": "code",
   "execution_count": 14,
   "id": "56e802f9",
   "metadata": {},
   "outputs": [
    {
     "data": {
      "text/plain": [
       "625"
      ]
     },
     "execution_count": 14,
     "metadata": {},
     "output_type": "execute_result"
    }
   ],
   "source": [
    "import test\n",
    "\n",
    "test.double_square(5)"
   ]
  },
  {
   "cell_type": "code",
   "execution_count": null,
   "id": "3b309049",
   "metadata": {},
   "outputs": [],
   "source": []
  }
 ],
 "metadata": {
  "kernelspec": {
   "display_name": "Python 3 (ipykernel)",
   "language": "python",
   "name": "python3"
  },
  "language_info": {
   "codemirror_mode": {
    "name": "ipython",
    "version": 3
   },
   "file_extension": ".py",
   "mimetype": "text/x-python",
   "name": "python",
   "nbconvert_exporter": "python",
   "pygments_lexer": "ipython3",
   "version": "3.9.12"
  }
 },
 "nbformat": 4,
 "nbformat_minor": 5
}
