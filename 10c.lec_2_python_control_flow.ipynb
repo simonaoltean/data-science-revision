{
 "cells": [
  {
   "cell_type": "markdown",
   "metadata": {},
   "source": [
    "# Iteration & For-Loops\n",
    "\n",
    "If we have a container, we can use a `for` loop to iterate through its values"
   ]
  },
  {
   "cell_type": "markdown",
   "metadata": {},
   "source": [
    "What’s going on here?\n",
    "\n",
    "The rule is:\n",
    "\n",
    "- Expressions that evaluate to zero, empty sequences or containers (strings, lists, etc.) and `None` are all equivalent to `False`.  \n",
    "  \n",
    "  - for example, `[]` and `()` are equivalent to `False` in an `if` clause  \n",
    "  \n",
    "- All other values are equivalent to `True`.  \n",
    "  \n",
    "  - for example, `42` is equivalent to `True` in an `if` clause  "
   ]
  },
  {
   "cell_type": "code",
   "execution_count": 12,
   "metadata": {},
   "outputs": [
    {
     "name": "stdout",
     "output_type": "stream",
     "text": [
      "1\n",
      "4\n",
      "9\n"
     ]
    }
   ],
   "source": [
    "numbers = [1, 2, 3]\n",
    "for number in numbers:\n",
    "    print(number ** 2)"
   ]
  },
  {
   "cell_type": "markdown",
   "metadata": {},
   "source": [
    "This works on the `dict`, too:"
   ]
  },
  {
   "cell_type": "code",
   "execution_count": 13,
   "metadata": {},
   "outputs": [
    {
     "name": "stdout",
     "output_type": "stream",
     "text": [
      "1 : 2\n",
      "3 : 4\n"
     ]
    }
   ],
   "source": [
    "d = {1: 2, 3: 4}\n",
    "for k in d:\n",
    "    print(f\"{k} : {d[k]}\")"
   ]
  },
  {
   "cell_type": "code",
   "execution_count": 14,
   "metadata": {},
   "outputs": [
    {
     "name": "stdout",
     "output_type": "stream",
     "text": [
      "1 : 2\n",
      "3 : 4\n"
     ]
    }
   ],
   "source": [
    "d = {1: 2, 3: 4}\n",
    "for k, v in d.items():\n",
    "    print(f\"{k} : {v}\")\n",
    "    #print(k,v)"
   ]
  },
  {
   "cell_type": "markdown",
   "metadata": {},
   "source": [
    "# While-Loops"
   ]
  },
  {
   "cell_type": "markdown",
   "metadata": {},
   "source": [
    "Another type of iterative loop that you will encounter in Python is the While-Loop.\n",
    "\n",
    "While loops will execute a block of statements until a certain condition is met."
   ]
  },
  {
   "cell_type": "code",
   "execution_count": 15,
   "metadata": {},
   "outputs": [
    {
     "name": "stdout",
     "output_type": "stream",
     "text": [
      "0\n",
      "1\n",
      "2\n",
      "3\n",
      "4\n",
      "5\n"
     ]
    }
   ],
   "source": [
    "value = 0\n",
    "\n",
    "while value <= 5:\n",
    "    print(value)\n",
    "    value += 1"
   ]
  },
  {
   "cell_type": "code",
   "execution_count": 16,
   "metadata": {},
   "outputs": [
    {
     "name": "stdout",
     "output_type": "stream",
     "text": [
      "Account balance: 2500$\n",
      "Account balance: 2350$\n",
      "Account balance: 2200$\n",
      "Account balance: 2050$\n",
      "Account balance: 1900$\n",
      "Account balance: 1750$\n",
      "Account balance: 1600$\n",
      "Account balance: 1450$\n",
      "Account balance: 1300$\n",
      "Account balance: 1150$\n",
      "Account balance: 1000$\n",
      "Account balance: 850$\n",
      "Account balance: 700$\n",
      "Account balance: 550$\n",
      "Account balance: 400$\n",
      "Account balance: 250$\n",
      "Account balance: 100$\n",
      "Insufficient Funds!\n"
     ]
    }
   ],
   "source": [
    "balance = 2500\n",
    "\n",
    "while balance > 0:\n",
    "    print(f'Account balance: {balance}$')\n",
    "    if balance - 150 < 0:\n",
    "        print('Insufficient Funds!')\n",
    "        break\n",
    "    balance -= 150"
   ]
  },
  {
   "cell_type": "markdown",
   "metadata": {},
   "source": [
    "# A note on indentation in python"
   ]
  },
  {
   "cell_type": "code",
   "execution_count": 17,
   "metadata": {},
   "outputs": [
    {
     "ename": "IndentationError",
     "evalue": "expected an indented block (382544260.py, line 6)",
     "output_type": "error",
     "traceback": [
      "\u001b[1;36m  Input \u001b[1;32mIn [17]\u001b[1;36m\u001b[0m\n\u001b[1;33m    print(f\"{k} : {d[k]}\")\u001b[0m\n\u001b[1;37m    ^\u001b[0m\n\u001b[1;31mIndentationError\u001b[0m\u001b[1;31m:\u001b[0m expected an indented block\n"
     ]
    }
   ],
   "source": [
    "# Works\n",
    "for k in d: print(f\"{k} : {d[k]}\")\n",
    "\n",
    "# Doesnt work\n",
    "for k in d:\n",
    "print(f\"{k} : {d[k]}\")\n",
    "\n",
    "# Also doesn't work\n",
    "    for k in d:\n",
    "print(f\"{k} : {d[k]}\")"
   ]
  },
  {
   "cell_type": "markdown",
   "metadata": {},
   "source": [
    "If you want to cheat indentation rules, use **parentheses**"
   ]
  },
  {
   "cell_type": "code",
   "execution_count": 18,
   "metadata": {},
   "outputs": [
    {
     "name": "stdout",
     "output_type": "stream",
     "text": [
      "1 : 2\n",
      "3 : 4\n"
     ]
    }
   ],
   "source": [
    "for k in d: (\n",
    "print(f\"{k} : {d[k]}\")\n",
    ")"
   ]
  },
  {
   "cell_type": "markdown",
   "metadata": {},
   "source": [
    "Note the use of an `f-string` here to make print formatting nicer\n",
    "\n",
    "# Ranges\n",
    "\n",
    "We often use a `range` to iterate over successive numbers:\n",
    "\n"
   ]
  },
  {
   "cell_type": "code",
   "execution_count": 19,
   "metadata": {},
   "outputs": [
    {
     "data": {
      "text/plain": [
       "range(0, 10)"
      ]
     },
     "execution_count": 19,
     "metadata": {},
     "output_type": "execute_result"
    }
   ],
   "source": [
    "range(10)"
   ]
  },
  {
   "cell_type": "code",
   "execution_count": 20,
   "metadata": {},
   "outputs": [
    {
     "data": {
      "text/plain": [
       "[3, 4, 5, 6]"
      ]
     },
     "execution_count": 20,
     "metadata": {},
     "output_type": "execute_result"
    }
   ],
   "source": [
    "list(range(3,7))"
   ]
  },
  {
   "cell_type": "markdown",
   "metadata": {},
   "source": [
    "This can be useful if we're picking out elements based on index, like co-indexed arrays:"
   ]
  },
  {
   "cell_type": "code",
   "execution_count": 21,
   "metadata": {},
   "outputs": [
    {
     "data": {
      "text/plain": [
       "{'name': 'Matt', 'pet': 'dog', 'city': 'Montreal'}"
      ]
     },
     "execution_count": 21,
     "metadata": {},
     "output_type": "execute_result"
    }
   ],
   "source": [
    "keys = ['name', 'pet', 'city']\n",
    "values = ['Matt', 'dog', 'Montreal']\n",
    "d = {}\n",
    "\n",
    "for i in range(len(keys)):\n",
    "    d[keys[i]] = values[i]\n",
    "\n",
    "d"
   ]
  },
  {
   "cell_type": "markdown",
   "metadata": {},
   "source": [
    "The `zip` method however can be user to join lists:"
   ]
  },
  {
   "cell_type": "code",
   "execution_count": 42,
   "metadata": {},
   "outputs": [
    {
     "data": {
      "text/plain": [
       "<zip at 0x158999d0c40>"
      ]
     },
     "execution_count": 42,
     "metadata": {},
     "output_type": "execute_result"
    }
   ],
   "source": [
    "z = zip([1, 2, 3], [1, 4, 9])\n",
    "\n",
    "z"
   ]
  },
  {
   "cell_type": "markdown",
   "metadata": {},
   "source": [
    "Like `range`, the method `zip` isn't a container, it's a method for creating other containers"
   ]
  },
  {
   "cell_type": "code",
   "execution_count": 23,
   "metadata": {},
   "outputs": [
    {
     "data": {
      "text/plain": [
       "[(1, 1), (2, 4), (3, 9)]"
      ]
     },
     "execution_count": 23,
     "metadata": {},
     "output_type": "execute_result"
    }
   ],
   "source": [
    "list(z)"
   ]
  },
  {
   "cell_type": "markdown",
   "metadata": {},
   "source": [
    "`zip` can create dictionaries more efficiently:"
   ]
  },
  {
   "cell_type": "code",
   "execution_count": 3,
   "metadata": {},
   "outputs": [
    {
     "name": "stdout",
     "output_type": "stream",
     "text": [
      "The capital of Canada is Ottawa\n",
      "The capital of France is Paris\n",
      "The capital of UK is London\n"
     ]
    }
   ],
   "source": [
    "countries = ['Canada', 'France', 'UK']\n",
    "cities = ['Ottawa', 'Paris', 'London']\n",
    "for country, city in zip(countries, cities):\n",
    "    print(f'The capital of {country} is {city}')"
   ]
  },
  {
   "cell_type": "code",
   "execution_count": 8,
   "metadata": {},
   "outputs": [
    {
     "data": {
      "text/plain": [
       "{'Canada': 'Ottawa', 'France': 'Paris', 'UK': 'London'}"
      ]
     },
     "execution_count": 8,
     "metadata": {},
     "output_type": "execute_result"
    }
   ],
   "source": [
    "dict(zip(countries, cities))"
   ]
  },
  {
   "cell_type": "code",
   "execution_count": 5,
   "metadata": {},
   "outputs": [
    {
     "name": "stdout",
     "output_type": "stream",
     "text": [
      "Dict {0: 0, 1: 1, 2: 4, 3: 9, 4: 16, 5: 25, 6: 36, 7: 49, 8: 64, 9: 81, 10: 100, 11: 121, 12: 144, 13: 169, 14: 196, 15: 225, 16: 256, 17: 289, 18: 324, 19: 361, 20: 400, 21: 441, 22: 484, 23: 529, 24: 576, 25: 625, 26: 676, 27: 729, 28: 784, 29: 841, 30: 900, 31: 961, 32: 1024, 33: 1089, 34: 1156, 35: 1225, 36: 1296, 37: 1369, 38: 1444, 39: 1521, 40: 1600, 41: 1681, 42: 1764, 43: 1849, 44: 1936, 45: 2025, 46: 2116, 47: 2209, 48: 2304, 49: 2401}\n",
      "Keys [0, 1, 2, 3, 4, 5, 6, 7, 8, 9, 10, 11, 12, 13, 14, 15, 16, 17, 18, 19, 20, 21, 22, 23, 24, 25, 26, 27, 28, 29, 30, 31, 32, 33, 34, 35, 36, 37, 38, 39, 40, 41, 42, 43, 44, 45, 46, 47, 48, 49]\n",
      "Values [0, 1, 4, 9, 16, 25, 36, 49, 64, 81, 100, 121, 144, 169, 196, 225, 256, 289, 324, 361, 400, 441, 484, 529, 576, 625, 676, 729, 784, 841, 900, 961, 1024, 1089, 1156, 1225, 1296, 1369, 1444, 1521, 1600, 1681, 1764, 1849, 1936, 2025, 2116, 2209, 2304, 2401]\n"
     ]
    }
   ],
   "source": [
    "# Take a dict \n",
    "a = list(range(50))\n",
    "d = dict(zip(a, [x ** 2 for x in a]))\n",
    "print(f\"Dict {d}\")\n",
    "# split into two lists\n",
    "\n",
    "# Method 1\n",
    "k = list(d.keys())\n",
    "v = list(d.values())\n",
    "\n",
    "# Method 2\n",
    "k, v = [], []\n",
    "for i in d:\n",
    "    k.append(i)\n",
    "    v.append(d[i])\n",
    "print(f\"Keys {k}\")\n",
    "print(f\"Values {v}\")"
   ]
  },
  {
   "cell_type": "markdown",
   "metadata": {},
   "source": [
    "# List Comprehensions\n",
    "\n",
    "\n",
    "[List comprehensions](https://en.wikipedia.org/wiki/List_comprehension) are a tool for creating containers."
   ]
  },
  {
   "cell_type": "code",
   "execution_count": 57,
   "metadata": {},
   "outputs": [
    {
     "data": {
      "text/plain": [
       "['dogs', 'cats', 'birds']"
      ]
     },
     "execution_count": 57,
     "metadata": {},
     "output_type": "execute_result"
    }
   ],
   "source": [
    "animals = ['dog', 'cat', 'bird']\n",
    "# List comprehension\n",
    "plurals = [animal + 's' for animal in animals]\n",
    "plurals"
   ]
  },
  {
   "cell_type": "code",
   "execution_count": 60,
   "metadata": {},
   "outputs": [
    {
     "data": {
      "text/plain": [
       "[0, 1, 4, 9, 16, 25, 36, 49]"
      ]
     },
     "execution_count": 60,
     "metadata": {},
     "output_type": "execute_result"
    }
   ],
   "source": [
    "range(8)\n",
    "squares = [ x ** 2 for x in range(8)]\n",
    "squares"
   ]
  },
  {
   "cell_type": "markdown",
   "metadata": {},
   "source": [
    "# Logical Operators\n",
    "\n",
    "Many expressions evaluate to a Boolean (`True` or `False`)"
   ]
  },
  {
   "cell_type": "code",
   "execution_count": 29,
   "metadata": {},
   "outputs": [
    {
     "data": {
      "text/plain": [
       "True"
      ]
     },
     "execution_count": 29,
     "metadata": {},
     "output_type": "execute_result"
    }
   ],
   "source": [
    "x, y = 1, 2\n",
    "x < y"
   ]
  },
  {
   "cell_type": "code",
   "execution_count": 30,
   "metadata": {},
   "outputs": [
    {
     "data": {
      "text/plain": [
       "False"
      ]
     },
     "execution_count": 30,
     "metadata": {},
     "output_type": "execute_result"
    }
   ],
   "source": [
    "z = x >= y\n",
    "z"
   ]
  },
  {
   "cell_type": "markdown",
   "metadata": {},
   "source": [
    "These can be **chained**"
   ]
  },
  {
   "cell_type": "code",
   "execution_count": 63,
   "metadata": {},
   "outputs": [
    {
     "data": {
      "text/plain": [
       "True"
      ]
     },
     "execution_count": 63,
     "metadata": {},
     "output_type": "execute_result"
    }
   ],
   "source": [
    "1 < 2 <= 3"
   ]
  },
  {
   "cell_type": "markdown",
   "metadata": {},
   "source": [
    "Testing for equality is done with `==` and inequality with `!=`"
   ]
  },
  {
   "cell_type": "code",
   "execution_count": 32,
   "metadata": {},
   "outputs": [
    {
     "data": {
      "text/plain": [
       "True"
      ]
     },
     "execution_count": 32,
     "metadata": {},
     "output_type": "execute_result"
    }
   ],
   "source": [
    "x = 1    # Assignment\n",
    "x == 2   # Comparison\n",
    "x != 5   # Inequality"
   ]
  },
  {
   "cell_type": "markdown",
   "metadata": {},
   "source": [
    "In mathematics, assignment and comparison are the same `=` but this is too vague for computers to understand\n",
    "\n",
    "# Conditional Logic\n",
    "\n",
    "We can build conditional logic flow with `if`"
   ]
  },
  {
   "cell_type": "code",
   "execution_count": 33,
   "metadata": {},
   "outputs": [
    {
     "name": "stdout",
     "output_type": "stream",
     "text": [
      "1\n"
     ]
    }
   ],
   "source": [
    "if True:\n",
    "    print(\"1\")\n",
    "else:\n",
    "    print(\"2\")"
   ]
  },
  {
   "cell_type": "markdown",
   "metadata": {},
   "source": [
    "With this and the `elif` (else if) and `else` we can build complex logic flows:"
   ]
  },
  {
   "cell_type": "code",
   "execution_count": 34,
   "metadata": {},
   "outputs": [
    {
     "name": "stdout",
     "output_type": "stream",
     "text": [
      "-1 is negative\n",
      "2 is even\n",
      "3.5 is invalid\n",
      "44453 is invalid\n",
      "522 is even\n",
      "-444 is negative\n"
     ]
    }
   ],
   "source": [
    "l = [-1, 2, 3.5, 44453, 522, -444]\n",
    "\n",
    "for x in l:\n",
    "    if x < 0:\n",
    "        print(f\"{x} is negative\")\n",
    "    elif (x % 2) == 0:\n",
    "        print(f\"{x} is even\")\n",
    "    else:\n",
    "        print(f\"{x} is invalid\")\n"
   ]
  },
  {
   "cell_type": "markdown",
   "metadata": {},
   "source": [
    "Notice the bug here: if x is **both negative and even**, we miss it."
   ]
  },
  {
   "cell_type": "code",
   "execution_count": 35,
   "metadata": {},
   "outputs": [
    {
     "name": "stdout",
     "output_type": "stream",
     "text": [
      "-1 is negative\n",
      "2 is even\n",
      "3.5 is a decimal\n",
      "44453 is odd\n",
      "522 is even\n",
      "-444 is even and negative\n"
     ]
    }
   ],
   "source": [
    "#### Exercise (5-10min) Fix the bug - make sure the order is right. Checks the first clause that is correct\n",
    "l = [-1, 2, 3.5, 44453, 522, -444]\n",
    "\n",
    "for x in l:\n",
    "    if x < 0 and (x % 2) == 0:\n",
    "        print(f\"{x} is even and negative\")\n",
    "    elif x < 0:\n",
    "        print(f\"{x} is negative\")\n",
    "    elif (x % 2) == 0:\n",
    "        print(f\"{x} is even\")\n",
    "    elif isinstance(x,float) == True:\n",
    "        print(f\"{x} is a decimal\")\n",
    "    else:\n",
    "        print(f\"{x} is odd\")"
   ]
  },
  {
   "cell_type": "markdown",
   "metadata": {},
   "source": [
    "We can combine expressions using `and`, `or`, `not`\n",
    "\n",
    "There is also the `in` to check if something is in a container"
   ]
  },
  {
   "cell_type": "code",
   "execution_count": 36,
   "metadata": {},
   "outputs": [
    {
     "data": {
      "text/plain": [
       "True"
      ]
     },
     "execution_count": 36,
     "metadata": {},
     "output_type": "execute_result"
    }
   ],
   "source": [
    "1 < 2 and 'f' in 'foo'"
   ]
  },
  {
   "cell_type": "code",
   "execution_count": 37,
   "metadata": {},
   "outputs": [
    {
     "data": {
      "text/plain": [
       "False"
      ]
     },
     "execution_count": 37,
     "metadata": {},
     "output_type": "execute_result"
    }
   ],
   "source": [
    "1 < 2 and 'z' in 'foo'"
   ]
  },
  {
   "cell_type": "code",
   "execution_count": 38,
   "metadata": {},
   "outputs": [
    {
     "data": {
      "text/plain": [
       "True"
      ]
     },
     "execution_count": 38,
     "metadata": {},
     "output_type": "execute_result"
    }
   ],
   "source": [
    "1 < 2 or 'z' in 'foo'"
   ]
  },
  {
   "cell_type": "code",
   "execution_count": 39,
   "metadata": {},
   "outputs": [
    {
     "data": {
      "text/plain": [
       "True"
      ]
     },
     "execution_count": 39,
     "metadata": {},
     "output_type": "execute_result"
    }
   ],
   "source": [
    "1 < 2 or 'z' not in 'foo'"
   ]
  },
  {
   "cell_type": "markdown",
   "metadata": {},
   "source": [
    "Remember\n",
    "\n",
    "- `P and Q` is `True` if both are `True`, else `False`  \n",
    "- `P or Q` is `False` if both are `False`, else `True`  \n",
    "\n",
    "Some surprising rules:"
   ]
  },
  {
   "cell_type": "code",
   "execution_count": 40,
   "metadata": {},
   "outputs": [
    {
     "data": {
      "text/plain": [
       "'no'"
      ]
     },
     "execution_count": 40,
     "metadata": {},
     "output_type": "execute_result"
    }
   ],
   "source": [
    "x = 'yes' if [] else 'no' #if we fill the [] then will be yes\n",
    "x"
   ]
  }
 ],
 "metadata": {
  "file_extension": ".py",
  "kernelspec": {
   "display_name": "Python 3 (ipykernel)",
   "language": "python",
   "name": "python3"
  },
  "language_info": {
   "codemirror_mode": {
    "name": "ipython",
    "version": 3
   },
   "file_extension": ".py",
   "mimetype": "text/x-python",
   "name": "python",
   "nbconvert_exporter": "python",
   "pygments_lexer": "ipython3",
   "version": "3.9.13"
  },
  "mimetype": "text/x-python",
  "name": "python",
  "npconvert_exporter": "python",
  "pygments_lexer": "ipython3",
  "version": 3
 },
 "nbformat": 4,
 "nbformat_minor": 4
}
