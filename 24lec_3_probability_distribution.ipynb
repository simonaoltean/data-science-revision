{
 "cells": [
  {
   "cell_type": "markdown",
   "metadata": {
    "id": "-dYzWFMDbVdL"
   },
   "source": [
    "# Probability Distributions\n",
    "\n",
    "To give us the probability of an event occuring, we make use of probability models which map an event in the sample space to a number between 0 and 1, otherwise known as the probability. There are two general probability distributions - Discrete and Continuous Distributions.\n",
    "\n",
    "## Discrete Distributions\n",
    "\n",
    "Discrete distributions deal with situations that have a distinct countable number of outcomes. Examples of this include: Flipping coin(s), rolling a dice, picking a card out of a deck, etc.\n",
    "\n",
    "We can measure the probability of an event occuring using the formula that we have seen before in the probability lecture:\n",
    "\n",
    "$$P (Event) = \\frac{len(event space)}{len(sample space)}$$\n",
    "\n",
    "### Bernoulli Distribution\n",
    "The Bernoulli distribution deals with situations that have a binary outcome (0 or 1, heads or tails). \n",
    "\n",
    "$$f(k,p) = pk + (1-p)(1-k)$$\n",
    "\n",
    "Where k is the event result (1 or 0) and p is the probability of k = 1 occuring. This is useful when modelling a coin flip.\n",
    "\n",
    "### Binomial Distribution\n",
    "\n",
    "Now let's say we have an n amount of coins to flip and we want to count the number of heads, (x). In this case, we use the binomial distribution which can be written as:\n",
    "\n",
    "$$f(n,x,p) = \\binom nx p^x(1-p)^{n-x}$$\n",
    "\n",
    "### Poisson Distribution\n",
    "The last discrete distribution we'll talk about for now is the Poisson Distribution. This distribution gives the probability of a given number of events occurring in a fixed interval of time or space if these events occur with a known constant mean rate and independently of the time since the last event. This distribution is written as:\n",
    "\n",
    "$$p(x;λ)=\\frac{e^{−λ}λ^{x}}{x!}$$ $$ for \\ x=0,1,2,⋯$$\n",
    "\n",
    "Where λ is the average rate of events occuring. If we have a time rate for r events to happen in a time, t, we can write λ = rt and the equation becomes:\n",
    "\n",
    "$$p(x;λ)=\\frac{e^{−rt}(rt)^{x}}{x!}$$ $$ for \\ x=0,1,2,⋯$$\n",
    "\n",
    "In python, we can view these distributions using the scipy package"
   ]
  },
  {
   "cell_type": "code",
   "execution_count": 1,
   "metadata": {
    "colab": {
     "base_uri": "https://localhost:8080/",
     "height": 295
    },
    "executionInfo": {
     "elapsed": 1122,
     "status": "ok",
     "timestamp": 1615818897772,
     "user": {
      "displayName": "Usama Bari",
      "photoUrl": "https://lh3.googleusercontent.com/a-/AOh14Gi63QYmB0IpHlTGDpnIp177mO5UfCMQzxIj0VkiwQ=s64",
      "userId": "15037366419685538600"
     },
     "user_tz": 240
    },
    "id": "xnSmC2f2bURL",
    "outputId": "34b053b8-d5b4-44e6-d142-27e0ae23ec9d"
   },
   "outputs": [
    {
     "data": {
      "image/png": "[encoded data removed]",
      "text/plain": [
       "<Figure size 432x288 with 1 Axes>"
      ]
     },
     "metadata": {
      "needs_background": "light"
     },
     "output_type": "display_data"
    }
   ],
   "source": [
    "#Bernoulli Distribution\n",
    "import scipy.stats as sc\n",
    "import matplotlib.pyplot as plt\n",
    "\n",
    "p = 0.3\n",
    "r = sc.bernoulli.rvs(p, size= 1000)\n",
    "\n",
    "plt.hist(r)\n",
    "plt.title(\"Number of Outcomes with Bernoulli Distribution\")\n",
    "plt.ylabel(\"Count\")\n",
    "plt.xlabel(\"Outcome\")\n",
    "plt.show()"
   ]
  },
  {
   "cell_type": "code",
   "execution_count": 2,
   "metadata": {
    "colab": {
     "base_uri": "https://localhost:8080/",
     "height": 295
    },
    "executionInfo": {
     "elapsed": 394,
     "status": "ok",
     "timestamp": 1615819064227,
     "user": {
      "displayName": "Usama Bari",
      "photoUrl": "https://lh3.googleusercontent.com/a-/AOh14Gi63QYmB0IpHlTGDpnIp177mO5UfCMQzxIj0VkiwQ=s64",
      "userId": "15037366419685538600"
     },
     "user_tz": 240
    },
    "id": "fdaTVYHhrAfI",
    "outputId": "8fa93211-68e1-4c76-e984-905dcbcf4631"
   },
   "outputs": [
    {
     "data": {
      "image/png": "[encoded data removed]",
      "text/plain": [
       "<Figure size 432x288 with 1 Axes>"
      ]
     },
     "metadata": {
      "needs_background": "light"
     },
     "output_type": "display_data"
    }
   ],
   "source": [
    "#Binomial Distribution\n",
    "\n",
    "p = 0.5\n",
    "n = 10\n",
    "r = sc.binom.rvs(n, p, size=15)\n",
    "\n",
    "plt.hist(r)\n",
    "plt.title(\"Number of Hits with Binomial Distribution\")\n",
    "plt.ylabel(\"Count\")\n",
    "plt.xlabel(\"Number of Hits\")\n",
    "plt.show()"
   ]
  },
  {
   "cell_type": "code",
   "execution_count": 3,
   "metadata": {},
   "outputs": [
    {
     "data": {
      "text/plain": [
       "BinomTestResult(k=30, n=50, alternative='two-sided', proportion_estimate=0.6, pvalue=0.20263875106454066)"
      ]
     },
     "execution_count": 3,
     "metadata": {},
     "output_type": "execute_result"
    }
   ],
   "source": [
    "sc.binomtest(30, 50, p=0.5) "
   ]
  },
  {
   "cell_type": "code",
   "execution_count": 4,
   "metadata": {
    "colab": {
     "base_uri": "https://localhost:8080/",
     "height": 295
    },
    "executionInfo": {
     "elapsed": 515,
     "status": "ok",
     "timestamp": 1615819209072,
     "user": {
      "displayName": "Usama Bari",
      "photoUrl": "https://lh3.googleusercontent.com/a-/AOh14Gi63QYmB0IpHlTGDpnIp177mO5UfCMQzxIj0VkiwQ=s64",
      "userId": "15037366419685538600"
     },
     "user_tz": 240
    },
    "id": "-4v3RPlTrPMd",
    "outputId": "23ded6d7-1b0a-491e-fd42-8bf14b8a94c9"
   },
   "outputs": [
    {
     "data": {
      "image/png": "[encoded data removed]",
      "text/plain": [
       "<Figure size 432x288 with 1 Axes>"
      ]
     },
     "metadata": {
      "needs_background": "light"
     },
     "output_type": "display_data"
    }
   ],
   "source": [
    "#Poisson Distribution\n",
    "\n",
    "p=0.3\n",
    "x=5\n",
    "r=sc.poisson.rvs(x,p,size=15)\n",
    "\n",
    "plt.hist(r)\n",
    "plt.title(\"Number of Events Occuring in a Time Frame with Poisson\")\n",
    "plt.xlabel(\"Time Frame (sec)\")\n",
    "plt.ylabel(\"Count\")\n",
    "plt.show()"
   ]
  },
  {
   "cell_type": "markdown",
   "metadata": {
    "id": "KNwGYUHGtO4t"
   },
   "source": [
    "## Continuous Distributions\n",
    "\n",
    "In situations where we have an infinite amount of possible events, we can't use the same formula that we use for Discrete Distributions. \n",
    "\n",
    "$$P (Event) = \\frac{len(event space)}{len(sample space)}$$\n",
    "\n",
    "In this case, $len(sample space) =  \\infty$ which will make $P(event) = 0$\n",
    "\n",
    "Instead, we measure a range of values $P(x>20)$. If we want to find the probability of an event being between 2 values, a & b we integrate our probability function.\n",
    "\n",
    "$$P(a<x<b) = \\int_{a}^{b} f(x) dx$$\n",
    "\n",
    "**Note:** The above probability distribution function must be ***normalized***, or:\n",
    "\n",
    "$$\\int_{-\\infty}^{\\infty} f(x) dx = 1$$\n",
    "\n",
    "### Exponential Distribution\n",
    "\n",
    "The exponential distribution is a continuous distribution that is commonly used to measure the expected time for an event to occur. It is written as:\n",
    "\n",
    "$$f(x,λ) = λe^{-(λx)}\\\\for\\ x>0$$\n",
    "\n",
    "### Normal Distribution\n",
    "\n",
    "This is the most important distribution that you will come across. Ever. The normal distribution is the  distribution that alot of statistical tests are based off from and this distribution can be used to model a wide variety of phenomena. The distribution is written as:\n",
    "\n",
    "$$f(x) = \\frac{1}{σ\\sqrt{2\\pi}}e^{-\\frac{1}{2} (\\frac{x-μ}{σ})^2}$$\n",
    "\n",
    "The **Standard Normal Distribution** is a normal distribution with μ=0 and σ=1. Any and all normal distribution can be converted to a standard normal distribution using the transformation:\n",
    "\n",
    "$$Z = \\frac{X - μ}{σ}$$\n",
    "\n",
    "Let's plot these distributions using SciPy"
   ]
  },
  {
   "cell_type": "code",
   "execution_count": 5,
   "metadata": {
    "colab": {
     "base_uri": "https://localhost:8080/",
     "height": 281
    },
    "executionInfo": {
     "elapsed": 468,
     "status": "ok",
     "timestamp": 1615819960351,
     "user": {
      "displayName": "Usama Bari",
      "photoUrl": "https://lh3.googleusercontent.com/a-/AOh14Gi63QYmB0IpHlTGDpnIp177mO5UfCMQzxIj0VkiwQ=s64",
      "userId": "15037366419685538600"
     },
     "user_tz": 240
    },
    "id": "N6xhb9l1sopT",
    "outputId": "88e764c8-5143-4b7e-82a1-7bb4133f81d1"
   },
   "outputs": [
    {
     "data": {
      "image/png": "[encoded data removed]",
      "text/plain": [
       "<Figure size 432x288 with 1 Axes>"
      ]
     },
     "metadata": {
      "needs_background": "light"
     },
     "output_type": "display_data"
    }
   ],
   "source": [
    "#Exponential Distribution\n",
    "\n",
    "lamb= 0.3\n",
    "x = 5\n",
    "r=sc.expon.rvs(x, lamb, size=10)\n",
    "\n",
    "plt.hist(r)\n",
    "plt.title(\"Waiting Times in a Given Time Interval\")\n",
    "plt.show()"
   ]
  },
  {
   "cell_type": "code",
   "execution_count": 6,
   "metadata": {
    "colab": {
     "base_uri": "https://localhost:8080/",
     "height": 295
    },
    "executionInfo": {
     "elapsed": 544,
     "status": "ok",
     "timestamp": 1615820110778,
     "user": {
      "displayName": "Usama Bari",
      "photoUrl": "https://lh3.googleusercontent.com/a-/AOh14Gi63QYmB0IpHlTGDpnIp177mO5UfCMQzxIj0VkiwQ=s64",
      "userId": "15037366419685538600"
     },
     "user_tz": 240
    },
    "id": "AozHNRRX_6D8",
    "outputId": "a489470d-3c5e-4e55-c6e0-de8f8b6a2e69"
   },
   "outputs": [
    {
     "data": {
      "image/png": "[encoded data removed]",
      "text/plain": [
       "<Figure size 432x288 with 1 Axes>"
      ]
     },
     "metadata": {
      "needs_background": "light"
     },
     "output_type": "display_data"
    }
   ],
   "source": [
    "#Normal Distribution\n",
    "\n",
    "miu = 5\n",
    "sigma =10\n",
    "\n",
    "r = sc.norm.rvs(miu, sigma, size=1000)\n",
    "\n",
    "plt.hist(r)\n",
    "plt.title(\"Number of Events Occuring in a Time Frame with Normal Distribution\")\n",
    "plt.ylabel(\"Count of Events\")\n",
    "plt.xlabel(\"Time (sec)\")\n",
    "plt.show()"
   ]
  },
  {
   "cell_type": "markdown",
   "metadata": {},
   "source": [
    "# Central Limit Theorem\n",
    "\n",
    "The normal distribution arises normally in many situations. One of the core ideas in statistics, the [Central Limit Theorem](https://en.wikipedia.org/wiki/Central_limit_theorem) states that the average value of many observations (regardless of the original distribution they come from!) will be **normally distributed**. \n",
    "\n",
    "In mathematical terms, we say the **sampling distribution of the mean of any distribution is normally distributed**\n",
    "\n",
    "We can see this by plotting the distribution of observed $p$ with 50 coinflips with probability $p=50$. They come from a binomial distribution yet generate a normal:"
   ]
  },
  {
   "cell_type": "code",
   "execution_count": 7,
   "metadata": {},
   "outputs": [
    {
     "name": "stdout",
     "output_type": "stream",
     "text": [
      "0.0574\n"
     ]
    },
    {
     "data": {
      "image/png": "[encoded data removed]",
      "text/plain": [
       "<Figure size 432x288 with 1 Axes>"
      ]
     },
     "metadata": {
      "needs_background": "light"
     },
     "output_type": "display_data"
    }
   ],
   "source": [
    "import numpy as np \n",
    "import pandas as pd\n",
    "\n",
    "res = []\n",
    "for i in range(5000):\n",
    "    res.append((np.random.rand(50) > 0.5).mean())\n",
    "res = pd.Series(res)\n",
    "print((res > 0.6).sum() / len(res))\n",
    "res.hist(bins=25);\n"
   ]
  },
  {
   "cell_type": "markdown",
   "metadata": {
    "id": "wxJFR7lLIMCa"
   },
   "source": [
    "# CLT (Take 2)"
   ]
  },
  {
   "cell_type": "code",
   "execution_count": 8,
   "metadata": {
    "colab": {
     "base_uri": "https://localhost:8080/",
     "height": 265
    },
    "executionInfo": {
     "elapsed": 508,
     "status": "ok",
     "timestamp": 1615820248416,
     "user": {
      "displayName": "Usama Bari",
      "photoUrl": "https://lh3.googleusercontent.com/a-/AOh14Gi63QYmB0IpHlTGDpnIp177mO5UfCMQzxIj0VkiwQ=s64",
      "userId": "15037366419685538600"
     },
     "user_tz": 240
    },
    "id": "n2_U_vI4Hym8",
    "outputId": "ec6e1f4c-bdea-46b1-cfe7-b0351987e3d6"
   },
   "outputs": [
    {
     "data": {
      "image/png": "[encoded data removed]",
      "text/plain": [
       "<Figure size 432x288 with 1 Axes>"
      ]
     },
     "metadata": {
      "needs_background": "light"
     },
     "output_type": "display_data"
    }
   ],
   "source": [
    "p = 0.5\n",
    "n =10\n",
    "r = sc.binom.rvs(n,p, size=15)\n",
    "\n",
    "plt.hist(r)\n",
    "plt.show()"
   ]
  },
  {
   "cell_type": "code",
   "execution_count": 9,
   "metadata": {
    "colab": {
     "base_uri": "https://localhost:8080/",
     "height": 265
    },
    "executionInfo": {
     "elapsed": 1734,
     "status": "ok",
     "timestamp": 1615820267704,
     "user": {
      "displayName": "Usama Bari",
      "photoUrl": "https://lh3.googleusercontent.com/a-/AOh14Gi63QYmB0IpHlTGDpnIp177mO5UfCMQzxIj0VkiwQ=s64",
      "userId": "15037366419685538600"
     },
     "user_tz": 240
    },
    "id": "tuSo_6ZUIw7w",
    "outputId": "4032edee-38bf-4327-faea-0a4b5728f108"
   },
   "outputs": [
    {
     "data": {
      "image/png": "[encoded data removed]",
      "text/plain": [
       "<Figure size 432x288 with 1 Axes>"
      ]
     },
     "metadata": {
      "needs_background": "light"
     },
     "output_type": "display_data"
    }
   ],
   "source": [
    "p = 0.5\n",
    "n =10\n",
    "r = sc.binom.rvs(n,p, size=150)\n",
    "\n",
    "plt.hist(r)\n",
    "plt.show()"
   ]
  },
  {
   "cell_type": "code",
   "execution_count": 10,
   "metadata": {
    "colab": {
     "base_uri": "https://localhost:8080/",
     "height": 265
    },
    "executionInfo": {
     "elapsed": 3540,
     "status": "ok",
     "timestamp": 1615820281425,
     "user": {
      "displayName": "Usama Bari",
      "photoUrl": "https://lh3.googleusercontent.com/a-/AOh14Gi63QYmB0IpHlTGDpnIp177mO5UfCMQzxIj0VkiwQ=s64",
      "userId": "15037366419685538600"
     },
     "user_tz": 240
    },
    "id": "a5oza0LrIyrv",
    "outputId": "d14b48df-e1fa-41d9-e516-216091e772c9"
   },
   "outputs": [
    {
     "data": {
      "image/png": "[encoded data removed]",
      "text/plain": [
       "<Figure size 432x288 with 1 Axes>"
      ]
     },
     "metadata": {
      "needs_background": "light"
     },
     "output_type": "display_data"
    }
   ],
   "source": [
    "p = 0.5\n",
    "n =10\n",
    "r = sc.binom.rvs(n,p, size=1500)\n",
    "\n",
    "plt.hist(r)\n",
    "plt.show()"
   ]
  },
  {
   "cell_type": "markdown",
   "metadata": {
    "id": "bKlPL-6xXVgB"
   },
   "source": [
    "## Hypothesis Testing\n",
    "\n",
    "To put it simply, hypothesis testing allows us to use our data to see if there is a statistically significant difference between two or more groups. Usually with hypothesis testing, we have a null hypothesis that we either **reject or fail to reject** NEVER accept. The null hypothesis is a hypothesis that essentially states that any difference between the two groups we are testing is up to random chance. We can assess statistical significance using a **p value**. A p value is the likelihood that we'd get our data given we model our data with the parameters specified by the null hypothesis. Usually, if our p value is under 0.05 we can reject our null hypothesis as the likelihood of our data coming from random chance is less than 5%.\n",
    "\n",
    "Take for example, we have two groups of students: One group that didn't study for a test and another group that did and took their scores out of 20 on the test. We can easily run a t test on the data using scipy.\n",
    "\n"
   ]
  },
  {
   "cell_type": "code",
   "execution_count": 11,
   "metadata": {
    "colab": {
     "base_uri": "https://localhost:8080/"
    },
    "executionInfo": {
     "elapsed": 1001,
     "status": "ok",
     "timestamp": 1615821651452,
     "user": {
      "displayName": "Usama Bari",
      "photoUrl": "https://lh3.googleusercontent.com/a-/AOh14Gi63QYmB0IpHlTGDpnIp177mO5UfCMQzxIj0VkiwQ=s64",
      "userId": "15037366419685538600"
     },
     "user_tz": 240
    },
    "id": "eBIlwEW0XOwL",
    "outputId": "657b4cf0-a2ff-49b7-8ad2-bfa83babbbde"
   },
   "outputs": [
    {
     "data": {
      "text/plain": [
       "Ttest_indResult(statistic=-5.0028338608131415, pvalue=0.0005350941686363989)"
      ]
     },
     "execution_count": 11,
     "metadata": {},
     "output_type": "execute_result"
    }
   ],
   "source": [
    "grp1 = [0,1,4,5,2,10,11]\n",
    "grp2 = [11,15,18,20,19]\n",
    "sc.ttest_ind(grp1, grp2)"
   ]
  },
  {
   "cell_type": "code",
   "execution_count": null,
   "metadata": {
    "id": "k4rcKApHd1gF"
   },
   "outputs": [],
   "source": []
  }
 ],
 "metadata": {
  "colab": {
   "authorship_tag": "ABX9TyO/dBrBed/hO6VKydpEU1Jc",
   "name": "Copy of 4.1_Probability_Distributions_Lecture.ipynb",
   "provenance": [
    {
     "file_id": "19g1baj5ulDezXD77R1em2MjcdoVvcspP",
     "timestamp": 1615805651735
    },
    {
     "file_id": "1PVNUOkp1sIKBDueZJGwGNnBXiclwwCSz",
     "timestamp": 1615805551009
    }
   ]
  },
  "kernelspec": {
   "display_name": "Python 3 (ipykernel)",
   "language": "python",
   "name": "python3"
  },
  "language_info": {
   "codemirror_mode": {
    "name": "ipython",
    "version": 3
   },
   "file_extension": ".py",
   "mimetype": "text/x-python",
   "name": "python",
   "nbconvert_exporter": "python",
   "pygments_lexer": "ipython3",
   "version": "3.9.13"
  }
 },
 "nbformat": 4,
 "nbformat_minor": 4
}
