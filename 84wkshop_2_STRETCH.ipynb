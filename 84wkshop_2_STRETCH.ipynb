{
 "cells": [
  {
   "cell_type": "markdown",
   "id": "1f8b613a",
   "metadata": {},
   "source": [
    "# Regression - GLMs STRETCH"
   ]
  },
  {
   "cell_type": "markdown",
   "id": "244014cd",
   "metadata": {},
   "source": [
    "## Exercise 1: Survival Question\n",
    "\n",
    "The `data/telco_churn.csv` dataset comes from [here](https://www.kaggle.com/blastchar/telco-customer-churn) and here is the description:\n",
    "\n",
    "**Context**\n",
    "\n",
    "\"Predict behavior to retain customers. You can analyze all relevant customer data and develop focused customer retention programs.\" [IBM Sample Data Sets]\n",
    "Content\n",
    "\n",
    "Each row represents a customer, each column contains customer’s attributes described on the column Metadata.\n",
    "\n",
    "The data set includes information about:\n",
    "\n",
    "- Customers who left within the last month – the column is called Churn\n",
    "- Services that each customer has signed up for – phone, multiple lines, internet, online security, online backup, device protection, tech support, and streaming TV and movies\n",
    "- Customer account information – how long they’ve been a customer, contract, payment method, paperless billing, monthly charges, and total charges\n",
    "- Demographic info about customers – gender, age range, and if they have partners and dependents\n",
    "\n",
    "\n",
    "### 1.1: StreamingTV churn\n",
    "\n",
    "The `Tenure` column is how long the customer lasted. Make the survival curve for both the group using StreamingTV and the one not using it in the dataset\n",
    "\n",
    "![](../assets/streamingtv.png)\n",
    "\n",
    "\n",
    "## 1.2: Survival Regression\n",
    "\n",
    "Use either lifelines or statsmodels to implement a survival regression model predicting tenure. Don't forget to use the churn column as the event column."
   ]
  },
  {
   "cell_type": "code",
   "execution_count": null,
   "id": "a475af1e",
   "metadata": {},
   "outputs": [],
   "source": [
    "# exercise 1.1"
   ]
  },
  {
   "cell_type": "code",
   "execution_count": null,
   "id": "3ad3c3dc",
   "metadata": {},
   "outputs": [],
   "source": []
  },
  {
   "cell_type": "code",
   "execution_count": null,
   "id": "63a31b3b",
   "metadata": {},
   "outputs": [],
   "source": [
    "# exercise 1.2"
   ]
  },
  {
   "cell_type": "code",
   "execution_count": null,
   "id": "108102ff",
   "metadata": {},
   "outputs": [],
   "source": []
  }
 ],
 "metadata": {
  "kernelspec": {
   "display_name": "Python 3 (ipykernel)",
   "language": "python",
   "name": "python3"
  },
  "language_info": {
   "codemirror_mode": {
    "name": "ipython",
    "version": 3
   },
   "file_extension": ".py",
   "mimetype": "text/x-python",
   "name": "python",
   "nbconvert_exporter": "python",
   "pygments_lexer": "ipython3",
   "version": "3.9.7"
  }
 },
 "nbformat": 4,
 "nbformat_minor": 5
}
