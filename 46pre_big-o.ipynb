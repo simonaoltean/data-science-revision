{
 "cells": [
  {
   "cell_type": "markdown",
   "metadata": {
    "id": "8GgyIJ1HjnNC"
   },
   "source": [
    "# Notes on Big-O notation\n",
    "\n",
    "Big-O is a theoretical way to think about algorithms. Big-O doesn't care about what programming language you use, what computer you run your code on, or even how much time it takes to run the algorithm in real life.\n",
    "\n",
    "Big-O only cares about how the number of steps taken grow with respect to the size of the input.\n",
    "\n"
   ]
  },
  {
   "cell_type": "markdown",
   "metadata": {},
   "source": [
    "## Big O Notation\n",
    "\n",
    "Big-O cares about how the number of steps we have to take grows in relation to the input size.\n",
    "\n",
    "### Laws of Big-O\n",
    "\n",
    "#### 1. Big-O only cares about the worst case\n",
    "\n",
    "The Big-O of an algorithm is always going to be worst case the algorithm can run.\n",
    "\n",
    "For $O(n)$ we pass through all elements.\n",
    "\n",
    "### 2. Big-O doesn't care about constant factors.\n",
    "\n",
    "In an equation like $y=55+6x2$,  `55` is a constant -- it's the same whatever the input and output is. Big-O doesn't care about that, so we can say\n",
    "\n",
    "$$O(1025+n)=O(n)$$ \n",
    "\n",
    "Which might seem crazy -- clearly  $(1025+n)>n$  for all  $n$.\n",
    "\n",
    "But also note that sometimes we talk about the big-O of the memory required by the algorithm. For instance, in the selection algorithm (Searching for an element in a container), we need one copy of the input array to work on, so the memory required is  $O(n)$.\n",
    "\n",
    "#### 3. Big-O doesn't care about low-order terms\n",
    "\n",
    "Low order terms are constant multipliers of the input. So  $$O(6n)=O(n)=O(1012n)$$ . We care about multipliers that are in terms of  n  (like  $log(n)$  ) or exponents on  n  (like  $n^3$ ).\n",
    "\n",
    "#### 4. Algorithms that take the same number of steps for all inputs are  $O(1)$.\n",
    "\n",
    "This is pretty self explanatory but here's an example of a function with complexity $O(1)$."
   ]
  },
  {
   "cell_type": "markdown",
   "metadata": {},
   "source": [
    "## O (1)"
   ]
  },
  {
   "cell_type": "code",
   "execution_count": 1,
   "metadata": {
    "id": "ZNvhI_Ekizww"
   },
   "outputs": [],
   "source": [
    "#O(1)\n",
    "\n",
    "def divide(n):\n",
    "    return n/2"
   ]
  },
  {
   "cell_type": "markdown",
   "metadata": {},
   "source": [
    "## O (n)"
   ]
  },
  {
   "cell_type": "code",
   "execution_count": 2,
   "metadata": {
    "id": "0RAhgftkunCU"
   },
   "outputs": [
    {
     "data": {
      "text/plain": [
       "' The element, 3, was in the list. It is at position 4 in the list'"
      ]
     },
     "execution_count": 2,
     "metadata": {},
     "output_type": "execute_result"
    }
   ],
   "source": [
    "#O(n)\n",
    "\n",
    "def search(n,_list):\n",
    "    for i in _list:\n",
    "        if i == n:\n",
    "            return f' The element, {n}, was in the list. It is at position {i+1} in the list'\n",
    "\n",
    "X = [1,2,3,4,5]\n",
    "y = 3\n",
    "\n",
    "search(y,X)"
   ]
  },
  {
   "cell_type": "markdown",
   "metadata": {},
   "source": [
    "## O (n<sup>c</sup>)"
   ]
  },
  {
   "cell_type": "code",
   "execution_count": 3,
   "metadata": {
    "id": "mKlGP4dzvV4P"
   },
   "outputs": [
    {
     "data": {
      "text/plain": [
       "[0, 1]"
      ]
     },
     "execution_count": 3,
     "metadata": {},
     "output_type": "execute_result"
    }
   ],
   "source": [
    "#O(n^c) - If you have n raised to a power, c, this automatically tells you that there is a nested loop.\n",
    "\n",
    "def two_sum(nums,target):\n",
    "    output = []\n",
    "    for i in range(len(nums)):\n",
    "        x = target - nums[i]\n",
    "        for j in range(len(nums)):\n",
    "            if nums[j] == x and len(output) < 2:\n",
    "                output.append(i)\n",
    "                output.append(j)\n",
    "    return output\n",
    "\n",
    "nums = [2,7,11,15]\n",
    "target = 9\n",
    "output = []\n",
    "\n",
    "two_sum(nums,target)\n"
   ]
  },
  {
   "cell_type": "markdown",
   "metadata": {},
   "source": [
    "## O (log n)"
   ]
  },
  {
   "cell_type": "code",
   "execution_count": 4,
   "metadata": {
    "id": "UFnW9lHFv2qd"
   },
   "outputs": [
    {
     "name": "stdout",
     "output_type": "stream",
     "text": [
      "Subarray in step 0: [1, 2, 3, 4, 5, 6, 7, 8, 9]\n",
      "Subarray in step 1: [6, 7, 8, 9]\n",
      "Subarray in step 2: [9]\n"
     ]
    },
    {
     "data": {
      "text/plain": [
       "8"
      ]
     },
     "execution_count": 4,
     "metadata": {},
     "output_type": "execute_result"
    }
   ],
   "source": [
    "# O(log n) - If you see log n, this usually involves cutting your data container in half several times like in the Binary Search Example\n",
    "\n",
    "def BinarySearch(array, element):\n",
    "    mid = 0\n",
    "    start = 0\n",
    "    end = len(array)\n",
    "    step = 0\n",
    "\n",
    "    while (start <= end):\n",
    "        print(\"Subarray in step {}: {}\".format(step, str(array[start:end+1])))\n",
    "        step = step+1\n",
    "        mid = (start + end) // 2\n",
    "\n",
    "        if element == array[mid]:\n",
    "            return mid\n",
    "\n",
    "        if element < array[mid]:\n",
    "            end = mid - 1\n",
    "        else:\n",
    "            start = mid + 1\n",
    "    return -1\n",
    "  \n",
    "\n",
    "Sort = [1,2,3,4,5,6,7,8,9]\n",
    "BinarySearch(Sort, 9)\n",
    "\n"
   ]
  },
  {
   "cell_type": "markdown",
   "metadata": {},
   "source": [
    "## O (n log n)"
   ]
  },
  {
   "cell_type": "code",
   "execution_count": 5,
   "metadata": {
    "id": "r-rW6GjMw8IK"
   },
   "outputs": [
    {
     "data": {
      "text/plain": [
       "[1, 2, 3, 5, 7, 8]"
      ]
     },
     "execution_count": 5,
     "metadata": {},
     "output_type": "execute_result"
    }
   ],
   "source": [
    "# O(nlogn) - Linearithmic\n",
    "def mergeSort(X):\n",
    "  '''\n",
    "  Given an unsorted list (X) of numbers, \n",
    "  the function will update X so that the numbers are sorted.\n",
    "  '''\n",
    "  if len(X) > 1:\n",
    "    mid = len(X)//2\n",
    " \n",
    "    L = X[:mid]\n",
    "    R = X[mid:]\n",
    "    \n",
    "    #Sort L\n",
    "    mergeSort(L)\n",
    "    #Sort R\n",
    "    mergeSort(R)\n",
    "    \n",
    "    i = j = k = 0\n",
    "    \n",
    "    # add data to temp arrays L and R\n",
    "    while i < len(L) and j < len(R):\n",
    "        \n",
    "        if L[i] < R[j]:\n",
    "            X[k] = L[i]\n",
    "            i += 1\n",
    "        else:\n",
    "            X[k] = R[j]\n",
    "            j += 1\n",
    "        k += 1\n",
    "    \n",
    "    #Last check to see if any items were left\n",
    "    while i < len(L):\n",
    "        X[k] = L[i]\n",
    "        i += 1\n",
    "        k += 1\n",
    "    while j < len(R):\n",
    "        X[k] = R[j]\n",
    "        j += 1\n",
    "        k += 1\n",
    "    return(X)\n",
    "\n",
    "num = [1,5,2,7,3,8]\n",
    "mergeSort(num)"
   ]
  },
  {
   "cell_type": "markdown",
   "metadata": {},
   "source": [
    "## O (2<sup>n</sup>)"
   ]
  },
  {
   "cell_type": "code",
   "execution_count": 6,
   "metadata": {},
   "outputs": [
    {
     "data": {
      "text/plain": [
       "55"
      ]
     },
     "execution_count": 6,
     "metadata": {},
     "output_type": "execute_result"
    }
   ],
   "source": [
    "#O(2^n) - Exponential\n",
    "\n",
    "def fibonacci(n):\n",
    "    \"\"\"Convers a number value to its fib equivalent\"\"\"\n",
    "    if n <= 1:\n",
    "        return n\n",
    "    return fibonacci(n-1) + fibonacci(n-2)\n",
    "\n",
    "fibonacci(10) "
   ]
  },
  {
   "cell_type": "markdown",
   "metadata": {},
   "source": [
    "## O (log n)\n"
   ]
  },
  {
   "cell_type": "code",
   "execution_count": 7,
   "metadata": {
    "id": "NAagC8I30CG6"
   },
   "outputs": [],
   "source": [
    "#O(log n) - same as iterative binary sure in time complexity. Not as good in space conplexity\n",
    "\n",
    "def binary_search_recursive(array, element, start, end):\n",
    "    if start > end:\n",
    "        return -1\n",
    "\n",
    "    mid = (start + end) // 2\n",
    "    if element == array[mid]:\n",
    "        return mid\n",
    "\n",
    "    if element < array[mid]:\n",
    "        return binary_search_recursive(array, element, start, mid-1)\n",
    "    else:\n",
    "        return binary_search_recursive(array, element, mid+1, end)\n"
   ]
  },
  {
   "cell_type": "markdown",
   "metadata": {
    "id": "wMkWm89532R-"
   },
   "source": [
    "## 3Sum\n",
    "\n",
    "Given an array nums of n integers, are there elements a, b, c in nums such that a + b + c = 0? Find all unique triplets in the array which gives the sum of zero.\n",
    "\n",
    "Notice that the solution set must not contain duplicate triplets.\n",
    "\n",
    "```\n",
    "Input: nums = [-1,0,1,2,-1,-4]\n",
    "Output: [[-1,-1,2],[-1,0,1]]\n",
    "```"
   ]
  },
  {
   "cell_type": "code",
   "execution_count": 8,
   "metadata": {
    "id": "R-ItHkbN4Uq1"
   },
   "outputs": [
    {
     "name": "stdout",
     "output_type": "stream",
     "text": [
      "[[-1, 0, 1], [-1, -1, 2]]\n"
     ]
    }
   ],
   "source": [
    "def sol(nums):\n",
    "    result = []\n",
    "    for i in range(len(nums)):\n",
    "        for j in range(len(nums)):\n",
    "            for k in range(len(nums)):\n",
    "                if nums[i]+nums[j]+nums[k] == 0 and i!=j and i !=k and j !=k:\n",
    "                    x = sorted([nums[i], nums[j], nums[k]])\n",
    "                    if x not in result:\n",
    "                        result.append(x)\n",
    "    print(result)\n",
    "\n",
    "nums = [-1,0,1,2,-1,-4]\n",
    "sol(nums)"
   ]
  }
 ],
 "metadata": {
  "colab": {
   "authorship_tag": "ABX9TyMM2NN3+cBQnTQ4UHpOlKoh",
   "name": "Review_of_Functions_and_Application_Lecture.ipynb",
   "provenance": [
    {
     "file_id": "1IugZVqY1r3v1tGUL3lCzXIEslPYCYj-L",
     "timestamp": 1612946029157
    }
   ]
  },
  "kernelspec": {
   "display_name": "Python 3 (ipykernel)",
   "language": "python",
   "name": "python3"
  },
  "language_info": {
   "codemirror_mode": {
    "name": "ipython",
    "version": 3
   },
   "file_extension": ".py",
   "mimetype": "text/x-python",
   "name": "python",
   "nbconvert_exporter": "python",
   "pygments_lexer": "ipython3",
   "version": "3.9.12"
  }
 },
 "nbformat": 4,
 "nbformat_minor": 1
}
